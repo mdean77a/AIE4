{
 "cells": [
  {
   "cell_type": "markdown",
   "metadata": {},
   "source": [
    "# I made this notebook to start in the middle because I don't want to keep regenerating the test data"
   ]
  },
  {
   "cell_type": "code",
   "execution_count": 5,
   "metadata": {},
   "outputs": [],
   "source": [
    "# Read embedding model datasets that have already been created and stored\n",
    "import readDataSets\n",
    "test_dataset, training_dataset, val_dataset = readDataSets.loadDataSets()\n"
   ]
  },
  {
   "cell_type": "code",
   "execution_count": 6,
   "metadata": {},
   "outputs": [
    {
     "name": "stdout",
     "output_type": "stream",
     "text": [
      "<built-in method count of list object at 0x1427aec00>\n"
     ]
    }
   ],
   "source": [
    "# Load PDF documents from a directory\n",
    "import loadReferenceDocuments\n",
    "separate_pages, one_document = loadReferenceDocuments.loadReferenceDocuments(\"References/\")"
   ]
  },
  {
   "cell_type": "code",
   "execution_count": 8,
   "metadata": {},
   "outputs": [
    {
     "name": "stdout",
     "output_type": "stream",
     "text": [
      "collections=[CollectionDescription(name='separate_page_collection')]\n"
     ]
    }
   ],
   "source": [
    "# Try to make a vector store\n",
    "import splitAndVectorize\n",
    "vectorStore = splitAndVectorize.createVectorstore(\n",
    "    separate_pages,\n",
    "    \"separate_page_collection\",\n",
    ")\n",
    "client = vectorStore.client\n",
    "print(client.get_collections())\n"
   ]
  },
  {
   "cell_type": "code",
   "execution_count": 9,
   "metadata": {},
   "outputs": [
    {
     "name": "stdout",
     "output_type": "stream",
     "text": [
      "collections=[CollectionDescription(name='One_Doc_Split_collection')]\n"
     ]
    }
   ],
   "source": [
    "vectorStore = splitAndVectorize.createVectorstore(\n",
    "    one_document,\n",
    "    \"One_Doc_Split_collection\",\n",
    "    chunk_size=500,\n",
    "    chunk_overlap=100,\n",
    "\n",
    ")\n",
    "client = vectorStore.client\n",
    "print(client.get_collections())"
   ]
  },
  {
   "cell_type": "code",
   "execution_count": null,
   "metadata": {},
   "outputs": [],
   "source": []
  }
 ],
 "metadata": {
  "kernelspec": {
   "display_name": "AIE4",
   "language": "python",
   "name": "python3"
  },
  "language_info": {
   "codemirror_mode": {
    "name": "ipython",
    "version": 3
   },
   "file_extension": ".py",
   "mimetype": "text/x-python",
   "name": "python",
   "nbconvert_exporter": "python",
   "pygments_lexer": "ipython3",
   "version": "3.11.9"
  }
 },
 "nbformat": 4,
 "nbformat_minor": 2
}

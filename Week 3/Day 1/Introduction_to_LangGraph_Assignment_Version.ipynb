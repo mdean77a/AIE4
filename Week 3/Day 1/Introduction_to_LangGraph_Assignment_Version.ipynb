{
  "cells": [
    {
      "cell_type": "markdown",
      "metadata": {
        "id": "gJXW_DgiSebM"
      },
      "source": [
        "# LangGraph and LangSmith - Agentic RAG Powered by LangChain\n",
        "\n",
        "In the following notebook we'll complete the following tasks:\n",
        "\n",
        "- 🤝 Breakout Room #1:\n",
        "  1. Install required libraries\n",
        "  2. Set Environment Variables\n",
        "  3. Creating our Tool Belt\n",
        "  4. Creating Our State\n",
        "  5. Creating and Compiling A Graph!\n",
        "\n",
        "  - 🤝 Breakout Room #2:\n",
        "  1. Evaluating the LangGraph Application with LangSmith\n",
        "  2. Adding Helpfulness Check and \"Loop\" Limits\n",
        "  3. LangGraph for the \"Patterns\" of GenAI"
      ]
    },
    {
      "cell_type": "markdown",
      "metadata": {
        "id": "djQ3nRAgoF67"
      },
      "source": [
        "# 🤝 Breakout Room #1"
      ]
    },
    {
      "cell_type": "markdown",
      "metadata": {
        "id": "e7pQDUhUnIo8"
      },
      "source": [
        "## Part 1: LangGraph - Building Cyclic Applications with LangChain\n",
        "\n",
        "LangGraph is a tool that leverages LangChain Expression Language to build coordinated multi-actor and stateful applications that includes cyclic behaviour.\n",
        "\n",
        "### Why Cycles?\n",
        "\n",
        "In essence, we can think of a cycle in our graph as a more robust and customizable loop. It allows us to keep our application agent-forward while still giving the powerful functionality of traditional loops.\n",
        "\n",
        "Due to the inclusion of cycles over loops, we can also compose rather complex flows through our graph in a much more readable and natural fashion. Effectively allowing us to recreate application flowcharts in code in an almost 1-to-1 fashion.\n",
        "\n",
        "### Why LangGraph?\n",
        "\n",
        "Beyond the agent-forward approach - we can easily compose and combine traditional \"DAG\" (directed acyclic graph) chains with powerful cyclic behaviour due to the tight integration with LCEL. This means it's a natural extension to LangChain's core offerings!"
      ]
    },
    {
      "cell_type": "markdown",
      "metadata": {
        "id": "3_fLDElOVoop"
      },
      "source": [
        "## Task 1:  Dependencies\n",
        "\n",
        "We'll first install all our required libraries."
      ]
    },
    {
      "cell_type": "code",
      "execution_count": 1,
      "metadata": {
        "id": "KaVwN269EttM"
      },
      "outputs": [],
      "source": [
        "# Changed this to freeze the versions after learning lesson yesterday\n",
        "!pip install -qU langgraph==0.2.14 langchain==0.2.14 langchain_openai==0.1.23 langchain_core==0.2.35 langchain-community==0.2.12 arxiv duckduckgo_search==5.3.1b1"
      ]
    },
    {
      "cell_type": "markdown",
      "metadata": {
        "id": "wujPjGJuoPwg"
      },
      "source": [
        "## Task 2: Environment Variables\n",
        "\n",
        "We'll want to set both our OpenAI API key and our LangSmith environment variables."
      ]
    },
    {
      "cell_type": "code",
      "execution_count": 2,
      "metadata": {
        "colab": {
          "base_uri": "https://localhost:8080/"
        },
        "id": "Jdh8CoVWHRvs",
        "outputId": "42b2ba5e-11ae-4f4d-e68e-77607bb794ad"
      },
      "outputs": [],
      "source": [
        "import os\n",
        "# import getpass\n",
        "\n",
        "# os.environ[\"OPENAI_API_KEY\"] = getpass.getpass(\"OpenAI API Key:\")"
      ]
    },
    {
      "cell_type": "code",
      "execution_count": 3,
      "metadata": {
        "colab": {
          "base_uri": "https://localhost:8080/"
        },
        "id": "Nv0glIDyHmRt",
        "outputId": "30aa2260-50f1-4abf-b305-eed0ee1b9008"
      },
      "outputs": [],
      "source": [
        "from uuid import uuid4\n",
        "\n",
        "os.environ[\"LANGCHAIN_TRACING_V2\"] = \"true\"\n",
        "os.environ[\"LANGCHAIN_PROJECT\"] = f\"AIE4 - LangGraph - {uuid4().hex[0:8]}\"\n",
        "# os.environ[\"LANGCHAIN_API_KEY\"] = getpass.getpass(\"LangSmith API Key: \")"
      ]
    },
    {
      "cell_type": "markdown",
      "metadata": {
        "id": "sBRyQmEAVzua"
      },
      "source": [
        "## Task 3: Creating our Tool Belt\n",
        "\n",
        "As is usually the case, we'll want to equip our agent with a toolbelt to help answer questions and add external knowledge.\n",
        "\n",
        "There's a tonne of tools in the [LangChain Community Repo](https://github.com/langchain-ai/langchain/tree/master/libs/community/langchain_community/tools) but we'll stick to a couple just so we can observe the cyclic nature of LangGraph in action!\n",
        "\n",
        "We'll leverage:\n",
        "\n",
        "- [Duck Duck Go Web Search](https://github.com/langchain-ai/langchain/tree/master/libs/community/langchain_community/tools/ddg_search)\n",
        "- [Arxiv](https://github.com/langchain-ai/langchain/tree/master/libs/community/langchain_community/tools/arxiv)"
      ]
    },
    {
      "cell_type": "markdown",
      "metadata": {
        "id": "2k6n_Dob2F46"
      },
      "source": [
        "#### 🏗️ Activity #1:\n",
        "\n",
        "Please add the tools to use into our toolbelt.  \n",
        "> NOTE: Each tool in our toolbelt should be a method.\n",
        "---\n",
        "## METHODS ARE ADDED AS LIST OF FUNCTIONS BELOW.\n",
        "---"
      ]
    },
    {
      "cell_type": "code",
      "execution_count": 4,
      "metadata": {
        "id": "lAxaSvlfIeOg"
      },
      "outputs": [],
      "source": [
        "from langchain_community.tools.ddg_search import DuckDuckGoSearchRun\n",
        "from langchain_community.tools.arxiv.tool import ArxivQueryRun\n",
        "\n",
        "tool_belt = [\n",
        "    DuckDuckGoSearchRun(), \n",
        "    ArxivQueryRun()\n",
        "]"
      ]
    },
    {
      "cell_type": "markdown",
      "metadata": {
        "id": "VI-C669ZYVI5"
      },
      "source": [
        "### Model\n",
        "\n",
        "Now we can set-up our model! We'll leverage the familiar OpenAI model suite for this example - but it's not *necessary* to use with LangGraph. LangGraph supports all models - though you might not find success with smaller models - as such, they recommend you stick with:\n",
        "\n",
        "- OpenAI's GPT-3.5 and GPT-4\n",
        "- Anthropic's Claude\n",
        "- Google's Gemini\n",
        "\n",
        "> NOTE: Because we're leveraging the OpenAI function calling API - we'll need to use OpenAI *for this specific example* (or any other service that exposes an OpenAI-style function calling API."
      ]
    },
    {
      "cell_type": "code",
      "execution_count": 5,
      "metadata": {
        "id": "QkNS8rNZJs4z"
      },
      "outputs": [],
      "source": [
        "from langchain_openai import ChatOpenAI\n",
        "\n",
        "model = ChatOpenAI(model=\"gpt-4o\", temperature=0)"
      ]
    },
    {
      "cell_type": "markdown",
      "metadata": {
        "id": "Ugkj3GzuZpQv"
      },
      "source": [
        "Now that we have our model set-up, let's \"put on the tool belt\", which is to say: We'll bind our LangChain formatted tools to the model in an OpenAI function calling format."
      ]
    },
    {
      "cell_type": "code",
      "execution_count": 6,
      "metadata": {
        "id": "4OdMqFafZ_0V"
      },
      "outputs": [],
      "source": [
        "model = model.bind_tools(tool_belt)"
      ]
    },
    {
      "cell_type": "markdown",
      "metadata": {
        "id": "ERzuGo6W18Lr"
      },
      "source": [
        "#### ❓ Question #1:\n",
        "\n",
        "How does the model determine which tool to use?\n",
        "\n",
        "---\n",
        "\n",
        "### ANSWER #1:\n",
        "\n",
        "Given a user query, the model decides if it already has enough information to answer without doing anything.  If the model decides that it does not have sufficient information, then it will decide which tool to use based on its understanding of the query.  So if the query includes Arxiv then the LLM will almost certainly select ArxivQueryRun().  The model decision is potentially impacted by information in the tools themselves.  \n",
        "\n",
        "The ArxivQueryRun() method has the following description:\n",
        "```    \n",
        "     description: str = (\n",
        "        \"A wrapper around Arxiv.org \"\n",
        "        \"Useful for when you need to answer questions about Physics, Mathematics, \"\n",
        "        \"Computer Science, Quantitative Biology, Quantitative Finance, Statistics, \"\n",
        "        \"Electrical Engineering, and Economics \"\n",
        "        \"from scientific articles on arxiv.org. \"\n",
        "        \"Input should be a search query.\"\n",
        "    )\n",
        "```\n",
        "The DuckDuckGoSearchRun() method has the following description:\n",
        " ```\n",
        "     description: str = (\n",
        "        \"A wrapper around DuckDuckGo Search. \"\n",
        "        \"Useful for when you need to answer questions about current events. \"\n",
        "        \"Input should be a search query.\"\n",
        "    )\n",
        "```\n",
        "If the query contains information that could lead to either function, such as \"current events reported in Arxiv\", then the selection may vary.  If we configure our tools using ToolNode (as we will), then multiple simultaneous calls may be made if determined to be relevant to the query.  This is the situation with the QLoRA author tweets situation later in this notebook.\n",
        "\n",
        "---"
      ]
    },
    {
      "cell_type": "markdown",
      "metadata": {
        "id": "_296Ub96Z_H8"
      },
      "source": [
        "## Task 4: Putting the State in Stateful\n",
        "\n",
        "Earlier we used this phrasing:\n",
        "\n",
        "`coordinated multi-actor and stateful applications`\n",
        "\n",
        "So what does that \"stateful\" mean?\n",
        "\n",
        "To put it simply - we want to have some kind of object which we can pass around our application that holds information about what the current situation (state) is. Since our system will be constructed of many parts moving in a coordinated fashion - we want to be able to ensure we have some commonly understood idea of that state.\n",
        "\n",
        "LangGraph leverages a `StatefulGraph` which uses an `AgentState` object to pass information between the various nodes of the graph.\n",
        "\n",
        "There are more options than what we'll see below - but this `AgentState` object is one that is stored in a `TypedDict` with the key `messages` and the value is a `Sequence` of `BaseMessages` that will be appended to whenever the state changes.\n",
        "\n",
        "Let's think about a simple example to help understand exactly what this means (we'll simplify a great deal to try and clearly communicate what state is doing):\n",
        "\n",
        "1. We initialize our state object:\n",
        "  - `{\"messages\" : []}`\n",
        "2. Our user submits a query to our application.\n",
        "  - New State: `HumanMessage(#1)`\n",
        "  - `{\"messages\" : [HumanMessage(#1)}`\n",
        "3. We pass our state object to an Agent node which is able to read the current state. It will use the last `HumanMessage` as input. It gets some kind of output which it will add to the state.\n",
        "  - New State: `AgentMessage(#1, additional_kwargs {\"function_call\" : \"WebSearchTool\"})`\n",
        "  - `{\"messages\" : [HumanMessage(#1), AgentMessage(#1, ...)]}`\n",
        "4. We pass our state object to a \"conditional node\" (more on this later) which reads the last state to determine if we need to use a tool - which it can determine properly because of our provided object!"
      ]
    },
    {
      "cell_type": "code",
      "execution_count": 7,
      "metadata": {
        "id": "mxL9b_NZKUdL"
      },
      "outputs": [],
      "source": [
        "from typing import TypedDict, Annotated\n",
        "from langgraph.graph.message import add_messages\n",
        "\n",
        "##  It is unclear to me (Mike Dean) why we need to import operator and BaseMessage\n",
        "##  So I will play with fire and comment them out.\n",
        "# import operator\n",
        "# from langchain_core.messages import BaseMessage\n",
        "\n",
        "class AgentState(TypedDict):\n",
        "  messages: Annotated[list, add_messages]"
      ]
    },
    {
      "cell_type": "markdown",
      "metadata": {
        "id": "vWsMhfO9grLu"
      },
      "source": [
        "## Task 5: It's Graphing Time!\n",
        "\n",
        "Now that we have state, and we have tools, and we have an LLM - we can finally start making our graph!\n",
        "\n",
        "Let's take a second to refresh ourselves about what a graph is in this context.\n",
        "\n",
        "Graphs, also called networks in some circles, are a collection of connected objects.\n",
        "\n",
        "The objects in question are typically called nodes, or vertices, and the connections are called edges.\n",
        "\n",
        "Let's look at a simple graph.\n",
        "\n",
        "![image](https://i.imgur.com/2NFLnIc.png)\n",
        "\n",
        "Here, we're using the coloured circles to represent the nodes and the yellow lines to represent the edges. In this case, we're looking at a fully connected graph - where each node is connected by an edge to each other node.\n",
        "\n",
        "If we were to think about nodes in the context of LangGraph - we would think of a function, or an LCEL runnable.\n",
        "\n",
        "If we were to think about edges in the context of LangGraph - we might think of them as \"paths to take\" or \"where to pass our state object next\".\n",
        "\n",
        "Let's create some nodes and expand on our diagram.\n",
        "\n",
        "> NOTE: Due to the tight integration with LCEL - we can comfortably create our nodes in an async fashion!"
      ]
    },
    {
      "cell_type": "code",
      "execution_count": 8,
      "metadata": {
        "id": "91flJWtZLUrl"
      },
      "outputs": [],
      "source": [
        "from langgraph.prebuilt import ToolNode\n",
        "\n",
        "def call_model(state):\n",
        "  messages = state[\"messages\"]\n",
        "  response = model.invoke(messages)\n",
        "  # print(\"Inside call-model node:\\n\")\n",
        "  # print(\"messages:\\n\")\n",
        "  # print(messages) \n",
        "  # print(\"\\nresponse:\\n\")\n",
        "  # print(response)\n",
        "  # print(\"\\n\")\n",
        "  return {\"messages\" : [response]}\n",
        "\n",
        "tool_node = ToolNode(tool_belt)"
      ]
    },
    {
      "cell_type": "markdown",
      "metadata": {
        "id": "2bwR7MgWj3Wg"
      },
      "source": [
        "Now we have two total nodes. We have:\n",
        "\n",
        "- `call_model` is a node that will...well...call the model\n",
        "- `tool_node` is a node which can call a tool\n",
        "\n",
        "Let's start adding nodes! We'll update our diagram along the way to keep track of what this looks like!\n"
      ]
    },
    {
      "cell_type": "code",
      "execution_count": 9,
      "metadata": {
        "id": "_vF4_lgtmQNo"
      },
      "outputs": [],
      "source": [
        "from langgraph.graph import StateGraph, END\n",
        "\n",
        "uncompiled_graph = StateGraph(AgentState)\n",
        "\n",
        "uncompiled_graph.add_node(\"agent\", call_model)\n",
        "uncompiled_graph.add_node(\"action\", tool_node)"
      ]
    },
    {
      "cell_type": "markdown",
      "metadata": {
        "id": "b8CjRlbVmRpW"
      },
      "source": [
        "Let's look at what we have so far:\n",
        "\n",
        "![image](https://i.imgur.com/md7inqG.png)"
      ]
    },
    {
      "cell_type": "markdown",
      "metadata": {
        "id": "uaXHpPeSnOWC"
      },
      "source": [
        "Next, we'll add our entrypoint. All our entrypoint does is indicate which node is called first."
      ]
    },
    {
      "cell_type": "code",
      "execution_count": 10,
      "metadata": {
        "id": "YGCbaYqRnmiw"
      },
      "outputs": [],
      "source": [
        "uncompiled_graph.set_entry_point(\"agent\")"
      ]
    },
    {
      "cell_type": "markdown",
      "metadata": {
        "id": "BUsfGoSpoF9U"
      },
      "source": [
        "![image](https://i.imgur.com/wNixpJe.png)"
      ]
    },
    {
      "cell_type": "markdown",
      "metadata": {
        "id": "0Q_pQgHmoW0M"
      },
      "source": [
        "Now we want to build a \"conditional edge\" which will use the output state of a node to determine which path to follow.\n",
        "\n",
        "We can help conceptualize this by thinking of our conditional edge as a conditional in a flowchart!\n",
        "\n",
        "Notice how our function simply checks if there is a \"function_call\" kwarg present.\n",
        "\n",
        "Then we create an edge where the origin node is our agent node and our destination node is *either* the action node or the END (finish the graph).\n",
        "\n",
        "It's important to highlight that the dictionary passed in as the third parameter (the mapping) should be created with the possible outputs of our conditional function in mind. In this case `should_continue` outputs either `\"end\"` or `\"continue\"` which are subsequently mapped to the action node or the END node."
      ]
    },
    {
      "cell_type": "code",
      "execution_count": 11,
      "metadata": {
        "id": "1BZgb81VQf9o"
      },
      "outputs": [],
      "source": [
        "def should_continue(state):\n",
        "  last_message = state[\"messages\"][-1]\n",
        "  # print(\"Inside should_continue node: \\n\")\n",
        "  # print(\"Last message:\\n\")\n",
        "  # print(last_message)\n",
        "  # print(\"\\n\")\n",
        "  if last_message.tool_calls:\n",
        "    return \"action\"\n",
        "\n",
        "  return END\n",
        "\n",
        "uncompiled_graph.add_conditional_edges(\n",
        "    \"agent\",\n",
        "    should_continue\n",
        ")\n",
        "# I explored changing this code but then the action is not reachable.\n",
        "# uncompiled_graph.add_edge(\"agent\", should_continue)"
      ]
    },
    {
      "cell_type": "markdown",
      "metadata": {
        "id": "-Cvhcf4jp0Ce"
      },
      "source": [
        "Let's visualize what this looks like.\n",
        "\n",
        "![image](https://i.imgur.com/8ZNwKI5.png)"
      ]
    },
    {
      "cell_type": "markdown",
      "metadata": {
        "id": "yKCjWJCkrJb9"
      },
      "source": [
        "Finally, we can add our last edge which will connect our action node to our agent node. This is because we *always* want our action node (which is used to call our tools) to return its output to our agent!"
      ]
    },
    {
      "cell_type": "code",
      "execution_count": 12,
      "metadata": {
        "id": "UvcgbHf1rIXZ"
      },
      "outputs": [],
      "source": [
        "uncompiled_graph.add_edge(\"action\", \"agent\")"
      ]
    },
    {
      "cell_type": "markdown",
      "metadata": {
        "id": "EiWDwBQtrw7Z"
      },
      "source": [
        "Let's look at the final visualization.\n",
        "\n",
        "![image](https://i.imgur.com/NWO7usO.png)"
      ]
    },
    {
      "cell_type": "markdown",
      "metadata": {
        "id": "KYqDpErlsCsu"
      },
      "source": [
        "All that's left to do now is to compile our workflow - and we're off!"
      ]
    },
    {
      "cell_type": "code",
      "execution_count": 13,
      "metadata": {
        "id": "zt9-KS8DpzNx"
      },
      "outputs": [],
      "source": [
        "compiled_graph = uncompiled_graph.compile()"
      ]
    },
    {
      "cell_type": "markdown",
      "metadata": {
        "id": "xhNWIwBL1W4Q"
      },
      "source": [
        "#### ❓ Question #2:\n",
        "\n",
        "Is there any specific limit to how many times we can cycle?\n",
        "\n",
        "If not, how could we impose a limit to the number of cycles?\n",
        "\n",
        "---\n",
        "#### ANSWER #2:\n",
        "There is no specific limit to how many times we can cycle, unless theoretically we run out of memory to hold the state object.  (This would have been a problem when we only had 16K of memory!)  We are dependent on the agent node at some point to send a message that does not contain a tool call (i.e. last_message.tool_calls is empty).  This is of course an LLM decision.\n",
        "\n",
        "We could create an invalid graph structure but I presume that the graph compile() is smart enough to catch that.\n",
        "\n",
        "The main way to impose a limit to the number of cycles is to set a specific limit (count the number of iterations and compare to a limit or count the number of state changes and impose a limit).  Another approach is to use a time-based exit, but given the speed of our computers and the LLMs, this would be financially dangerous.  \n",
        "\n",
        "---"
      ]
    },
    {
      "cell_type": "markdown",
      "metadata": {
        "id": "VEYcTShCsPaa"
      },
      "source": [
        "## Using Our Graph\n",
        "\n",
        "Now that we've created and compiled our graph - we can call it *just as we'd call any other* `Runnable`!\n",
        "\n",
        "Let's try out a few examples to see how it fairs:"
      ]
    },
    {
      "cell_type": "code",
      "execution_count": 14,
      "metadata": {
        "colab": {
          "base_uri": "https://localhost:8080/"
        },
        "id": "Qn4n37PQRPII",
        "outputId": "a5d7ef7a-13f2-4066-df52-b0df89eae2ae"
      },
      "outputs": [
        {
          "name": "stdout",
          "output_type": "stream",
          "text": [
            "Receiving update from node: 'agent'\n",
            "[AIMessage(content='', additional_kwargs={'tool_calls': [{'id': 'call_9yrwMV2D10dI6E9xXZ3fFyoe', 'function': {'arguments': '{\"query\":\"current captain of the Winnipeg Jets 2023\"}', 'name': 'duckduckgo_search'}, 'type': 'function'}], 'refusal': None}, response_metadata={'token_usage': {'completion_tokens': 25, 'prompt_tokens': 156, 'total_tokens': 181}, 'model_name': 'gpt-4o-2024-05-13', 'system_fingerprint': 'fp_fde2829a40', 'finish_reason': 'tool_calls', 'logprobs': None}, id='run-0a8dbf52-5b98-4e43-b235-fa76be0b377c-0', tool_calls=[{'name': 'duckduckgo_search', 'args': {'query': 'current captain of the Winnipeg Jets 2023'}, 'id': 'call_9yrwMV2D10dI6E9xXZ3fFyoe', 'type': 'tool_call'}], usage_metadata={'input_tokens': 156, 'output_tokens': 25, 'total_tokens': 181})]\n",
            "\n",
            "\n",
            "\n",
            "Receiving update from node: 'action'\n",
            "[ToolMessage(content='The Winnipeg Jets will have a captain for the 2023-24 season. After going captain-less in 2022-23, the Winnipeg Jets unveiled Adam Lowry as the club\\'s new captain on Tuesday morning. \"When I ... Lowry will follow Andrew Ladd and Blake Wheeler to serve as the third captain of the new Winnipeg Jets franchise. - Sep 12, 2023. After a season without a captain, the Winnipeg Jets have named ... Adam Lowry was named captain of the Winnipeg Jets on Tuesday. ... Sep 20, 2023. Latest News. Inside look at Vegas Golden Knights Aug 30, 2024. Vegas Golden Knights fantasy projections for 2024-25 September 12, 2023. There are not many honours in team sports bigger than being named captain. That honour was given to Winnipeg Jet forward Adam Lowry officially Tuesday morning as he becomes the ... Posted September 12, 2023 9:29 am. Centre Adam Lowry was named the Winnipeg Jets new captain on Tuesday. Lowry is the third Jets captain since the team moved from Atlanta to Winnipeg in 2011. He follows Andrew Ladd and Blake Wheeler, who served as captain for five and six years respectively.', name='duckduckgo_search', tool_call_id='call_9yrwMV2D10dI6E9xXZ3fFyoe')]\n",
            "\n",
            "\n",
            "\n",
            "Receiving update from node: 'agent'\n",
            "[AIMessage(content='As of September 12, 2023, Adam Lowry is the current captain of the Winnipeg Jets.', additional_kwargs={'refusal': None}, response_metadata={'token_usage': {'completion_tokens': 23, 'prompt_tokens': 443, 'total_tokens': 466}, 'model_name': 'gpt-4o-2024-05-13', 'system_fingerprint': 'fp_157b3831f5', 'finish_reason': 'stop', 'logprobs': None}, id='run-622c65e4-7523-4ce4-af5d-b1412e30556c-0', usage_metadata={'input_tokens': 443, 'output_tokens': 23, 'total_tokens': 466})]\n",
            "\n",
            "\n",
            "\n"
          ]
        }
      ],
      "source": [
        "from langchain_core.messages import HumanMessage\n",
        "\n",
        "inputs = {\"messages\" : [HumanMessage(content=\"Who is the current captain of the Winnipeg Jets?\")]}\n",
        "# print(f\"Inputs into the chain: {inputs}\\n\")\n",
        "async for chunk in compiled_graph.astream(inputs, stream_mode=\"updates\"):\n",
        "    for node, values in chunk.items():\n",
        "        print(f\"Receiving update from node: '{node}'\")\n",
        "        print(values[\"messages\"])\n",
        "        print(\"\\n\\n\")"
      ]
    },
    {
      "cell_type": "markdown",
      "metadata": {
        "id": "DBHnUtLSscRr"
      },
      "source": [
        "Let's look at what happened:\n",
        "\n",
        "1. Our state object was populated with our request\n",
        "2. The state object was passed into our entry point (agent node) and the agent node added an `AIMessage` to the state object and passed it along the conditional edge\n",
        "3. The conditional edge received the state object, found the \"tool_calls\" `additional_kwarg`, and sent the state object to the action node\n",
        "4. The action node added the response from the OpenAI function calling endpoint to the state object and passed it along the edge to the agent node\n",
        "5. The agent node added a response to the state object and passed it along the conditional edge\n",
        "6. The conditional edge received the state object, could not find the \"tool_calls\" `additional_kwarg` and passed the state object to END where we see it output in the cell above!\n",
        "\n",
        "Now let's look at an example that shows a multiple tool usage - all with the same flow!"
      ]
    },
    {
      "cell_type": "code",
      "execution_count": 15,
      "metadata": {
        "colab": {
          "base_uri": "https://localhost:8080/"
        },
        "id": "afv2BuEsV5JG",
        "outputId": "026a3aa3-1c3e-4016-b0a3-fe98b1d25399"
      },
      "outputs": [
        {
          "name": "stdout",
          "output_type": "stream",
          "text": [
            "Receiving update from node: 'agent'\n",
            "[AIMessage(content='', additional_kwargs={'tool_calls': [{'id': 'call_4rC8Y1tevjbsJyvX79fAhYr5', 'function': {'arguments': '{\"query\": \"QLoRA\"}', 'name': 'arxiv'}, 'type': 'function'}, {'id': 'call_xQqq9kcyvit6sp8Jesbd7vue', 'function': {'arguments': '{\"query\": \"QLoRA paper authors\"}', 'name': 'duckduckgo_search'}, 'type': 'function'}], 'refusal': None}, response_metadata={'token_usage': {'completion_tokens': 53, 'prompt_tokens': 173, 'total_tokens': 226}, 'model_name': 'gpt-4o-2024-05-13', 'system_fingerprint': 'fp_157b3831f5', 'finish_reason': 'tool_calls', 'logprobs': None}, id='run-18bd629c-7b78-4a73-b79b-63f6109b319a-0', tool_calls=[{'name': 'arxiv', 'args': {'query': 'QLoRA'}, 'id': 'call_4rC8Y1tevjbsJyvX79fAhYr5', 'type': 'tool_call'}, {'name': 'duckduckgo_search', 'args': {'query': 'QLoRA paper authors'}, 'id': 'call_xQqq9kcyvit6sp8Jesbd7vue', 'type': 'tool_call'}], usage_metadata={'input_tokens': 173, 'output_tokens': 53, 'total_tokens': 226})]\n",
            "\n",
            "\n",
            "\n",
            "Receiving update from node: 'action'\n",
            "Tool Used: arxiv\n",
            "[ToolMessage(content='Published: 2023-05-23\\nTitle: QLoRA: Efficient Finetuning of Quantized LLMs\\nAuthors: Tim Dettmers, Artidoro Pagnoni, Ari Holtzman, Luke Zettlemoyer\\nSummary: We present QLoRA, an efficient finetuning approach that reduces memory usage\\nenough to finetune a 65B parameter model on a single 48GB GPU while preserving\\nfull 16-bit finetuning task performance. QLoRA backpropagates gradients through\\na frozen, 4-bit quantized pretrained language model into Low Rank\\nAdapters~(LoRA). Our best model family, which we name Guanaco, outperforms all\\nprevious openly released models on the Vicuna benchmark, reaching 99.3% of the\\nperformance level of ChatGPT while only requiring 24 hours of finetuning on a\\nsingle GPU. QLoRA introduces a number of innovations to save memory without\\nsacrificing performance: (a) 4-bit NormalFloat (NF4), a new data type that is\\ninformation theoretically optimal for normally distributed weights (b) double\\nquantization to reduce the average memory footprint by quantizing the\\nquantization constants, and (c) paged optimziers to manage memory spikes. We\\nuse QLoRA to finetune more than 1,000 models, providing a detailed analysis of\\ninstruction following and chatbot performance across 8 instruction datasets,\\nmultiple model types (LLaMA, T5), and model scales that would be infeasible to\\nrun with regular finetuning (e.g. 33B and 65B parameter models). Our results\\nshow that QLoRA finetuning on a small high-quality dataset leads to\\nstate-of-the-art results, even when using smaller models than the previous\\nSoTA. We provide a detailed analysis of chatbot performance based on both human\\nand GPT-4 evaluations showing that GPT-4 evaluations are a cheap and reasonable\\nalternative to human evaluation. Furthermore, we find that current chatbot\\nbenchmarks are not trustworthy to accurately evaluate the performance levels of\\nchatbots. A lemon-picked analysis demonstrates where Guanaco fails compared to\\nChatGPT. We release all of our models and code, including CUDA kernels for\\n4-bit training.\\n\\nPublished: 2024-05-27\\nTitle: Accurate LoRA-Finetuning Quantization of LLMs via Information Retention\\nAuthors: Haotong Qin, Xudong Ma, Xingyu Zheng, Xiaoyang Li, Yang Zhang, Shouda Liu, Jie Luo, Xianglong Liu, Michele Magno\\nSummary: The LoRA-finetuning quantization of LLMs has been extensively studied to\\nobtain accurate yet compact LLMs for deployment on resource-constrained\\nhardware. However, existing methods cause the quantized LLM to severely degrade\\nand even fail to benefit from the finetuning of LoRA. This paper proposes a\\nnovel IR-QLoRA for pushing quantized LLMs with LoRA to be highly accurate\\nthrough information retention. The proposed IR-QLoRA mainly relies on two\\ntechnologies derived from the perspective of unified information: (1)\\nstatistics-based Information Calibration Quantization allows the quantized\\nparameters of LLM to retain original information accurately; (2)\\nfinetuning-based Information Elastic Connection makes LoRA utilizes elastic\\nrepresentation transformation with diverse information. Comprehensive\\nexperiments show that IR-QLoRA can significantly improve accuracy across LLaMA\\nand LLaMA2 families under 2-4 bit-widths, e.g., 4- bit LLaMA-7B achieves 1.4%\\nimprovement on MMLU compared with the state-of-the-art methods. The significant\\nperformance gain requires only a tiny 0.31% additional time consumption,\\nrevealing the satisfactory efficiency of our IR-QLoRA. We highlight that\\nIR-QLoRA enjoys excellent versatility, compatible with various frameworks\\n(e.g., NormalFloat and Integer quantization) and brings general accuracy gains.\\nThe code is available at https://github.com/htqin/ir-qlora.\\n\\nPublished: 2024-06-12\\nTitle: Exploring Fact Memorization and Style Imitation in LLMs Using QLoRA: An Experimental Study and Quality Assessment Methods\\nAuthors: Eugene Vyborov, Oleksiy Osypenko, Serge Sotnyk\\nSummary: There are various methods for adapting LLMs to different domains. The most\\ncommon methods are prompting, finetuning, and RAG. In this w', name='arxiv', tool_call_id='call_4rC8Y1tevjbsJyvX79fAhYr5'), ToolMessage(content=\"The authors of the QLoRA paper created an information-theoretically optimal quantization data type for normally distributed data that yields better empirical results than 4-bit Integers and 4-bit Floats. This data type builds on top of quantile quantization, which ensures that each quantization bin (parts of the data) has an equal number of ... The authors of the QLoRA paper used a blocksize of 64 for W for higher quantization precision and a blocksize of 256 for c2 to conserve memory. For parameter updates, only the gradient with ... Authors: Lung-Chuan Chen, Zong-Ru Li. View a PDF of the paper titled Bailong: Bilingual Transfer Learning based on QLoRA and Zip-tie Embedding, by Lung-Chuan Chen and Zong-Ru Li. View PDF HTML (experimental) Abstract: Large language models (LLMs) have demonstrated exceptional performance in various NLP applications. However, the majority of ... We released our paper on arXiv! Thanks to all co-authors and AK's recommendation New features. Support GaLore algorithm, allowing full-parameter learning of a 7B model using less than 24GB VRAM; Support FSDP+QLoRA that allows QLoRA fine-tuning of a 70B model on 2x24GB GPUs The authors conclude that 4-bit QLORA with NF4 data type matches 16-bit full finetuning and 16-bit LoRA finetuning performance on academic benchmarks with well-established evaluation setups.\", name='duckduckgo_search', tool_call_id='call_xQqq9kcyvit6sp8Jesbd7vue')]\n",
            "\n",
            "\n",
            "\n",
            "Receiving update from node: 'agent'\n",
            "[AIMessage(content='', additional_kwargs={'tool_calls': [{'id': 'call_hfPIXapVNVM2X3dTgTH9hpiI', 'function': {'arguments': '{\"query\": \"Tim Dettmers latest Tweet\"}', 'name': 'duckduckgo_search'}, 'type': 'function'}, {'id': 'call_F0Gmc9rp8cLesV28ZN1ugW5p', 'function': {'arguments': '{\"query\": \"Artidoro Pagnoni latest Tweet\"}', 'name': 'duckduckgo_search'}, 'type': 'function'}, {'id': 'call_ZGv024iELtP4BGohLJtEYaVT', 'function': {'arguments': '{\"query\": \"Ari Holtzman latest Tweet\"}', 'name': 'duckduckgo_search'}, 'type': 'function'}, {'id': 'call_gvyNmdPByKtTRR1CD8CvCirM', 'function': {'arguments': '{\"query\": \"Luke Zettlemoyer latest Tweet\"}', 'name': 'duckduckgo_search'}, 'type': 'function'}], 'refusal': None}, response_metadata={'token_usage': {'completion_tokens': 108, 'prompt_tokens': 1520, 'total_tokens': 1628}, 'model_name': 'gpt-4o-2024-05-13', 'system_fingerprint': 'fp_157b3831f5', 'finish_reason': 'tool_calls', 'logprobs': None}, id='run-3c0d05a7-f34b-42d5-b399-b2242128f26a-0', tool_calls=[{'name': 'duckduckgo_search', 'args': {'query': 'Tim Dettmers latest Tweet'}, 'id': 'call_hfPIXapVNVM2X3dTgTH9hpiI', 'type': 'tool_call'}, {'name': 'duckduckgo_search', 'args': {'query': 'Artidoro Pagnoni latest Tweet'}, 'id': 'call_F0Gmc9rp8cLesV28ZN1ugW5p', 'type': 'tool_call'}, {'name': 'duckduckgo_search', 'args': {'query': 'Ari Holtzman latest Tweet'}, 'id': 'call_ZGv024iELtP4BGohLJtEYaVT', 'type': 'tool_call'}, {'name': 'duckduckgo_search', 'args': {'query': 'Luke Zettlemoyer latest Tweet'}, 'id': 'call_gvyNmdPByKtTRR1CD8CvCirM', 'type': 'tool_call'}], usage_metadata={'input_tokens': 1520, 'output_tokens': 108, 'total_tokens': 1628})]\n",
            "\n",
            "\n",
            "\n",
            "Receiving update from node: 'action'\n",
            "Tool Used: duckduckgo_search\n",
            "[ToolMessage(content='Allen School Ph.D. student Tim Dettmers accepted the grand prize for QLoRA, a novel approach to finetuning pretrained models that significantly reduces the amount of GPU memory required — from over 780GB to less than 48GB — to finetune a 65B parameter model. With QLoRA, the largest publicly available models can be finetuned on a single ... Former national security adviser H.R. McMaster said on Sunday he \"would never disparage\" someone\\'s military service, when asked about the controversy surrounding the Democratic vice ... Her new position hasn\\'t been finalized. ... — Tim Dettmers is joining Ai2 as an AI researcher. Dettmers specializes in efficient deep learning at the intersection of machine learning, NLP, and ... Tim Dettmers, Ruslan A. Svirschevski, Vage Egiazarian, Denis Kuznedelev, ... (SpQR), a new compressed format and quantization technique that enables for the first time \\\\emph{near-lossless} compression of LLMs across model scales while reaching similar compression levels to previous methods. SpQR works by identifying and isolating \\\\emph{outlier ... Tech Moves: AI researcher Yejin Choi leaves Univ. of Washington and Allen Institute for AI. by Todd Bishop & Taylor Soper on August 2, 2024. Yejin Choi, who was named a 2022 MacArthur Fellow and ...', name='duckduckgo_search', tool_call_id='call_hfPIXapVNVM2X3dTgTH9hpiI'), ToolMessage(content=\"Error: RatelimitException('https://duckduckgo.com 202 Ratelimit')\\n Please fix your mistakes.\", name='duckduckgo_search', tool_call_id='call_F0Gmc9rp8cLesV28ZN1ugW5p'), ToolMessage(content='MSNBC host Ari Melber, during an interview with Trump campaign adviser Corey Lewandowski on Wednesday, threatened him with a defamation lawsuit for quoting the anchor calling the former President ... Ari Melber warns Trump campaign advisor Corey Lewandowski he \\'will be potentially in a defamation situation\\' on Wednesday\\'s episode of The Beat (MSNBC) \"I did not say that. That is a false ... The heated on-air dispute last night between MSNBC\\'s Ari Melber and Donald Trump campaign adviser Corey Lewandowski didn\\'t end with Wednesday\\'s segment: Today, Lewandowski tweeted a video in ... The team behind QLoRA includes Allen School Ph.D. student Artidoro Pagnoni; alum Ari Holtzman (Ph.D., \\'23), incoming professor at the University of Chicago; and professor Luke Zettlemoyer, who is also a research manager at Meta. Madrona Prize First Runner Up / Punica: Multi-Tenant LoRA Fine-tuned LLM Serving While in Mumbai, Ari would stay at the Holtzman\\'s home each evening. \"Their house was like a second home to me,\" explains Ari, who has travelled to India forty times. The last time that Ari was at the Holtzman\\'s Chabad House was two months ago, where he stayed for a week and participated in prayers and Torah lectures given by Rabbi ...', name='duckduckgo_search', tool_call_id='call_ZGv024iELtP4BGohLJtEYaVT'), ToolMessage(content=\"Luke Zettlemoyer is a research manager and site lead for FAIR Seattle. He is also a Professor in the Allen School of Computer Science & Engineering at the University of Washington. His research is in empirical computational semantics, where the goal is to build models that recover representations of the meaning of natural language text. About this Episode Today we're joined by Luke Zettlemoyer, professor at University of Washington and a research manager at Meta. In our conversation with Luke, we cover multimodal generative AI, the effect of data on models, and the significance of open source and open science. We explore the grounding problem, the need for visual grounding and embodiment in text-based models, the advantages ... AUTHORS Written by Scott Yih Luke Zettlemoyer Mike Lewis Hannaneh Hajishirzi Kalpesh Krishna Mohit Iyyer Pang Wei Koh Sewon Min Xinxi Lyu Publisher EMNLP Research Topics Natural Language Processing (NLP) Yichao LuSrihari JayakumarDebojeet ChatterjeeMohsen MoslehpourPierce ChuangAbhay HarpaleVikas BhardwajDi Xu (SWE)Shicong ZhaoAnkit ... FORMER Oxford United defender Luke McNally has completed a deadline day move from Burnley to Bristol City for an undisclosed fee. The 24-year-old centre back has signed a four-year deal at Ashton ... We introduce Transfusion, a recipe for training a multi-modal model over discrete and continuous data. Transfusion combines the language modeling loss function (next token prediction) with diffusion to train a single transformer over mixed-modality sequences. We pretrain multiple Transfusion models up to 7B parameters from scratch on a mixture ...\", name='duckduckgo_search', tool_call_id='call_gvyNmdPByKtTRR1CD8CvCirM')]\n",
            "\n",
            "\n",
            "\n",
            "Receiving update from node: 'agent'\n",
            "[AIMessage(content='Here are the latest updates and tweets from the authors of the QLoRA paper:\\n\\n### Tim Dettmers\\n- **Latest Update**: Tim Dettmers is joining Ai2 as an AI researcher. He specializes in efficient deep learning at the intersection of machine learning, NLP, and more.\\n- **Latest Tweet**: No specific tweet found, but he has been involved in discussions about efficient deep learning and quantization techniques.\\n\\n### Artidoro Pagnoni\\n- **Latest Update**: Error encountered while searching for the latest tweet. Please try again later.\\n\\n### Ari Holtzman\\n- **Latest Update**: Ari Holtzman is an incoming professor at the University of Chicago. He has been involved in various discussions and interviews, including a heated on-air dispute on MSNBC.\\n- **Latest Tweet**: No specific tweet found, but he has been active in discussions about his research and academic contributions.\\n\\n### Luke Zettlemoyer\\n- **Latest Update**: Luke Zettlemoyer is a research manager and site lead for FAIR Seattle, and a Professor at the University of Washington. He has been involved in discussions about multimodal generative AI and the significance of open source and open science.\\n- **Latest Tweet**: No specific tweet found, but he has been active in academic and research discussions.\\n\\nIf you need more specific information or further searches, please let me know!', additional_kwargs={'refusal': None}, response_metadata={'token_usage': {'completion_tokens': 283, 'prompt_tokens': 2595, 'total_tokens': 2878}, 'model_name': 'gpt-4o-2024-05-13', 'system_fingerprint': 'fp_157b3831f5', 'finish_reason': 'stop', 'logprobs': None}, id='run-035b7242-1b31-44c5-a320-899935074f9a-0', usage_metadata={'input_tokens': 2595, 'output_tokens': 283, 'total_tokens': 2878})]\n",
            "\n",
            "\n",
            "\n"
          ]
        }
      ],
      "source": [
        "inputs = {\"messages\" : [HumanMessage(content=\"Search Arxiv for the QLoRA paper, then search each of the authors to find out their latest Tweet using DuckDuckGo.\")]}\n",
        "\n",
        "async for chunk in compiled_graph.astream(inputs, stream_mode=\"updates\"):\n",
        "    for node, values in chunk.items():\n",
        "        print(f\"Receiving update from node: '{node}'\")\n",
        "        if node == \"action\":\n",
        "          print(f\"Tool Used: {values['messages'][0].name}\")\n",
        "        print(values[\"messages\"])\n",
        "\n",
        "        print(\"\\n\\n\")"
      ]
    },
    {
      "cell_type": "markdown",
      "metadata": {
        "id": "CXzDlZVz1Hnf"
      },
      "source": [
        "#### 🏗️ Activity #2:\n",
        "\n",
        "Please write out the steps the agent took to arrive at the correct answer.\n",
        "\n",
        "---\n",
        "#### Activity 2\n",
        "1. The agent received the query.  It then set up parallel calls to the two functions.  It called arxiv with a query \"QLoRA\" and it called duckduckgo_search with query \"latest tweet\".  This behavior is availble because we used ToolNode to configure the tool binding to the model.\n",
        "2. The action node executed the arxiv action and returned the paper information.  It ALSO executed the duckduckgo_search and retrieved a bunch of tweets that are absolutely unrelated to our query.\n",
        "3. The agent then set up four calls to duckduckgo_search, one for each of the authors.\n",
        "4. The action node returned an unrelated tweet, presumably because of the original call in step one, but then returned four specific answers for each of the authors.\n",
        "5. The agent provided the final answer, which is shown in the code cell below.\n",
        "\n",
        "---"
      ]
    },
    {
      "cell_type": "code",
      "execution_count": 16,
      "metadata": {},
      "outputs": [
        {
          "name": "stdout",
          "output_type": "stream",
          "text": [
            "Here are the latest updates and tweets from the authors of the QLoRA paper:\n",
            "\n",
            "### Tim Dettmers\n",
            "- **Latest Update**: Tim Dettmers is joining Ai2 as an AI researcher. He specializes in efficient deep learning at the intersection of machine learning, NLP, and more.\n",
            "- **Latest Tweet**: No specific tweet found, but he has been involved in discussions about efficient deep learning and quantization techniques.\n",
            "\n",
            "### Artidoro Pagnoni\n",
            "- **Latest Update**: Error encountered while searching for the latest tweet. Please try again later.\n",
            "\n",
            "### Ari Holtzman\n",
            "- **Latest Update**: Ari Holtzman is an incoming professor at the University of Chicago. He has been involved in various discussions and interviews, including a heated on-air dispute on MSNBC.\n",
            "- **Latest Tweet**: No specific tweet found, but he has been active in discussions about his research and academic contributions.\n",
            "\n",
            "### Luke Zettlemoyer\n",
            "- **Latest Update**: Luke Zettlemoyer is a research manager and site lead for FAIR Seattle, and a Professor at the University of Washington. He has been involved in discussions about multimodal generative AI and the significance of open source and open science.\n",
            "- **Latest Tweet**: No specific tweet found, but he has been active in academic and research discussions.\n",
            "\n",
            "If you need more specific information or further searches, please let me know!\n"
          ]
        }
      ],
      "source": [
        "print(values['messages'][-1].content)"
      ]
    },
    {
      "cell_type": "markdown",
      "metadata": {},
      "source": [
        "---"
      ]
    },
    {
      "cell_type": "markdown",
      "metadata": {
        "id": "v7c8-Uyarh1v"
      },
      "source": [
        "## Part 1: LangSmith Evaluator"
      ]
    },
    {
      "cell_type": "markdown",
      "metadata": {
        "id": "pV3XeFOT1Sar"
      },
      "source": [
        "### Pre-processing for LangSmith"
      ]
    },
    {
      "cell_type": "markdown",
      "metadata": {
        "id": "wruQCuzewUuO"
      },
      "source": [
        "To do a little bit more preprocessing, let's wrap our LangGraph agent in a simple chain."
      ]
    },
    {
      "cell_type": "code",
      "execution_count": 17,
      "metadata": {
        "id": "oeXdQgbxwhTv"
      },
      "outputs": [],
      "source": [
        "def convert_inputs(input_object):\n",
        "  return {\"messages\" : [HumanMessage(content=input_object[\"question\"])]}\n",
        "\n",
        "def parse_output(input_state):\n",
        "  return input_state[\"messages\"][-1].content\n",
        "\n",
        "agent_chain = convert_inputs | compiled_graph | parse_output"
      ]
    },
    {
      "cell_type": "code",
      "execution_count": 18,
      "metadata": {
        "colab": {
          "base_uri": "https://localhost:8080/",
          "height": 139
        },
        "id": "orYxBZXSxJjZ",
        "outputId": "b160f3e4-89d1-4411-ed96-fe17b3cad200"
      },
      "outputs": [
        {
          "name": "stdout",
          "output_type": "stream",
          "text": [
            "('RAG stands for Retrieval-Augmented Generation. It is a technique used in '\n",
            " 'natural language processing (NLP) and machine learning to improve the '\n",
            " 'performance of language models by combining retrieval-based methods with '\n",
            " \"generative models. Here's a brief overview of how it works:\\n\"\n",
            " '\\n'\n",
            " '1. **Retrieval**: In the first step, the system retrieves relevant documents '\n",
            " 'or pieces of information from a large corpus or database. This is typically '\n",
            " 'done using a retrieval model, such as BM25 or a dense retrieval model like '\n",
            " 'DPR (Dense Passage Retrieval).\\n'\n",
            " '\\n'\n",
            " '2. **Augmentation**: The retrieved documents are then used to augment the '\n",
            " 'input to the generative model. This means that the generative model has '\n",
            " 'access to additional context or information that can help it produce more '\n",
            " 'accurate and relevant responses.\\n'\n",
            " '\\n'\n",
            " '3. **Generation**: Finally, the generative model, such as GPT-3 or BERT, '\n",
            " 'uses the augmented input to generate a response. The additional context '\n",
            " 'provided by the retrieved documents helps the model generate more informed '\n",
            " 'and contextually appropriate responses.\\n'\n",
            " '\\n'\n",
            " 'RAG is particularly useful in scenarios where the generative model alone '\n",
            " 'might not have enough information to produce a high-quality response, such '\n",
            " 'as in open-domain question answering or conversational AI. By leveraging '\n",
            " 'external knowledge sources, RAG can significantly enhance the performance '\n",
            " 'and accuracy of language models.')\n"
          ]
        }
      ],
      "source": [
        "import pprint\n",
        "pprint.pprint(agent_chain.invoke({\"question\" : \"What is RAG?\"}))"
      ]
    },
    {
      "cell_type": "markdown",
      "metadata": {
        "id": "f9UkCIqkpyZu"
      },
      "source": [
        "### Task 1: Creating An Evaluation Dataset\n",
        "\n",
        "Just as we saw last week, we'll want to create a dataset to test our Agent's ability to answer questions.\n",
        "\n",
        "In order to do this - we'll want to provide some questions and some answers. Let's look at how we can create such a dataset below.\n",
        "\n",
        "```python\n",
        "questions = [\n",
        "    \"What optimizer is used in QLoRA?\",\n",
        "    \"What data type was created in the QLoRA paper?\",\n",
        "    \"What is a Retrieval Augmented Generation system?\",\n",
        "    \"Who authored the QLoRA paper?\",\n",
        "    \"What is the most popular deep learning framework?\",\n",
        "    \"What significant improvements does the LoRA system make?\"\n",
        "]\n",
        "\n",
        "answers = [\n",
        "    {\"must_mention\" : [\"paged\", \"optimizer\"]},\n",
        "    {\"must_mention\" : [\"NF4\", \"NormalFloat\"]},\n",
        "    {\"must_mention\" : [\"ground\", \"context\"]},\n",
        "    {\"must_mention\" : [\"Tim\", \"Dettmers\"]},\n",
        "    {\"must_mention\" : [\"PyTorch\", \"TensorFlow\"]},\n",
        "    {\"must_mention\" : [\"reduce\", \"parameters\"]},\n",
        "]\n",
        "```"
      ]
    },
    {
      "cell_type": "markdown",
      "metadata": {
        "id": "VfMXF2KAsQxs"
      },
      "source": [
        "####🏗️ Activity #3:\n",
        "\n",
        "Please create a dataset in the above format with at least 5 questions.\n",
        "\n",
        "---\n",
        "\n",
        "I copied the above questions and answers, and used those for the three initial experiments that are discussed later in the notebook.  Then I added some more here.\n",
        "\n",
        "---"
      ]
    },
    {
      "cell_type": "code",
      "execution_count": 40,
      "metadata": {
        "id": "CbagRuJop83E"
      },
      "outputs": [],
      "source": [
        "questions = [\n",
        "    \"What optimizer is used in QLoRA?\",\n",
        "    \"What data type was created in the QLoRA paper?\",\n",
        "    \"What is a Retrieval Augmented Generation system?\",\n",
        "    \"Who authored the QLoRA paper?\",\n",
        "    \"What is the most popular deep learning framework?\",\n",
        "    \"What significant improvements does the LoRA system make?\",\n",
        "    \"Who authored the original QLoRA paper?\",\n",
        "    \"What was the name of the best model family used in the original QLoRA paper?\",\n",
        "    \"What distinguishes QLoRA from vanilla LoRA?\",\n",
        "    \"What data type has the best performance with QLoRA, FP4 or NF4?\"\n",
        "]\n",
        "\n",
        "answers = [\n",
        "    {\"must_mention\" : [\"paged\", \"optimizer\"]},\n",
        "    {\"must_mention\" : [\"NF4\", \"NormalFloat\"]},\n",
        "    {\"must_mention\" : [\"ground\", \"context\"]},\n",
        "    {\"must_mention\" : [\"Tim\", \"Dettmers\"]},\n",
        "    {\"must_mention\" : [\"PyTorch\", \"TensorFlow\"]},\n",
        "    {\"must_mention\" : [\"reduce\", \"parameters\"]},\n",
        "    {\"must_mention\" : [\"Dettmers\"]},\n",
        "    {\"must_mention\" : [\"Guanaco\"]},\n",
        "    {\"must_mention\" : [\"quantization\"]},\n",
        "    {\"must_mention\" : [\"NF4\"]},\n",
        "\n",
        "]"
      ]
    },
    {
      "cell_type": "markdown",
      "metadata": {
        "id": "z7QVFuAmsh7L"
      },
      "source": [
        "Now we can add our dataset to our LangSmith project using the following code which we saw last Thursday!"
      ]
    },
    {
      "cell_type": "code",
      "execution_count": 41,
      "metadata": {
        "id": "RLfrZrgSsn85"
      },
      "outputs": [],
      "source": [
        "from langsmith import Client\n",
        "\n",
        "client = Client()\n",
        "dataset_name = f\"Retrieval Augmented Generation - Mike's Evaluation Dataset - {uuid4().hex[0:8]}\"\n",
        "\n",
        "dataset = client.create_dataset(\n",
        "    dataset_name=dataset_name,\n",
        "    description=\"Questions about the QLoRA Paper to Evaluate RAG over the same paper.\"\n",
        ")\n",
        "\n",
        "client.create_examples(\n",
        "    inputs=[{\"question\" : q} for q in questions],\n",
        "    outputs=answers,\n",
        "    dataset_id=dataset.id,\n",
        ")"
      ]
    },
    {
      "cell_type": "code",
      "execution_count": 21,
      "metadata": {},
      "outputs": [
        {
          "name": "stdout",
          "output_type": "stream",
          "text": [
            "[{'must_mention': ['paged', 'optimizer']}, {'must_mention': ['NF4', 'NormalFloat']}, {'must_mention': ['ground', 'context']}, {'must_mention': ['Tim', 'Dettmers']}, {'must_mention': ['PyTorch', 'TensorFlow']}, {'must_mention': ['reduce', 'parameters']}]\n"
          ]
        }
      ],
      "source": [
        "print(answers)"
      ]
    },
    {
      "cell_type": "code",
      "execution_count": 22,
      "metadata": {},
      "outputs": [
        {
          "name": "stdout",
          "output_type": "stream",
          "text": [
            "[{'question': 'What optimizer is used in QLoRA?'}, {'question': 'What data type was created in the QLoRA paper?'}, {'question': 'What is a Retrieval Augmented Generation system?'}, {'question': 'Who authored the QLoRA paper?'}, {'question': 'What is the most popular deep learning framework?'}, {'question': 'What significant improvements does the LoRA system make?'}]\n"
          ]
        }
      ],
      "source": [
        "print([{\"question\" : q} for q in questions])"
      ]
    },
    {
      "cell_type": "markdown",
      "metadata": {
        "id": "ciV73F9Q04w0"
      },
      "source": [
        "#### ❓ Question #3:\n",
        "\n",
        "How are the correct answers associated with the questions?\n",
        "\n",
        "> NOTE: Feel free to indicate if this is problematic or not\n",
        "\n",
        "---\n",
        "\n",
        "### ANSWER 3:\n",
        "The way this was set up, the answers are associated with questions by the order in which they were defined in the two lists, i.e. by position in the list.\n",
        "This is clearly problematic because it would be easy to get one of the lists out of order and this would corrupt the entire dataset.  A better way to do this would be to create \n",
        "a list of tuples containing a question and its specific answers:\n",
        "\n",
        "```\n",
        "eval_data = [\n",
        "    (\"What optimizer is used in QLoRA?\", {\"must_mention\" : [\"paged\", \"optimizer\"]}),\n",
        "    (\"What data type was created in the QLoRA paper?\",{\"must_mention\" : [\"NF4\", \"NormalFloat\"]}),\n",
        "    (\"What is a Retrieval Augmented Generation system?\",{\"must_mention\" : [\"ground\", \"context\"]}),\n",
        "    (\"Who authored the QLoRA paper?\",{\"must_mention\" : [\"Tim\", \"Dettmers\"]}),\n",
        "    (\"What is the most popular deep learning framework?\",{\"must_mention\" : [\"PyTorch\", \"TensorFlow\"]}),\n",
        "    (\"What significant improvements does the LoRA system make?\", {\"must_mention\" : [\"reduce\", \"parameters\"]}),\n",
        "]\n",
        "```\n",
        "\n",
        "\n",
        "---"
      ]
    },
    {
      "cell_type": "markdown",
      "metadata": {
        "id": "-lRTXUrTtP9Y"
      },
      "source": [
        "### Task 2: Adding Evaluators\n",
        "\n",
        "Now we can add a custom evaluator to see if our responses contain the expected information.\n",
        "\n",
        "We'll be using a fairly naive exact-match process to determine if our response contains specific strings."
      ]
    },
    {
      "cell_type": "code",
      "execution_count": 42,
      "metadata": {
        "id": "QrAUXMFftlAY"
      },
      "outputs": [],
      "source": [
        "from langsmith.evaluation import EvaluationResult, run_evaluator\n",
        "\n",
        "@run_evaluator\n",
        "def must_mention(run, example) -> EvaluationResult:\n",
        "    prediction = run.outputs.get(\"output\") or \"\"\n",
        "    required = example.outputs.get(\"must_mention\") or []\n",
        "    score = all(phrase in prediction for phrase in required)\n",
        "    return EvaluationResult(key=\"must_mention\", score=score)"
      ]
    },
    {
      "cell_type": "markdown",
      "metadata": {
        "id": "PNtHORUh0jZY"
      },
      "source": [
        "#### ❓ Question #4:\n",
        "\n",
        "What are some ways you could improve this metric as-is?\n",
        "\n",
        "> NOTE: Alternatively you can suggest where gaps exist in this method.\n",
        "\n",
        "---\n",
        "\n",
        "### ANSWER #4:\n",
        "\n",
        "Not sure what is meant by improving this metric \"as-is\" but I presume this means to leave the must_mention function as written.  If this is correct assumption, then improving this metric is dependent on being more careful with the question/answer data.  For example, using pairs of words in the must_mention lists forces BOTH words to be found.  This could be fine in some situations where we want a phrase, but if that is the intention then the phrase could be a single string.  One example of a bad question is asking for THE most popular framework but expecting TWO answers (which turns out ok by luck because the papers say two of the most popular ...).  \n",
        "\n",
        "The questions must be precise.  For example, asking about who authored the QLoRA paper is a vague question, and in several of the experiments that I ran, a different paper was pulled instead of the \"original\" paper authored by Dettmers.  \n",
        "\n",
        "If \"as-is\" does not mean to freeze the must_mention() method above, then we could add some fuzziness in this method that would handle capitalization, different forms of the same word, etc.  For example, Nf4 and NormalFload would not pass the test about the data type.  I know that the paper mentions NF4 but the author of the example might mispell it as well.  But the significant improvement is\"parameter reduction\", but the required answer has to include \"reduce parameters\",  which will fail our exact match approach.\n",
        "\n",
        "I ran the evaluation later in this notebook three times USING THE ORIGINAL EXAMPLES, and the results were variable despite not changing any code nor evaluation models, as shown below.  This is largely because the metric overall (the method and the examples) have not been optimized.\n",
        "\n",
        "![Metric Experiments](metric.png)\n",
        "\n",
        "---"
      ]
    },
    {
      "cell_type": "markdown",
      "metadata": {
        "id": "mZ4DVSXl0BX5"
      },
      "source": [
        "Now that we have created our custom evaluator - let's initialize our `RunEvalConfig` with it!"
      ]
    },
    {
      "cell_type": "code",
      "execution_count": 43,
      "metadata": {
        "id": "sL4-XcjytWsu"
      },
      "outputs": [],
      "source": [
        "from langchain.smith import RunEvalConfig, run_on_dataset\n",
        "\n",
        "eval_config = RunEvalConfig(\n",
        "    custom_evaluators=[must_mention],\n",
        ")"
      ]
    },
    {
      "cell_type": "markdown",
      "metadata": {
        "id": "r1RJr349zhv7"
      },
      "source": [
        "Task 3: Evaluating\n",
        "\n",
        "All that is left to do is evaluate our agent's response!"
      ]
    },
    {
      "cell_type": "code",
      "execution_count": 44,
      "metadata": {
        "colab": {
          "base_uri": "https://localhost:8080/"
        },
        "id": "p5TeCUUkuGld",
        "outputId": "8b98fff1-bd75-4dbe-cadc-a76d8a82577c"
      },
      "outputs": [
        {
          "name": "stdout",
          "output_type": "stream",
          "text": [
            "View the evaluation results for project 'RAG Pipeline - Evaluation - 258024df' at:\n",
            "https://smith.langchain.com/o/b47f3abe-d937-5f35-8caa-ad9d628ed67f/datasets/a544cd8d-6cc8-4abe-93a6-e50c6cfc87c3/compare?selectedSessions=322d89e9-a2b8-45b2-81da-6e26248370c4\n",
            "\n",
            "View all tests for Dataset Retrieval Augmented Generation - Mike's Evaluation Dataset - cc8b64db at:\n",
            "https://smith.langchain.com/o/b47f3abe-d937-5f35-8caa-ad9d628ed67f/datasets/a544cd8d-6cc8-4abe-93a6-e50c6cfc87c3\n",
            "[------------------------------------------------->] 10/10"
          ]
        },
        {
          "data": {
            "text/html": [
              "<h3>Experiment Results:</h3>"
            ],
            "text/plain": [
              "<IPython.core.display.HTML object>"
            ]
          },
          "metadata": {},
          "output_type": "display_data"
        },
        {
          "data": {
            "text/html": [
              "<div>\n",
              "<style scoped>\n",
              "    .dataframe tbody tr th:only-of-type {\n",
              "        vertical-align: middle;\n",
              "    }\n",
              "\n",
              "    .dataframe tbody tr th {\n",
              "        vertical-align: top;\n",
              "    }\n",
              "\n",
              "    .dataframe thead th {\n",
              "        text-align: right;\n",
              "    }\n",
              "</style>\n",
              "<table border=\"1\" class=\"dataframe\">\n",
              "  <thead>\n",
              "    <tr style=\"text-align: right;\">\n",
              "      <th></th>\n",
              "      <th>feedback.must_mention</th>\n",
              "      <th>error</th>\n",
              "      <th>execution_time</th>\n",
              "      <th>run_id</th>\n",
              "    </tr>\n",
              "  </thead>\n",
              "  <tbody>\n",
              "    <tr>\n",
              "      <th>count</th>\n",
              "      <td>10</td>\n",
              "      <td>0</td>\n",
              "      <td>10.000000</td>\n",
              "      <td>10</td>\n",
              "    </tr>\n",
              "    <tr>\n",
              "      <th>unique</th>\n",
              "      <td>2</td>\n",
              "      <td>0</td>\n",
              "      <td>NaN</td>\n",
              "      <td>10</td>\n",
              "    </tr>\n",
              "    <tr>\n",
              "      <th>top</th>\n",
              "      <td>True</td>\n",
              "      <td>NaN</td>\n",
              "      <td>NaN</td>\n",
              "      <td>a2fd0bc5-61b4-41f8-a089-4fdd3494cefc</td>\n",
              "    </tr>\n",
              "    <tr>\n",
              "      <th>freq</th>\n",
              "      <td>5</td>\n",
              "      <td>NaN</td>\n",
              "      <td>NaN</td>\n",
              "      <td>1</td>\n",
              "    </tr>\n",
              "    <tr>\n",
              "      <th>mean</th>\n",
              "      <td>NaN</td>\n",
              "      <td>NaN</td>\n",
              "      <td>4.593186</td>\n",
              "      <td>NaN</td>\n",
              "    </tr>\n",
              "    <tr>\n",
              "      <th>std</th>\n",
              "      <td>NaN</td>\n",
              "      <td>NaN</td>\n",
              "      <td>2.158017</td>\n",
              "      <td>NaN</td>\n",
              "    </tr>\n",
              "    <tr>\n",
              "      <th>min</th>\n",
              "      <td>NaN</td>\n",
              "      <td>NaN</td>\n",
              "      <td>2.591233</td>\n",
              "      <td>NaN</td>\n",
              "    </tr>\n",
              "    <tr>\n",
              "      <th>25%</th>\n",
              "      <td>NaN</td>\n",
              "      <td>NaN</td>\n",
              "      <td>3.129456</td>\n",
              "      <td>NaN</td>\n",
              "    </tr>\n",
              "    <tr>\n",
              "      <th>50%</th>\n",
              "      <td>NaN</td>\n",
              "      <td>NaN</td>\n",
              "      <td>3.717148</td>\n",
              "      <td>NaN</td>\n",
              "    </tr>\n",
              "    <tr>\n",
              "      <th>75%</th>\n",
              "      <td>NaN</td>\n",
              "      <td>NaN</td>\n",
              "      <td>5.745308</td>\n",
              "      <td>NaN</td>\n",
              "    </tr>\n",
              "    <tr>\n",
              "      <th>max</th>\n",
              "      <td>NaN</td>\n",
              "      <td>NaN</td>\n",
              "      <td>8.817634</td>\n",
              "      <td>NaN</td>\n",
              "    </tr>\n",
              "  </tbody>\n",
              "</table>\n",
              "</div>"
            ],
            "text/plain": [
              "       feedback.must_mention error  execution_time  \\\n",
              "count                     10     0       10.000000   \n",
              "unique                     2     0             NaN   \n",
              "top                     True   NaN             NaN   \n",
              "freq                       5   NaN             NaN   \n",
              "mean                     NaN   NaN        4.593186   \n",
              "std                      NaN   NaN        2.158017   \n",
              "min                      NaN   NaN        2.591233   \n",
              "25%                      NaN   NaN        3.129456   \n",
              "50%                      NaN   NaN        3.717148   \n",
              "75%                      NaN   NaN        5.745308   \n",
              "max                      NaN   NaN        8.817634   \n",
              "\n",
              "                                      run_id  \n",
              "count                                     10  \n",
              "unique                                    10  \n",
              "top     a2fd0bc5-61b4-41f8-a089-4fdd3494cefc  \n",
              "freq                                       1  \n",
              "mean                                     NaN  \n",
              "std                                      NaN  \n",
              "min                                      NaN  \n",
              "25%                                      NaN  \n",
              "50%                                      NaN  \n",
              "75%                                      NaN  \n",
              "max                                      NaN  "
            ]
          },
          "metadata": {},
          "output_type": "display_data"
        },
        {
          "data": {
            "text/plain": [
              "{'project_name': 'RAG Pipeline - Evaluation - 258024df',\n",
              " 'results': {'7d211e5b-a159-4dae-9db2-9e01c6c26fa9': {'input': {'question': 'What optimizer is used in QLoRA?'},\n",
              "   'feedback': [EvaluationResult(key='must_mention', score=True, value=None, comment=None, correction=None, evaluator_info={}, feedback_config=None, source_run_id=UUID('25e2467e-4651-46e6-91ad-aa92b5b576b7'), target_run_id=None)],\n",
              "   'execution_time': 3.698102,\n",
              "   'run_id': 'a2fd0bc5-61b4-41f8-a089-4fdd3494cefc',\n",
              "   'output': 'QLoRA (Quantized Low-Rank Adaptation) uses a combination of optimizers to manage memory efficiently during the fine-tuning of large language models. Specifically, it introduces \"paged optimizers\" to handle memory spikes. This approach allows QLoRA to backpropagate gradients through a frozen, 4-bit quantized pretrained language model into Low Rank Adapters (LoRA), significantly reducing memory usage while preserving performance.',\n",
              "   'reference': {'must_mention': ['paged', 'optimizer']}},\n",
              "  'b7f7b23f-0eba-44ce-8a9d-3e9f52b07691': {'input': {'question': 'What data type was created in the QLoRA paper?'},\n",
              "   'feedback': [EvaluationResult(key='must_mention', score=True, value=None, comment=None, correction=None, evaluator_info={}, feedback_config=None, source_run_id=UUID('4025ddf5-2cfd-4c88-b7ea-84e2cced9c2b'), target_run_id=None)],\n",
              "   'execution_time': 3.736194,\n",
              "   'run_id': 'd3fd4d05-b001-47cb-a5c3-d69896883fd2',\n",
              "   'output': 'In the QLoRA paper, a new data type called **4-bit NormalFloat (NF4)** was introduced. This data type is designed to be information-theoretically optimal for normally distributed weights, enabling efficient finetuning of quantized large language models (LLMs) while preserving performance.',\n",
              "   'reference': {'must_mention': ['NF4', 'NormalFloat']}},\n",
              "  '0701a0dd-7fd4-4331-8c99-c64629884a16': {'input': {'question': 'What is a Retrieval Augmented Generation system?'},\n",
              "   'feedback': [EvaluationResult(key='must_mention', score=False, value=None, comment=None, correction=None, evaluator_info={}, feedback_config=None, source_run_id=UUID('c7b9767e-4626-4f2f-8728-ab52f695800e'), target_run_id=None)],\n",
              "   'execution_time': 7.488999,\n",
              "   'run_id': 'f76a7cc5-ce2b-4cf0-bdb6-fd7a158729e4',\n",
              "   'output': \"A Retrieval Augmented Generation (RAG) system is a type of artificial intelligence model that combines retrieval-based and generation-based approaches to improve the quality and relevance of generated text. Here's a breakdown of the components and how they work together:\\n\\n1. **Retrieval Component**: This part of the system is responsible for retrieving relevant information from a large corpus of documents or a database. It uses techniques from information retrieval to find documents or passages that are most relevant to the input query or context.\\n\\n2. **Generation Component**: This part of the system is a generative model, often based on neural networks like transformers (e.g., GPT-3). It takes the retrieved information and the input query or context to generate coherent and contextually appropriate text.\\n\\n3. **Integration**: The retrieved information is used to augment the input to the generative model. This can be done in various ways, such as concatenating the retrieved text with the input query or using more sophisticated methods to integrate the information.\\n\\n### How It Works\\n\\n1. **Input Query**: The system receives an input query or prompt.\\n2. **Retrieval**: The retrieval component searches a large corpus to find relevant documents or passages.\\n3. **Augmentation**: The retrieved information is combined with the input query.\\n4. **Generation**: The augmented input is fed into the generative model, which produces the final output text.\\n\\n### Benefits\\n\\n- **Improved Relevance**: By incorporating relevant information from a large corpus, the system can generate more accurate and contextually appropriate responses.\\n- **Knowledge Integration**: The system can leverage external knowledge sources, making it more knowledgeable and versatile.\\n- **Efficiency**: Combining retrieval and generation can be more efficient than relying solely on a generative model, especially for complex queries that require specific information.\\n\\n### Applications\\n\\n- **Question Answering**: Providing detailed and accurate answers to user queries.\\n- **Content Creation**: Assisting in writing articles, reports, or other content by providing relevant information and context.\\n- **Customer Support**: Enhancing automated customer support systems by generating more accurate and helpful responses.\\n\\nOverall, RAG systems represent a powerful approach to combining the strengths of retrieval-based and generation-based models to produce high-quality, contextually relevant text.\",\n",
              "   'reference': {'must_mention': ['ground', 'context']}},\n",
              "  '32047fd0-d599-40b3-922b-69903e326ad4': {'input': {'question': 'Who authored the QLoRA paper?'},\n",
              "   'feedback': [EvaluationResult(key='must_mention', score=False, value=None, comment=None, correction=None, evaluator_info={}, feedback_config=None, source_run_id=UUID('05449540-f2ed-4630-8795-89217fca8010'), target_run_id=None)],\n",
              "   'execution_time': 4.032699,\n",
              "   'run_id': '930c45f5-918f-4ca6-b7e7-06ec098143e6',\n",
              "   'output': 'The QLoRA paper titled \"Accurate LoRA-Finetuning Quantization of LLMs via Information Retention\" was authored by:\\n\\n- Haotong Qin\\n- Xudong Ma\\n- Xingyu Zheng\\n- Xiaoyang Li\\n- Yang Zhang\\n- Shouda Liu\\n- Jie Luo\\n- Xianglong Liu\\n- Michele Magno\\n\\nYou can find more details and the paper [here](https://github.com/htqin/ir-qlora).',\n",
              "   'reference': {'must_mention': ['Tim', 'Dettmers']}},\n",
              "  '9fed89d1-ef79-425a-93c9-065ed517614c': {'input': {'question': 'What is the most popular deep learning framework?'},\n",
              "   'feedback': [EvaluationResult(key='must_mention', score=True, value=None, comment=None, correction=None, evaluator_info={}, feedback_config=None, source_run_id=UUID('503b7079-7e31-4b4c-babd-89e65ef1d486'), target_run_id=None)],\n",
              "   'execution_time': 3.120201,\n",
              "   'run_id': '4cf696d8-ef01-4737-b1fc-08335c421753',\n",
              "   'output': 'The most popular deep learning frameworks today are TensorFlow and PyTorch. Both are widely used by machine learning engineers, data scientists, developers, and researchers for various projects.',\n",
              "   'reference': {'must_mention': ['PyTorch', 'TensorFlow']}},\n",
              "  '171f7538-66fd-4c3f-a597-8cb9ec4194fe': {'input': {'question': 'What significant improvements does the LoRA system make?'},\n",
              "   'feedback': [EvaluationResult(key='must_mention', score=False, value=None, comment=None, correction=None, evaluator_info={}, feedback_config=None, source_run_id=UUID('e8ca7b9e-8058-4e7e-8af8-57d81d31618e'), target_run_id=None)],\n",
              "   'execution_time': 8.817634,\n",
              "   'run_id': '94826c0f-92fb-40e1-b5ee-f44836e63f69',\n",
              "   'output': 'The LoRA (Low-Rank Adaptation) system has made several significant improvements, particularly in the context of federated learning and IoT applications. Here are some key advancements:\\n\\n1. **Communication Efficiency**:\\n   - **Federated LoRA with Sparse Communication (FLASC)**: This method applies sparsity to LoRA during communication, allowing clients to locally fine-tune the entire LoRA module. It achieves up to 10 times less communication while maintaining performance comparable to dense LoRA. This is particularly beneficial in communication-constrained settings like cross-device federated learning.\\n\\n2. **System-Specific Constraints**:\\n   - The FLASC approach highlights the importance of considering system-specific constraints when developing communication-efficient finetuning approaches. It also offers benefits in terms of heterogeneity and privacy, which are crucial in federated learning environments.\\n\\n3. **IoT Applications**:\\n   - **Open LoRa for IoT**: This design and implementation allow users to build private LoRa networks for various IoT applications. The improved software architecture of the LoRa network server, which is open-source, ensures scalability and flexibility. This is achieved by dividing the server into four decoupled modules and using a messaging system based on streaming data for interaction between modules.\\n\\n4. **Energy Efficiency and Cost-Effectiveness**:\\n   - LoRa networks are designed to be low-cost and energy-efficient, making them suitable for large-scale IoT deployments. This is particularly important for applications like smart cities and precision agriculture.\\n\\n5. **Scalability and Flexibility**:\\n   - The modular design of the LoRa network server and the use of streaming data for module interaction ensure that the system can scale and adapt to different application requirements.\\n\\nOverall, these improvements make the LoRA system more efficient, flexible, and suitable for a wide range of applications, from federated learning to IoT deployments.',\n",
              "   'reference': {'must_mention': ['reduce', 'parameters']}},\n",
              "  '40099478-6174-427d-9fcd-a1f355bf98e9': {'input': {'question': 'Who authored the original QLoRA paper?'},\n",
              "   'feedback': [EvaluationResult(key='must_mention', score=False, value=None, comment=None, correction=None, evaluator_info={}, feedback_config=None, source_run_id=UUID('6ca851f8-7108-451c-938a-f880e4d6810f'), target_run_id=None)],\n",
              "   'execution_time': 3.157221,\n",
              "   'run_id': 'f38ee082-f973-44df-a16e-4161719bc0a0',\n",
              "   'output': 'The original QLoRA paper titled \"Accurate LoRA-Finetuning Quantization of LLMs via Information Retention\" was authored by:\\n\\n- Haotong Qin\\n- Xudong Ma\\n- Xingyu Zheng\\n- Xiaoyang Li\\n- Yang Zhang\\n- Shouda Liu\\n- Jie Luo\\n- Xianglong Liu\\n- Michele Magno\\n\\nYou can find more details and access the paper [here](https://github.com/htqin/ir-qlora).',\n",
              "   'reference': {'must_mention': ['Dettmers']}},\n",
              "  'afbef04e-2da8-439b-b122-1690628d5ec1': {'input': {'question': 'What was the name of the best model family used in the original QLoRA paper?'},\n",
              "   'feedback': [EvaluationResult(key='must_mention', score=False, value=None, comment=None, correction=None, evaluator_info={}, feedback_config=None, source_run_id=UUID('2684493e-965d-40f8-8830-e357c399f2d1'), target_run_id=None)],\n",
              "   'execution_time': 2.591233,\n",
              "   'run_id': 'ff2b8c24-eea3-4c72-927d-3a75ac871ac9',\n",
              "   'output': 'The original QLoRA paper highlights the LLaMA and LLaMA2 model families as the best-performing models. Specifically, the paper mentions that IR-QLoRA significantly improves accuracy across these model families under 2-4 bit-widths.',\n",
              "   'reference': {'must_mention': ['Guanaco']}},\n",
              "  'ba35834c-3f62-4d67-932d-fd3ec9397f3c': {'input': {'question': 'What distinguishes QLoRA from vanilla LoRA?'},\n",
              "   'feedback': [EvaluationResult(key='must_mention', score=True, value=None, comment=None, correction=None, evaluator_info={}, feedback_config=None, source_run_id=UUID('d20097bd-0480-47c4-a2ef-f63d02ba4fbf'), target_run_id=None)],\n",
              "   'execution_time': 6.316177,\n",
              "   'run_id': '95d71783-9c31-4ed6-a427-44b7568747cb',\n",
              "   'output': 'QLoRA (Quantized Low-Rank Adaptation) and vanilla LoRA (Low-Rank Adaptation) are both techniques used to fine-tune large language models, but they have some key differences:\\n\\n1. **Quantization**:\\n   - **QLoRA**: Incorporates quantization techniques to reduce the precision of the model weights, typically from 32-bit floating point to lower precision formats like 8-bit or even 4-bit. This helps in reducing the memory footprint and computational requirements.\\n   - **Vanilla LoRA**: Does not involve quantization. It focuses solely on the low-rank adaptation of the model weights.\\n\\n2. **Memory Efficiency**:\\n   - **QLoRA**: More memory-efficient due to the quantization of weights. This allows for the fine-tuning of larger models on hardware with limited memory.\\n   - **Vanilla LoRA**: While it is more memory-efficient than full fine-tuning, it does not achieve the same level of memory reduction as QLoRA because it does not use quantization.\\n\\n3. **Training Speed**:\\n   - **QLoRA**: Potentially faster training due to the reduced precision of weights, which can lead to faster computations.\\n   - **Vanilla LoRA**: Training speed is generally slower compared to QLoRA because it operates with full-precision weights.\\n\\n4. **Implementation Complexity**:\\n   - **QLoRA**: More complex to implement due to the additional step of quantization and the need to manage lower precision arithmetic.\\n   - **Vanilla LoRA**: Simpler to implement as it only involves the low-rank adaptation without any quantization.\\n\\n5. **Performance**:\\n   - **QLoRA**: Can achieve similar or sometimes better performance compared to vanilla LoRA due to the efficient use of memory and computational resources, allowing for the fine-tuning of larger models.\\n   - **Vanilla LoRA**: Performance is generally good, but it may be limited by the available hardware resources, especially for very large models.\\n\\nIn summary, QLoRA extends the concept of LoRA by incorporating quantization techniques to further reduce memory and computational requirements, making it more suitable for fine-tuning very large models on resource-constrained hardware.',\n",
              "   'reference': {'must_mention': ['quantization']}},\n",
              "  '01785b8c-ed8d-4696-86bc-8573348104c1': {'input': {'question': 'What data type has the best performance with QLoRA, FP4 or NF4?'},\n",
              "   'feedback': [EvaluationResult(key='must_mention', score=True, value=None, comment=None, correction=None, evaluator_info={}, feedback_config=None, source_run_id=UUID('368b71c3-2d25-439f-8b1f-bdfedd461357'), target_run_id=None)],\n",
              "   'execution_time': 2.973405,\n",
              "   'run_id': 'e7790ed6-1135-4682-aec0-1ed972515ac6',\n",
              "   'output': 'The NF4 (4-bit NormalFloat) data type has been found to have better performance compared to FP4 (4-bit Float) when used with QLoRA. Specifically, 4-bit QLoRA with the NF4 data type matches the performance of both 16-bit full finetuning and 16-bit LoRA finetuning on various academic benchmarks. This indicates that NF4 is more effective than FP4 for QLoRA.',\n",
              "   'reference': {'must_mention': ['NF4']}}},\n",
              " 'aggregate_metrics': None}"
            ]
          },
          "execution_count": 44,
          "metadata": {},
          "output_type": "execute_result"
        }
      ],
      "source": [
        "client.run_on_dataset(\n",
        "    dataset_name=dataset_name,\n",
        "    llm_or_chain_factory=agent_chain,\n",
        "    evaluation=eval_config,\n",
        "    verbose=True,\n",
        "    project_name=f\"RAG Pipeline - Evaluation - {uuid4().hex[0:8]}\",\n",
        "    project_metadata={\"version\": \"1.0.0\"},\n",
        ")"
      ]
    },
    {
      "cell_type": "markdown",
      "metadata": {
        "id": "jhTNe4kWrplB"
      },
      "source": [
        "## Part 2: LangGraph with Helpfulness:"
      ]
    },
    {
      "cell_type": "markdown",
      "metadata": {
        "id": "w1wKRddbIY_S"
      },
      "source": [
        "### Task 3: Adding Helpfulness Check and \"Loop\" Limits\n",
        "\n",
        "Now that we've done evaluation - let's see if we can add an extra step where we review the content we've generated to confirm if it fully answers the user's query!\n",
        "\n",
        "We're going to make a few key adjustments to account for this:\n",
        "\n",
        "1. We're going to add an artificial limit on how many \"loops\" the agent can go through - this will help us to avoid the potential situation where we never exit the loop.\n",
        "2. We'll add to our existing conditional edge to obtain the behaviour we desire."
      ]
    },
    {
      "cell_type": "markdown",
      "metadata": {
        "id": "npTYJ8ayR5B3"
      },
      "source": [
        "First, let's define our state again - we can check the length of the state object, so we don't need additional state for this."
      ]
    },
    {
      "cell_type": "code",
      "execution_count": 28,
      "metadata": {
        "id": "-LQ84YhyJG0w"
      },
      "outputs": [],
      "source": [
        "class AgentState(TypedDict):\n",
        "  messages: Annotated[list, add_messages]"
      ]
    },
    {
      "cell_type": "markdown",
      "metadata": {
        "id": "sD7EV0HqSQcb"
      },
      "source": [
        "Now we can set our graph up! This process will be almost entirely the same - with the inclusion of one additional node/conditional edge!"
      ]
    },
    {
      "cell_type": "markdown",
      "metadata": {
        "id": "oajBwLkFVi1N"
      },
      "source": [
        "####🏗️ Activity #5:\n",
        "\n",
        "Please write markdown for the following cells to explain what each is doing."
      ]
    },
    {
      "cell_type": "markdown",
      "metadata": {
        "id": "M6rN7feNVn9f"
      },
      "source": [
        "##### YOUR MARKDOWN HERE\n",
        "\n",
        "In this cell we are instantiating graph_with_helpfulness_check as a StateGraph object, using AgentState as the state definition that will be tracked in the overall graph.\n",
        "\n",
        "We are then adding our two nodes, previously defined.  After this cell is executed, we have two \"floating\" nodes without any edges or entry points."
      ]
    },
    {
      "cell_type": "code",
      "execution_count": 29,
      "metadata": {
        "id": "6r6XXA5FJbVf"
      },
      "outputs": [],
      "source": [
        "graph_with_helpfulness_check = StateGraph(AgentState)\n",
        "\n",
        "graph_with_helpfulness_check.add_node(\"agent\", call_model)\n",
        "graph_with_helpfulness_check.add_node(\"action\", tool_node)"
      ]
    },
    {
      "cell_type": "markdown",
      "metadata": {
        "id": "XZ22o2mWVrfp"
      },
      "source": [
        "##### YOUR MARKDOWN HERE\n",
        "\n",
        "Here we are adding our entry point to the graph, which is the agent node."
      ]
    },
    {
      "cell_type": "code",
      "execution_count": 30,
      "metadata": {
        "id": "HNWHwWxuRiLY"
      },
      "outputs": [],
      "source": [
        "graph_with_helpfulness_check.set_entry_point(\"agent\")"
      ]
    },
    {
      "cell_type": "markdown",
      "metadata": {
        "id": "rsXeF6xlaXOZ"
      },
      "source": [
        "##### YOUR MARKDOWN HERE\n",
        "\n",
        "This function will evaluate our current state.  Recall that our state object consists only of a list of messages, which are automatically updated at every state change.  The last message in state is the most recent state change.  If this message included a tool_calls argument, then we return from the function with \"action\" and that will route us to the action node.. Remember that if there is no tool_calls argument in the last message, then by definition the last message IS the FINAL response.\n",
        "\n",
        "If we have a final response and have not exceeded our limit of ten cycles, then we set up a new prompt template that tells the LLM to judge helpfulness by comparing the original query with the final response.  The prompt template expects the initial_query and final_response as parameters.  The chain is then invoked, returning yes or no for helpfulness."
      ]
    },
    {
      "cell_type": "code",
      "execution_count": 31,
      "metadata": {
        "id": "z_Sq3A9SaV1O"
      },
      "outputs": [],
      "source": [
        "from langchain_core.prompts import PromptTemplate\n",
        "from langchain_core.output_parsers import StrOutputParser\n",
        "\n",
        "def tool_call_or_helpful(state):\n",
        "  last_message = state[\"messages\"][-1]\n",
        "\n",
        "  if last_message.tool_calls:\n",
        "    return \"action\"\n",
        "\n",
        "  initial_query = state[\"messages\"][0]\n",
        "  final_response = state[\"messages\"][-1]\n",
        "\n",
        "  if len(state[\"messages\"]) > 10:\n",
        "    return \"END\"\n",
        "\n",
        "  prompt_template = \"\"\"\\\n",
        "  Given an initial query and a final response, determine if the final response is extremely helpful or not. Please indicate helpfulness with a 'Y' and unhelpfulness as an 'N'.\n",
        "\n",
        "  Initial Query:\n",
        "  {initial_query}\n",
        "\n",
        "  Final Response:\n",
        "  {final_response}\"\"\"\n",
        "\n",
        "  prompt_template = PromptTemplate.from_template(prompt_template)\n",
        "\n",
        "  helpfulness_check_model = ChatOpenAI(model=\"gpt-4\")\n",
        "\n",
        "  helpfulness_chain = prompt_template | helpfulness_check_model | StrOutputParser()\n",
        "\n",
        "  helpfulness_response = helpfulness_chain.invoke({\"initial_query\" : initial_query.content, \"final_response\" : final_response.content})\n",
        "\n",
        "  if \"Y\" in helpfulness_response:\n",
        "    return \"end\"\n",
        "  else:\n",
        "    return \"continue\""
      ]
    },
    {
      "cell_type": "markdown",
      "metadata": {
        "id": "Fz1u9Vf4SHxJ"
      },
      "source": [
        "#### 🏗️ Activity #4:\n",
        "\n",
        "Please write what is happening in our `tool_call_or_helpful` function!\n",
        "\n",
        "---\n",
        "\n",
        "We start by pulling the last message in state and checking if it included a tool_call argument, in which case we return from the function with \"action\".\n",
        "\n",
        "The next two statements simply pull the original query and final result off of the state object (the first and last messages).\n",
        "\n",
        "If we have reached ten iterations, then we return end.  This is our loop limit or check.\n",
        "\n",
        "---"
      ]
    },
    {
      "cell_type": "markdown",
      "metadata": {
        "id": "6BhnBW2YVsJO"
      },
      "source": [
        "##### YOUR MARKDOWN HERE\n",
        "\n",
        "We create a conditional edge from agent into the function we defined above, and from there the chain will be routed to one of three places, depending on what was returned from the function.  If \"continue\" then the chain will go to the agent, if \"action\" then the chain will continue to the action node, and if \"end\" then we will exit the chain."
      ]
    },
    {
      "cell_type": "code",
      "execution_count": 32,
      "metadata": {
        "id": "aVTKnWMbP_8T"
      },
      "outputs": [],
      "source": [
        "graph_with_helpfulness_check.add_conditional_edges(\n",
        "    \"agent\",\n",
        "    tool_call_or_helpful,\n",
        "    {\n",
        "        \"continue\" : \"agent\",\n",
        "        \"action\" : \"action\",\n",
        "        \"end\" : END\n",
        "    }\n",
        ")"
      ]
    },
    {
      "cell_type": "markdown",
      "metadata": {
        "id": "ZGDLEWOIVtK0"
      },
      "source": [
        "##### YOUR MARKDOWN HERE\n",
        "\n",
        "Right now our action agent has no communication route back to the agent, so we add that edge here.  Otherwise, there is now way out of the action node."
      ]
    },
    {
      "cell_type": "code",
      "execution_count": 33,
      "metadata": {
        "id": "cbDK2MbuREgU"
      },
      "outputs": [],
      "source": [
        "graph_with_helpfulness_check.add_edge(\"action\", \"agent\")"
      ]
    },
    {
      "cell_type": "markdown",
      "metadata": {
        "id": "rSI8AOaEVvT-"
      },
      "source": [
        "##### YOUR MARKDOWN HERE\n",
        "\n",
        "Compile our chain!  And below that, I have added a Mermaid to confirm what I think is going on."
      ]
    },
    {
      "cell_type": "code",
      "execution_count": 34,
      "metadata": {
        "id": "oQldl8ERQ8lf"
      },
      "outputs": [],
      "source": [
        "agent_with_helpfulness_check = graph_with_helpfulness_check.compile()"
      ]
    },
    {
      "cell_type": "code",
      "execution_count": 35,
      "metadata": {},
      "outputs": [
        {
          "data": {
            "image/jpeg": "[encoded data removed]",
            "text/plain": [
              "<IPython.core.display.Image object>"
            ]
          },
          "metadata": {},
          "output_type": "display_data"
        }
      ],
      "source": [
        "from IPython.display import Image, display\n",
        "\n",
        "try:\n",
        "    display(Image(agent_with_helpfulness_check.get_graph(xray=True).draw_mermaid_png()))\n",
        "except:\n",
        "    pass"
      ]
    },
    {
      "cell_type": "markdown",
      "metadata": {
        "id": "F67FGCMRVwGz"
      },
      "source": [
        "##### YOUR MARKDOWN HERE\n",
        "\n",
        "Let's invoke the chain with three questions.  Then we look at what happens.  THe first state update is done by agent, which looks at each question, determines to use DuckDuckQuery for each of them, and sends to action the three required actions.  The action node has a ToolNode which allows parallel calls to return information from the web for all three questions.  WHen this is finished, then control is returned to agent, which updates the state with the final response.  NOTE that our helpfulness function presumably decided the responses were helpful but did not store Yes or No in the state - it simply routed the chain."
      ]
    },
    {
      "cell_type": "code",
      "execution_count": 36,
      "metadata": {
        "colab": {
          "base_uri": "https://localhost:8080/"
        },
        "id": "B3oo8E-PRK1T",
        "outputId": "22470df4-9aa7-4751-95b6-d30ce71b17db"
      },
      "outputs": [
        {
          "name": "stdout",
          "output_type": "stream",
          "text": [
            "Receiving update from node: 'agent'\n",
            "[AIMessage(content='', additional_kwargs={'tool_calls': [{'id': 'call_L2flWgp3hNMDe8pSMp1egwlq', 'function': {'arguments': '{\"query\": \"LoRA machine learning\"}', 'name': 'duckduckgo_search'}, 'type': 'function'}, {'id': 'call_5P7rToKhc5XWDfrzxcOYkA4Q', 'function': {'arguments': '{\"query\": \"Tim Dettmers\"}', 'name': 'duckduckgo_search'}, 'type': 'function'}, {'id': 'call_jfBKBTAQVFeSpunBMhRL8JV2', 'function': {'arguments': '{\"query\": \"Attention in machine learning\"}', 'name': 'duckduckgo_search'}, 'type': 'function'}], 'refusal': None}, response_metadata={'token_usage': {'completion_tokens': 76, 'prompt_tokens': 171, 'total_tokens': 247}, 'model_name': 'gpt-4o-2024-05-13', 'system_fingerprint': 'fp_157b3831f5', 'finish_reason': 'tool_calls', 'logprobs': None}, id='run-b6886d60-ba6d-4832-9d8d-efad4bd1b5e1-0', tool_calls=[{'name': 'duckduckgo_search', 'args': {'query': 'LoRA machine learning'}, 'id': 'call_L2flWgp3hNMDe8pSMp1egwlq', 'type': 'tool_call'}, {'name': 'duckduckgo_search', 'args': {'query': 'Tim Dettmers'}, 'id': 'call_5P7rToKhc5XWDfrzxcOYkA4Q', 'type': 'tool_call'}, {'name': 'duckduckgo_search', 'args': {'query': 'Attention in machine learning'}, 'id': 'call_jfBKBTAQVFeSpunBMhRL8JV2', 'type': 'tool_call'}], usage_metadata={'input_tokens': 171, 'output_tokens': 76, 'total_tokens': 247})]\n",
            "\n",
            "\n",
            "\n",
            "Receiving update from node: 'action'\n",
            "[ToolMessage(content='Let\\'s jump on LoRA. Low-Rank Adaptation of LLMs (LoRA) So, in usual fine-tuning, we. Take a pretrained model. Do Transfer Learning over new training data to slightly adjust these pre-trained weights LoRA\\'s approach to decomposing ( Δ W ) into a product of lower rank matrices effectively balances the need to adapt large pre-trained models to new tasks while maintaining computational efficiency. The intrinsic rank concept is key to this balance, ensuring that the essence of the model\\'s learning capability is preserved with significantly ... Low-Rank Adaptation (LoRA) is a widely-used parameter-efficient finetuning method for large language models. LoRA saves memory by training only low rank perturbations to selected weight matrices. In this work, we compare the performance of LoRA and full finetuning on two target domains, programming and mathematics. We consider both the instruction finetuning ($\\\\\\\\approx$100K prompt-response ... \"Lora The Tuner\" By Daniel Warfield using MidJourney. All images by the author unless otherwise specified. Fine tuning is the process of tailoring a machine learning model to a specific application, which can be vital in achieving consistent and high quality performance. Feb 18, 2024. Low-rank adaptation (LoRA) is a machine learning technique that modifies a pretrained model (for example, an LLM or vision transformer) to better suit a specific, often smaller, dataset by adjusting only a small, low-rank subset of the model\\'s parameters. This approach is important because it allows for efficient finetuning of ...', name='duckduckgo_search', tool_call_id='call_L2flWgp3hNMDe8pSMp1egwlq'), ToolMessage(content=\"Allen School Ph.D. student Tim Dettmers accepted the grand prize for QLoRA, a novel approach to finetuning pretrained models that significantly reduces the amount of GPU memory required — from over 780GB to less than 48GB — to finetune a 65B parameter model. With QLoRA, the largest publicly available models can be finetuned on a single ... — Tim Dettmers is joining Ai2 as an AI researcher. Dettmers specializes in efficient deep learning at the intersection of machine learning, NLP, and computer systems with a focus on quantization ... Its purpose is to make cutting-edge research by Tim Dettmers, a leading academic expert on quantization and the use of deep learning hardware accelerators, accessible to the general public. QLoRA: One of the core contributions of bitsandbytes towards the democratization of AI. If you have a curiosity about how fancy graphics cards actually work, and why they are so well-suited to AI-type applications, then take a few minutes to read [Tim Dettmers] explain why this is so.… efficient finetuning of quantized LLMs. AUTHORs: Tim Dettmers, Artidoro Pagnoni, Ari Holtzman, Luke Zettlemoyer Authors Info & Claims. NIPS '23: Proceedings of the 37th International Conference on Neural Information Processing Systems. Article No.: 441, Pages 10088 - 10115. Published: 30 May 2024 Publication History.\", name='duckduckgo_search', tool_call_id='call_5P7rToKhc5XWDfrzxcOYkA4Q'), ToolMessage(content='Learn how attention mechanisms in deep learning enable models to focus on relevant information and improve performance in tasks such as machine translation, image captioning, and speech recognition. Understand the steps and components of attention mechanism architecture and see examples of its applications. 1. Introduction. Self-attention, also known as scaled dot-product attention, is a fundamental concept in the field of NLP and deep learning. It plays a pivotal role in tasks such as machine translation, text summarization, and sentiment analysis. Attention mechanism is a fundamental invention in artificial intelligence and machine learning, redefining the capabilities of deep learning models. This mechanism, inspired by the human mental process of selective focus, has emerged as a pillar in a variety of applications, accelerating developments in natural language processing, computer vision, and beyond. There are several types of attention mechanisms, each designed to cater to specific use cases. Here are a few notable ones: 1. Self-Attention Mechanism. Self-attention, also known as intra ... They all use transformer architecture with attention mechanisms at their core to solve problems across domains. In the Transformer series, we go over the ingredients that have made Transformers a universal recipe for machine learning. First up, we take a visual dive to understand the attention mechanism: Why transformers and attention took over.', name='duckduckgo_search', tool_call_id='call_jfBKBTAQVFeSpunBMhRL8JV2')]\n",
            "\n",
            "\n",
            "\n",
            "Receiving update from node: 'agent'\n",
            "[AIMessage(content=\"### LoRA in Machine Learning\\nLow-Rank Adaptation (LoRA) is a technique used in machine learning to efficiently fine-tune large pre-trained models, such as language models or vision transformers, for specific tasks. Instead of adjusting all the parameters of the model, LoRA modifies only a small, low-rank subset of the model's parameters. This approach significantly reduces the computational resources required for fine-tuning while maintaining the model's performance. LoRA is particularly useful for adapting large models to new tasks with smaller datasets.\\n\\n### Tim Dettmers\\nTim Dettmers is a researcher specializing in efficient deep learning, particularly at the intersection of machine learning, natural language processing (NLP), and computer systems. He is known for his work on quantization and the use of deep learning hardware accelerators. One of his notable contributions is QLoRA, a method that significantly reduces the GPU memory required to fine-tune large language models. Tim Dettmers is associated with the Allen School and has joined AI2 as an AI researcher.\\n\\n### Attention in Machine Learning\\nAttention mechanisms are a fundamental concept in deep learning, particularly in natural language processing (NLP) and computer vision. Inspired by the human cognitive process of selective focus, attention mechanisms allow models to focus on relevant parts of the input data, improving performance in various tasks such as machine translation, image captioning, and speech recognition. \\n\\n#### Types of Attention Mechanisms:\\n1. **Self-Attention (Scaled Dot-Product Attention)**: This mechanism allows a model to weigh the importance of different parts of the input data relative to each other. It is a core component of the Transformer architecture, which has revolutionized NLP tasks.\\n2. **Cross-Attention**: Used in tasks where the model needs to align and focus on different sequences, such as in sequence-to-sequence models for translation.\\n3. **Multi-Head Attention**: Extends self-attention by allowing the model to jointly attend to information from different representation subspaces.\\n\\nAttention mechanisms have become a pillar in modern AI, enabling significant advancements in various applications.\", additional_kwargs={'refusal': None}, response_metadata={'token_usage': {'completion_tokens': 425, 'prompt_tokens': 1165, 'total_tokens': 1590}, 'model_name': 'gpt-4o-2024-05-13', 'system_fingerprint': 'fp_157b3831f5', 'finish_reason': 'stop', 'logprobs': None}, id='run-836dca47-7d95-44cd-a2c2-592a4a6ded7e-0', usage_metadata={'input_tokens': 1165, 'output_tokens': 425, 'total_tokens': 1590})]\n",
            "\n",
            "\n",
            "\n"
          ]
        }
      ],
      "source": [
        "inputs = {\"messages\" : [HumanMessage(content=\"Related to machine learning, what is LoRA? Also, who is Tim Dettmers? Also, what is Attention?\")]}\n",
        "\n",
        "async for chunk in agent_with_helpfulness_check.astream(inputs, stream_mode=\"updates\"):\n",
        "    for node, values in chunk.items():\n",
        "        print(f\"Receiving update from node: '{node}'\")\n",
        "        print(values[\"messages\"])\n",
        "        print(\"\\n\\n\")"
      ]
    },
    {
      "cell_type": "markdown",
      "metadata": {},
      "source": [
        "### I'd like to read the response:"
      ]
    },
    {
      "cell_type": "code",
      "execution_count": 37,
      "metadata": {},
      "outputs": [
        {
          "name": "stdout",
          "output_type": "stream",
          "text": [
            "### LoRA in Machine Learning\n",
            "Low-Rank Adaptation (LoRA) is a technique used in machine learning to efficiently fine-tune large pre-trained models, such as language models or vision transformers, for specific tasks. Instead of adjusting all the parameters of the model, LoRA modifies only a small, low-rank subset of the model's parameters. This approach significantly reduces the computational resources required for fine-tuning while maintaining the model's performance. LoRA is particularly useful for adapting large models to new tasks with smaller datasets.\n",
            "\n",
            "### Tim Dettmers\n",
            "Tim Dettmers is a researcher specializing in efficient deep learning, particularly at the intersection of machine learning, natural language processing (NLP), and computer systems. He is known for his work on quantization and the use of deep learning hardware accelerators. One of his notable contributions is QLoRA, a method that significantly reduces the GPU memory required to fine-tune large language models. Tim Dettmers is associated with the Allen School and has joined AI2 as an AI researcher.\n",
            "\n",
            "### Attention in Machine Learning\n",
            "Attention mechanisms are a fundamental concept in deep learning, particularly in natural language processing (NLP) and computer vision. Inspired by the human cognitive process of selective focus, attention mechanisms allow models to focus on relevant parts of the input data, improving performance in various tasks such as machine translation, image captioning, and speech recognition. \n",
            "\n",
            "#### Types of Attention Mechanisms:\n",
            "1. **Self-Attention (Scaled Dot-Product Attention)**: This mechanism allows a model to weigh the importance of different parts of the input data relative to each other. It is a core component of the Transformer architecture, which has revolutionized NLP tasks.\n",
            "2. **Cross-Attention**: Used in tasks where the model needs to align and focus on different sequences, such as in sequence-to-sequence models for translation.\n",
            "3. **Multi-Head Attention**: Extends self-attention by allowing the model to jointly attend to information from different representation subspaces.\n",
            "\n",
            "Attention mechanisms have become a pillar in modern AI, enabling significant advancements in various applications.\n"
          ]
        }
      ],
      "source": [
        "print(values['messages'][-1].content)"
      ]
    },
    {
      "cell_type": "markdown",
      "metadata": {
        "id": "yVmZPs6lnpsM"
      },
      "source": [
        "### Task 4: LangGraph for the \"Patterns\" of GenAI\n",
        "\n",
        "Let's ask our system about the 4 patterns of Generative AI:\n",
        "\n",
        "1. Prompt Engineering\n",
        "2. RAG\n",
        "3. Fine-tuning\n",
        "4. Agents"
      ]
    },
    {
      "cell_type": "code",
      "execution_count": 38,
      "metadata": {
        "id": "ZoLl7GlXoae-"
      },
      "outputs": [],
      "source": [
        "patterns = [\"prompt engineering\", \"RAG\", \"fine-tuning\", \"LLM-based agents\"]"
      ]
    },
    {
      "cell_type": "markdown",
      "metadata": {},
      "source": [
        "#### MY ADDITIONAL MARKDOWN\n",
        "We pass in a list of topics and then call our chain with the list.  I added a print statement for the last content."
      ]
    },
    {
      "cell_type": "code",
      "execution_count": 39,
      "metadata": {
        "colab": {
          "base_uri": "https://localhost:8080/"
        },
        "id": "Zkh0YJuCp3Zl",
        "outputId": "0593c6f5-0a1d-41f6-960b-f32d101b3ade"
      },
      "outputs": [
        {
          "name": "stdout",
          "output_type": "stream",
          "text": [
            "Prompt engineering is a concept primarily associated with the field of artificial intelligence, particularly in the context of natural language processing (NLP) and large language models like GPT-3. It involves the design and crafting of prompts (input text) to elicit desired responses from AI models. The goal is to optimize the input to get the most accurate, relevant, or useful output from the model.\n",
            "\n",
            "### Key Aspects of Prompt Engineering:\n",
            "1. **Crafting Effective Prompts**: Designing prompts that are clear, specific, and structured in a way that guides the AI to produce the desired output.\n",
            "2. **Iterative Testing**: Continuously refining prompts based on the responses received to improve the quality and relevance of the output.\n",
            "3. **Understanding Model Behavior**: Gaining insights into how the model interprets different types of prompts and using this knowledge to influence the responses.\n",
            "\n",
            "### Emergence of Prompt Engineering:\n",
            "Prompt engineering became more prominent with the advent of large-scale language models like OpenAI's GPT-3, which was released in June 2020. The ability of these models to generate human-like text based on prompts led to a growing interest in how to effectively interact with them to achieve specific goals. The term \"prompt engineering\" itself started gaining traction around this time as researchers and practitioners began to explore and document best practices for interacting with these advanced AI systems.\n",
            "\n",
            "To get more detailed information on the history and development of prompt engineering, I can look up recent articles or papers on the topic. Would you like me to do that?\n",
            "\n",
            "\n",
            "\n",
            "### LoRA in Machine Learning\n",
            "Low-Rank Adaptation (LoRA) is a technique used in machine learning to efficiently fine-tune large pre-trained models, such as language models or vision transformers, for specific tasks. Instead of adjusting all the parameters of the model, LoRA modifies only a small, low-rank subset of the model's parameters. This approach significantly reduces the computational resources required for fine-tuning while maintaining the model's performance. LoRA is particularly useful for adapting large models to new tasks with smaller datasets.\n",
            "\n",
            "### Tim Dettmers\n",
            "Tim Dettmers is a researcher specializing in efficient deep learning, particularly at the intersection of machine learning, natural language processing (NLP), and computer systems. He is known for his work on quantization and the use of deep learning hardware accelerators. One of his notable contributions is QLoRA, a method that significantly reduces the GPU memory required to fine-tune large language models. Tim Dettmers is associated with the Allen School and has joined AI2 as an AI researcher.\n",
            "\n",
            "### Attention in Machine Learning\n",
            "Attention mechanisms are a fundamental concept in deep learning, particularly in natural language processing (NLP) and computer vision. Inspired by the human cognitive process of selective focus, attention mechanisms allow models to focus on relevant parts of the input data, improving performance in various tasks such as machine translation, image captioning, and speech recognition. \n",
            "\n",
            "#### Types of Attention Mechanisms:\n",
            "1. **Self-Attention (Scaled Dot-Product Attention)**: This mechanism allows a model to weigh the importance of different parts of the input data relative to each other. It is a core component of the Transformer architecture, which has revolutionized NLP tasks.\n",
            "2. **Cross-Attention**: Used in tasks where the model needs to align and focus on different sequences, such as in sequence-to-sequence models for translation.\n",
            "3. **Multi-Head Attention**: Extends self-attention by allowing the model to jointly attend to information from different representation subspaces.\n",
            "\n",
            "Attention mechanisms have become a pillar in modern AI, enabling significant advancements in various applications.\n",
            "Retrieval-Augmented Generation (RAG) was introduced as a method to enhance the capabilities of large language models (LLMs) by integrating retrieval-based methods with generative models. This approach allows LLMs to dynamically access and incorporate up-to-date external information, thereby improving the accuracy and relevance of generated text.\n",
            "\n",
            "The concept of RAG gained significant attention and started making waves in the field of Natural Language Processing (NLP) around 2020. The technique was particularly noted for its ability to mitigate issues such as hallucinations in LLMs and to enhance response quality by leveraging real-world data.\n",
            "\n",
            "For more detailed information, you can refer to the following papers:\n",
            "1. **\"A Survey on Retrieval-Augmented Text Generation for Large Language Models\"** by Yizheng Huang and Jimmy Huang, published on August 23, 2024.\n",
            "2. **\"Searching for Best Practices in Retrieval-Augmented Generation\"** by Xiaohua Wang et al., published on July 1, 2024.\n",
            "3. **\"FIT-RAG: Black-Box RAG with Factual Information and Token Reduction\"** by Yuren Mao et al., published on March 21, 2024.\n",
            "\n",
            "These papers provide comprehensive insights into the evolution, methodologies, and best practices of RAG, as well as its applications and challenges.\n",
            "\n",
            "\n",
            "\n",
            "### LoRA in Machine Learning\n",
            "Low-Rank Adaptation (LoRA) is a technique used in machine learning to efficiently fine-tune large pre-trained models, such as language models or vision transformers, for specific tasks. Instead of adjusting all the parameters of the model, LoRA modifies only a small, low-rank subset of the model's parameters. This approach significantly reduces the computational resources required for fine-tuning while maintaining the model's performance. LoRA is particularly useful for adapting large models to new tasks with smaller datasets.\n",
            "\n",
            "### Tim Dettmers\n",
            "Tim Dettmers is a researcher specializing in efficient deep learning, particularly at the intersection of machine learning, natural language processing (NLP), and computer systems. He is known for his work on quantization and the use of deep learning hardware accelerators. One of his notable contributions is QLoRA, a method that significantly reduces the GPU memory required to fine-tune large language models. Tim Dettmers is associated with the Allen School and has joined AI2 as an AI researcher.\n",
            "\n",
            "### Attention in Machine Learning\n",
            "Attention mechanisms are a fundamental concept in deep learning, particularly in natural language processing (NLP) and computer vision. Inspired by the human cognitive process of selective focus, attention mechanisms allow models to focus on relevant parts of the input data, improving performance in various tasks such as machine translation, image captioning, and speech recognition. \n",
            "\n",
            "#### Types of Attention Mechanisms:\n",
            "1. **Self-Attention (Scaled Dot-Product Attention)**: This mechanism allows a model to weigh the importance of different parts of the input data relative to each other. It is a core component of the Transformer architecture, which has revolutionized NLP tasks.\n",
            "2. **Cross-Attention**: Used in tasks where the model needs to align and focus on different sequences, such as in sequence-to-sequence models for translation.\n",
            "3. **Multi-Head Attention**: Extends self-attention by allowing the model to jointly attend to information from different representation subspaces.\n",
            "\n",
            "Attention mechanisms have become a pillar in modern AI, enabling significant advancements in various applications.\n",
            "Fine-tuning is a process in machine learning where a pre-trained model is further trained on a specific task or dataset to improve its performance on that task. This approach leverages the general knowledge the model has already acquired during its initial training on a large and diverse dataset, and then adapts it to the nuances of the specific task at hand. Fine-tuning is particularly useful in natural language processing (NLP) and computer vision, where large pre-trained models like BERT, GPT, and ResNet can be adapted to specific tasks such as sentiment analysis, text classification, or object detection.\n",
            "\n",
            "### Key Steps in Fine-Tuning:\n",
            "1. **Pre-training**: A model is initially trained on a large, general dataset.\n",
            "2. **Fine-tuning**: The pre-trained model is then trained on a smaller, task-specific dataset.\n",
            "\n",
            "### Benefits of Fine-Tuning:\n",
            "- **Efficiency**: Reduces the amount of data and computational resources needed.\n",
            "- **Performance**: Often leads to better performance on specific tasks compared to training a model from scratch.\n",
            "- **Transfer Learning**: Utilizes the knowledge gained from one task to improve performance on another.\n",
            "\n",
            "### Historical Context:\n",
            "Fine-tuning became particularly prominent with the advent of large pre-trained models in the late 2010s. Models like BERT (Bidirectional Encoder Representations from Transformers) and GPT (Generative Pre-trained Transformer) popularized the concept. BERT, introduced by Google in 2018, and GPT, introduced by OpenAI in 2018, demonstrated the effectiveness of fine-tuning in achieving state-of-the-art results on various NLP tasks.\n",
            "\n",
            "Would you like more detailed information or specific articles on fine-tuning?\n",
            "\n",
            "\n",
            "\n",
            "### LoRA in Machine Learning\n",
            "Low-Rank Adaptation (LoRA) is a technique used in machine learning to efficiently fine-tune large pre-trained models, such as language models or vision transformers, for specific tasks. Instead of adjusting all the parameters of the model, LoRA modifies only a small, low-rank subset of the model's parameters. This approach significantly reduces the computational resources required for fine-tuning while maintaining the model's performance. LoRA is particularly useful for adapting large models to new tasks with smaller datasets.\n",
            "\n",
            "### Tim Dettmers\n",
            "Tim Dettmers is a researcher specializing in efficient deep learning, particularly at the intersection of machine learning, natural language processing (NLP), and computer systems. He is known for his work on quantization and the use of deep learning hardware accelerators. One of his notable contributions is QLoRA, a method that significantly reduces the GPU memory required to fine-tune large language models. Tim Dettmers is associated with the Allen School and has joined AI2 as an AI researcher.\n",
            "\n",
            "### Attention in Machine Learning\n",
            "Attention mechanisms are a fundamental concept in deep learning, particularly in natural language processing (NLP) and computer vision. Inspired by the human cognitive process of selective focus, attention mechanisms allow models to focus on relevant parts of the input data, improving performance in various tasks such as machine translation, image captioning, and speech recognition. \n",
            "\n",
            "#### Types of Attention Mechanisms:\n",
            "1. **Self-Attention (Scaled Dot-Product Attention)**: This mechanism allows a model to weigh the importance of different parts of the input data relative to each other. It is a core component of the Transformer architecture, which has revolutionized NLP tasks.\n",
            "2. **Cross-Attention**: Used in tasks where the model needs to align and focus on different sequences, such as in sequence-to-sequence models for translation.\n",
            "3. **Multi-Head Attention**: Extends self-attention by allowing the model to jointly attend to information from different representation subspaces.\n",
            "\n",
            "Attention mechanisms have become a pillar in modern AI, enabling significant advancements in various applications.\n",
            "LLM-based agents, or Large Language Model-based agents, are systems that leverage large language models to perform a variety of tasks, often with a degree of autonomy. These agents can handle complex problem-solving processes, sometimes mirroring human-like reasoning and decision-making.\n",
            "\n",
            "### Developmental History\n",
            "- **Early Research and Development**: The concept of using large language models for automation and task completion has been a focal point of research in both academia and industry for several years. Initial efforts were primarily focused on improving the capabilities of language models in understanding and generating human-like text.\n",
            "- **Advancements in LLMs**: Significant advancements in large language models, such as OpenAI's GPT series, have propelled the development of LLM-based agents. These models have shown remarkable proficiency in natural language understanding and generation, making them suitable for a wide range of applications.\n",
            "- **Autonomous Agents**: More recently, researchers and industry practitioners have developed autonomous LLM agents capable of performing end-to-end tasks. These agents are equipped with the ability to use tools, synthesize code, repair programs, and generate tests, among other capabilities.\n",
            "\n",
            "### Key Milestones\n",
            "- **GPT-3 Release (2020)**: The release of GPT-3 by OpenAI marked a significant milestone in the development of LLMs. Its ability to generate coherent and contextually relevant text opened up new possibilities for autonomous agents.\n",
            "- **Integration with Tools**: The integration of LLMs with various tools and APIs has enabled the creation of more sophisticated agents that can perform complex tasks autonomously.\n",
            "- **Research Surge**: The success of LLMs in various benchmarks and tasks has led to a surge in research exploring their applications in software engineering, automation, and other fields.\n",
            "\n",
            "In summary, LLM-based agents have evolved from early research on language models to sophisticated systems capable of performing complex tasks autonomously. The release of powerful models like GPT-3 and their integration with various tools have been key drivers in this evolution.\n",
            "\n",
            "\n",
            "\n",
            "### LoRA in Machine Learning\n",
            "Low-Rank Adaptation (LoRA) is a technique used in machine learning to efficiently fine-tune large pre-trained models, such as language models or vision transformers, for specific tasks. Instead of adjusting all the parameters of the model, LoRA modifies only a small, low-rank subset of the model's parameters. This approach significantly reduces the computational resources required for fine-tuning while maintaining the model's performance. LoRA is particularly useful for adapting large models to new tasks with smaller datasets.\n",
            "\n",
            "### Tim Dettmers\n",
            "Tim Dettmers is a researcher specializing in efficient deep learning, particularly at the intersection of machine learning, natural language processing (NLP), and computer systems. He is known for his work on quantization and the use of deep learning hardware accelerators. One of his notable contributions is QLoRA, a method that significantly reduces the GPU memory required to fine-tune large language models. Tim Dettmers is associated with the Allen School and has joined AI2 as an AI researcher.\n",
            "\n",
            "### Attention in Machine Learning\n",
            "Attention mechanisms are a fundamental concept in deep learning, particularly in natural language processing (NLP) and computer vision. Inspired by the human cognitive process of selective focus, attention mechanisms allow models to focus on relevant parts of the input data, improving performance in various tasks such as machine translation, image captioning, and speech recognition. \n",
            "\n",
            "#### Types of Attention Mechanisms:\n",
            "1. **Self-Attention (Scaled Dot-Product Attention)**: This mechanism allows a model to weigh the importance of different parts of the input data relative to each other. It is a core component of the Transformer architecture, which has revolutionized NLP tasks.\n",
            "2. **Cross-Attention**: Used in tasks where the model needs to align and focus on different sequences, such as in sequence-to-sequence models for translation.\n",
            "3. **Multi-Head Attention**: Extends self-attention by allowing the model to jointly attend to information from different representation subspaces.\n",
            "\n",
            "Attention mechanisms have become a pillar in modern AI, enabling significant advancements in various applications.\n"
          ]
        }
      ],
      "source": [
        "for pattern in patterns:\n",
        "  what_is_string = f\"What is {pattern} and when did it break onto the scene??\"\n",
        "  inputs = {\"messages\" : [HumanMessage(content=what_is_string)]}\n",
        "  messages = agent_with_helpfulness_check.invoke(inputs)\n",
        "  print(messages[\"messages\"][-1].content)\n",
        "  print(\"\\n\\n\")\n",
        "  ## Make it readable!\n",
        "  print(values['messages'][-1].content)"
      ]
    }
  ],
  "metadata": {
    "colab": {
      "provenance": []
    },
    "kernelspec": {
      "display_name": "Python 3",
      "name": "python3"
    },
    "language_info": {
      "codemirror_mode": {
        "name": "ipython",
        "version": 3
      },
      "file_extension": ".py",
      "mimetype": "text/x-python",
      "name": "python",
      "nbconvert_exporter": "python",
      "pygments_lexer": "ipython3",
      "version": "3.11.9"
    }
  },
  "nbformat": 4,
  "nbformat_minor": 0
}

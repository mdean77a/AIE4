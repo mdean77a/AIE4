{
  "cells": [
    {
      "cell_type": "markdown",
      "metadata": {
        "id": "sCk2Rx4cjlYF"
      },
      "source": [
        "# Synthetic Data Generation Using RAGAS - RAG Evaluation with LangSmith\n",
        "\n",
        "In the following notebook we'll explore a use-case for RAGAS' synthetic testset generation workflow, inspired by the [Evol Instruct](https://arxiv.org/abs/2304.12244) paper.\n",
        "\n",
        "\n",
        "\n",
        "- 🤝 BREAKOUT ROOM #1\n",
        "  1. Use RAGAS to Generate Synthetic Data\n",
        "\n",
        "- 🤝 BREAKOUT ROOM #2\n",
        "  1. Load them into a LangSmith Dataset\n",
        "  2. Evaluate our RAG chain against the synthetic test data\n",
        "  3. Make changes to our pipeline\n",
        "  4. Evaluate the modified pipeline\n",
        "\n",
        "SDG is a critical piece of the puzzle, especially for early iteration! Without it, it would not be nearly as easy to get high quality early signal for our application's performance.\n",
        "\n",
        "Let's dive in!"
      ]
    },
    {
      "cell_type": "markdown",
      "metadata": {
        "id": "5bG2ta-B478G"
      },
      "source": [
        "# 🤝 BREAKOUT ROOM #1"
      ]
    },
    {
      "cell_type": "markdown",
      "metadata": {
        "id": "7VUI7vF_kbv9"
      },
      "source": [
        "## Task 1: Dependencies and API Keys\n",
        "\n",
        "We'll need to install a number of API keys and dependencies, since we'll be leveraging a number of great technologies for this pipeline!\n",
        "\n",
        "1. OpenAI's endpoints to handle the Synthetic Data Generation\n",
        "2. OpenAI's Endpoints for our RAG pipeline and LangSmith evaluation\n",
        "3. QDrant as our vectorstore\n",
        "4. LangSmith for our evaluation coordinator!\n",
        "\n",
        "Let's install and provide all the required information below!"
      ]
    },
    {
      "cell_type": "code",
      "execution_count": 2,
      "metadata": {
        "colab": {
          "base_uri": "https://localhost:8080/"
        },
        "id": "OEXfAKnNTAfl",
        "outputId": "bba74a6c-e4fb-4c63-c412-fb2f798cbc6c"
      },
      "outputs": [],
      "source": [
        "!pip install -qU langsmith langchain-core langchain-community langchain-openai langchain-qdrant"
      ]
    },
    {
      "cell_type": "code",
      "execution_count": 3,
      "metadata": {
        "colab": {
          "base_uri": "https://localhost:8080/"
        },
        "id": "rOe3py1ZVIHS",
        "outputId": "19f1841a-8c83-45d9-8ba8-61184507cb61"
      },
      "outputs": [],
      "source": [
        "!pip install -qU pymupdf ragas"
      ]
    },
    {
      "cell_type": "markdown",
      "metadata": {
        "id": "6vSRr2MXk0P_"
      },
      "source": [
        "We'll need to provide our LangSmith API key, and set tracing to \"true\"."
      ]
    },
    {
      "cell_type": "code",
      "execution_count": 4,
      "metadata": {
        "colab": {
          "base_uri": "https://localhost:8080/"
        },
        "id": "BEBDoTM4UPG7",
        "outputId": "6942a051-a15e-48f4-ddef-6d047fb352fe"
      },
      "outputs": [],
      "source": [
        "import os\n",
        "import getpass\n",
        "\n",
        "os.environ[\"LANGCHAIN_TRACING_V2\"] = \"true\"\n",
        "# os.environ[\"LANGCHAIN_API_KEY\"] = getpass.getpass(\"LangChain API Key:\")"
      ]
    },
    {
      "cell_type": "markdown",
      "metadata": {
        "id": "mYr-ZmMOk6ZP"
      },
      "source": [
        "We'll also want to set a project name to make things easier for ourselves."
      ]
    },
    {
      "cell_type": "code",
      "execution_count": null,
      "metadata": {},
      "outputs": [],
      "source": []
    },
    {
      "cell_type": "code",
      "execution_count": 5,
      "metadata": {
        "id": "7hZx_pKnZYt7"
      },
      "outputs": [],
      "source": [
        "from uuid import uuid4\n",
        "\n",
        "os.environ[\"LANGCHAIN_PROJECT\"] = f\"AIM - SDG MIKE DEAN - {uuid4().hex[0:8]}\""
      ]
    },
    {
      "cell_type": "markdown",
      "metadata": {
        "id": "9ixdGJFelARW"
      },
      "source": [
        "OpenAI's API Key!"
      ]
    },
    {
      "cell_type": "code",
      "execution_count": 6,
      "metadata": {
        "colab": {
          "base_uri": "https://localhost:8080/"
        },
        "id": "LoleVkxZUoo1",
        "outputId": "7bd79536-ebae-4ca0-9209-5762a55cfec7"
      },
      "outputs": [],
      "source": [
        "# os.environ[\"OPENAI_API_KEY\"] = getpass.getpass(\"OpenAI API Key:\")"
      ]
    },
    {
      "cell_type": "markdown",
      "metadata": {
        "id": "9XOut20Olcdq"
      },
      "source": [
        "## Task 2: Loading Source Documents\n",
        "\n",
        "In order to create a synthetic dataset, we must first load our source documents!"
      ]
    },
    {
      "cell_type": "code",
      "execution_count": 7,
      "metadata": {
        "id": "xn5E3vJ6VGYX"
      },
      "outputs": [],
      "source": [
        "from langchain_community.document_loaders import PyMuPDFLoader\n",
        "\n",
        "documents = PyMuPDFLoader(file_path=\"https://s2.q4cdn.com/470004039/files/doc_earnings/2024/q3/filing/_10-Q-Q3-2024-As-Filed.pdf\").load()"
      ]
    },
    {
      "cell_type": "markdown",
      "metadata": {
        "id": "2WM3b1Nelmx2"
      },
      "source": [
        "## Task 3: Generate Synthetic Data\n",
        "\n",
        "Let's first take a peek under the RAGAS hood to see what's happening when we generate a single example.\n",
        "\n",
        "For simplicities sake - we'll look at a flow that results in a reasoning question."
      ]
    },
    {
      "cell_type": "markdown",
      "metadata": {
        "id": "Tqr_gz6NCSdN"
      },
      "source": [
        "### Two LLMs To Rule Them All\n",
        "\n",
        "- `generator_llm` - will generate our seed questions and evolutions\n",
        "- `critic_llm` - will act as a critic to verify if the evolutions are as we expect them to be"
      ]
    },
    {
      "cell_type": "markdown",
      "metadata": {
        "id": "N4UnMhd06Dpz"
      },
      "source": [
        "### Entering the Generation\n",
        "\n",
        "We'll enter the generation process with our `generate_with_langchain_docs()` method - let's look at how that is implemented:\n",
        "\n",
        "```python\n",
        "def generate_with_langchain_docs(\n",
        "    self,\n",
        "    documents: t.Sequence[LCDocument],\n",
        "    test_size: int,\n",
        "    distributions: t.Optional[Distributions] = None,\n",
        "    with_debugging_logs=False,\n",
        "    is_async: bool = True,\n",
        "    raise_exceptions: bool = True,\n",
        "    run_config: t.Optional[RunConfig] = None,\n",
        "):\n",
        "    distributions = distributions or {}\n",
        "    # chunk documents and add to docstore\n",
        "    self.docstore.add_documents(\n",
        "        [Document.from_langchain_document(doc) for doc in documents]\n",
        "    )\n",
        "\n",
        "    return self.generate(\n",
        "        test_size=test_size,\n",
        "        distributions=distributions,\n",
        "        with_debugging_logs=with_debugging_logs,\n",
        "        is_async=is_async,\n",
        "        raise_exceptions=raise_exceptions,\n",
        "        run_config=run_config,\n",
        "    )\n",
        "```\n",
        "\n",
        "As you can see - before we do anything, our `doctore` is created using the provided `documents`.\n",
        "\n",
        "Then, we move on to `generate()`, let's see how that works next!"
      ]
    },
    {
      "cell_type": "markdown",
      "metadata": {
        "id": "oTi8XL2F7CRl"
      },
      "source": [
        "### Generating Examples!\n",
        "\n",
        "> NOTE: You can see the full implementation [here](https://github.com/explodinggradients/ragas/blob/fe379a1c97d18ce2c203d80432a3da6622337968/src/ragas/testset/generator.py#L234), we'll work through the pseudo-code.\n",
        "\n",
        "```python\n",
        "function generate(test_size, distributions, other_params...):\n",
        "    # Validate and set default values\n",
        "    if distributions not provided:\n",
        "        distributions = DEFAULT_DISTRIBUTION\n",
        "    \n",
        "    validate_distributions_sum_to_one(distributions)\n",
        "    \n",
        "    set_up_run_config()\n",
        "    initialize_docstore()\n",
        "    \n",
        "    # Initialize evolutions\n",
        "    for each evolution in distributions:\n",
        "        initialize_evolution(evolution)\n",
        "    \n",
        "    set_up_debugging_logs_if_needed()\n",
        "    \n",
        "    # Set up execution environment\n",
        "    executor = create_executor()\n",
        "    \n",
        "    # Get initial nodes\n",
        "    current_nodes = get_random_nodes_from_docstore(test_size)\n",
        "    \n",
        "    total_evolutions = 0\n",
        "    \n",
        "    # Distribute evolutions based on probabilities\n",
        "    for each evolution, probability in distributions:\n",
        "        num_samples = round(probability * test_size)\n",
        "        for i in random_sample(range(test_size), num_samples):\n",
        "            submit_task_to_executor(evolution.evolve, current_nodes[i])\n",
        "            total_evolutions += 1\n",
        "    \n",
        "    # Add filler evolutions if needed\n",
        "    while total_evolutions < test_size:\n",
        "        random_evolution = choose_random_evolution(distributions)\n",
        "        submit_task_to_executor(random_evolution.evolve, current_nodes[total_evolutions])\n",
        "        total_evolutions += 1\n",
        "    \n",
        "    # Get results\n",
        "    try:\n",
        "        test_data_rows = executor.get_results()\n",
        "        if test_data_rows is empty:\n",
        "            raise Exception(\"No results generated\")\n",
        "\n",
        "    return test_data_rows\n",
        "```\n",
        "\n",
        "In essence, we:\n",
        "\n",
        "1. Do some validation of inputs, and initialize our evolutions.\n",
        "2. Get some random nodes from our docstore.\n",
        "3. Evolve the current nodes based on the desired distribution.\n",
        "4. Fill with sampled evolutions if we're not at the desired number of rows."
      ]
    },
    {
      "cell_type": "markdown",
      "metadata": {
        "id": "SQ5AoZCo8UXC"
      },
      "source": [
        "### Peeking into the Complex Evolution Implementation for Reasoning Questions.\n",
        "\n",
        "> NOTE: You can see the full implementation [here](https://github.com/explodinggradients/ragas/blob/fe379a1c97d18ce2c203d80432a3da6622337968/src/ragas/testset/evolutions.py#L375). We'll work through the high-level implementation below.\n",
        "\n",
        "Let's look into how the \"Complex Evolution\" is implemented:\n",
        "\n",
        "1. First, we use [`_aevolve()`](https://github.com/explodinggradients/ragas/blob/fe379a1c97d18ce2c203d80432a3da6622337968/src/ragas/testset/evolutions.py#L289) to generate a \"Seed Question\".\n",
        "\n",
        "```python\n",
        "simple_question, current_nodes, _ = await self.se._aevolve(\n",
        "            current_tries, current_nodes\n",
        "        )\n",
        "```\n",
        "\n",
        "2. We use our provided `question_prompt` to generate a reasoning question.\n",
        "\n",
        "```python\n",
        "result = await self.generator_llm.generate(\n",
        "            prompt=question_prompt.format(\n",
        "                question=simple_question, context=merged_node.page_content\n",
        "            )\n",
        "        )\n",
        "```\n",
        "\n",
        "> PROMPT (implementation [here](https://github.com/explodinggradients/ragas/blob/fe379a1c97d18ce2c203d80432a3da6622337968/src/ragas/testset/prompts.py#L15)):\n",
        "\n",
        "```python\n",
        "instruction=\"\"\"Complicate the given question by rewriting question into a multi-hop reasoning question based on the provided context.\n",
        "    Answering the question should require the reader to make multiple logical connections or inferences using the information available in given context.\n",
        "    Rules to follow when rewriting question:\n",
        "    1. Ensure that the rewritten question can be answered entirely from the information present in the contexts.\n",
        "    2. Do not frame questions that contains more than 15 words. Use abbreviation wherever possible.\n",
        "    3. Make sure the question is clear and unambiguous.\n",
        "    4. phrases like 'based on the provided context','according to the context',etc are not allowed to appear in the question.\"\"\"\n",
        "```\n",
        "\n",
        "3. We verify the question is valid.\n",
        "\n",
        "```python\n",
        "is_valid_question, feedback = await self.question_filter.filter(\n",
        "            reasoning_question\n",
        "        )\n",
        "```\n",
        "\n",
        "> PROMPT (implementation [here](https://github.com/explodinggradients/ragas/blob/fe379a1c97d18ce2c203d80432a3da6622337968/src/ragas/testset/prompts.py#L390))\n",
        "\n",
        "```python\n",
        "instruction=\"\"\"\n",
        "Asses the given question for clarity and answerability given enough domain knowledge, consider the following criteria:\n",
        "1.Independence: Can the question be understood and answered without needing additional context or access to external references not provided within the question itself? Questions should be self-contained, meaning they do not rely on specific documents, tables, or prior knowledge not shared within the question.\n",
        "2.Clear Intent: Is it clear what type of answer or information the question seeks? The question should convey its purpose without ambiguity, allowing for a direct and relevant response.\n",
        "Based on these criteria, assign a verdict of \"1\" if a question is specific, independent, and has a clear intent, making it understandable and answerable based on the details provided. Assign \"0\" if it fails to meet one or more of these criteria due to vagueness, reliance on external references, or ambiguity in intent.\n",
        "Provide feedback and a verdict in JSON format, including suggestions for improvement if the question is deemed unclear. Highlight aspects of the question that contribute to its clarity or lack thereof, and offer advice on how it could be reframed or detailed for better understanding and answerability.\n",
        "\"\"\"\n",
        "```\n",
        "\n",
        "4. We [handle the question](https://github.com/explodinggradients/ragas/blob/fe379a1c97d18ce2c203d80432a3da6622337968/src/ragas/testset/evolutions.py#L401) if it's not valid, otherwise we compress the question:\n",
        "\n",
        "```python\n",
        "compressed_question = await self._transform_question(\n",
        "            prompt=self.compress_question_prompt, question=reasoning_question\n",
        "        )\n",
        "```\n",
        "\n",
        "> PROMPT (implementation [here](https://github.com/explodinggradients/ragas/blob/fe379a1c97d18ce2c203d80432a3da6622337968/src/ragas/testset/prompts.py#L100))\n",
        "\n",
        "```python\n",
        "instruction=\"\"\"Rewrite the following question to make it more indirect and shorter while retaining the essence of the original question.\n",
        "    The goal is to create a question that conveys the same meaning but in a less direct manner. The rewritten question should shorter so use abbreviation wherever possible.\"\"\"\n",
        "```\n",
        "\n",
        "5. Filter the newly compressed question based on a comparison to the original simple question.\n",
        "\n",
        "```python\n",
        "if await self.evolution_filter.filter(simple_question, compressed_question):\n",
        "            # retry\n",
        "            current_nodes = self.se._get_new_random_node()\n",
        "            logger.debug(\n",
        "                \"evolution_filter failed, retrying with %s\", len(current_nodes.nodes)\n",
        "            )\n",
        "            return await self.aretry_evolve(current_tries, current_nodes)\n",
        "```\n",
        "\n",
        "`filter` is implemented as follows, with our Critic LLM:\n",
        "\n",
        "```python\n",
        "    async def filter(self, simple_question: str, compressed_question: str) -> bool:\n",
        "        prompt = self.evolution_elimination_prompt.format(\n",
        "            question1=simple_question, question2=compressed_question\n",
        "        )\n",
        "        results = await self.llm.generate(prompt=prompt)\n",
        "        results = results.generations[0][0].text.strip()\n",
        "        results = await evolution_elimination_parser.aparse(results, prompt, self.llm)\n",
        "        results = results.dict() if results is not None else {}\n",
        "        logger.debug(\"evolution filter: %s\", results)\n",
        "        return results.get(\"verdict\") == 1\n",
        "```\n",
        "\n",
        "Let's zoom back out now!\n",
        "\n"
      ]
    },
    {
      "cell_type": "markdown",
      "metadata": {
        "id": "qe_5EcHZBG-A"
      },
      "source": [
        "### Generating Answers:\n",
        "\n",
        "For answer generation, we simply ask the LLM to answer the question we evolved using the context associated with our evolution - that's it!\n",
        "\n",
        "We will this:\n",
        "\n",
        "```python\n",
        "class AnswerFormat(BaseModel):\n",
        "    answer: str\n",
        "    verdict: int\n",
        "```\n",
        "\n",
        "Using [this prompt](https://github.com/explodinggradients/ragas/blob/fe379a1c97d18ce2c203d80432a3da6622337968/src/ragas/testset/prompts.py#L143):\n",
        "\n",
        "```python\n",
        "instruction=\"\"\"Answer the question using the information from the given context. Output verdict as '1' if answer is present '-1' if answer is not present in the context.\"\"\"\n",
        "```\n",
        "\n",
        "This uses our Generator LLM."
      ]
    },
    {
      "cell_type": "markdown",
      "metadata": {
        "id": "m6W8Q6yr5maq"
      },
      "source": [
        "Actually creating our Synthetic Dataset is as simple as running the following cell!"
      ]
    },
    {
      "cell_type": "code",
      "execution_count": 8,
      "metadata": {
        "id": "YxQrHsmvVU-9"
      },
      "outputs": [],
      "source": [
        "from ragas.testset.generator import TestsetGenerator\n",
        "from ragas.testset.evolutions import simple, reasoning, multi_context\n",
        "from langchain_openai import ChatOpenAI, OpenAIEmbeddings\n",
        "\n",
        "generator_llm = ChatOpenAI(model=\"gpt-4o-mini\")\n",
        "critic_llm = ChatOpenAI(model=\"gpt-4o\")\n",
        "embeddings = OpenAIEmbeddings()\n",
        "\n",
        "generator = TestsetGenerator.from_langchain(\n",
        "    generator_llm,\n",
        "    critic_llm,\n",
        "    embeddings\n",
        ")\n",
        "\n",
        "distributions = {\n",
        "    simple: 0.5,\n",
        "    multi_context: 0.4,\n",
        "    reasoning: 0.1\n",
        "}"
      ]
    },
    {
      "cell_type": "markdown",
      "metadata": {
        "id": "fyjm9-MU4bwj"
      },
      "source": [
        "#### ❓ Question #1:\n",
        "\n",
        "What do the distributions do *specifically*?\n",
        "\n",
        "> NOTE: More information is available [here](https://docs.ragas.io/en/latest/concepts/testset_generation.html#in-depth-evolution) on the evolution distributions.\n",
        "\n",
        "---\n",
        "\n",
        "### ANSWER #1:\n",
        "This is the relevant code snippet from the pseudocode earlier in the notebook:\n",
        "\n",
        "```python\n",
        "    # Distribute evolutions based on probabilities\n",
        "    for each evolution, probability in distributions:\n",
        "        num_samples = round(probability * test_size)\n",
        "        for i in random_sample(range(test_size), num_samples):\n",
        "            submit_task_to_executor(evolution.evolve, current_nodes[i])\n",
        "            total_evolutions += 1\n",
        "```\n",
        "Distributions is a dictionary with keys (simple, multi-context, reasoning) are associated with a target probability of being the type of question, in this instance the values are 50%, 40%, and 10%, respectively.  In the code, the number of samples is calculated as the fraction of the total test size (our desired number of questions), and then in the inner for loop, random_sample samples and then submits the evolution task to the executor (the tasks will be one of simple.evolve, multi-context.evolve, or reasoning.evolve).  The frequency of these submissions will roughly be the same as the values in the distribution object, 50% simple.evolve, 40% multi-context.evolve, and 10% reasoning.evolve.\n",
        "\n",
        "---"
      ]
    },
    {
      "cell_type": "markdown",
      "metadata": {
        "id": "QQC-gx9anDrV"
      },
      "source": [
        "Let's generate!\n",
        "\n",
        "> NOTE: This cell will take some time, and also make a lot of calls to OpenAI's endpoints! You may run into rate-limits during this cell!\n",
        "\n",
        "---\n",
        "\n"
      ]
    },
    {
      "cell_type": "code",
      "execution_count": 9,
      "metadata": {
        "colab": {
          "base_uri": "https://localhost:8080/",
          "height": 1000,
          "referenced_widgets": [
            "07ab3dc0790241bbb85a7f488a42ef8c",
            "7710c7377cbc4c30b55b28b4bc99e88f",
            "41bdd49fab5f4826959d0d50663ff539",
            "60168d85131d4afc99d55d61ab954ee6",
            "9edf898aeeab40dda9b9475395776521",
            "5c2fda99d4204d85b1bf7ad354fd58d4",
            "93cd4d35c5fd41f5904ca1d52d1f52a8",
            "6eb8b2e3262c45248708a2082c366f0a",
            "095f680d37a3430fb82d223615662db5",
            "3a8537e37fc14fd9b16ca0ceee4fede6",
            "1160a44dc18e47b0890f70c40eaa7eb0",
            "33f063017b7c4c7fa8cbafc89674350b",
            "6864c81e2bcf459bbaf5acbb36bdfcbe",
            "59d6e269eadf429a924f6f79bc8ba4ba",
            "ca791fc471e34b9da2f9070fc1053c0f",
            "8baf0ed3d0f743f294e07f2b5407e820",
            "10df31709059484c99f102453d780473",
            "2508d229935744cbb5fc340222e2d660",
            "890e0dd7fa524ceca1e805cb6253ee71",
            "61b52ff459214129b8f7e6d67b192b78",
            "23863bc37a8645029934b8c106622c51",
            "5ab5f08afa5841709aedb2f78a52a11c"
          ]
        },
        "id": "ak_MfUrSWHpZ",
        "outputId": "4306cc9a-e240-4674-a33f-0331f94f4916"
      },
      "outputs": [
        {
          "data": {
            "application/vnd.jupyter.widget-view+json": {
              "model_id": "f10e489b0b8548b597d6799cd3708bb8",
              "version_major": 2,
              "version_minor": 0
            },
            "text/plain": [
              "embedding nodes:   0%|          | 0/64 [00:00<?, ?it/s]"
            ]
          },
          "metadata": {},
          "output_type": "display_data"
        },
        {
          "name": "stderr",
          "output_type": "stream",
          "text": [
            "Filename and doc_id are the same for all nodes.\n"
          ]
        },
        {
          "data": {
            "application/vnd.jupyter.widget-view+json": {
              "model_id": "89cbddc50b874146b05da3350f0e27b0",
              "version_major": 2,
              "version_minor": 0
            },
            "text/plain": [
              "Generating:   0%|          | 0/20 [00:00<?, ?it/s]"
            ]
          },
          "metadata": {},
          "output_type": "display_data"
        },
        {
          "name": "stderr",
          "output_type": "stream",
          "text": [
            "[ragas.testset.filters.DEBUG] context scoring: {'clarity': 2, 'depth': 3, 'structure': 2, 'relevance': 3, 'score': 2.5}\n",
            "[ragas.testset.evolutions.DEBUG] keyphrases in merged node: ['European Commission State Aid Decision', 'Ireland tax aid', 'Commercial paper program', 'Share repurchase program', 'General Court of the Court of Justice']\n",
            "[ragas.testset.filters.DEBUG] context scoring: {'clarity': 2, 'depth': 3, 'structure': 3, 'relevance': 3, 'score': 2.75}\n",
            "[ragas.testset.evolutions.DEBUG] keyphrases in merged node: ['Apple Inc.', 'Condensed consolidated statements of cash flows', 'Operating activities', 'Investing activities', 'Financing activities']\n",
            "[ragas.testset.filters.DEBUG] context scoring: {'clarity': 2, 'depth': 3, 'structure': 2, 'relevance': 3, 'score': 2.5}\n",
            "[ragas.testset.evolutions.DEBUG] keyphrases in merged node: ['Digital Markets Act Investigations', 'U.S. Department of Justice lawsuit', 'Epic Games lawsuit', 'Antitrust laws', 'Compliance plan']\n",
            "[ragas.testset.filters.DEBUG] context scoring: {'clarity': 2, 'depth': 3, 'structure': 2, 'relevance': 3, 'score': 2.5}\n",
            "[ragas.testset.evolutions.DEBUG] keyphrases in merged node: ['Digital Markets Act Investigations', 'U.S. Department of Justice lawsuit', 'Epic Games lawsuit', 'Antitrust laws', 'Compliance plan']\n",
            "[ragas.testset.filters.DEBUG] context scoring: {'clarity': 3, 'depth': 3, 'structure': 3, 'relevance': 3, 'score': 3.0}\n",
            "[ragas.testset.evolutions.DEBUG] keyphrases in merged node: ['Timothy D. Cook', 'Quarterly report on Form 10-Q', 'Financial statements', 'Disclosure controls and procedures', 'Internal control over financial reporting']\n",
            "[ragas.testset.filters.DEBUG] context scoring: {'clarity': 3, 'depth': 2, 'structure': 3, 'relevance': 3, 'score': 2.75}\n",
            "[ragas.testset.evolutions.DEBUG] keyphrases in merged node: ['Timothy D. Cook', 'Luca Maestri', 'Sarbanes-Oxley Act of 2002', 'Quarterly Report of Apple Inc.', 'Securities Exchange Act of 1934']\n",
            "[ragas.testset.filters.DEBUG] context scoring: {'clarity': 2, 'depth': 3, 'structure': 3, 'relevance': 3, 'score': 2.75}\n",
            "[ragas.testset.evolutions.DEBUG] keyphrases in merged node: ['European Commission State Aid Decision', 'Ireland tax aid', 'Commercial paper program', 'Share repurchase program', 'General Court of the Court of Justice']\n",
            "[ragas.testset.filters.DEBUG] context scoring: {'clarity': 2, 'depth': 3, 'structure': 3, 'relevance': 3, 'score': 2.75}\n",
            "[ragas.testset.evolutions.DEBUG] keyphrases in merged node: ['Apple Inc.', 'Financial Statements', 'Net sales', 'Operating income', 'Net income']\n",
            "[ragas.testset.filters.DEBUG] context scoring: {'clarity': 2, 'depth': 3, 'structure': 3, 'relevance': 3, 'score': 2.75}\n",
            "[ragas.testset.evolutions.DEBUG] keyphrases in merged node: ['Unregistered Sales of Equity Securities', 'Share repurchase activity', 'Board of Directors authorization', 'Tim Cook trading plan', 'Rule 10b5-1']\n",
            "[ragas.testset.filters.DEBUG] context scoring: {'clarity': 2, 'depth': 2, 'structure': 2, 'relevance': 3, 'score': 2.25}\n",
            "[ragas.testset.evolutions.DEBUG] keyphrases in merged node: ['Risk Factors', \"Company's business\", 'Financial condition', 'Stock price', 'Second quarter 2024 Form 10-Q']\n",
            "[ragas.testset.filters.DEBUG] context scoring: {'clarity': 2, 'depth': 2, 'structure': 2, 'relevance': 3, 'score': 2.25}\n",
            "[ragas.testset.evolutions.DEBUG] keyphrases in merged node: ['Exhibits Incorporated by Reference', 'Rule 13a-14(a) Certification', 'Chief Executive Officer', 'Chief Financial Officer', 'Inline XBRL Document Set']\n",
            "[ragas.testset.filters.DEBUG] context scoring: {'clarity': 3, 'depth': 3, 'structure': 3, 'relevance': 3, 'score': 3.0}\n",
            "[ragas.testset.evolutions.DEBUG] keyphrases in merged node: ['Timothy D. Cook', 'Quarterly report on Form 10-Q', 'Financial statements', 'Disclosure controls and procedures', 'Internal control over financial reporting']\n",
            "[ragas.testset.filters.DEBUG] context scoring: {'clarity': 2, 'depth': 3, 'structure': 2, 'relevance': 3, 'score': 2.5}\n",
            "[ragas.testset.evolutions.DEBUG] keyphrases in merged node: ['Net sales by category', 'iPhone net sales', 'Mac net sales', 'iPad net sales', 'Services net sales']\n",
            "[ragas.testset.filters.DEBUG] context scoring: {'clarity': 2, 'depth': 3, 'structure': 3, 'relevance': 3, 'score': 2.75}\n",
            "[ragas.testset.evolutions.DEBUG] keyphrases in merged node: ['Apple Inc.', 'Condensed consolidated statements', 'Net income', 'Comprehensive income', 'Derivative instruments']\n",
            "[ragas.testset.filters.DEBUG] context scoring: {'clarity': 2, 'depth': 3, 'structure': 2, 'relevance': 3, 'score': 2.5}\n",
            "[ragas.testset.evolutions.DEBUG] keyphrases in merged node: ['Apple Inc.', 'Condensed consolidated statements', 'Net income', 'Comprehensive income', 'Derivative instruments']\n",
            "[ragas.testset.filters.DEBUG] context scoring: {'clarity': 1, 'depth': 3, 'structure': 2, 'relevance': 3, 'score': 2.25}\n",
            "[ragas.testset.evolutions.DEBUG] keyphrases in merged node: ['Marketable securities', 'Fair value', 'Non-current marketable debt securities', 'Derivative instruments', 'Interest rate risk']\n",
            "[ragas.testset.evolutions.INFO] seed question generated: \"What is Timothy D. Cook's role in the certification of Apple Inc.'s quarterly report?\"\n",
            "[ragas.testset.evolutions.INFO] seed question generated: \"What requirements of the Securities Exchange Act of 1934 does the Quarterly Report of Apple Inc. comply with?\"\n",
            "[ragas.testset.evolutions.INFO] seed question generated: \"What allegations are made against the Company in the U.S. Department of Justice lawsuit?\"\n",
            "[ragas.testset.evolutions.INFO] seed question generated: \"What is the purpose of the commercial paper program for the Company?\"\n",
            "[ragas.testset.evolutions.INFO] seed question generated: \"What allegations are being made against the Company regarding antitrust laws?\"\n",
            "[ragas.testset.evolutions.INFO] seed question generated: \"What certification is associated with the Chief Financial Officer in the context of the quarterly report?\"\n",
            "[ragas.testset.evolutions.INFO] seed question generated: \"What was the net income for Apple Inc. for the three months ended June 29, 2024?\"\n",
            "[ragas.testset.evolutions.INFO] seed question generated: \"What are the key details of Tim Cook's trading plan as mentioned in the context?\"\n",
            "[ragas.testset.evolutions.INFO] seed question generated: \"What were the cash flows generated by investing activities for Apple Inc. in the nine months ended June 29, 2024?\"\n",
            "[ragas.testset.evolutions.INFO] seed question generated: \"What is the total fair value of the Company's marketable securities as of September 30, 2023?\"\n",
            "[ragas.testset.evolutions.INFO] seed question generated: \"What factors can materially and adversely affect a company's stock price?\"\n",
            "[ragas.testset.evolutions.INFO] seed question generated: \"What was the net income for Apple Inc. for the three months ended June 29, 2024?\"\n",
            "[ragas.testset.evolutions.INFO] seed question generated: \"What was the net income for Apple Inc. for the three months ended June 29, 2024?\"\n",
            "[ragas.testset.evolutions.INFO] seed question generated: \"What was the trend in iPhone net sales during the third quarter and first nine months of 2024 compared to the same periods in 2023?\"\n",
            "[ragas.testset.evolutions.INFO] seed question generated: \"What was the outcome of the European Commission State Aid Decision regarding Ireland's tax opinions for the Company?\"\n",
            "[ragas.testset.evolutions.INFO] seed question generated: \"What is Timothy D. Cook's role in the certification of Apple Inc.'s quarterly report?\"\n",
            "[ragas.testset.filters.DEBUG] filtered question: {'feedback': 'The question asks about the allegations being made against a company regarding antitrust laws. It is clear in its intent, seeking specific information about the nature of the allegations. The question is independent and does not rely on external references or prior knowledge beyond a general understanding of antitrust laws. Therefore, it is understandable and answerable based on the details provided.', 'verdict': 1}\n",
            "[ragas.testset.filters.DEBUG] filtered question: {'feedback': 'The question asks for the specific allegations made against a company in a lawsuit filed by the U.S. Department of Justice. It is clear in its intent, seeking detailed information about the allegations. The question is independent and does not rely on external references or prior knowledge beyond the general understanding of what a lawsuit and allegations are. Therefore, it is understandable and answerable based on the details provided.', 'verdict': 1}\n",
            "[ragas.testset.evolutions.DEBUG] [MultiContextEvolution] simple question generated: \"What allegations are made against the Company in the U.S. Department of Justice lawsuit?\"\n",
            "[ragas.testset.filters.DEBUG] filtered question: {'feedback': \"The question asks about Timothy D. Cook's role in the certification of Apple Inc.'s quarterly report. It is specific, independent, and has a clear intent, making it understandable and answerable based on the details provided. The question does not rely on external references or additional context, and it clearly seeks information about a particular individual's role in a specific process.\", 'verdict': 1}\n",
            "[ragas.testset.filters.DEBUG] filtered question: {'feedback': \"The question is specific and clear, asking for the cash flows generated by investing activities for Apple Inc. during a specific period (the nine months ended June 29, 2024). It does not rely on external references or prior knowledge beyond the information provided in the question itself. The intent is clear, seeking a financial figure related to Apple's investing activities for the specified period.\", 'verdict': 1}\n",
            "[ragas.testset.evolutions.DEBUG] [ReasoningEvolution] simple question generated: \"What were the cash flows generated by investing activities for Apple Inc. in the nine months ended June 29, 2024?\"\n",
            "[ragas.testset.filters.DEBUG] filtered question: {'feedback': 'The question asks which requirements of the Securities Exchange Act of 1934 are met by the Quarterly Report of Apple Inc. It is specific in mentioning the act and the company, and it seeks information about compliance, which is clear in intent. The question is self-contained and does not rely on external references or unspecified contexts, making it understandable and answerable based on the details provided.', 'verdict': 1}\n",
            "[ragas.testset.filters.DEBUG] filtered question: {'feedback': 'The question asks about the certification associated with the Chief Financial Officer (CFO) in the context of the quarterly report. It is clear in specifying the role (CFO) and the context (quarterly report), making the intent straightforward. The question does not rely on external references or unspecified contexts, making it independent and self-contained. Therefore, it meets the criteria for clarity and answerability.', 'verdict': 1}\n",
            "[ragas.testset.filters.DEBUG] filtered question: {'feedback': \"The question asks for factors that can materially and adversely affect a company's stock price. It is clear in its intent, seeking specific information about the factors influencing stock prices negatively. The question is independent and does not rely on external references or additional context to be understood. Therefore, it meets the criteria for clarity and answerability.\", 'verdict': 1}\n",
            "[ragas.testset.filters.DEBUG] filtered question: {'feedback': 'The question is specific, independent, and has a clear intent. It asks for the net income of Apple Inc. for a specific period (the three months ended June 29, 2024), making it understandable and answerable based on the details provided. No additional context or external references are needed to comprehend or respond to the question.', 'verdict': 1}\n",
            "[ragas.testset.evolutions.DEBUG] [ReasoningEvolution] simple question generated: \"What was the net income for Apple Inc. for the three months ended June 29, 2024?\"\n",
            "[ragas.testset.filters.DEBUG] filtered question: {'feedback': 'The question asks for the net income of Apple Inc. for a specific period (the three months ended June 29, 2024). It is clear in its intent and does not rely on external references or unspecified contexts. The question is specific, independent, and has a clear intent, making it understandable and answerable based on the details provided.', 'verdict': 1}\n",
            "[ragas.testset.evolutions.DEBUG] [MultiContextEvolution] simple question generated: \"What was the net income for Apple Inc. for the three months ended June 29, 2024?\"\n",
            "[ragas.testset.filters.DEBUG] filtered question: {'feedback': \"The question asks for the outcome of the European Commission State Aid Decision regarding Ireland's tax opinions for a specific company. It is clear in specifying the decision of interest (European Commission State Aid Decision) and the context (Ireland's tax opinions for the company). However, it does not specify which company is being referred to, making it ambiguous. To improve clarity and answerability, the question should specify the name of the company in question.\", 'verdict': 0}\n",
            "[ragas.testset.evolutions.INFO] rewritten question: \"What was the outcome of the European Commission State Aid Decision regarding Ireland's tax opinions for the Company?\"\n",
            "[ragas.testset.filters.DEBUG] filtered question: {'feedback': \"The question asks for the total fair value of the Company's marketable securities as of a specific date, September 30, 2023. It is clear in its intent, specifying the exact information sought (total fair value) and the relevant date. However, it assumes access to the Company's financial data as of that date, which is not provided within the question itself. To improve independence and answerability, the question could include the necessary financial data or context, or be framed in a way that does not rely on external documents.\", 'verdict': 0}\n",
            "[ragas.testset.evolutions.INFO] rewritten question: \"What is the total fair value of the Company's marketable securities as of September 30, 2023?\"\n",
            "[ragas.testset.filters.DEBUG] filtered question: {'feedback': \"The question asks for Timothy D. Cook's role in the certification of Apple Inc.'s quarterly report. It is specific, independent, and has a clear intent, making it understandable and answerable based on the details provided. The question does not rely on external references or additional context, and it clearly seeks information about Timothy D. Cook's involvement in a specific process related to Apple Inc.'s quarterly report.\", 'verdict': 1}\n",
            "[ragas.testset.evolutions.DEBUG] [MultiContextEvolution] simple question generated: \"What is Timothy D. Cook's role in the certification of Apple Inc.'s quarterly report?\"\n",
            "[ragas.testset.evolutions.DEBUG] [MultiContextEvolution] multicontext question generated: \"What specific antitrust violations is the Company accused of in the DOJ lawsuit, and how do these relate to ongoing investigations under the EU Digital Markets Act?\"\n",
            "[ragas.testset.filters.DEBUG] filtered question: {'feedback': 'The question asks for a comparison of iPhone net sales trends during the third quarter and the first nine months of 2024 with the same periods in 2023. It is specific in terms of the product (iPhone), the time frames (third quarter and first nine months), and the comparison periods (2024 vs. 2023). The intent is clear, seeking information on sales trends. The question is self-contained and does not rely on external references or unspecified contexts, making it understandable and answerable based on the details provided.', 'verdict': 1}\n",
            "[ragas.testset.evolutions.DEBUG] [MultiContextEvolution] simple question generated: \"What was the trend in iPhone net sales during the third quarter and first nine months of 2024 compared to the same periods in 2023?\"\n",
            "[ragas.testset.evolutions.DEBUG] [MultiContextEvolution] multicontext question generated: \"What was the net income reported by Apple Inc. for the quarter ending June 29, 2024, and how does it compare to the previous year's corresponding quarter?\"\n",
            "[ragas.testset.filters.DEBUG] filtered question: {'feedback': 'The question is specific and clear, asking for the net income of Apple Inc. for a defined period (the three months ended June 29, 2024). It does not rely on external references or additional context beyond what is provided in the question itself. The intent is unambiguous, seeking a specific financial figure for a specific time frame.', 'verdict': 1}\n",
            "[ragas.testset.filters.DEBUG] filtered question: {'feedback': \"The question asks for the purpose of the commercial paper program for a specific company. It is clear in its intent, seeking information about the objectives or reasons behind the company's commercial paper program. The question is independent and does not rely on external references or unspecified contexts. However, it could be slightly improved by specifying which company it refers to, if that information is relevant. Overall, the question is understandable and answerable based on the details provided.\", 'verdict': 1}\n",
            "[ragas.testset.evolutions.DEBUG] answer generated: {'answer': 'The Quarterly Report of Apple Inc. complies with the requirements of Section 13(a) or 15(d) of the Securities Exchange Act of 1934.', 'verdict': 1}\n",
            "[ragas.testset.filters.DEBUG] filtered question: {'feedback': \"The question asks for key details of Tim Cook's trading plan as mentioned in 'the context', but it does not provide or describe this context within the query. This makes the question unclear and dependent on external information that is not included. To improve clarity and answerability, the question should either include the relevant context directly within the question or be framed in a way that does not require external information. For example, it could specify the source or document where Tim Cook's trading plan is detailed.\", 'verdict': 0}\n",
            "[ragas.testset.evolutions.INFO] rewritten question: \"What are the key details of Tim Cook's trading plan as mentioned in the context?\"\n",
            "[ragas.testset.evolutions.DEBUG] answer generated: {'answer': \"The context mentions that the Company's business, reputation, results of operations, financial condition, and stock price can be materially and adversely affected when any one or more of the risks materialize.\", 'verdict': 1}\n",
            "[ragas.testset.evolutions.DEBUG] [MultiContextEvolution] multicontext question generated: \"What dual responsibilities do Timothy D. Cook and Luca Maestri share in ensuring the integrity of Apple Inc.'s quarterly financial disclosures?\"\n",
            "[ragas.testset.filters.DEBUG] context scoring: {'clarity': 2, 'depth': 3, 'structure': 2, 'relevance': 3, 'score': 2.5}\n",
            "[ragas.testset.evolutions.DEBUG] keyphrases in merged node: ['Net sales by category', 'iPhone net sales', 'Mac net sales', 'iPad net sales', 'Services net sales', 'Net sales by reportable segment', 'Americas net sales', 'Europe net sales', 'Greater China net sales', 'Japan net sales']\n",
            "[ragas.testset.filters.DEBUG] filtered question: {'feedback': 'The question asks for the net income of Apple Inc. considering operating income and tax provision. It is clear in its intent, specifying the financial metrics of interest (operating income and tax provision) and the company (Apple Inc.). The question is independent and does not rely on external references or unspecified contexts, making it understandable and answerable based on the details provided.', 'verdict': 1}\n",
            "[ragas.testset.filters.DEBUG] filtered question: {'feedback': \"The question is clear and specific, asking for the net income reported by Apple Inc. for the quarter ending June 29, 2024, and a comparison to the previous year's corresponding quarter. It does not rely on external references or unspecified contexts, making it understandable and answerable based on the details provided.\", 'verdict': 1}\n",
            "[ragas.testset.evolutions.DEBUG] answer generated: {'answer': \"The allegations being made against the Company regarding antitrust laws include monopolization or attempted monopolization in the markets for 'performance smartphones' and 'smartphones' in violation of U.S. antitrust laws, as stated in the civil antitrust lawsuit filed by the U.S. Department of Justice. Additionally, Epic Games has alleged violations of federal and state antitrust laws and California's unfair competition law based on the Company's operation of its App Store.\", 'verdict': 1}\n",
            "[ragas.testset.evolutions.DEBUG] [MultiContextEvolution] multicontext question generated: \"What were the comparative changes in iPhone net sales for Q3 and the first nine months of 2024 versus 2023, and how did regional performance in segments like Greater China and Japan influence these trends?\"\n",
            "[ragas.testset.evolutions.DEBUG] answer generated: {'answer': 'The certification associated with the Chief Financial Officer in the context of the quarterly report is the Rule 13a-14(a) / 15d-14(a) Certification.', 'verdict': 1}\n",
            "[ragas.testset.filters.DEBUG] filtered question: {'feedback': \"The question asks for the total fair value of the Company's marketable securities as of a specific date, September 30, 2023. It is clear in its intent, specifying the exact information sought (total fair value) and the relevant date. However, it assumes access to the Company's financial data as of that date, which is not provided within the question itself. To improve independence and answerability, the question could include the necessary financial data or context, or be framed in a way that does not rely on external documents.\", 'verdict': 0}\n",
            "[ragas.testset.evolutions.INFO] retrying evolution: 1 times\n",
            "[ragas.testset.filters.DEBUG] filtered question: {'feedback': \"The question asks for specific information about Apple's cash flow from investing activities for June 2024. It is clear in its intent, specifying the type of cash flow (investing activities) and the time frame (June 2024). However, it assumes access to financial data for June 2024, which may not be readily available or provided within the question itself. To improve independence and answerability, the question could be reframed to either include the necessary financial data or ask for a general explanation of how investing activities typically contribute to a company's total cash flow.\", 'verdict': 0}\n",
            "[ragas.testset.evolutions.INFO] rewritten question: \"What cash flow from investing activities contributed to Apple's total cash flow for June 2024?\"\n",
            "[ragas.testset.evolutions.DEBUG] answer generated: {'answer': \"Timothy D. Cook's role in the certification of Apple Inc.'s quarterly report is the Chief Executive Officer, as he certifies the report and is responsible for establishing and maintaining disclosure controls and procedures and internal control over financial reporting.\", 'verdict': 1}\n",
            "[ragas.testset.filters.DEBUG] context scoring: {'clarity': 2, 'depth': 3, 'structure': 2, 'relevance': 3, 'score': 2.5}\n",
            "[ragas.testset.evolutions.DEBUG] keyphrases in merged node: ['Net sales by category', 'iPhone net sales', 'Mac net sales', 'iPad net sales', 'Services net sales']\n",
            "[ragas.testset.filters.DEBUG] filtered question: {'feedback': 'The question asks for specific antitrust violations the Company is accused of in the DOJ lawsuit and how these relate to ongoing investigations under the EU Digital Markets Act. It is clear in its intent, specifying the type of information sought (antitrust violations) and the context (DOJ lawsuit and EU Digital Markets Act investigations). The question is independent and does not rely on external references not provided within the question itself. Therefore, it meets the criteria for clarity and answerability.', 'verdict': 1}\n",
            "[ragas.testset.evolutions.INFO] seed question generated: \"What were the changes in net sales by reportable segment for the three months ended June 29, 2024, compared to the same period in 2023?\"\n",
            "[ragas.testset.evolutions.DEBUG] [ReasoningEvolution] question compressed: \"What is the net income for Apple Inc. if operating income and tax provision are considered?\"\n",
            "[ragas.testset.evolutions.DEBUG] [MultiContextEvolution] multicontext question compressed: \"What's Apple's net income for Q2 2024 vs. last year?\"\n",
            "[ragas.testset.filters.DEBUG] filtered question: {'feedback': \"The question asks for the outcome of the European Commission State Aid Decision regarding Ireland's tax opinions for a specific company. It is clear in specifying the decision and the context (European Commission State Aid Decision, Ireland's tax opinions), and it seeks a specific outcome. However, the question does not specify which company it refers to, making it ambiguous. To improve clarity and answerability, the question should specify the name of the company in question.\", 'verdict': 0}\n",
            "[ragas.testset.evolutions.INFO] retrying evolution: 1 times\n",
            "[ragas.testset.evolutions.DEBUG] answer generated: {'answer': 'The purpose of the commercial paper program for the Company is to issue unsecured short-term promissory notes and use the net proceeds for general corporate purposes, including dividends and share repurchases.', 'verdict': 1}\n",
            "[ragas.testset.filters.DEBUG] context scoring: {'clarity': 2, 'depth': 3, 'structure': 3, 'relevance': 3, 'score': 2.75}\n",
            "[ragas.testset.evolutions.DEBUG] keyphrases in merged node: ['European Commission State Aid Decision', 'Ireland tax aid', 'Commercial paper program', 'Share repurchase program', 'General Court of the Court of Justice']\n",
            "[ragas.testset.filters.DEBUG] context scoring: {'clarity': 2, 'depth': 3, 'structure': 2, 'relevance': 3, 'score': 2.5}\n",
            "[ragas.testset.evolutions.DEBUG] keyphrases in merged node: ['Gross margin', 'Products and Services', 'Operating expenses', 'Research and development', 'Gross margin percentage']\n",
            "[ragas.testset.evolutions.DEBUG] answer generated: {'answer': '$21,448 million', 'verdict': 1}\n",
            "[ragas.testset.filters.DEBUG] context scoring: {'clarity': 2, 'depth': 3, 'structure': 3, 'relevance': 3, 'score': 2.75}\n",
            "[ragas.testset.evolutions.DEBUG] keyphrases in merged node: ['Apple Inc.', 'Financial Statements', 'Net sales', 'Operating income', 'Net income']\n",
            "[ragas.testset.evolutions.DEBUG] [MultiContextEvolution] multicontext question compressed: \"What antitrust issues does the Company face in the DOJ suit, and how do they connect to EU Digital Markets Act probes?\"\n",
            "[ragas.testset.evolutions.INFO] seed question generated: \"What were the changes in net sales by category for Apple Inc. during the three and nine months ended June 29, 2024, compared to the same periods in 2023?\"\n",
            "[ragas.testset.filters.DEBUG] context scoring: {'clarity': 2, 'depth': 3, 'structure': 3, 'relevance': 3, 'score': 2.75}\n",
            "[ragas.testset.evolutions.DEBUG] keyphrases in merged node: ['Segment Reporting', 'ASU 2023-07', 'Chief Operating Decision Maker (CODM)', 'Critical Accounting Estimates', 'Market Risk Disclosures']\n",
            "[ragas.testset.evolutions.INFO] seed question generated: \"What were the total net sales for Apple Inc. for the three months ended June 29, 2024?\"\n",
            "[ragas.testset.evolutions.INFO] seed question generated: \"What was the outcome of the European Commission's State Aid Decision regarding Ireland's tax aid to the Company?\"\n",
            "[ragas.testset.filters.DEBUG] filtered question: {'feedback': \"The question asks for key details of Tim Cook's trading plan as mentioned in 'the context', but it does not provide or describe this context within the query. This makes the question unclear for those who do not have access to the unspecified context. For the question to be clear and answerable, it needs to either include the relevant context directly within the question or be framed in a way that does not require external information. Providing specific aspects of the trading plan of interest (e.g., objectives, strategies, timelines) could also help clarify the query.\", 'verdict': 0}\n",
            "[ragas.testset.evolutions.INFO] retrying evolution: 1 times\n",
            "[ragas.testset.filters.DEBUG] evolution filter: {'reason': 'The first question asks for the net income for a specific period (three months ended June 29, 2024), while the second question asks for a comparison of net income for Q2 2024 versus the previous year. The second question requires additional comparative analysis, leading to different depths of inquiry.', 'verdict': 0}\n",
            "[ragas.testset.evolutions.INFO] seed question generated: \"What was the gross margin percentage for products and services for the three months ended June 29, 2024, compared to the same period in 2023?\"\n",
            "[ragas.testset.filters.DEBUG] evolution filter: {'reason': \"The first question specifically asks for Apple's net income for a defined period (three months ended June 29, 2024), while the second question is more general and asks for net income considering operating income and tax without specifying a time frame. Thus, they do not have the same constraints and requirements.\", 'verdict': 0}\n",
            "[ragas.testset.evolutions.INFO] seed question generated: \"What are the main requirements introduced by ASU 2023-07 regarding segment reporting?\"\n",
            "[ragas.testset.filters.DEBUG] filtered question: {'feedback': \"The question asks for specific information about Apple's cash flow from investing activities for June 2024, contributing to the total cash flow. It is clear in its intent and specifies the company (Apple), the type of cash flow (investing activities), and the time frame (June 2024). The question is self-contained and does not rely on external references or prior knowledge beyond what is provided in the question itself.\", 'verdict': 1}\n",
            "[ragas.testset.filters.DEBUG] filtered question: {'feedback': 'The question is specific and clear, asking for changes in net sales by reportable segment for a defined period (three months ended June 29, 2024) compared to the same period in 2023. It does not rely on external references or unspecified contexts, making it understandable and answerable based on the details provided.', 'verdict': 1}\n",
            "[ragas.testset.filters.DEBUG] evolution filter: {'reason': 'The first question focuses solely on the allegations made against the Company in the DOJ lawsuit, while the second question not only addresses antitrust issues in the DOJ suit but also seeks to connect them to EU Digital Markets Act probes, indicating a broader scope and deeper inquiry.', 'verdict': 0}\n",
            "[ragas.testset.evolutions.DEBUG] [ReasoningEvolution] question compressed: \"What cash flow from investing activities contributed to Apple's total cash flow for June 2024?\"\n",
            "[ragas.testset.filters.DEBUG] context scoring: {'clarity': 1, 'depth': 3, 'structure': 2, 'relevance': 3, 'score': 2.25}\n",
            "[ragas.testset.evolutions.DEBUG] keyphrases in merged node: ['Marketable securities', 'Fair value', 'Non-current marketable debt securities', 'Derivative instruments', 'Interest rate risk']\n",
            "[ragas.testset.filters.DEBUG] filtered question: {'feedback': 'The question asks for comparative changes in iPhone net sales for Q3 and the first nine months of 2024 versus 2023, and how regional performance in segments like Greater China and Japan influenced these trends. It is clear in specifying the time frames (Q3 and the first nine months of 2024 versus 2023) and the regions of interest (Greater China and Japan). However, it assumes access to specific sales data for these periods and regions, which may not be readily available to all respondents. To improve clarity and answerability, the question could include a brief summary of the sales data or trends observed, or alternatively, frame the question in a way that does not rely on specific, unpublished data.', 'verdict': 0}\n",
            "[ragas.testset.evolutions.INFO] rewritten question: \"What were the comparative changes in iPhone net sales for Q3 and the first nine months of 2024 versus 2023, and how did regional performance in segments like Greater China and Japan influence these trends?\"\n",
            "[ragas.testset.evolutions.INFO] seed question generated: \"What is the total fair value of the Company's marketable securities as of September 30, 2023?\"\n",
            "[ragas.testset.filters.DEBUG] filtered question: {'feedback': \"The question asks for the outcome of the European Commission's State Aid Decision regarding Ireland's tax aid to a specific company. It is clear in its intent, specifying the decision and the context (Ireland's tax aid). However, it does not specify which company is being referred to, which could lead to ambiguity. To improve clarity and answerability, the question should specify the company in question.\", 'verdict': 0}\n",
            "[ragas.testset.evolutions.INFO] rewritten question: \"What was the outcome of the European Commission's State Aid Decision regarding Ireland's tax aid to the Company?\"\n",
            "[ragas.testset.filters.DEBUG] filtered question: {'feedback': 'The question asks for the total net sales of Apple Inc. for a specific period (the three months ended June 29, 2024). It is clear in its intent and does not rely on external references or unspecified contexts. The question is specific, independent, and has a clear intent, making it understandable and answerable based on the details provided.', 'verdict': 1}\n",
            "[ragas.testset.evolutions.DEBUG] [MultiContextEvolution] simple question generated: \"What were the total net sales for Apple Inc. for the three months ended June 29, 2024?\"\n",
            "[ragas.testset.filters.DEBUG] evolution filter: {'reason': 'The first question asks for a detailed report of all cash flows generated by investing activities for Apple Inc. over a specific period, while the second question focuses on identifying a specific cash flow that boosted the total. The depth and breadth of the inquiries differ.', 'verdict': 0}\n",
            "[ragas.testset.evolutions.DEBUG] answer generated: {'answer': \"The context does not provide information about Apple's net income for Q2 2024 or the comparison to the previous year.\", 'verdict': -1}\n",
            "[ragas.testset.filters.DEBUG] filtered question: {'feedback': 'The question asks for specific information about the changes in net sales by category for Apple Inc. during the three and nine months ended June 29, 2024, compared to the same periods in 2023. It is clear in specifying the company (Apple Inc.), the time periods of interest (three and nine months ended June 29, 2024, compared to the same periods in 2023), and the type of data sought (changes in net sales by category). This makes the question specific, independent, and with a clear intent, making it understandable and answerable based on the details provided.', 'verdict': 1}\n",
            "[ragas.testset.evolutions.DEBUG] [MultiContextEvolution] simple question generated: \"What were the changes in net sales by category for Apple Inc. during the three and nine months ended June 29, 2024, compared to the same periods in 2023?\"\n",
            "[ragas.testset.filters.DEBUG] filtered question: {'feedback': 'The question asks for the main requirements introduced by ASU 2023-07 regarding segment reporting. It is specific, independent, and has a clear intent, making it understandable and answerable based on the details provided. The question does not rely on external references or prior knowledge beyond the standard itself, which is clearly identified.', 'verdict': 1}\n",
            "[ragas.testset.evolutions.DEBUG] [MultiContextEvolution] simple question generated: \"What are the main requirements introduced by ASU 2023-07 regarding segment reporting?\"\n",
            "[ragas.testset.evolutions.DEBUG] [MultiContextEvolution] multicontext question generated: \"What was the total net sales figure for Apple Inc. during the three-month period concluding on June 29, 2024, and how does this relate to the revenue recognition policies outlined in their financial statements?\"\n",
            "[ragas.testset.evolutions.DEBUG] answer generated: {'answer': \"Apple's net income, considering operating income and tax, is $21,448 million for the three months ended June 29, 2024, and $79,000 million for the nine months ended June 29, 2024.\", 'verdict': 1}\n",
            "[ragas.testset.evolutions.DEBUG] [MultiContextEvolution] multicontext question generated: \"What were the variations in net sales across product categories and geographical segments for Apple Inc. during the three and nine months ending June 29, 2024, in comparison to the same periods in 2023?\"\n",
            "[ragas.testset.evolutions.DEBUG] answer generated: {'answer': 'The answer to given question is not present in context', 'verdict': -1}\n",
            "[ragas.testset.filters.DEBUG] filtered question: {'feedback': 'The question asks for the gross margin percentage for products and services for the three months ended June 29, 2024, compared to the same period in 2023. It is specific in terms of the financial metric (gross margin percentage), the time frame (three months ended June 29, 2024, and the same period in 2023), and the categories (products and services). The intent is clear, seeking a comparative analysis of gross margin percentages between two periods. However, it assumes access to specific financial data for these periods, which is not provided within the question. To improve independence, the question could include the relevant financial data or be framed in a way that does not require access to external documents.', 'verdict': 0}\n",
            "[ragas.testset.evolutions.INFO] rewritten question: \"What was the gross margin percentage for products and services for the three months ended June 29, 2024, compared to the same period in 2023?\"\n",
            "[ragas.testset.evolutions.DEBUG] answer generated: {'answer': 'The changes in net sales by reportable segment for the three months ended June 29, 2024, compared to the same period in 2023 are as follows: Americas net sales increased by 6% due primarily to higher net sales of Services and iPad. Europe net sales increased by 8% due primarily to higher net sales of Services and iPad. Greater China net sales decreased by 7% due primarily to lower net sales of iPhone. Japan net sales increased by 6% due primarily to higher net sales of iPhone and iPad. Rest of Asia Pacific net sales increased by 13% due primarily to higher net sales of Services, iPhone, and iPad.', 'verdict': 1}\n",
            "[ragas.testset.filters.DEBUG] filtered question: {'feedback': \"The question asks for the outcome of the European Commission's State Aid Decision regarding Ireland's tax aid to a specific company. It is clear in specifying the topic of interest (European Commission's State Aid Decision, Ireland's tax aid) and seeks detailed information on the outcome. However, the question does not specify which company is being referred to, making it ambiguous. To improve clarity and answerability, the question should specify the company in question.\", 'verdict': 0}\n",
            "[ragas.testset.evolutions.INFO] retrying evolution: 1 times\n",
            "[ragas.testset.evolutions.DEBUG] [MultiContextEvolution] multicontext question generated: \"What key disclosures regarding segment expenses and the role of the CODM are mandated by ASU 2023-07, and how might these relate to the company's financial condition and market risks as discussed in the latest Form 10-Q?\"\n",
            "[ragas.testset.filters.DEBUG] filtered question: {'feedback': \"The question asks about the dual responsibilities of Timothy D. Cook and Luca Maestri in ensuring the integrity of Apple Inc.'s quarterly financial disclosures. It is specific in identifying the individuals (Timothy D. Cook and Luca Maestri) and the context (Apple Inc.'s quarterly financial disclosures). The intent is clear, seeking information on their shared responsibilities. The question is self-contained and does not rely on external references or prior knowledge not included within the question itself.\", 'verdict': 1}\n",
            "[ragas.testset.filters.DEBUG] filtered question: {'feedback': \"The question asks for the total fair value of the Company's marketable securities as of a specific date, September 30, 2023. It is clear in its intent, specifying the exact information sought (total fair value) and the relevant date. However, it assumes access to the Company's financial data as of that date, which is not provided within the question itself. To improve independence and answerability, the question could include the necessary financial data or context, or be framed in a way that does not rely on external documents.\", 'verdict': 0}\n",
            "[ragas.testset.evolutions.INFO] rewritten question: \"What is the total fair value of the Company's marketable securities as of September 30, 2023?\"\n",
            "[ragas.testset.evolutions.DEBUG] [MultiContextEvolution] multicontext question compressed: \"What dual roles do Cook and Maestri play in Apple's financial disclosures?\"\n",
            "[ragas.testset.filters.DEBUG] context scoring: {'clarity': 2, 'depth': 3, 'structure': 2, 'relevance': 3, 'score': 2.5}\n",
            "[ragas.testset.evolutions.DEBUG] keyphrases in merged node: ['Apple Inc.', 'Condensed consolidated balance sheets', 'Total assets', 'Total liabilities', \"Shareholders' equity\"]\n",
            "[ragas.testset.filters.DEBUG] filtered question: {'feedback': 'The question asks for a comparison of iPhone net sales for Q3 and the first nine months of 2024 versus 2023, and how regional performance in segments like Greater China and Japan influenced these trends. It is clear in specifying the time frames (Q3 and the first nine months of 2024 versus 2023) and the regions of interest (Greater China and Japan). The intent is to understand both the comparative sales data and the regional influences on these trends. However, the question assumes access to specific sales data for these periods and regions, which may not be readily available to all respondents. To improve clarity and answerability, the question could specify whether it seeks a general analysis based on known trends or specific numerical data, and it could provide any necessary context or data points if available.', 'verdict': 1}\n",
            "[ragas.testset.filters.DEBUG] filtered question: {'feedback': 'The question is specific and clear in its intent, asking for variations in net sales across product categories and geographical segments for Apple Inc. during specified periods in 2024 compared to 2023. It does not rely on external references or unspecified contexts, making it self-contained and understandable. The time frames and comparison criteria are well-defined, allowing for a direct and relevant response.', 'verdict': 1}\n",
            "[ragas.testset.evolutions.INFO] seed question generated: \"What were the total assets of Apple Inc. as of June 29, 2024?\"\n",
            "[ragas.testset.evolutions.DEBUG] answer generated: {'answer': \"The Company faces antitrust issues in the DOJ suit alleging monopolization or attempted monopolization in the markets for 'performance smartphones' and 'smartphones' in violation of U.S. antitrust laws. This connects to the EU Digital Markets Act probes as the Commission has opened investigations against the Company under the DMA, concerning its App Store rules and contractual requirements for third-party app developers, which may also indicate anticompetitive behavior similar to that alleged in the DOJ lawsuit.\", 'verdict': 1}\n",
            "[ragas.testset.filters.DEBUG] evolution filter: {'reason': \"The first question specifically asks about Timothy D. Cook's role in the certification of Apple's quarterly report, while the second question asks about the dual roles of both Cook and Maestri in Apple's financial disclosures. The second question has a broader scope and requires information about two individuals and their roles, leading to different depths and breadths of inquiry.\", 'verdict': 0}\n",
            "[ragas.testset.evolutions.DEBUG] [MultiContextEvolution] multicontext question compressed: \"How did iPhone net sales change in Q3 and the first nine months of 2024 vs. 2023, and what role did regions like Greater China and Japan play?\"\n",
            "[ragas.testset.filters.DEBUG] filtered question: {'feedback': \"The question asks for the total net sales figure for Apple Inc. during a specific three-month period and seeks to understand how this figure relates to the company's revenue recognition policies as outlined in their financial statements. The question is clear in its intent and specifies the time frame and the type of information required. However, it assumes access to Apple's financial statements and their revenue recognition policies, which are not provided within the question. To improve independence and answerability, the question could include a brief summary of the relevant revenue recognition policies or specify where this information can be found.\", 'verdict': 0}\n",
            "[ragas.testset.evolutions.INFO] rewritten question: \"What was the total net sales figure for Apple Inc. during the three-month period concluding on June 29, 2024, and how does this relate to the revenue recognition policies outlined in their financial statements?\"\n",
            "[ragas.testset.evolutions.DEBUG] [MultiContextEvolution] multicontext question compressed: \"How did Apple’s net sales vary by product and region for the three and nine months ending June 29, 2024, vs. 2023?\"\n",
            "[ragas.testset.filters.DEBUG] filtered question: {'feedback': 'The question asks for the gross margin percentage for products and services for the three months ended June 29, 2024, compared to the same period in 2023. It is specific in terms of the financial metric (gross margin percentage), the time frame (three months ended June 29, 2024, and the same period in 2023), and the categories (products and services). The intent is clear, seeking a comparative analysis of gross margin percentages over the specified periods. The question is self-contained and does not rely on external references or unspecified contexts, making it understandable and answerable based on the details provided.', 'verdict': 1}\n",
            "[ragas.testset.evolutions.DEBUG] [MultiContextEvolution] simple question generated: \"What was the gross margin percentage for products and services for the three months ended June 29, 2024, compared to the same period in 2023?\"\n",
            "[ragas.testset.filters.DEBUG] filtered question: {'feedback': \"The question asks for the total fair value of the Company's marketable securities as of a specific date, September 30, 2023. It is clear in its intent, specifying the exact information sought (total fair value) and the relevant date. However, it assumes access to the Company's financial data as of that date, which is not provided within the question itself. To be fully self-contained and answerable, the question should either include the necessary financial data or be framed in a way that does not rely on external documents.\", 'verdict': 0}\n",
            "[ragas.testset.evolutions.INFO] retrying evolution: 2 times\n",
            "[ragas.testset.filters.DEBUG] filtered question: {'feedback': \"The question asks for key disclosures regarding segment expenses and the role of the CODM (Chief Operating Decision Maker) as mandated by ASU 2023-07, and how these relate to the company's financial condition and market risks as discussed in the latest Form 10-Q. While the question is specific in terms of the standards and roles it refers to, it assumes access to the latest Form 10-Q without providing its content or context. This makes the question unclear for those without direct access to the document. To improve clarity and answerability, the question could include a brief description of the relevant financial condition and market risks discussed in the Form 10-Q, or alternatively, frame the question in a way that does not rely on specific, unpublished documents.\", 'verdict': 0}\n",
            "[ragas.testset.evolutions.INFO] rewritten question: \"What key disclosures regarding segment expenses and the role of the CODM are mandated by ASU 2023-07, and how might these relate to the company's financial condition and market risks as discussed in the latest Form 10-Q?\"\n",
            "[ragas.testset.filters.DEBUG] filtered question: {'feedback': 'The question asks for the total assets of Apple Inc. as of June 29, 2024. It is specific, independent, and has a clear intent, making it understandable and answerable based on the details provided. The question does not rely on external references or additional context, and it clearly seeks a specific financial figure for a given date.', 'verdict': 1}\n",
            "[ragas.testset.filters.DEBUG] evolution filter: {'reason': 'While both questions inquire about the trend in iPhone net sales during specific periods in 2024 compared to 2023, the second question adds an additional requirement to analyze the role of specific regions like Greater China and Japan, leading to a broader depth of inquiry.', 'verdict': 0}\n",
            "[ragas.testset.filters.DEBUG] evolution filter: {'reason': \"While both questions ask about changes in Apple Inc.'s net sales over the same periods, the first question focuses on changes by category, whereas the second question asks about variations by product and region, leading to different depths and breadths of inquiry.\", 'verdict': 0}\n",
            "[ragas.testset.filters.DEBUG] context scoring: {'clarity': 2, 'depth': 3, 'structure': 3, 'relevance': 3, 'score': 2.75}\n",
            "[ragas.testset.evolutions.DEBUG] keyphrases in merged node: ['Apple Inc.', 'Condensed consolidated statements', 'Net income', 'Comprehensive income', 'Derivative instruments']\n",
            "[ragas.testset.evolutions.DEBUG] [MultiContextEvolution] multicontext question generated: \"What were the gross margin percentages for products and services during the three months ending June 29, 2024, and how do they compare to the same metrics from the previous year, particularly in light of the net sales changes across different product categories?\"\n",
            "[ragas.testset.evolutions.INFO] seed question generated: \"What were the total comprehensive income figures for Apple Inc. for the three months and nine months ended June 29, 2024?\"\n",
            "[ragas.testset.filters.DEBUG] filtered question: {'feedback': \"The question asks for the total net sales figure for Apple Inc. during a specific three-month period and seeks to understand how this figure relates to the company's revenue recognition policies as outlined in their financial statements. The question is clear in its intent and specifies the time frame and the type of information required. However, it assumes access to Apple's financial statements and the specific revenue recognition policies, which are not provided within the question itself. To improve independence and answerability, the question could include a brief summary of the relevant revenue recognition policies or specify where this information can be found.\", 'verdict': 0}\n",
            "[ragas.testset.evolutions.INFO] retrying evolution: 1 times\n",
            "[ragas.testset.evolutions.DEBUG] answer generated: {'answer': \"Timothy D. Cook and Luca Maestri play dual roles as the Chief Executive Officer and Chief Financial Officer, respectively, in Apple's financial disclosures. They are responsible for certifying the quarterly report on Form 10-Q, ensuring that the report does not contain any untrue statements and that the financial statements fairly present the financial condition and results of operations of the Registrant.\", 'verdict': 1}\n",
            "[ragas.testset.evolutions.DEBUG] answer generated: {'answer': 'The total assets of Apple Inc. as of June 29, 2024, were $331,612 million.', 'verdict': 1}\n",
            "[ragas.testset.filters.DEBUG] filtered question: {'feedback': 'The question asks for the total comprehensive income figures for Apple Inc. for specific periods (three months and nine months ended June 29, 2024). It is clear in its intent, specifying the company (Apple Inc.) and the exact time frames of interest. The question is independent and does not rely on external references or prior knowledge beyond the provided details. Therefore, it is understandable and answerable based on the information given.', 'verdict': 1}\n",
            "[ragas.testset.filters.DEBUG] filtered question: {'feedback': 'The question asks for the gross margin percentages for products and services during the three months ending June 29, 2024, and seeks a comparison to the same metrics from the previous year, with a particular focus on net sales changes across different product categories. While the intent is clear, the question assumes access to specific financial data for both the current and previous years, which is not provided within the question itself. To improve clarity and answerability, the question could include the relevant financial data or be framed in a way that does not rely on external documents. For example, it could ask for general trends or factors affecting gross margins and net sales changes without requiring specific figures.', 'verdict': 0}\n",
            "[ragas.testset.evolutions.INFO] rewritten question: \"What were the gross margin percentages for products and services during the three months ending June 29, 2024, and how do they compare to the same metrics from the previous year, particularly in light of the net sales changes across different product categories?\"\n",
            "[ragas.testset.filters.DEBUG] filtered question: {'feedback': \"The question asks for key disclosures regarding segment expenses and the role of the CODM as mandated by ASU 2023-07, and how these relate to the company's financial condition and market risks as discussed in the latest Form 10-Q. While it specifies the standard (ASU 2023-07) and the document (latest Form 10-Q), it assumes access to and familiarity with the latest Form 10-Q without providing its content or context. This makes the question unclear for those without direct access to the specific Form 10-Q. To improve clarity and answerability, the question could include a brief description of the relevant financial condition and market risks discussed in the Form 10-Q, or alternatively, frame the question in a way that does not rely on specific, unpublished documents.\", 'verdict': 0}\n",
            "[ragas.testset.evolutions.INFO] retrying evolution: 1 times\n",
            "[ragas.testset.filters.DEBUG] context scoring: {'clarity': 2, 'depth': 3, 'structure': 2, 'relevance': 3, 'score': 2.5}\n",
            "[ragas.testset.evolutions.DEBUG] keyphrases in merged node: ['Gross margin', 'Products and Services', 'Operating expenses', 'Research and development', 'Gross margin percentage']\n",
            "[ragas.testset.evolutions.DEBUG] answer generated: {'answer': 'iPhone net sales were relatively flat during the third quarter and first nine months of 2024 compared to the same periods in 2023. In Greater China, net sales decreased during the third quarter of 2024 compared to the third quarter of 2023 due primarily to lower net sales of iPhone. Year-over-year, Greater China net sales decreased during the first nine months of 2024 due primarily to lower net sales of iPhone and iPad. In Japan, net sales increased during the third quarter of 2024 compared to the third quarter of 2023 due primarily to higher net sales of iPhone. Year-over-year, Japan net sales increased during the first nine months of 2024 due primarily to higher net sales of iPhone, partially offset by lower net sales of Wearables, Home and Accessories.', 'verdict': 1}\n",
            "[ragas.testset.evolutions.INFO] seed question generated: \"What were the total operating expenses for the three months ended June 29, 2024, compared to the same period in 2023?\"\n",
            "[ragas.testset.evolutions.DEBUG] answer generated: {'answer': 'The total comprehensive income figures for Apple Inc. for the three months ended June 29, 2024, was $21,992 million, and for the nine months ended June 29, 2024, it was $82,036 million.', 'verdict': 1}\n",
            "[ragas.testset.filters.DEBUG] context scoring: {'clarity': 2, 'depth': 3, 'structure': 3, 'relevance': 3, 'score': 2.75}\n",
            "[ragas.testset.evolutions.DEBUG] keyphrases in merged node: ['Apple Inc.', 'Condensed consolidated statements of cash flows', 'Operating activities', 'Investing activities', 'Financing activities']\n",
            "[ragas.testset.filters.DEBUG] filtered question: {'feedback': 'The question asks for the gross margin percentages for products and services during the three months ending June 29, 2024, and seeks a comparison to the same metrics from the previous year, with a particular focus on net sales changes across different product categories. While the intent is clear, the question assumes access to specific financial data for both the current and previous years, which is not provided within the question itself. To improve clarity and answerability, the question could include the relevant financial data or be framed in a way that does not rely on external documents. For example, it could ask for general trends or factors affecting gross margins and net sales changes without requiring specific figures.', 'verdict': 0}\n",
            "[ragas.testset.evolutions.INFO] retrying evolution: 1 times\n",
            "[ragas.testset.evolutions.INFO] seed question generated: \"What were the cash used in financing activities for Apple Inc. during the nine months ended June 29, 2024?\"\n",
            "[ragas.testset.filters.DEBUG] context scoring: {'clarity': 2, 'depth': 3, 'structure': 3, 'relevance': 3, 'score': 2.75}\n",
            "[ragas.testset.evolutions.DEBUG] keyphrases in merged node: ['Unregistered Sales of Equity Securities', 'Share repurchase activity', 'Board of Directors authorization', 'Tim Cook trading plan', 'Rule 10b5-1']\n",
            "[ragas.testset.filters.DEBUG] filtered question: {'feedback': 'The question asks for a comparison of total operating expenses for the three months ended June 29, 2024, with the same period in 2023. It is clear in specifying the time frames and the type of financial data of interest (total operating expenses). However, it assumes access to specific financial data for these periods, which is not provided within the question itself. To improve clarity and answerability, the question could include the relevant financial data or be framed in a way that does not rely on external documents.', 'verdict': 0}\n",
            "[ragas.testset.evolutions.INFO] rewritten question: \"What were the total operating expenses for the three months ended June 29, 2024, compared to the same period in 2023?\"\n",
            "[ragas.testset.evolutions.INFO] seed question generated: \"What was the amount authorized by the Board of Directors for the share repurchase program on May 4, 2023?\"\n",
            "[ragas.testset.evolutions.DEBUG] answer generated: {'answer': \"Apple's net sales varied by product and region for the three and nine months ending June 29, 2024, compared to 2023 as follows: \\n- iPhone: Net sales were relatively flat during the third quarter and first nine months of 2024 compared to the same periods in 2023. \\n- Mac: Net sales increased during the third quarter and first nine months of 2024 due to higher net sales of laptops. \\n- iPad: Net sales increased during the third quarter of 2024 due to higher sales of iPad Pro and iPad Air, but decreased during the first nine months of 2024 due to lower sales of iPad 9th generation and iPad Pro. \\n- Wearables, Home and Accessories: Net sales decreased during the third quarter and first nine months of 2024 due to lower sales of Wearables and Accessories. \\n- Services: Net sales increased during the third quarter and first nine months of 2024 due to higher sales from advertising, the App Store, and cloud services. \\nBy region: \\n- Americas: Net sales increased during the third quarter and first nine months of 2024 due to higher sales of Services and iPad. \\n- Europe: Net sales increased during the third quarter and first nine months of 2024 due to higher sales of Services and iPhone. \\n- Greater China: Net sales decreased during the third quarter and first nine months of 2024 due to lower sales of iPhone and iPad. \\n- Japan: Net sales increased during the third quarter and first nine months of 2024 due to higher sales of iPhone and iPad. \\n- Rest of Asia Pacific: Net sales increased during the third quarter of 2024 due to higher sales of Services, iPhone, and iPad, but were relatively flat during the first nine months of 2024.\", 'verdict': 1}\n",
            "[ragas.testset.filters.DEBUG] filtered question: {'feedback': 'The question asks for specific financial information about Apple Inc., namely the cash used in financing activities during a specified period (the nine months ended June 29, 2024). It is clear in its intent and does not rely on external references or context beyond what is provided in the question itself. Therefore, it meets the criteria of independence and clear intent.', 'verdict': 1}\n",
            "[ragas.testset.evolutions.DEBUG] [MultiContextEvolution] simple question generated: \"What were the cash used in financing activities for Apple Inc. during the nine months ended June 29, 2024?\"\n",
            "[ragas.testset.filters.DEBUG] filtered question: {'feedback': 'The question is clear and specific, asking for the amount authorized by the Board of Directors for the share repurchase program on a specific date, May 4, 2023. It does not rely on external references or additional context, making it understandable and answerable based on the details provided.', 'verdict': 1}\n",
            "[ragas.testset.evolutions.DEBUG] [MultiContextEvolution] simple question generated: \"What was the amount authorized by the Board of Directors for the share repurchase program on May 4, 2023?\"\n",
            "[ragas.testset.filters.DEBUG] filtered question: {'feedback': 'The question asks for a comparison of total operating expenses for the three months ended June 29, 2024, with the same period in 2023. It is clear in specifying the time frames and the type of financial data of interest (total operating expenses). The intent is straightforward, seeking a comparative analysis of operating expenses between two specific periods. The question is self-contained and does not rely on external references or unspecified contexts.', 'verdict': 1}\n",
            "[ragas.testset.evolutions.DEBUG] [MultiContextEvolution] simple question generated: \"What were the total operating expenses for the three months ended June 29, 2024, compared to the same period in 2023?\"\n",
            "[ragas.testset.evolutions.DEBUG] [MultiContextEvolution] multicontext question generated: \"What was the total cash outflow attributed to financing activities for Apple Inc. during the nine-month period ending June 29, 2024, and how does this figure relate to the net income reported for the same period?\"\n",
            "[ragas.testset.evolutions.DEBUG] [MultiContextEvolution] multicontext question generated: \"What were the operating expenses for the three months ending June 29, 2024, and how do they compare to the same period in 2023 in relation to total net sales?\"\n",
            "[ragas.testset.evolutions.DEBUG] [MultiContextEvolution] multicontext question generated: \"What was the financial commitment made by the Board of Directors for the share buyback initiative on May 4, 2023, and how does this relate to the total shareholders' equity reported as of June 29, 2024?\"\n",
            "[ragas.testset.filters.DEBUG] filtered question: {'feedback': 'The question is specific, independent, and has a clear intent. It asks for the total cash outflow attributed to financing activities for Apple Inc. during a specific period and seeks a comparison with the net income reported for the same period. The question does not rely on external references or unspecified contexts, making it understandable and answerable based on the details provided.', 'verdict': 1}\n",
            "[ragas.testset.evolutions.DEBUG] [MultiContextEvolution] multicontext question compressed: \"What's the cash outflow from financing for Apple Inc. for the nine months ending June 29, 2024, and its relation to net income?\"\n",
            "[ragas.testset.filters.DEBUG] filtered question: {'feedback': \"The question asks for the financial commitment made by the Board of Directors for a share buyback initiative on a specific date (May 4, 2023) and how this commitment relates to the total shareholders' equity reported on another specific date (June 29, 2024). The question is clear in its intent and specifies the dates and financial aspects of interest, making it understandable and answerable without needing additional context or external references. It is self-contained and does not rely on unspecified documents or prior knowledge.\", 'verdict': 1}\n",
            "[ragas.testset.filters.DEBUG] evolution filter: {'reason': 'The first question asks specifically about the cash used in financing activities, while the second question asks about the cash outflow from financing and its relation to net income. The second question has a broader scope and additional requirements.', 'verdict': 0}\n",
            "[ragas.testset.filters.DEBUG] filtered question: {'feedback': 'The question asks for the operating expenses for the three months ending June 29, 2024, and a comparison to the same period in 2023 in relation to total net sales. It is clear in specifying the time frames and the financial metrics of interest (operating expenses and total net sales). However, it assumes access to specific financial data for both periods, which is not provided within the question itself. To improve clarity and answerability, the question could include the relevant financial data or be framed in a way that does not rely on external documents or data not included in the question.', 'verdict': 0}\n",
            "[ragas.testset.evolutions.INFO] rewritten question: \"What were the operating expenses for the three months ending June 29, 2024, and how do they compare to the same period in 2023 in relation to total net sales?\"\n",
            "[ragas.testset.evolutions.DEBUG] [MultiContextEvolution] multicontext question compressed: \"What was the Board's financial commitment for the buyback on May 4, 2023, and its relation to total shareholders' equity as of June 29, 2024?\"\n",
            "[ragas.testset.filters.DEBUG] evolution filter: {'reason': \"The first question asks only for the amount authorized for the share repurchase program on a specific date, while the second question asks for both the financial commitment and its relation to total shareholders' equity on a different date, requiring more detailed information.\", 'verdict': 0}\n",
            "[ragas.testset.evolutions.DEBUG] answer generated: {'answer': 'The cash outflow from financing activities for Apple Inc. for the nine months ending June 29, 2024, is $97,035 million. This represents a significant outflow compared to the net income of $79,000 million, indicating that the company used more cash in financing activities than it earned in net income during this period.', 'verdict': 1}\n",
            "[ragas.testset.filters.DEBUG] filtered question: {'feedback': 'The question asks for the operating expenses for the three months ending June 29, 2024, and a comparison to the same period in 2023 in relation to total net sales. It is clear in specifying the time frames and the financial metrics of interest (operating expenses and total net sales). However, it assumes access to specific financial data for both periods, which is not provided within the question itself. To improve clarity and answerability, the question could include the relevant financial data or be framed in a way that does not rely on external documents or data not included in the query.', 'verdict': 0}\n",
            "[ragas.testset.evolutions.INFO] retrying evolution: 2 times\n",
            "[ragas.testset.filters.DEBUG] context scoring: {'clarity': 2, 'depth': 3, 'structure': 2, 'relevance': 3, 'score': 2.5}\n",
            "[ragas.testset.evolutions.DEBUG] keyphrases in merged node: ['Selling, General and Administrative expense', 'Provision for Income Taxes', 'Effective tax rate', 'Manufacturing Purchase Obligations', 'Capital Return Program']\n",
            "[ragas.testset.evolutions.DEBUG] answer generated: {'answer': 'On May 4, 2023, the Board of Directors authorized the purchase of up to $90 billion of the Company’s common stock under a share repurchase program. As of June 29, 2024, the total shareholders’ equity was $66,708 million.', 'verdict': 1}\n",
            "[ragas.testset.evolutions.INFO] seed question generated: \"What was the increase in Selling, General and Administrative expense during the third quarter of 2024 compared to the same period in 2023?\"\n",
            "[ragas.testset.filters.DEBUG] filtered question: {'feedback': 'The question is specific and clear, asking for the increase in Selling, General and Administrative expense during the third quarter of 2024 compared to the same period in 2023. It does not rely on external references or unspecified contexts, making it understandable and answerable based on the details provided.', 'verdict': 1}\n",
            "[ragas.testset.evolutions.DEBUG] [MultiContextEvolution] simple question generated: \"What was the increase in Selling, General and Administrative expense during the third quarter of 2024 compared to the same period in 2023?\"\n",
            "[ragas.testset.evolutions.DEBUG] [MultiContextEvolution] multicontext question generated: \"What was the dollar increase in Selling, General and Administrative expenses in Q3 2024 relative to Q3 2023, and how does this change relate to the overall operating expenses as a percentage of total net sales during the same periods?\"\n",
            "[ragas.testset.filters.DEBUG] filtered question: {'feedback': 'The question asks for the dollar increase in Selling, General and Administrative (SG&A) expenses from Q3 2023 to Q3 2024 and how this change relates to the overall operating expenses as a percentage of total net sales during the same periods. It is clear in specifying the time periods (Q3 2023 and Q3 2024) and the financial metrics of interest (SG&A expenses, operating expenses, and total net sales). The intent is also clear, seeking both a numerical change and a contextual analysis. However, the question assumes access to specific financial data for Q3 2023 and Q3 2024, which may not be provided within the question itself. To improve independence, the question could include the relevant financial figures or specify where this data can be found.', 'verdict': 0}\n",
            "[ragas.testset.evolutions.INFO] rewritten question: \"What was the dollar increase in Selling, General and Administrative expenses in Q3 2024 relative to Q3 2023, and how does this change relate to the overall operating expenses as a percentage of total net sales during the same periods?\"\n",
            "[ragas.testset.filters.DEBUG] filtered question: {'feedback': 'The question asks for the dollar increase in Selling, General and Administrative expenses from Q3 2023 to Q3 2024 and how this change relates to the overall operating expenses as a percentage of total net sales during the same periods. It is clear in specifying the time periods (Q3 2023 and Q3 2024) and the financial metrics of interest (Selling, General and Administrative expenses, overall operating expenses, and total net sales). However, it assumes access to specific financial data for these periods, which is not provided within the question. To improve clarity and answerability, the question could include the relevant financial figures or be framed in a way that does not require access to external documents.', 'verdict': 0}\n",
            "[ragas.testset.evolutions.INFO] retrying evolution: 3 times\n",
            "[ragas.testset.filters.DEBUG] context scoring: {'clarity': 2, 'depth': 3, 'structure': 2, 'relevance': 3, 'score': 2.5}\n",
            "[ragas.testset.evolutions.DEBUG] keyphrases in merged node: ['Unregistered Sales of Equity Securities', 'Share repurchase activity', 'Board of Directors authorization', 'Tim Cook trading plan', 'Rule 10b5-1']\n",
            "[ragas.testset.evolutions.INFO] seed question generated: \"What was the total number of shares purchased during the share repurchase activity for the three months ended June 29, 2024?\"\n",
            "[ragas.testset.filters.DEBUG] filtered question: {'feedback': 'The question asks for the total number of shares purchased during a specific share repurchase activity for the three months ended June 29, 2024. It is clear in specifying the time frame and the type of information sought (total number of shares purchased). The question is self-contained and does not rely on external references or prior knowledge beyond the information provided within the question itself.', 'verdict': 1}\n",
            "[ragas.testset.evolutions.DEBUG] [MultiContextEvolution] simple question generated: \"What was the total number of shares purchased during the share repurchase activity for the three months ended June 29, 2024?\"\n",
            "[ragas.testset.evolutions.DEBUG] [MultiContextEvolution] multicontext question generated: \"What was the cumulative quantity of shares acquired through repurchase activities in the three-month period concluding on June 29, 2024, and how does this relate to the overall shareholders' equity changes during the same timeframe?\"\n",
            "[ragas.testset.filters.DEBUG] filtered question: {'feedback': \"The question asks for the cumulative quantity of shares acquired through repurchase activities in a specific three-month period and seeks to understand how this relates to changes in overall shareholders' equity during the same timeframe. It is clear in specifying the time period (three months ending on June 29, 2024) and the two aspects of interest (share repurchase quantity and shareholders' equity changes). The intent is clear, and the question is self-contained, not relying on external references or unspecified contexts.\", 'verdict': 1}\n",
            "[ragas.testset.evolutions.DEBUG] [MultiContextEvolution] multicontext question compressed: \"How many shares were repurchased by June 29, 2024, and what’s the impact on shareholders' equity?\"\n",
            "[ragas.testset.filters.DEBUG] evolution filter: {'reason': \"The first question focuses solely on the total number of shares purchased during a specific period, while the second question asks for both the number of shares repurchased and the impact on shareholders' equity, indicating different depths and breadths of inquiry.\", 'verdict': 0}\n",
            "[ragas.testset.evolutions.DEBUG] answer generated: {'answer': \"By June 29, 2024, a total of 138,773 shares were repurchased. The impact on shareholders' equity includes a reduction in retained earnings due to common stock repurchased amounting to $70,611 million, which contributed to an ending balance of total shareholders' equity of $66,708 million.\", 'verdict': 1}\n"
          ]
        }
      ],
      "source": [
        "testset = generator.generate_with_langchain_docs(documents, 20, distributions, with_debugging_logs=True)"
      ]
    },
    {
      "cell_type": "code",
      "execution_count": 13,
      "metadata": {},
      "outputs": [
        {
          "name": "stdout",
          "output_type": "stream",
          "text": [
            "Question: What was the net income for Apple Inc. for the three months ended June 29, 2024?\n",
            "Contexts: ['Apple Inc.\\nCONDENSED CONSOLIDATED STATEMENTS OF COMPREHENSIVE INCOME (Unaudited)\\n(In millions)\\nThree Months Ended\\nNine Months Ended\\nJune 29,\\n2024\\nJuly 1,\\n2023\\nJune 29,\\n2024\\nJuly 1,\\n2023\\nNet income\\n$ \\n21,448 \\n$ \\n19,881 \\n$ \\n79,000 \\n$ \\n74,039 \\nOther comprehensive income/(loss):\\nChange in foreign currency translation, net of tax\\n \\n(73)  \\n(385)  \\n(87)  \\n(494) \\nChange in unrealized gains/losses on derivative \\ninstruments, net of tax:\\nChange in fair value of derivative instruments\\n \\n406 \\n \\n509 \\n \\n331 \\n \\n(492) \\nAdjustment for net (gains)/losses realized and included \\nin net income\\n \\n(87)  \\n103 \\n \\n(678)  \\n(1,854) \\nTotal change in unrealized gains/losses on \\nderivative instruments\\n \\n319 \\n \\n612 \\n \\n(347)  \\n(2,346) \\nChange in unrealized gains/losses on marketable debt \\nsecurities, net of tax:\\nChange in fair value of marketable debt securities\\n \\n268 \\n \\n(340)  \\n3,306 \\n \\n1,963 \\nAdjustment for net (gains)/losses realized and included \\nin net income\\n \\n30 \\n \\n58 \\n \\n164 \\n \\n185 \\nTotal change in unrealized gains/losses on \\nmarketable debt securities\\n \\n298 \\n \\n(282)  \\n3,470 \\n \\n2,148 \\nTotal other comprehensive income/(loss)\\n \\n544 \\n \\n(55)  \\n3,036 \\n \\n(692) \\nTotal comprehensive income\\n$ \\n21,992 \\n$ \\n19,826 \\n$ \\n82,036 \\n$ \\n73,347 \\nSee accompanying Notes to Condensed Consolidated Financial Statements.\\nApple Inc. | Q3 2024 Form 10-Q | 2\\n', 'PART I  —  FINANCIAL INFORMATION\\nItem 1. Financial Statements\\nApple Inc.\\nCONDENSED CONSOLIDATED STATEMENTS OF OPERATIONS (Unaudited)\\n(In millions, except number of shares, which are reflected in thousands, and per-share amounts)\\nThree Months Ended\\nNine Months Ended\\nJune 29,\\n2024\\nJuly 1,\\n2023\\nJune 29,\\n2024\\nJuly 1,\\n2023\\nNet sales:\\n   Products\\n$ \\n61,564 \\n$ \\n60,584 \\n$ \\n224,908 \\n$ \\n230,901 \\n   Services\\n \\n24,213 \\n \\n21,213 \\n \\n71,197 \\n \\n62,886 \\nTotal net sales\\n \\n85,777 \\n \\n81,797 \\n \\n296,105 \\n \\n293,787 \\nCost of sales:\\n   Products\\n \\n39,803 \\n \\n39,136 \\n \\n140,667 \\n \\n146,696 \\n   Services\\n \\n6,296 \\n \\n6,248 \\n \\n18,634 \\n \\n18,370 \\nTotal cost of sales\\n \\n46,099 \\n \\n45,384 \\n \\n159,301 \\n \\n165,066 \\nGross margin\\n \\n39,678 \\n \\n36,413 \\n \\n136,804 \\n \\n128,721 \\nOperating expenses:\\nResearch and development\\n \\n8,006 \\n \\n7,442 \\n \\n23,605 \\n \\n22,608 \\nSelling, general and administrative\\n \\n6,320 \\n \\n5,973 \\n \\n19,574 \\n \\n18,781 \\nTotal operating expenses\\n \\n14,326 \\n \\n13,415 \\n \\n43,179 \\n \\n41,389 \\nOperating income\\n \\n25,352 \\n \\n22,998 \\n \\n93,625 \\n \\n87,332 \\nOther income/(expense), net\\n \\n142 \\n \\n(265)  \\n250 \\n \\n(594) \\nIncome before provision for income taxes\\n \\n25,494 \\n \\n22,733 \\n \\n93,875 \\n \\n86,738 \\nProvision for income taxes\\n \\n4,046 \\n \\n2,852 \\n \\n14,875 \\n \\n12,699 \\nNet income\\n$ \\n21,448 \\n$ \\n19,881 \\n$ \\n79,000 \\n$ \\n74,039 \\nEarnings per share:\\nBasic\\n$ \\n1.40 \\n$ \\n1.27 \\n$ \\n5.13 \\n$ \\n4.69 \\nDiluted\\n$ \\n1.40 \\n$ \\n1.26 \\n$ \\n5.11 \\n$ \\n4.67 \\nShares used in computing earnings per share:\\nBasic\\n 15,287,521 \\n 15,697,614 \\n 15,401,047 \\n 15,792,497 \\nDiluted\\n 15,348,175 \\n 15,775,021 \\n 15,463,175 \\n 15,859,263 \\nSee accompanying Notes to Condensed Consolidated Financial Statements.\\nApple Inc. | Q3 2024 Form 10-Q | 1\\n']\n",
            "Ground Truth: $21,448 million\n",
            "Evolution Type: simple\n",
            "Metadata: [{'source': 'https://s2.q4cdn.com/470004039/files/doc_earnings/2024/q3/filing/_10-Q-Q3-2024-As-Filed.pdf', 'file_path': 'https://s2.q4cdn.com/470004039/files/doc_earnings/2024/q3/filing/_10-Q-Q3-2024-As-Filed.pdf', 'page': 4, 'total_pages': 28, 'format': 'PDF 1.4', 'title': '10-Q Q3 2024, 06.29.2024-2024-08-01-09-24', 'author': 'anonymous', 'subject': '', 'keywords': '', 'creator': 'Workiva', 'producer': 'Wdesk Fidelity Content Translations Version 010.001.139', 'creationDate': \"D:20240801162503+00'00'\", 'modDate': \"D:20240801162503+00'00'\", 'trapped': ''}, {'source': 'https://s2.q4cdn.com/470004039/files/doc_earnings/2024/q3/filing/_10-Q-Q3-2024-As-Filed.pdf', 'file_path': 'https://s2.q4cdn.com/470004039/files/doc_earnings/2024/q3/filing/_10-Q-Q3-2024-As-Filed.pdf', 'page': 3, 'total_pages': 28, 'format': 'PDF 1.4', 'title': '10-Q Q3 2024, 06.29.2024-2024-08-01-09-24', 'author': 'anonymous', 'subject': '', 'keywords': '', 'creator': 'Workiva', 'producer': 'Wdesk Fidelity Content Translations Version 010.001.139', 'creationDate': \"D:20240801162503+00'00'\", 'modDate': \"D:20240801162503+00'00'\", 'trapped': ''}]\n",
            "\n",
            "\n",
            "Question: What is the purpose of the commercial paper program for the Company?\n",
            "Contexts: ['Note 6 – Income Taxes\\nEuropean Commission State Aid Decision\\nOn August 30, 2016, the European Commission (the “Commission”) announced its decision that Ireland granted state aid to the \\nCompany by providing tax opinions in 1991 and 2007 concerning the tax allocation of profits of the Irish branches of two \\nsubsidiaries of the Company (the “State Aid Decision”). The State Aid Decision ordered Ireland to calculate and recover \\nadditional taxes from the Company for the period June 2003 through December 2014. Irish legislative changes, effective as of \\nJanuary 2015, eliminated the application of the tax opinions from that date forward. The Company and Ireland appealed the \\nState Aid Decision to the General Court of the Court of Justice of the European Union (the “General Court”). On July 15, 2020, \\nthe General Court annulled the State Aid Decision. On September 25, 2020, the Commission appealed the General Court’s \\ndecision to the European Court of Justice (the “ECJ”) and a hearing was held on May 23, 2023. A decision from the ECJ is \\nexpected in the fourth quarter of 2024. The Company believes it would be eligible to claim a U.S. foreign tax credit for a portion \\nof any incremental Irish corporate income taxes potentially due related to the State Aid Decision.\\nNote 7 – Debt\\nCommercial Paper\\nThe Company issues unsecured short-term promissory notes pursuant to a commercial paper program. The Company uses net \\nproceeds from the commercial paper program for general corporate purposes, including dividends and share repurchases. As of \\nJune\\xa0 29, 2024 and September\\xa0 30, 2023, the Company had $3.0 billion and $6.0 billion of commercial paper outstanding, \\nrespectively. The following table provides a summary of cash flows associated with the issuance and maturities of commercial \\npaper for the nine months ended June\\xa029, 2024 and July\\xa01, 2023 (in millions):\\nNine Months Ended\\nJune 29,\\n2024\\nJuly 1,\\n2023\\nMaturities 90 days or less:\\nRepayments of commercial paper, net\\n$ \\n(2,985) $ \\n(3,326) \\nMaturities greater than 90 days:\\nRepayments of commercial paper\\n \\n— \\n \\n(2,645) \\nTotal repayments of commercial paper, net\\n$ \\n(2,985) $ \\n(5,971) \\nTerm Debt\\nAs of June\\xa029, 2024 and September\\xa030, 2023, the Company had outstanding fixed-rate notes with varying maturities for an \\naggregate carrying amount of $98.3 billion and $105.1 billion, respectively (collectively the “Notes”). As of June\\xa029, 2024 and \\nSeptember\\xa0 30, 2023, the fair value of the Company’s Notes, based on Level 2 inputs, was $86.2 billion and $90.8 billion, \\nrespectively.\\nNote 8 – Shareholders’ Equity\\nShare Repurchase Program\\nDuring the nine months ended June\\xa0 29, 2024, the Company repurchased 387 million shares of its common stock for $70.0 \\nbillion. The Company’s share repurchase programs do not obligate the Company to acquire a minimum amount of shares. Under \\nthe programs, shares may be repurchased in privately negotiated or open market transactions, including under plans complying \\nwith Rule 10b5-1 under the Securities Exchange Act of 1934, as amended (the “Exchange Act”).\\nApple Inc. | Q3 2024 Form 10-Q | 10\\n']\n",
            "Ground Truth: The purpose of the commercial paper program for the Company is to issue unsecured short-term promissory notes and use the net proceeds for general corporate purposes, including dividends and share repurchases.\n",
            "Evolution Type: simple\n",
            "Metadata: [{'source': 'https://s2.q4cdn.com/470004039/files/doc_earnings/2024/q3/filing/_10-Q-Q3-2024-As-Filed.pdf', 'file_path': 'https://s2.q4cdn.com/470004039/files/doc_earnings/2024/q3/filing/_10-Q-Q3-2024-As-Filed.pdf', 'page': 12, 'total_pages': 28, 'format': 'PDF 1.4', 'title': '10-Q Q3 2024, 06.29.2024-2024-08-01-09-24', 'author': 'anonymous', 'subject': '', 'keywords': '', 'creator': 'Workiva', 'producer': 'Wdesk Fidelity Content Translations Version 010.001.139', 'creationDate': \"D:20240801162503+00'00'\", 'modDate': \"D:20240801162503+00'00'\", 'trapped': ''}]\n",
            "\n",
            "\n",
            "Question: What allegations are being made against the Company regarding antitrust laws?\n",
            "Contexts: ['PART II  —  OTHER INFORMATION\\nItem 1. \\nLegal Proceedings\\nDigital Markets Act Investigations\\nOn March 25, 2024, the Commission announced that it had opened two formal noncompliance investigations against the \\nCompany under the European Union (“EU”) Digital Markets Act (the “DMA”). The Commission’s investigations concern (1) Article \\n5(4) of the DMA, which relates to how developers may communicate and promote offers to end users for apps distributed \\nthrough the App Store as well as how developers may conclude contracts with those end users; and (2) Article 6(3) of the DMA, \\nwhich relates to default settings, uninstallation of apps, and a web browser choice screen on iOS. On June 24, 2024, the \\nCommission announced its preliminary findings in the Article 5(4) investigation alleging that the Company’s App Store rules are \\nin breach of the DMA and announced that it had opened a third formal investigation against the Company regarding whether the \\nCompany’s new contractual requirements for third-party app developers and app marketplaces may violate the DMA. If the \\nCommission makes a final determination that there has been a violation, it can issue a cease and desist order and may impose \\nfines up to 10% of the Company’s annual worldwide net sales. Although any decision by the Commission can be appealed to the \\nGeneral Court of the EU, the effectiveness of the Commission’s order would apply immediately while the appeal is pending, \\nunless a stay of the order is granted. The Company believes that it complies with the DMA and has continued to make changes \\nto its compliance plan in response to feedback and engagement with the Commission.\\nDepartment of Justice Lawsuit\\nOn March 21, 2024, the U.S. Department of Justice (the “DOJ”) and a number of state and district attorneys general filed a civil \\nantitrust lawsuit in the U.S. District Court for the District of New Jersey against the Company alleging monopolization or \\nattempted monopolization in the markets for “performance smartphones” and “smartphones” in violation of U.S. antitrust laws. \\nThe DOJ is seeking equitable relief to redress the alleged anticompetitive behavior. In addition, various civil litigation matters \\nhave been filed in state and federal courts in the U.S. alleging similar violations of U.S. antitrust laws and seeking monetary \\ndamages and other nonmonetary relief. The Company believes it has substantial defenses and intends to vigorously defend \\nitself.\\nEpic Games\\nEpic Games, Inc. (“Epic”) filed a lawsuit in the U.S. District Court for the Northern District of California (the “California District \\nCourt”) against the Company alleging violations of federal and state antitrust laws and California’s unfair competition law based \\nupon the Company’s operation of its App Store. The California District Court found that certain provisions of the Company’s App \\nStore Review Guidelines violate California’s unfair competition law and issued an injunction enjoining the Company from \\nprohibiting developers from including in their apps external links that direct customers to purchasing mechanisms other than \\nApple in-app purchasing. The injunction applies to apps on the U.S. storefront of the iOS and iPadOS App Store. On January 16, \\n2024, the Company implemented a plan to comply with the injunction and filed a statement of compliance with the California \\nDistrict Court. A motion by Epic disputing the Company’s compliance plan and seeking to enforce the injunction, which the \\nCompany has opposed, is pending before the California District Court. The Company believes it has substantial defenses and \\nintends to vigorously defend itself.\\nOther Legal Proceedings\\nThe Company is subject to other legal proceedings and claims that have not been fully resolved and that have arisen in the \\nordinary course of business. The Company settled certain matters during the third quarter of 2024 that did not individually or in \\nthe aggregate have a material impact on the Company’s financial condition or operating results. The outcome of litigation is \\ninherently uncertain. If one or more legal matters were resolved against the Company in a reporting period for amounts above \\nmanagement’s expectations, the Company’s financial condition and operating results for that reporting period could be materially \\nadversely affected.\\nItem 1A. \\nRisk Factors\\nThe Company’s business, reputation, results of operations, financial condition and stock price can be affected by a number of \\nfactors, whether currently known or unknown, including those described in Part I, Item 1A of the 2023 Form 10-K and Part II, \\nItem 1A of the Form 10-Q for the quarter']\n",
            "Ground Truth: The allegations being made against the Company regarding antitrust laws include monopolization or attempted monopolization in the markets for 'performance smartphones' and 'smartphones' in violation of U.S. antitrust laws, as stated in the civil antitrust lawsuit filed by the U.S. Department of Justice. Additionally, Epic Games has alleged violations of federal and state antitrust laws and California's unfair competition law based on the Company's operation of its App Store.\n",
            "Evolution Type: simple\n",
            "Metadata: [{'source': 'https://s2.q4cdn.com/470004039/files/doc_earnings/2024/q3/filing/_10-Q-Q3-2024-As-Filed.pdf', 'file_path': 'https://s2.q4cdn.com/470004039/files/doc_earnings/2024/q3/filing/_10-Q-Q3-2024-As-Filed.pdf', 'page': 21, 'total_pages': 28, 'format': 'PDF 1.4', 'title': '10-Q Q3 2024, 06.29.2024-2024-08-01-09-24', 'author': 'anonymous', 'subject': '', 'keywords': '', 'creator': 'Workiva', 'producer': 'Wdesk Fidelity Content Translations Version 010.001.139', 'creationDate': \"D:20240801162503+00'00'\", 'modDate': \"D:20240801162503+00'00'\", 'trapped': ''}]\n",
            "\n",
            "\n",
            "Question: What were the total comprehensive income figures for Apple Inc. for the three months and nine months ended June 29, 2024?\n",
            "Contexts: ['Apple Inc.\\nCONDENSED CONSOLIDATED STATEMENTS OF COMPREHENSIVE INCOME (Unaudited)\\n(In millions)\\nThree Months Ended\\nNine Months Ended\\nJune 29,\\n2024\\nJuly 1,\\n2023\\nJune 29,\\n2024\\nJuly 1,\\n2023\\nNet income\\n$ \\n21,448 \\n$ \\n19,881 \\n$ \\n79,000 \\n$ \\n74,039 \\nOther comprehensive income/(loss):\\nChange in foreign currency translation, net of tax\\n \\n(73)  \\n(385)  \\n(87)  \\n(494) \\nChange in unrealized gains/losses on derivative \\ninstruments, net of tax:\\nChange in fair value of derivative instruments\\n \\n406 \\n \\n509 \\n \\n331 \\n \\n(492) \\nAdjustment for net (gains)/losses realized and included \\nin net income\\n \\n(87)  \\n103 \\n \\n(678)  \\n(1,854) \\nTotal change in unrealized gains/losses on \\nderivative instruments\\n \\n319 \\n \\n612 \\n \\n(347)  \\n(2,346) \\nChange in unrealized gains/losses on marketable debt \\nsecurities, net of tax:\\nChange in fair value of marketable debt securities\\n \\n268 \\n \\n(340)  \\n3,306 \\n \\n1,963 \\nAdjustment for net (gains)/losses realized and included \\nin net income\\n \\n30 \\n \\n58 \\n \\n164 \\n \\n185 \\nTotal change in unrealized gains/losses on \\nmarketable debt securities\\n \\n298 \\n \\n(282)  \\n3,470 \\n \\n2,148 \\nTotal other comprehensive income/(loss)\\n \\n544 \\n \\n(55)  \\n3,036 \\n \\n(692) \\nTotal comprehensive income\\n$ \\n21,992 \\n$ \\n19,826 \\n$ \\n82,036 \\n$ \\n73,347 \\nSee accompanying Notes to Condensed Consolidated Financial Statements.\\nApple Inc. | Q3 2024 Form 10-Q | 2\\n']\n",
            "Ground Truth: The total comprehensive income figures for Apple Inc. for the three months ended June 29, 2024, was $21,992 million, and for the nine months ended June 29, 2024, it was $82,036 million.\n",
            "Evolution Type: simple\n",
            "Metadata: [{'source': 'https://s2.q4cdn.com/470004039/files/doc_earnings/2024/q3/filing/_10-Q-Q3-2024-As-Filed.pdf', 'file_path': 'https://s2.q4cdn.com/470004039/files/doc_earnings/2024/q3/filing/_10-Q-Q3-2024-As-Filed.pdf', 'page': 4, 'total_pages': 28, 'format': 'PDF 1.4', 'title': '10-Q Q3 2024, 06.29.2024-2024-08-01-09-24', 'author': 'anonymous', 'subject': '', 'keywords': '', 'creator': 'Workiva', 'producer': 'Wdesk Fidelity Content Translations Version 010.001.139', 'creationDate': \"D:20240801162503+00'00'\", 'modDate': \"D:20240801162503+00'00'\", 'trapped': ''}]\n",
            "\n",
            "\n",
            "Question: What is Timothy D. Cook's role in the certification of Apple Inc.'s quarterly report?\n",
            "Contexts: ['Exhibit 31.1\\nCERTIFICATION\\nI, Timothy D. Cook, certify that:\\n1.\\nI have reviewed this quarterly report on Form 10-Q of Apple Inc.;\\n2.\\nBased on my knowledge, this report does not contain any untrue statement of a material fact or omit to state a material fact \\nnecessary to make the statements made, in light of the circumstances under which such statements were made, not \\nmisleading with respect to the period covered by this report;\\n3.\\nBased on my knowledge, the financial statements, and other financial information included in this report, fairly present in all \\nmaterial respects the financial condition, results of operations and cash flows of the Registrant as of, and for, the periods \\npresented in this report;\\n4.\\nThe Registrant’s other certifying officer(s) and I are responsible for establishing and maintaining disclosure controls and \\nprocedures (as defined in Exchange Act Rules 13a-15(e) and 15d-15(e)) and internal control over financial reporting (as \\ndefined in Exchange Act Rules 13a-15(f) and 15d-15(f)) for the Registrant and have:\\n(a) Designed such disclosure controls and procedures, or caused such disclosure controls and procedures to be \\ndesigned under our supervision, to ensure that material information relating to the Registrant, including its \\nconsolidated subsidiaries, is made known to us by others within those entities, particularly during the period in \\nwhich this report is being prepared;\\n(b) Designed such internal control over financial reporting, or caused such internal control over financial reporting \\nto be designed under our supervision, to provide reasonable assurance regarding the reliability of financial \\nreporting and the preparation of financial statements for external purposes in accordance with generally \\naccepted accounting principles;\\n(c)\\nEvaluated the effectiveness of the Registrant’s disclosure controls and procedures and presented in this report \\nour conclusions about the effectiveness of the disclosure controls and procedures, as of the end of the period \\ncovered by this report based on such evaluation; and\\n(d) Disclosed in this report any change in the Registrant’s internal control over financial reporting that occurred \\nduring the Registrant’s most recent fiscal quarter (the Registrant’s fourth fiscal quarter in the case of an annual \\nreport) that has materially affected, or is reasonably likely to materially affect, the Registrant’s internal control \\nover financial reporting; and\\n5.\\nThe Registrant’s other certifying officer(s) and I have disclosed, based on our most recent evaluation of internal control over \\nfinancial reporting, to the Registrant’s auditors and the audit committee of the Registrant’s board of directors (or persons \\nperforming the equivalent functions):\\n(a) All significant deficiencies and material weaknesses in the design or operation of internal control over financial \\nreporting which are reasonably likely to adversely affect the Registrant’s ability to record, process, summarize \\nand report financial information; and\\n(b) Any fraud, whether or not material, that involves management or other employees who have a significant role \\nin the Registrant’s internal control over financial reporting.\\nDate: August\\xa01, 2024\\nBy:\\n/s/ Timothy D. Cook\\nTimothy D. Cook\\nChief Executive Officer\\n']\n",
            "Ground Truth: Timothy D. Cook's role in the certification of Apple Inc.'s quarterly report is the Chief Executive Officer, as he certifies the report and is responsible for establishing and maintaining disclosure controls and procedures and internal control over financial reporting.\n",
            "Evolution Type: simple\n",
            "Metadata: [{'source': 'https://s2.q4cdn.com/470004039/files/doc_earnings/2024/q3/filing/_10-Q-Q3-2024-As-Filed.pdf', 'file_path': 'https://s2.q4cdn.com/470004039/files/doc_earnings/2024/q3/filing/_10-Q-Q3-2024-As-Filed.pdf', 'page': 25, 'total_pages': 28, 'format': 'PDF 1.4', 'title': '10-Q Q3 2024, 06.29.2024-2024-08-01-09-24', 'author': 'anonymous', 'subject': '', 'keywords': '', 'creator': 'Workiva', 'producer': 'Wdesk Fidelity Content Translations Version 010.001.139', 'creationDate': \"D:20240801162503+00'00'\", 'modDate': \"D:20240801162503+00'00'\", 'trapped': ''}]\n",
            "\n",
            "\n",
            "Question: What were the changes in net sales by reportable segment for the three months ended June 29, 2024, compared to the same period in 2023?\n",
            "Contexts: ['Products and Services Performance\\nThe following table shows net sales by category for the three- and nine-month periods ended June 29, 2024 and July\\xa01, 2023 \\n(dollars in millions):\\nThree Months Ended\\nNine Months Ended\\nJune 29,\\n2024\\nJuly 1,\\n2023\\nChange\\nJune 29,\\n2024\\nJuly 1,\\n2023\\nChange\\nNet sales by category:\\niPhone\\n$ \\n39,296 \\n$ \\n39,669 \\n (1) % $ 154,961 \\n$ 156,778 \\n (1) %\\nMac\\n \\n7,009 \\n \\n6,840 \\n 2 %  \\n22,240 \\n \\n21,743 \\n 2 %\\niPad\\n \\n7,162 \\n \\n5,791 \\n 24 %  \\n19,744 \\n \\n21,857 \\n (10) %\\nWearables, Home and Accessories\\n \\n8,097 \\n \\n8,284 \\n (2) %  \\n27,963 \\n \\n30,523 \\n (8) %\\nServices\\n \\n24,213 \\n \\n21,213 \\n 14 %  \\n71,197 \\n \\n62,886 \\n 13 %\\nTotal net sales\\n$ \\n85,777 \\n$ \\n81,797 \\n 5 % $ 296,105 \\n$ 293,787 \\n 1 %\\niPhone\\niPhone net sales were relatively flat during the third quarter and first nine months of 2024 compared to the same periods in 2023.\\nMac\\nMac net sales increased during the third quarter and first nine months of 2024 compared to the same periods in 2023 due to \\nhigher net sales of laptops.\\niPad\\niPad net sales increased during the third quarter of 2024 compared to the third quarter of 2023 due primarily to higher net sales \\nof iPad Pro and iPad Air. Year-over-year iPad net sales decreased during the first nine months of 2024 due primarily to lower net \\nsales of iPad 9th generation and iPad Pro, partially offset by higher net sales of iPad 10th generation.\\nWearables, Home and Accessories\\nWearables, Home and Accessories net sales decreased during the third quarter of 2024 compared to the third quarter of 2023 \\ndue primarily to lower net sales of Wearables. Year-over-year Wearables, Home and Accessories net sales decreased during the \\nfirst nine months of 2024 due primarily to lower net sales of Wearables and Accessories.\\nServices\\nServices net sales increased during the third quarter and first nine months of 2024 compared to the same periods in 2023 due \\nprimarily to higher net sales from advertising, the App Store® and cloud services.\\nApple Inc. | Q3 2024 Form 10-Q | 15\\n', 'Segment Operating Performance\\nThe following table shows net sales by reportable segment for the three- and nine-month periods ended June 29, 2024 and \\nJuly\\xa01, 2023 (dollars in millions):\\nThree Months Ended\\nNine Months Ended\\nJune 29,\\n2024\\nJuly 1,\\n2023\\nChange\\nJune 29,\\n2024\\nJuly 1,\\n2023\\nChange\\nNet sales by reportable segment:\\nAmericas\\n$ \\n37,678 \\n$ \\n35,383 \\n 6 % $ 125,381 \\n$ 122,445 \\n 2 %\\nEurope\\n \\n21,884 \\n \\n20,205 \\n 8 %  \\n76,404 \\n \\n71,831 \\n 6 %\\nGreater China\\n \\n14,728 \\n \\n15,758 \\n (7) %  \\n51,919 \\n \\n57,475 \\n (10) %\\nJapan\\n \\n5,097 \\n \\n4,821 \\n 6 %  \\n19,126 \\n \\n18,752 \\n 2 %\\nRest of Asia Pacific\\n \\n6,390 \\n \\n5,630 \\n 13 %  \\n23,275 \\n \\n23,284 \\n — %\\nTotal net sales\\n$ \\n85,777 \\n$ \\n81,797 \\n 5 % $ 296,105 \\n$ 293,787 \\n 1 %\\nAmericas\\nAmericas net sales increased during the third quarter of 2024 compared to the third quarter of 2023 due primarily to higher net \\nsales of Services and iPad. Year-over-year Americas net sales increased during the first nine months of 2024 due primarily to \\nhigher net sales of Services, partially offset by lower net sales of iPhone and Wearables, Home and Accessories. The strength in \\nforeign currencies relative to the U.S. dollar had a net favorable year-over-year impact on Americas net sales during the first nine \\nmonths of 2024.\\nEurope\\nEurope net sales increased during the third quarter of 2024 compared to the third quarter of 2023 due primarily to higher net \\nsales of Services and iPad. The weakness in foreign currencies relative to the U.S. dollar had a net unfavorable year-over-year \\nimpact on Europe net sales during the third quarter of 2024. Year-over-year Europe net sales increased during the first nine \\nmonths of 2024 due primarily to higher net sales of Services and iPhone, partially offset by lower net sales of Wearables, Home \\nand Accessories.\\nGreater China\\nGreater China net sales decreased during the third quarter of 2024 compared to the third quarter of 2023 due primarily to lower \\nnet sales of iPhone. Year-over-year Greater China net sales decreased during the first nine months of 2024 due primarily to \\nlower net sales of iPhone and iPad. The weakness in the renminbi relative to the U.S. dollar had an unfavorable year-over-year \\nimpact on Greater China net sales during the third quarter and first nine months of 2024.\\nJapan\\nJapan net sales increased during the third quarter of 2024 compared to the third quarter of 2023 due primarily to higher net sales \\nof iPhone and iPad. Year-over-year Japan net sales increased during the first nine months of 2024 due primarily to higher net \\nsales of iPhone, partially offset by lower net sales of Wearables, Home and Accessories. The weakness in the yen relative to the \\nU.S. dollar had an unfavorable year-over-year impact on Japan net sales during the third quarter and first nine months of 2024.\\nRest of Asia Pacific\\nRest of Asia Pacific net sales increased during the third quarter of 2024 compared to the third quarter of 2023 due primarily to \\nhigher net sales of Services, iPhone and iPad. Year-over-year Rest of Asia Pacific net sales were relatively flat during the first \\nnine months of 2024. The weakness in foreign currencies relative to the U.S. dollar had a net unfavorable year-over-year impact \\non Rest of Asia Pacific net sales during the third quarter and first nine months of 2024.\\nApple Inc. | Q3 2024 Form 10-Q | 14\\n']\n",
            "Ground Truth: The changes in net sales by reportable segment for the three months ended June 29, 2024, compared to the same period in 2023 are as follows: Americas net sales increased by 6% due primarily to higher net sales of Services and iPad. Europe net sales increased by 8% due primarily to higher net sales of Services and iPad. Greater China net sales decreased by 7% due primarily to lower net sales of iPhone. Japan net sales increased by 6% due primarily to higher net sales of iPhone and iPad. Rest of Asia Pacific net sales increased by 13% due primarily to higher net sales of Services, iPhone, and iPad.\n",
            "Evolution Type: simple\n",
            "Metadata: [{'source': 'https://s2.q4cdn.com/470004039/files/doc_earnings/2024/q3/filing/_10-Q-Q3-2024-As-Filed.pdf', 'file_path': 'https://s2.q4cdn.com/470004039/files/doc_earnings/2024/q3/filing/_10-Q-Q3-2024-As-Filed.pdf', 'page': 17, 'total_pages': 28, 'format': 'PDF 1.4', 'title': '10-Q Q3 2024, 06.29.2024-2024-08-01-09-24', 'author': 'anonymous', 'subject': '', 'keywords': '', 'creator': 'Workiva', 'producer': 'Wdesk Fidelity Content Translations Version 010.001.139', 'creationDate': \"D:20240801162503+00'00'\", 'modDate': \"D:20240801162503+00'00'\", 'trapped': ''}, {'source': 'https://s2.q4cdn.com/470004039/files/doc_earnings/2024/q3/filing/_10-Q-Q3-2024-As-Filed.pdf', 'file_path': 'https://s2.q4cdn.com/470004039/files/doc_earnings/2024/q3/filing/_10-Q-Q3-2024-As-Filed.pdf', 'page': 16, 'total_pages': 28, 'format': 'PDF 1.4', 'title': '10-Q Q3 2024, 06.29.2024-2024-08-01-09-24', 'author': 'anonymous', 'subject': '', 'keywords': '', 'creator': 'Workiva', 'producer': 'Wdesk Fidelity Content Translations Version 010.001.139', 'creationDate': \"D:20240801162503+00'00'\", 'modDate': \"D:20240801162503+00'00'\", 'trapped': ''}]\n",
            "\n",
            "\n",
            "Question: What were the total assets of Apple Inc. as of June 29, 2024?\n",
            "Contexts: ['Apple Inc.\\nCONDENSED CONSOLIDATED BALANCE SHEETS (Unaudited)\\n(In millions, except number of shares, which are reflected in thousands, and par value)\\nJune 29,\\n2024\\nSeptember 30,\\n2023\\nASSETS:\\nCurrent assets:\\nCash and cash equivalents\\n$ \\n25,565 \\n$ \\n29,965 \\nMarketable securities\\n \\n36,236 \\n \\n31,590 \\nAccounts receivable, net\\n \\n22,795 \\n \\n29,508 \\nVendor non-trade receivables\\n \\n20,377 \\n \\n31,477 \\nInventories\\n \\n6,165 \\n \\n6,331 \\nOther current assets\\n \\n14,297 \\n \\n14,695 \\nTotal current assets\\n \\n125,435 \\n \\n143,566 \\nNon-current assets:\\nMarketable securities\\n \\n91,240 \\n \\n100,544 \\nProperty, plant and equipment, net\\n \\n44,502 \\n \\n43,715 \\nOther non-current assets\\n \\n70,435 \\n \\n64,758 \\nTotal non-current assets\\n \\n206,177 \\n \\n209,017 \\nTotal assets\\n$ \\n331,612 \\n$ \\n352,583 \\nLIABILITIES AND SHAREHOLDERS’ EQUITY:\\nCurrent liabilities:\\nAccounts payable\\n$ \\n47,574 \\n$ \\n62,611 \\nOther current liabilities\\n \\n60,889 \\n \\n58,829 \\nDeferred revenue\\n \\n8,053 \\n \\n8,061 \\nCommercial paper\\n \\n2,994 \\n \\n5,985 \\nTerm debt\\n \\n12,114 \\n \\n9,822 \\nTotal current liabilities\\n \\n131,624 \\n \\n145,308 \\nNon-current liabilities:\\nTerm debt\\n \\n86,196 \\n \\n95,281 \\nOther non-current liabilities\\n \\n47,084 \\n \\n49,848 \\nTotal non-current liabilities\\n \\n133,280 \\n \\n145,129 \\nTotal liabilities\\n \\n264,904 \\n \\n290,437 \\nCommitments and contingencies\\nShareholders’ equity:\\nCommon stock and additional paid-in capital, $0.00001 par value: 50,400,000 shares \\nauthorized; 15,222,259 and 15,550,061 shares issued and outstanding, respectively\\n \\n79,850 \\n \\n73,812 \\nAccumulated deficit\\n \\n(4,726)  \\n(214) \\nAccumulated other comprehensive loss\\n \\n(8,416)  \\n(11,452) \\nTotal shareholders’ equity\\n \\n66,708 \\n \\n62,146 \\nTotal liabilities and shareholders’ equity\\n$ \\n331,612 \\n$ \\n352,583 \\nSee accompanying Notes to Condensed Consolidated Financial Statements.\\nApple Inc. | Q3 2024 Form 10-Q | 3\\n']\n",
            "Ground Truth: The total assets of Apple Inc. as of June 29, 2024, were $331,612 million.\n",
            "Evolution Type: simple\n",
            "Metadata: [{'source': 'https://s2.q4cdn.com/470004039/files/doc_earnings/2024/q3/filing/_10-Q-Q3-2024-As-Filed.pdf', 'file_path': 'https://s2.q4cdn.com/470004039/files/doc_earnings/2024/q3/filing/_10-Q-Q3-2024-As-Filed.pdf', 'page': 5, 'total_pages': 28, 'format': 'PDF 1.4', 'title': '10-Q Q3 2024, 06.29.2024-2024-08-01-09-24', 'author': 'anonymous', 'subject': '', 'keywords': '', 'creator': 'Workiva', 'producer': 'Wdesk Fidelity Content Translations Version 010.001.139', 'creationDate': \"D:20240801162503+00'00'\", 'modDate': \"D:20240801162503+00'00'\", 'trapped': ''}]\n",
            "\n",
            "\n",
            "Question: What requirements of the Securities Exchange Act of 1934 does the Quarterly Report of Apple Inc. comply with?\n",
            "Contexts: ['Exhibit 32.1\\nCERTIFICATIONS OF CHIEF EXECUTIVE OFFICER AND CHIEF FINANCIAL OFFICER\\nPURSUANT TO\\n18 U.S.C. SECTION 1350,\\nAS ADOPTED PURSUANT TO\\nSECTION 906 OF THE SARBANES-OXLEY ACT OF 2002\\nI, Timothy D. Cook, certify, as of the date hereof, pursuant to 18 U.S.C. Section 1350, as adopted pursuant to Section 906 of the \\nSarbanes-Oxley Act of 2002, that the Quarterly Report of Apple Inc. on Form 10-Q for the period ended June\\xa029, 2024 fully \\ncomplies with the requirements of Section 13(a) or 15(d) of the Securities Exchange Act of 1934 and that information contained in \\nsuch Form 10-Q fairly presents in all material respects the financial condition and results of operations of Apple Inc. at the dates \\nand for the periods indicated.\\nDate: August\\xa01, 2024\\nBy:\\n/s/ Timothy D. Cook\\nTimothy D. Cook\\nChief Executive Officer\\nI, Luca Maestri, certify, as of the date hereof, pursuant to 18 U.S.C. Section 1350, as adopted pursuant to Section 906 of the \\nSarbanes-Oxley Act of 2002, that the Quarterly Report of Apple Inc. on Form 10-Q for the period ended June\\xa029, 2024 fully \\ncomplies with the requirements of Section 13(a) or 15(d) of the Securities Exchange Act of 1934 and that information contained in \\nsuch Form 10-Q fairly presents in all material respects the financial condition and results of operations of Apple Inc. at the dates \\nand for the periods indicated.\\nDate: August\\xa01, 2024\\nBy:\\n/s/ Luca Maestri\\nLuca Maestri\\nSenior Vice President,\\nChief Financial Officer\\nA signed original of this written statement required by Section 906 has been provided to Apple Inc. and will be retained by Apple \\nInc. and furnished to the Securities and Exchange Commission or its staff upon request.\\n']\n",
            "Ground Truth: The Quarterly Report of Apple Inc. complies with the requirements of Section 13(a) or 15(d) of the Securities Exchange Act of 1934.\n",
            "Evolution Type: simple\n",
            "Metadata: [{'source': 'https://s2.q4cdn.com/470004039/files/doc_earnings/2024/q3/filing/_10-Q-Q3-2024-As-Filed.pdf', 'file_path': 'https://s2.q4cdn.com/470004039/files/doc_earnings/2024/q3/filing/_10-Q-Q3-2024-As-Filed.pdf', 'page': 27, 'total_pages': 28, 'format': 'PDF 1.4', 'title': '10-Q Q3 2024, 06.29.2024-2024-08-01-09-24', 'author': 'anonymous', 'subject': '', 'keywords': '', 'creator': 'Workiva', 'producer': 'Wdesk Fidelity Content Translations Version 010.001.139', 'creationDate': \"D:20240801162503+00'00'\", 'modDate': \"D:20240801162503+00'00'\", 'trapped': ''}]\n",
            "\n",
            "\n",
            "Question: What factors can materially and adversely affect a company's stock price?\n",
            "Contexts: [' ended March 30, 2024 (the “second quarter 2024 Form 10-Q”), in each case under the \\nheading “Risk Factors.” When any one or more of these risks materialize from time to time, the Company’s business, reputation, \\nresults of operations, financial condition and stock price can be materially and adversely affected. Except for the risk factor \\ndisclosed in Part II, Item 1A of the second quarter 2024 Form 10-Q, which is hereby incorporated by reference into this Part II, \\nItem 1A of this Form 10-Q, there have been no material changes to the Company’s risk factors since the 2023 Form 10-K.\\nApple Inc. | Q3 2024 Form 10-Q | 19\\n']\n",
            "Ground Truth: The context mentions that the Company's business, reputation, results of operations, financial condition, and stock price can be materially and adversely affected when any one or more of the risks materialize.\n",
            "Evolution Type: simple\n",
            "Metadata: [{'source': 'https://s2.q4cdn.com/470004039/files/doc_earnings/2024/q3/filing/_10-Q-Q3-2024-As-Filed.pdf', 'file_path': 'https://s2.q4cdn.com/470004039/files/doc_earnings/2024/q3/filing/_10-Q-Q3-2024-As-Filed.pdf', 'page': 21, 'total_pages': 28, 'format': 'PDF 1.4', 'title': '10-Q Q3 2024, 06.29.2024-2024-08-01-09-24', 'author': 'anonymous', 'subject': '', 'keywords': '', 'creator': 'Workiva', 'producer': 'Wdesk Fidelity Content Translations Version 010.001.139', 'creationDate': \"D:20240801162503+00'00'\", 'modDate': \"D:20240801162503+00'00'\", 'trapped': ''}]\n",
            "\n",
            "\n",
            "Question: What certification is associated with the Chief Financial Officer in the context of the quarterly report?\n",
            "Contexts: ['Item 6. \\nExhibits\\nIncorporated by Reference\\nExhibit\\nNumber\\nExhibit Description\\nForm\\nExhibit\\nFiling Date/\\nPeriod End \\nDate\\n31.1*\\nRule 13a-14(a) / 15d-14(a) Certification of Chief Executive Officer.\\n31.2*\\nRule 13a-14(a) / 15d-14(a) Certification of Chief Financial Officer.\\n32.1**\\nSection 1350 Certifications of Chief Executive Officer and Chief Financial Officer.\\n101*\\nInline XBRL Document Set for the condensed consolidated financial statements \\nand accompanying notes in Part I, Item 1, “Financial Statements” of this \\nQuarterly Report on Form 10-Q.\\n104*\\nInline XBRL for the cover page of this Quarterly Report on Form 10-Q, included in \\nthe Exhibit 101 Inline XBRL Document Set.\\n* \\nFiled herewith.\\n** \\nFurnished herewith.\\nApple Inc. | Q3 2024 Form 10-Q | 21\\n']\n",
            "Ground Truth: The certification associated with the Chief Financial Officer in the context of the quarterly report is the Rule 13a-14(a) / 15d-14(a) Certification.\n",
            "Evolution Type: simple\n",
            "Metadata: [{'source': 'https://s2.q4cdn.com/470004039/files/doc_earnings/2024/q3/filing/_10-Q-Q3-2024-As-Filed.pdf', 'file_path': 'https://s2.q4cdn.com/470004039/files/doc_earnings/2024/q3/filing/_10-Q-Q3-2024-As-Filed.pdf', 'page': 23, 'total_pages': 28, 'format': 'PDF 1.4', 'title': '10-Q Q3 2024, 06.29.2024-2024-08-01-09-24', 'author': 'anonymous', 'subject': '', 'keywords': '', 'creator': 'Workiva', 'producer': 'Wdesk Fidelity Content Translations Version 010.001.139', 'creationDate': \"D:20240801162503+00'00'\", 'modDate': \"D:20240801162503+00'00'\", 'trapped': ''}]\n",
            "\n",
            "\n",
            "Question: What antitrust issues does the Company face in the DOJ suit, and how do they connect to EU Digital Markets Act probes?\n",
            "Contexts: ['PART II  —  OTHER INFORMATION\\nItem 1. \\nLegal Proceedings\\nDigital Markets Act Investigations\\nOn March 25, 2024, the Commission announced that it had opened two formal noncompliance investigations against the \\nCompany under the European Union (“EU”) Digital Markets Act (the “DMA”). The Commission’s investigations concern (1) Article \\n5(4) of the DMA, which relates to how developers may communicate and promote offers to end users for apps distributed \\nthrough the App Store as well as how developers may conclude contracts with those end users; and (2) Article 6(3) of the DMA, \\nwhich relates to default settings, uninstallation of apps, and a web browser choice screen on iOS. On June 24, 2024, the \\nCommission announced its preliminary findings in the Article 5(4) investigation alleging that the Company’s App Store rules are \\nin breach of the DMA and announced that it had opened a third formal investigation against the Company regarding whether the \\nCompany’s new contractual requirements for third-party app developers and app marketplaces may violate the DMA. If the \\nCommission makes a final determination that there has been a violation, it can issue a cease and desist order and may impose \\nfines up to 10% of the Company’s annual worldwide net sales. Although any decision by the Commission can be appealed to the \\nGeneral Court of the EU, the effectiveness of the Commission’s order would apply immediately while the appeal is pending, \\nunless a stay of the order is granted. The Company believes that it complies with the DMA and has continued to make changes \\nto its compliance plan in response to feedback and engagement with the Commission.\\nDepartment of Justice Lawsuit\\nOn March 21, 2024, the U.S. Department of Justice (the “DOJ”) and a number of state and district attorneys general filed a civil \\nantitrust lawsuit in the U.S. District Court for the District of New Jersey against the Company alleging monopolization or \\nattempted monopolization in the markets for “performance smartphones” and “smartphones” in violation of U.S. antitrust laws. \\nThe DOJ is seeking equitable relief to redress the alleged anticompetitive behavior. In addition, various civil litigation matters \\nhave been filed in state and federal courts in the U.S. alleging similar violations of U.S. antitrust laws and seeking monetary \\ndamages and other nonmonetary relief. The Company believes it has substantial defenses and intends to vigorously defend \\nitself.\\nEpic Games\\nEpic Games, Inc. (“Epic”) filed a lawsuit in the U.S. District Court for the Northern District of California (the “California District \\nCourt”) against the Company alleging violations of federal and state antitrust laws and California’s unfair competition law based \\nupon the Company’s operation of its App Store. The California District Court found that certain provisions of the Company’s App \\nStore Review Guidelines violate California’s unfair competition law and issued an injunction enjoining the Company from \\nprohibiting developers from including in their apps external links that direct customers to purchasing mechanisms other than \\nApple in-app purchasing. The injunction applies to apps on the U.S. storefront of the iOS and iPadOS App Store. On January 16, \\n2024, the Company implemented a plan to comply with the injunction and filed a statement of compliance with the California \\nDistrict Court. A motion by Epic disputing the Company’s compliance plan and seeking to enforce the injunction, which the \\nCompany has opposed, is pending before the California District Court. The Company believes it has substantial defenses and \\nintends to vigorously defend itself.\\nOther Legal Proceedings\\nThe Company is subject to other legal proceedings and claims that have not been fully resolved and that have arisen in the \\nordinary course of business. The Company settled certain matters during the third quarter of 2024 that did not individually or in \\nthe aggregate have a material impact on the Company’s financial condition or operating results. The outcome of litigation is \\ninherently uncertain. If one or more legal matters were resolved against the Company in a reporting period for amounts above \\nmanagement’s expectations, the Company’s financial condition and operating results for that reporting period could be materially \\nadversely affected.\\nItem 1A. \\nRisk Factors\\nThe Company’s business, reputation, results of operations, financial condition and stock price can be affected by a number of \\nfactors, whether currently known or unknown, including those described in Part I, Item 1A of the 2023 Form 10-K and Part II, \\nItem 1A of the Form 10-Q for the quarter']\n",
            "Ground Truth: The Company faces antitrust issues in the DOJ suit alleging monopolization or attempted monopolization in the markets for 'performance smartphones' and 'smartphones' in violation of U.S. antitrust laws. This connects to the EU Digital Markets Act probes as the Commission has opened investigations against the Company under the DMA, concerning its App Store rules and contractual requirements for third-party app developers, which may also indicate anticompetitive behavior similar to that alleged in the DOJ lawsuit.\n",
            "Evolution Type: multi_context\n",
            "Metadata: [{'source': 'https://s2.q4cdn.com/470004039/files/doc_earnings/2024/q3/filing/_10-Q-Q3-2024-As-Filed.pdf', 'file_path': 'https://s2.q4cdn.com/470004039/files/doc_earnings/2024/q3/filing/_10-Q-Q3-2024-As-Filed.pdf', 'page': 21, 'total_pages': 28, 'format': 'PDF 1.4', 'title': '10-Q Q3 2024, 06.29.2024-2024-08-01-09-24', 'author': 'anonymous', 'subject': '', 'keywords': '', 'creator': 'Workiva', 'producer': 'Wdesk Fidelity Content Translations Version 010.001.139', 'creationDate': \"D:20240801162503+00'00'\", 'modDate': \"D:20240801162503+00'00'\", 'trapped': ''}]\n",
            "\n",
            "\n",
            "Question: How many shares were repurchased by June 29, 2024, and what’s the impact on shareholders' equity?\n",
            "Contexts: ['Item 2. \\nUnregistered Sales of Equity Securities and Use of Proceeds\\nPurchases of Equity Securities by the Issuer and Affiliated Purchasers\\nShare repurchase activity during the three months ended June\\xa029, 2024 was as follows (in millions, except number of shares, \\nwhich are reflected in thousands, and per-share amounts):\\nPeriods\\nTotal Number\\nof Shares \\nPurchased\\nAverage \\nPrice\\nPaid Per \\nShare\\nTotal Number \\nof Shares\\nPurchased as \\nPart of Publicly\\nAnnounced \\nPlans or \\nPrograms\\nApproximate \\nDollar Value of\\nShares That May \\nYet Be Purchased\\nUnder the Plans \\nor Programs (1)\\nMarch 31, 2024 to May 4, 2024:\\nOpen market and privately negotiated purchases\\n \\n45,690 \\n$ \\n169.74 \\n \\n45,690 \\nMay 5, 2024 to June 1, 2024:\\nOpen market and privately negotiated purchases\\n \\n51,729 \\n$ \\n188.38 \\n \\n51,729 \\nJune 2, 2024 to June 29, 2024:\\nOpen market and privately negotiated purchases\\n \\n41,354 \\n$ \\n205.54 \\n \\n41,354 \\nTotal\\n \\n138,773 \\n$ \\n114,074 \\n(1)\\nOn May 4, 2023, the Board of Directors authorized the purchase of up to $90 billion of the Company’s common stock under \\na share repurchase program. As of June\\xa029, 2024, remaining availability under the May 2023 program was $4.1 billion. On \\nMay 2, 2024, the Board of Directors authorized an additional program to repurchase up to $110 billion of the Company’s \\ncommon stock. The programs do not obligate the Company to acquire a minimum amount of shares. Under the programs, \\nshares may be repurchased in privately negotiated or open market transactions, including under plans complying with Rule \\n10b5-1 under the Exchange Act.\\nItem 3. \\nDefaults Upon Senior Securities\\nNone.\\nItem 4. \\nMine Safety Disclosures\\nNot applicable.\\nItem 5. \\nOther Information\\nInsider Trading Arrangements\\nOn May 24, 2024, Tim Cook, the Company’s Chief Executive Officer, entered into a trading plan intended to satisfy the \\naffirmative defense conditions of Rule 10b5-1(c) under the Exchange Act. The plan provides for the sale, subject to certain price \\nlimits, of shares vesting during the duration of the plan pursuant to certain equity awards granted to Mr. Cook, excluding shares \\nwithheld by the Company to satisfy income tax withholding and remittance obligations. Mr. Cook’s plan will expire on May 24, \\n2026, subject to early termination in accordance with the terms of the plan.\\nApple Inc. | Q3 2024 Form 10-Q | 20\\n', 'Apple Inc.\\nCONDENSED CONSOLIDATED STATEMENTS OF SHAREHOLDERS’ EQUITY (Unaudited)\\n(In millions, except per-share amounts)\\nThree Months Ended\\nNine Months Ended\\nJune 29,\\n2024\\nJuly 1,\\n2023\\nJune 29,\\n2024\\nJuly 1,\\n2023\\nTotal shareholders’ equity, beginning balances\\n$ \\n74,194 \\n$ \\n62,158 \\n$ \\n62,146 \\n$ \\n50,672 \\nCommon stock and additional paid-in capital:\\nBeginning balances\\n \\n78,815 \\n \\n69,568 \\n \\n73,812 \\n \\n64,849 \\nCommon stock issued\\n \\n— \\n \\n— \\n \\n752 \\n \\n690 \\nCommon stock withheld related to net share settlement \\nof equity awards\\n \\n(1,920)  \\n(1,595)  \\n(3,802)  \\n(3,310) \\nShare-based compensation\\n \\n2,955 \\n \\n2,694 \\n \\n9,088 \\n \\n8,438 \\nEnding balances\\n \\n79,850 \\n \\n70,667 \\n \\n79,850 \\n \\n70,667 \\nRetained earnings/(Accumulated deficit):\\nBeginning balances\\n \\n4,339 \\n \\n4,336 \\n \\n(214)  \\n(3,068) \\nNet income\\n \\n21,448 \\n \\n19,881 \\n \\n79,000 \\n \\n74,039 \\nDividends and dividend equivalents declared\\n \\n(3,864)  \\n(3,811)  \\n(11,384)  \\n(11,207) \\nCommon stock withheld related to net share settlement \\nof equity awards\\n \\n(428)  \\n(858)  \\n(1,517)  \\n(1,988) \\nCommon stock repurchased\\n \\n(26,221)  \\n(18,140)  \\n(70,611)  \\n(56,368) \\nEnding balances\\n \\n(4,726)  \\n1,408 \\n \\n(4,726)  \\n1,408 \\nAccumulated other comprehensive income/(loss):\\nBeginning balances\\n \\n(8,960)  \\n(11,746)  \\n(11,452)  \\n(11,109) \\nOther comprehensive income/(loss)\\n \\n544 \\n \\n(55)  \\n3,036 \\n \\n(692) \\nEnding balances\\n \\n(8,416)  \\n(11,801)  \\n(8,416)  \\n(11,801) \\nTotal shareholders’ equity, ending balances\\n$ \\n66,708 \\n$ \\n60,274 \\n$ \\n66,708 \\n$ \\n60,274 \\nDividends and dividend equivalents declared per share or RSU\\n$ \\n0.25 \\n$ \\n0.24 \\n$ \\n0.73 \\n$ \\n0.70 \\nSee accompanying Notes to Condensed Consolidated Financial Statements.\\nApple Inc. | Q3 2024 Form 10-Q | 4\\n']\n",
            "Ground Truth: By June 29, 2024, a total of 138,773 shares were repurchased. The impact on shareholders' equity includes a reduction in retained earnings due to common stock repurchased amounting to $70,611 million, which contributed to an ending balance of total shareholders' equity of $66,708 million.\n",
            "Evolution Type: multi_context\n",
            "Metadata: [{'source': 'https://s2.q4cdn.com/470004039/files/doc_earnings/2024/q3/filing/_10-Q-Q3-2024-As-Filed.pdf', 'file_path': 'https://s2.q4cdn.com/470004039/files/doc_earnings/2024/q3/filing/_10-Q-Q3-2024-As-Filed.pdf', 'page': 22, 'total_pages': 28, 'format': 'PDF 1.4', 'title': '10-Q Q3 2024, 06.29.2024-2024-08-01-09-24', 'author': 'anonymous', 'subject': '', 'keywords': '', 'creator': 'Workiva', 'producer': 'Wdesk Fidelity Content Translations Version 010.001.139', 'creationDate': \"D:20240801162503+00'00'\", 'modDate': \"D:20240801162503+00'00'\", 'trapped': ''}, {'source': 'https://s2.q4cdn.com/470004039/files/doc_earnings/2024/q3/filing/_10-Q-Q3-2024-As-Filed.pdf', 'file_path': 'https://s2.q4cdn.com/470004039/files/doc_earnings/2024/q3/filing/_10-Q-Q3-2024-As-Filed.pdf', 'page': 6, 'total_pages': 28, 'format': 'PDF 1.4', 'title': '10-Q Q3 2024, 06.29.2024-2024-08-01-09-24', 'author': 'anonymous', 'subject': '', 'keywords': '', 'creator': 'Workiva', 'producer': 'Wdesk Fidelity Content Translations Version 010.001.139', 'creationDate': \"D:20240801162503+00'00'\", 'modDate': \"D:20240801162503+00'00'\", 'trapped': ''}]\n",
            "\n",
            "\n",
            "Question: What's Apple's net income for Q2 2024 vs. last year?\n",
            "Contexts: ['Apple Inc.\\nCONDENSED CONSOLIDATED STATEMENTS OF COMPREHENSIVE INCOME (Unaudited)\\n(In millions)\\nThree Months Ended\\nNine Months Ended\\nJune 29,\\n2024\\nJuly 1,\\n2023\\nJune 29,\\n2024\\nJuly 1,\\n2023\\nNet income\\n$ \\n21,448 \\n$ \\n19,881 \\n$ \\n79,000 \\n$ \\n74,039 \\nOther comprehensive income/(loss):\\nChange in foreign currency translation, net of tax\\n \\n(73)  \\n(385)  \\n(87)  \\n(494) \\nChange in unrealized gains/losses on derivative \\ninstruments, net of tax:\\nChange in fair value of derivative instruments\\n \\n406 \\n \\n509 \\n \\n331 \\n \\n(492) \\nAdjustment for net (gains)/losses realized and included \\nin net income\\n \\n(87)  \\n103 \\n \\n(678)  \\n(1,854) \\nTotal change in unrealized gains/losses on \\nderivative instruments\\n \\n319 \\n \\n612 \\n \\n(347)  \\n(2,346) \\nChange in unrealized gains/losses on marketable debt \\nsecurities, net of tax:\\nChange in fair value of marketable debt securities\\n \\n268 \\n \\n(340)  \\n3,306 \\n \\n1,963 \\nAdjustment for net (gains)/losses realized and included \\nin net income\\n \\n30 \\n \\n58 \\n \\n164 \\n \\n185 \\nTotal change in unrealized gains/losses on \\nmarketable debt securities\\n \\n298 \\n \\n(282)  \\n3,470 \\n \\n2,148 \\nTotal other comprehensive income/(loss)\\n \\n544 \\n \\n(55)  \\n3,036 \\n \\n(692) \\nTotal comprehensive income\\n$ \\n21,992 \\n$ \\n19,826 \\n$ \\n82,036 \\n$ \\n73,347 \\nSee accompanying Notes to Condensed Consolidated Financial Statements.\\nApple Inc. | Q3 2024 Form 10-Q | 2\\n', 'PART I  —  FINANCIAL INFORMATION\\nItem 1. Financial Statements\\nApple Inc.\\nCONDENSED CONSOLIDATED STATEMENTS OF OPERATIONS (Unaudited)\\n(In millions, except number of shares, which are reflected in thousands, and per-share amounts)\\nThree Months Ended\\nNine Months Ended\\nJune 29,\\n2024\\nJuly 1,\\n2023\\nJune 29,\\n2024\\nJuly 1,\\n2023\\nNet sales:\\n   Products\\n$ \\n61,564 \\n$ \\n60,584 \\n$ \\n224,908 \\n$ \\n230,901 \\n   Services\\n \\n24,213 \\n \\n21,213 \\n \\n71,197 \\n \\n62,886 \\nTotal net sales\\n \\n85,777 \\n \\n81,797 \\n \\n296,105 \\n \\n293,787 \\nCost of sales:\\n   Products\\n \\n39,803 \\n \\n39,136 \\n \\n140,667 \\n \\n146,696 \\n   Services\\n \\n6,296 \\n \\n6,248 \\n \\n18,634 \\n \\n18,370 \\nTotal cost of sales\\n \\n46,099 \\n \\n45,384 \\n \\n159,301 \\n \\n165,066 \\nGross margin\\n \\n39,678 \\n \\n36,413 \\n \\n136,804 \\n \\n128,721 \\nOperating expenses:\\nResearch and development\\n \\n8,006 \\n \\n7,442 \\n \\n23,605 \\n \\n22,608 \\nSelling, general and administrative\\n \\n6,320 \\n \\n5,973 \\n \\n19,574 \\n \\n18,781 \\nTotal operating expenses\\n \\n14,326 \\n \\n13,415 \\n \\n43,179 \\n \\n41,389 \\nOperating income\\n \\n25,352 \\n \\n22,998 \\n \\n93,625 \\n \\n87,332 \\nOther income/(expense), net\\n \\n142 \\n \\n(265)  \\n250 \\n \\n(594) \\nIncome before provision for income taxes\\n \\n25,494 \\n \\n22,733 \\n \\n93,875 \\n \\n86,738 \\nProvision for income taxes\\n \\n4,046 \\n \\n2,852 \\n \\n14,875 \\n \\n12,699 \\nNet income\\n$ \\n21,448 \\n$ \\n19,881 \\n$ \\n79,000 \\n$ \\n74,039 \\nEarnings per share:\\nBasic\\n$ \\n1.40 \\n$ \\n1.27 \\n$ \\n5.13 \\n$ \\n4.69 \\nDiluted\\n$ \\n1.40 \\n$ \\n1.26 \\n$ \\n5.11 \\n$ \\n4.67 \\nShares used in computing earnings per share:\\nBasic\\n 15,287,521 \\n 15,697,614 \\n 15,401,047 \\n 15,792,497 \\nDiluted\\n 15,348,175 \\n 15,775,021 \\n 15,463,175 \\n 15,859,263 \\nSee accompanying Notes to Condensed Consolidated Financial Statements.\\nApple Inc. | Q3 2024 Form 10-Q | 1\\n']\n",
            "Ground Truth: The context does not provide information about Apple's net income for Q2 2024 or the comparison to the previous year.\n",
            "Evolution Type: multi_context\n",
            "Metadata: [{'source': 'https://s2.q4cdn.com/470004039/files/doc_earnings/2024/q3/filing/_10-Q-Q3-2024-As-Filed.pdf', 'file_path': 'https://s2.q4cdn.com/470004039/files/doc_earnings/2024/q3/filing/_10-Q-Q3-2024-As-Filed.pdf', 'page': 4, 'total_pages': 28, 'format': 'PDF 1.4', 'title': '10-Q Q3 2024, 06.29.2024-2024-08-01-09-24', 'author': 'anonymous', 'subject': '', 'keywords': '', 'creator': 'Workiva', 'producer': 'Wdesk Fidelity Content Translations Version 010.001.139', 'creationDate': \"D:20240801162503+00'00'\", 'modDate': \"D:20240801162503+00'00'\", 'trapped': ''}, {'source': 'https://s2.q4cdn.com/470004039/files/doc_earnings/2024/q3/filing/_10-Q-Q3-2024-As-Filed.pdf', 'file_path': 'https://s2.q4cdn.com/470004039/files/doc_earnings/2024/q3/filing/_10-Q-Q3-2024-As-Filed.pdf', 'page': 3, 'total_pages': 28, 'format': 'PDF 1.4', 'title': '10-Q Q3 2024, 06.29.2024-2024-08-01-09-24', 'author': 'anonymous', 'subject': '', 'keywords': '', 'creator': 'Workiva', 'producer': 'Wdesk Fidelity Content Translations Version 010.001.139', 'creationDate': \"D:20240801162503+00'00'\", 'modDate': \"D:20240801162503+00'00'\", 'trapped': ''}]\n",
            "\n",
            "\n",
            "Question: What dual roles do Cook and Maestri play in Apple's financial disclosures?\n",
            "Contexts: ['Exhibit 31.1\\nCERTIFICATION\\nI, Timothy D. Cook, certify that:\\n1.\\nI have reviewed this quarterly report on Form 10-Q of Apple Inc.;\\n2.\\nBased on my knowledge, this report does not contain any untrue statement of a material fact or omit to state a material fact \\nnecessary to make the statements made, in light of the circumstances under which such statements were made, not \\nmisleading with respect to the period covered by this report;\\n3.\\nBased on my knowledge, the financial statements, and other financial information included in this report, fairly present in all \\nmaterial respects the financial condition, results of operations and cash flows of the Registrant as of, and for, the periods \\npresented in this report;\\n4.\\nThe Registrant’s other certifying officer(s) and I are responsible for establishing and maintaining disclosure controls and \\nprocedures (as defined in Exchange Act Rules 13a-15(e) and 15d-15(e)) and internal control over financial reporting (as \\ndefined in Exchange Act Rules 13a-15(f) and 15d-15(f)) for the Registrant and have:\\n(a) Designed such disclosure controls and procedures, or caused such disclosure controls and procedures to be \\ndesigned under our supervision, to ensure that material information relating to the Registrant, including its \\nconsolidated subsidiaries, is made known to us by others within those entities, particularly during the period in \\nwhich this report is being prepared;\\n(b) Designed such internal control over financial reporting, or caused such internal control over financial reporting \\nto be designed under our supervision, to provide reasonable assurance regarding the reliability of financial \\nreporting and the preparation of financial statements for external purposes in accordance with generally \\naccepted accounting principles;\\n(c)\\nEvaluated the effectiveness of the Registrant’s disclosure controls and procedures and presented in this report \\nour conclusions about the effectiveness of the disclosure controls and procedures, as of the end of the period \\ncovered by this report based on such evaluation; and\\n(d) Disclosed in this report any change in the Registrant’s internal control over financial reporting that occurred \\nduring the Registrant’s most recent fiscal quarter (the Registrant’s fourth fiscal quarter in the case of an annual \\nreport) that has materially affected, or is reasonably likely to materially affect, the Registrant’s internal control \\nover financial reporting; and\\n5.\\nThe Registrant’s other certifying officer(s) and I have disclosed, based on our most recent evaluation of internal control over \\nfinancial reporting, to the Registrant’s auditors and the audit committee of the Registrant’s board of directors (or persons \\nperforming the equivalent functions):\\n(a) All significant deficiencies and material weaknesses in the design or operation of internal control over financial \\nreporting which are reasonably likely to adversely affect the Registrant’s ability to record, process, summarize \\nand report financial information; and\\n(b) Any fraud, whether or not material, that involves management or other employees who have a significant role \\nin the Registrant’s internal control over financial reporting.\\nDate: August\\xa01, 2024\\nBy:\\n/s/ Timothy D. Cook\\nTimothy D. Cook\\nChief Executive Officer\\n', 'Exhibit 31.2\\nCERTIFICATION\\nI, Luca Maestri, certify that:\\n1.\\nI have reviewed this quarterly report on Form 10-Q of Apple Inc.;\\n2.\\nBased on my knowledge, this report does not contain any untrue statement of a material fact or omit to state a material fact \\nnecessary to make the statements made, in light of the circumstances under which such statements were made, not \\nmisleading with respect to the period covered by this report;\\n3.\\nBased on my knowledge, the financial statements, and other financial information included in this report, fairly present in all \\nmaterial respects the financial condition, results of operations and cash flows of the Registrant as of, and for, the periods \\npresented in this report;\\n4.\\nThe Registrant’s other certifying officer(s) and I are responsible for establishing and maintaining disclosure controls and \\nprocedures (as defined in Exchange Act Rules 13a-15(e) and 15d-15(e)) and internal control over financial reporting (as \\ndefined in Exchange Act Rules 13a-15(f) and 15d-15(f)) for the Registrant and have:\\n(a) Designed such disclosure controls and procedures, or caused such disclosure controls and procedures to be \\ndesigned under our supervision, to ensure that material information relating to the Registrant, including its \\nconsolidated subsidiaries, is made known to us by others within those entities, particularly during the period in \\nwhich this report is being prepared;\\n(b) Designed such internal control over financial reporting, or caused such internal control over financial reporting \\nto be designed under our supervision, to provide reasonable assurance regarding the reliability of financial \\nreporting and the preparation of financial statements for external purposes in accordance with generally \\naccepted accounting principles;\\n(c)\\nEvaluated the effectiveness of the Registrant’s disclosure controls and procedures and presented in this report \\nour conclusions about the effectiveness of the disclosure controls and procedures, as of the end of the period \\ncovered by this report based on such evaluation; and\\n(d) Disclosed in this report any change in the Registrant’s internal control over financial reporting that occurred \\nduring the Registrant’s most recent fiscal quarter (the Registrant’s fourth fiscal quarter in the case of an annual \\nreport) that has materially affected, or is reasonably likely to materially affect, the Registrant’s internal control \\nover financial reporting; and\\n5.\\nThe Registrant’s other certifying officer(s) and I have disclosed, based on our most recent evaluation of internal control over \\nfinancial reporting, to the Registrant’s auditors and the audit committee of the Registrant’s board of directors (or persons \\nperforming the equivalent functions):\\n(a) All significant deficiencies and material weaknesses in the design or operation of internal control over financial \\nreporting which are reasonably likely to adversely affect the Registrant’s ability to record, process, summarize \\nand report financial information; and\\n(b) Any fraud, whether or not material, that involves management or other employees who have a significant role in \\nthe Registrant’s internal control over financial reporting.\\nDate: August\\xa01, 2024\\nBy:\\n/s/ Luca Maestri\\nLuca Maestri\\nSenior Vice President,\\nChief Financial Officer\\n']\n",
            "Ground Truth: Timothy D. Cook and Luca Maestri play dual roles as the Chief Executive Officer and Chief Financial Officer, respectively, in Apple's financial disclosures. They are responsible for certifying the quarterly report on Form 10-Q, ensuring that the report does not contain any untrue statements and that the financial statements fairly present the financial condition and results of operations of the Registrant.\n",
            "Evolution Type: multi_context\n",
            "Metadata: [{'source': 'https://s2.q4cdn.com/470004039/files/doc_earnings/2024/q3/filing/_10-Q-Q3-2024-As-Filed.pdf', 'file_path': 'https://s2.q4cdn.com/470004039/files/doc_earnings/2024/q3/filing/_10-Q-Q3-2024-As-Filed.pdf', 'page': 25, 'total_pages': 28, 'format': 'PDF 1.4', 'title': '10-Q Q3 2024, 06.29.2024-2024-08-01-09-24', 'author': 'anonymous', 'subject': '', 'keywords': '', 'creator': 'Workiva', 'producer': 'Wdesk Fidelity Content Translations Version 010.001.139', 'creationDate': \"D:20240801162503+00'00'\", 'modDate': \"D:20240801162503+00'00'\", 'trapped': ''}, {'source': 'https://s2.q4cdn.com/470004039/files/doc_earnings/2024/q3/filing/_10-Q-Q3-2024-As-Filed.pdf', 'file_path': 'https://s2.q4cdn.com/470004039/files/doc_earnings/2024/q3/filing/_10-Q-Q3-2024-As-Filed.pdf', 'page': 26, 'total_pages': 28, 'format': 'PDF 1.4', 'title': '10-Q Q3 2024, 06.29.2024-2024-08-01-09-24', 'author': 'anonymous', 'subject': '', 'keywords': '', 'creator': 'Workiva', 'producer': 'Wdesk Fidelity Content Translations Version 010.001.139', 'creationDate': \"D:20240801162503+00'00'\", 'modDate': \"D:20240801162503+00'00'\", 'trapped': ''}]\n",
            "\n",
            "\n",
            "Question: How did Apple’s net sales vary by product and region for the three and nine months ending June 29, 2024, vs. 2023?\n",
            "Contexts: ['Products and Services Performance\\nThe following table shows net sales by category for the three- and nine-month periods ended June 29, 2024 and July\\xa01, 2023 \\n(dollars in millions):\\nThree Months Ended\\nNine Months Ended\\nJune 29,\\n2024\\nJuly 1,\\n2023\\nChange\\nJune 29,\\n2024\\nJuly 1,\\n2023\\nChange\\nNet sales by category:\\niPhone\\n$ \\n39,296 \\n$ \\n39,669 \\n (1) % $ 154,961 \\n$ 156,778 \\n (1) %\\nMac\\n \\n7,009 \\n \\n6,840 \\n 2 %  \\n22,240 \\n \\n21,743 \\n 2 %\\niPad\\n \\n7,162 \\n \\n5,791 \\n 24 %  \\n19,744 \\n \\n21,857 \\n (10) %\\nWearables, Home and Accessories\\n \\n8,097 \\n \\n8,284 \\n (2) %  \\n27,963 \\n \\n30,523 \\n (8) %\\nServices\\n \\n24,213 \\n \\n21,213 \\n 14 %  \\n71,197 \\n \\n62,886 \\n 13 %\\nTotal net sales\\n$ \\n85,777 \\n$ \\n81,797 \\n 5 % $ 296,105 \\n$ 293,787 \\n 1 %\\niPhone\\niPhone net sales were relatively flat during the third quarter and first nine months of 2024 compared to the same periods in 2023.\\nMac\\nMac net sales increased during the third quarter and first nine months of 2024 compared to the same periods in 2023 due to \\nhigher net sales of laptops.\\niPad\\niPad net sales increased during the third quarter of 2024 compared to the third quarter of 2023 due primarily to higher net sales \\nof iPad Pro and iPad Air. Year-over-year iPad net sales decreased during the first nine months of 2024 due primarily to lower net \\nsales of iPad 9th generation and iPad Pro, partially offset by higher net sales of iPad 10th generation.\\nWearables, Home and Accessories\\nWearables, Home and Accessories net sales decreased during the third quarter of 2024 compared to the third quarter of 2023 \\ndue primarily to lower net sales of Wearables. Year-over-year Wearables, Home and Accessories net sales decreased during the \\nfirst nine months of 2024 due primarily to lower net sales of Wearables and Accessories.\\nServices\\nServices net sales increased during the third quarter and first nine months of 2024 compared to the same periods in 2023 due \\nprimarily to higher net sales from advertising, the App Store® and cloud services.\\nApple Inc. | Q3 2024 Form 10-Q | 15\\n', 'Segment Operating Performance\\nThe following table shows net sales by reportable segment for the three- and nine-month periods ended June 29, 2024 and \\nJuly\\xa01, 2023 (dollars in millions):\\nThree Months Ended\\nNine Months Ended\\nJune 29,\\n2024\\nJuly 1,\\n2023\\nChange\\nJune 29,\\n2024\\nJuly 1,\\n2023\\nChange\\nNet sales by reportable segment:\\nAmericas\\n$ \\n37,678 \\n$ \\n35,383 \\n 6 % $ 125,381 \\n$ 122,445 \\n 2 %\\nEurope\\n \\n21,884 \\n \\n20,205 \\n 8 %  \\n76,404 \\n \\n71,831 \\n 6 %\\nGreater China\\n \\n14,728 \\n \\n15,758 \\n (7) %  \\n51,919 \\n \\n57,475 \\n (10) %\\nJapan\\n \\n5,097 \\n \\n4,821 \\n 6 %  \\n19,126 \\n \\n18,752 \\n 2 %\\nRest of Asia Pacific\\n \\n6,390 \\n \\n5,630 \\n 13 %  \\n23,275 \\n \\n23,284 \\n — %\\nTotal net sales\\n$ \\n85,777 \\n$ \\n81,797 \\n 5 % $ 296,105 \\n$ 293,787 \\n 1 %\\nAmericas\\nAmericas net sales increased during the third quarter of 2024 compared to the third quarter of 2023 due primarily to higher net \\nsales of Services and iPad. Year-over-year Americas net sales increased during the first nine months of 2024 due primarily to \\nhigher net sales of Services, partially offset by lower net sales of iPhone and Wearables, Home and Accessories. The strength in \\nforeign currencies relative to the U.S. dollar had a net favorable year-over-year impact on Americas net sales during the first nine \\nmonths of 2024.\\nEurope\\nEurope net sales increased during the third quarter of 2024 compared to the third quarter of 2023 due primarily to higher net \\nsales of Services and iPad. The weakness in foreign currencies relative to the U.S. dollar had a net unfavorable year-over-year \\nimpact on Europe net sales during the third quarter of 2024. Year-over-year Europe net sales increased during the first nine \\nmonths of 2024 due primarily to higher net sales of Services and iPhone, partially offset by lower net sales of Wearables, Home \\nand Accessories.\\nGreater China\\nGreater China net sales decreased during the third quarter of 2024 compared to the third quarter of 2023 due primarily to lower \\nnet sales of iPhone. Year-over-year Greater China net sales decreased during the first nine months of 2024 due primarily to \\nlower net sales of iPhone and iPad. The weakness in the renminbi relative to the U.S. dollar had an unfavorable year-over-year \\nimpact on Greater China net sales during the third quarter and first nine months of 2024.\\nJapan\\nJapan net sales increased during the third quarter of 2024 compared to the third quarter of 2023 due primarily to higher net sales \\nof iPhone and iPad. Year-over-year Japan net sales increased during the first nine months of 2024 due primarily to higher net \\nsales of iPhone, partially offset by lower net sales of Wearables, Home and Accessories. The weakness in the yen relative to the \\nU.S. dollar had an unfavorable year-over-year impact on Japan net sales during the third quarter and first nine months of 2024.\\nRest of Asia Pacific\\nRest of Asia Pacific net sales increased during the third quarter of 2024 compared to the third quarter of 2023 due primarily to \\nhigher net sales of Services, iPhone and iPad. Year-over-year Rest of Asia Pacific net sales were relatively flat during the first \\nnine months of 2024. The weakness in foreign currencies relative to the U.S. dollar had a net unfavorable year-over-year impact \\non Rest of Asia Pacific net sales during the third quarter and first nine months of 2024.\\nApple Inc. | Q3 2024 Form 10-Q | 14\\n']\n",
            "Ground Truth: Apple's net sales varied by product and region for the three and nine months ending June 29, 2024, compared to 2023 as follows: \n",
            "- iPhone: Net sales were relatively flat during the third quarter and first nine months of 2024 compared to the same periods in 2023. \n",
            "- Mac: Net sales increased during the third quarter and first nine months of 2024 due to higher net sales of laptops. \n",
            "- iPad: Net sales increased during the third quarter of 2024 due to higher sales of iPad Pro and iPad Air, but decreased during the first nine months of 2024 due to lower sales of iPad 9th generation and iPad Pro. \n",
            "- Wearables, Home and Accessories: Net sales decreased during the third quarter and first nine months of 2024 due to lower sales of Wearables and Accessories. \n",
            "- Services: Net sales increased during the third quarter and first nine months of 2024 due to higher sales from advertising, the App Store, and cloud services. \n",
            "By region: \n",
            "- Americas: Net sales increased during the third quarter and first nine months of 2024 due to higher sales of Services and iPad. \n",
            "- Europe: Net sales increased during the third quarter and first nine months of 2024 due to higher sales of Services and iPhone. \n",
            "- Greater China: Net sales decreased during the third quarter and first nine months of 2024 due to lower sales of iPhone and iPad. \n",
            "- Japan: Net sales increased during the third quarter and first nine months of 2024 due to higher sales of iPhone and iPad. \n",
            "- Rest of Asia Pacific: Net sales increased during the third quarter of 2024 due to higher sales of Services, iPhone, and iPad, but were relatively flat during the first nine months of 2024.\n",
            "Evolution Type: multi_context\n",
            "Metadata: [{'source': 'https://s2.q4cdn.com/470004039/files/doc_earnings/2024/q3/filing/_10-Q-Q3-2024-As-Filed.pdf', 'file_path': 'https://s2.q4cdn.com/470004039/files/doc_earnings/2024/q3/filing/_10-Q-Q3-2024-As-Filed.pdf', 'page': 17, 'total_pages': 28, 'format': 'PDF 1.4', 'title': '10-Q Q3 2024, 06.29.2024-2024-08-01-09-24', 'author': 'anonymous', 'subject': '', 'keywords': '', 'creator': 'Workiva', 'producer': 'Wdesk Fidelity Content Translations Version 010.001.139', 'creationDate': \"D:20240801162503+00'00'\", 'modDate': \"D:20240801162503+00'00'\", 'trapped': ''}, {'source': 'https://s2.q4cdn.com/470004039/files/doc_earnings/2024/q3/filing/_10-Q-Q3-2024-As-Filed.pdf', 'file_path': 'https://s2.q4cdn.com/470004039/files/doc_earnings/2024/q3/filing/_10-Q-Q3-2024-As-Filed.pdf', 'page': 16, 'total_pages': 28, 'format': 'PDF 1.4', 'title': '10-Q Q3 2024, 06.29.2024-2024-08-01-09-24', 'author': 'anonymous', 'subject': '', 'keywords': '', 'creator': 'Workiva', 'producer': 'Wdesk Fidelity Content Translations Version 010.001.139', 'creationDate': \"D:20240801162503+00'00'\", 'modDate': \"D:20240801162503+00'00'\", 'trapped': ''}]\n",
            "\n",
            "\n",
            "Question: What's the cash outflow from financing for Apple Inc. for the nine months ending June 29, 2024, and its relation to net income?\n",
            "Contexts: ['Apple Inc.\\nCONDENSED CONSOLIDATED STATEMENTS OF CASH FLOWS (Unaudited)\\n(In millions)\\nNine Months Ended\\nJune 29,\\n2024\\nJuly 1,\\n2023\\nCash, cash equivalents and restricted cash, beginning balances\\n$ \\n30,737 \\n$ \\n24,977 \\nOperating activities:\\nNet income\\n \\n79,000 \\n \\n74,039 \\nAdjustments to reconcile net income to cash generated by operating activities:\\nDepreciation and amortization\\n \\n8,534 \\n \\n8,866 \\nShare-based compensation expense\\n \\n8,830 \\n \\n8,208 \\nOther\\n \\n(1,964)  \\n(1,651) \\nChanges in operating assets and liabilities:\\nAccounts receivable, net\\n \\n6,697 \\n \\n7,609 \\nVendor non-trade receivables\\n \\n11,100 \\n \\n13,111 \\nInventories\\n \\n41 \\n \\n(2,570) \\nOther current and non-current assets\\n \\n(5,626)  \\n(4,863) \\nAccounts payable\\n \\n(15,171)  \\n(16,790) \\nOther current and non-current liabilities\\n \\n2 \\n \\n2,986 \\nCash generated by operating activities\\n \\n91,443 \\n \\n88,945 \\nInvesting activities:\\nPurchases of marketable securities\\n \\n(38,074)  \\n(20,956) \\nProceeds from maturities of marketable securities\\n \\n39,838 \\n \\n27,857 \\nProceeds from sales of marketable securities\\n \\n7,382 \\n \\n3,959 \\nPayments for acquisition of property, plant and equipment\\n \\n(6,539)  \\n(8,796) \\nOther\\n \\n(1,117)  \\n(753) \\nCash generated by investing activities\\n \\n1,490 \\n \\n1,311 \\nFinancing activities:\\nPayments for taxes related to net share settlement of equity awards\\n \\n(5,163)  \\n(5,119) \\nPayments for dividends and dividend equivalents\\n \\n(11,430)  \\n(11,267) \\nRepurchases of common stock\\n \\n(69,866)  \\n(56,547) \\nProceeds from issuance of term debt, net\\n \\n— \\n \\n5,228 \\nRepayments of term debt\\n \\n(7,400)  \\n(11,151) \\nRepayments of commercial paper, net\\n \\n(2,985)  \\n(5,971) \\nOther\\n \\n(191)  \\n(508) \\nCash used in financing activities\\n \\n(97,035)  \\n(85,335) \\nIncrease/(Decrease) in cash, cash equivalents and restricted cash\\n \\n(4,102)  \\n4,921 \\nCash, cash equivalents and restricted cash, ending balances\\n$ \\n26,635 \\n$ \\n29,898 \\nSupplemental cash flow disclosure:\\nCash paid for income taxes, net\\n$ \\n19,230 \\n$ \\n7,020 \\nSee accompanying Notes to Condensed Consolidated Financial Statements.\\nApple Inc. | Q3 2024 Form 10-Q | 5\\n', 'Apple Inc.\\nCONDENSED CONSOLIDATED STATEMENTS OF COMPREHENSIVE INCOME (Unaudited)\\n(In millions)\\nThree Months Ended\\nNine Months Ended\\nJune 29,\\n2024\\nJuly 1,\\n2023\\nJune 29,\\n2024\\nJuly 1,\\n2023\\nNet income\\n$ \\n21,448 \\n$ \\n19,881 \\n$ \\n79,000 \\n$ \\n74,039 \\nOther comprehensive income/(loss):\\nChange in foreign currency translation, net of tax\\n \\n(73)  \\n(385)  \\n(87)  \\n(494) \\nChange in unrealized gains/losses on derivative \\ninstruments, net of tax:\\nChange in fair value of derivative instruments\\n \\n406 \\n \\n509 \\n \\n331 \\n \\n(492) \\nAdjustment for net (gains)/losses realized and included \\nin net income\\n \\n(87)  \\n103 \\n \\n(678)  \\n(1,854) \\nTotal change in unrealized gains/losses on \\nderivative instruments\\n \\n319 \\n \\n612 \\n \\n(347)  \\n(2,346) \\nChange in unrealized gains/losses on marketable debt \\nsecurities, net of tax:\\nChange in fair value of marketable debt securities\\n \\n268 \\n \\n(340)  \\n3,306 \\n \\n1,963 \\nAdjustment for net (gains)/losses realized and included \\nin net income\\n \\n30 \\n \\n58 \\n \\n164 \\n \\n185 \\nTotal change in unrealized gains/losses on \\nmarketable debt securities\\n \\n298 \\n \\n(282)  \\n3,470 \\n \\n2,148 \\nTotal other comprehensive income/(loss)\\n \\n544 \\n \\n(55)  \\n3,036 \\n \\n(692) \\nTotal comprehensive income\\n$ \\n21,992 \\n$ \\n19,826 \\n$ \\n82,036 \\n$ \\n73,347 \\nSee accompanying Notes to Condensed Consolidated Financial Statements.\\nApple Inc. | Q3 2024 Form 10-Q | 2\\n']\n",
            "Ground Truth: The cash outflow from financing activities for Apple Inc. for the nine months ending June 29, 2024, is $97,035 million. This represents a significant outflow compared to the net income of $79,000 million, indicating that the company used more cash in financing activities than it earned in net income during this period.\n",
            "Evolution Type: multi_context\n",
            "Metadata: [{'source': 'https://s2.q4cdn.com/470004039/files/doc_earnings/2024/q3/filing/_10-Q-Q3-2024-As-Filed.pdf', 'file_path': 'https://s2.q4cdn.com/470004039/files/doc_earnings/2024/q3/filing/_10-Q-Q3-2024-As-Filed.pdf', 'page': 7, 'total_pages': 28, 'format': 'PDF 1.4', 'title': '10-Q Q3 2024, 06.29.2024-2024-08-01-09-24', 'author': 'anonymous', 'subject': '', 'keywords': '', 'creator': 'Workiva', 'producer': 'Wdesk Fidelity Content Translations Version 010.001.139', 'creationDate': \"D:20240801162503+00'00'\", 'modDate': \"D:20240801162503+00'00'\", 'trapped': ''}, {'source': 'https://s2.q4cdn.com/470004039/files/doc_earnings/2024/q3/filing/_10-Q-Q3-2024-As-Filed.pdf', 'file_path': 'https://s2.q4cdn.com/470004039/files/doc_earnings/2024/q3/filing/_10-Q-Q3-2024-As-Filed.pdf', 'page': 4, 'total_pages': 28, 'format': 'PDF 1.4', 'title': '10-Q Q3 2024, 06.29.2024-2024-08-01-09-24', 'author': 'anonymous', 'subject': '', 'keywords': '', 'creator': 'Workiva', 'producer': 'Wdesk Fidelity Content Translations Version 010.001.139', 'creationDate': \"D:20240801162503+00'00'\", 'modDate': \"D:20240801162503+00'00'\", 'trapped': ''}]\n",
            "\n",
            "\n",
            "Question: How did iPhone net sales change in Q3 and the first nine months of 2024 vs. 2023, and what role did regions like Greater China and Japan play?\n",
            "Contexts: ['Products and Services Performance\\nThe following table shows net sales by category for the three- and nine-month periods ended June 29, 2024 and July\\xa01, 2023 \\n(dollars in millions):\\nThree Months Ended\\nNine Months Ended\\nJune 29,\\n2024\\nJuly 1,\\n2023\\nChange\\nJune 29,\\n2024\\nJuly 1,\\n2023\\nChange\\nNet sales by category:\\niPhone\\n$ \\n39,296 \\n$ \\n39,669 \\n (1) % $ 154,961 \\n$ 156,778 \\n (1) %\\nMac\\n \\n7,009 \\n \\n6,840 \\n 2 %  \\n22,240 \\n \\n21,743 \\n 2 %\\niPad\\n \\n7,162 \\n \\n5,791 \\n 24 %  \\n19,744 \\n \\n21,857 \\n (10) %\\nWearables, Home and Accessories\\n \\n8,097 \\n \\n8,284 \\n (2) %  \\n27,963 \\n \\n30,523 \\n (8) %\\nServices\\n \\n24,213 \\n \\n21,213 \\n 14 %  \\n71,197 \\n \\n62,886 \\n 13 %\\nTotal net sales\\n$ \\n85,777 \\n$ \\n81,797 \\n 5 % $ 296,105 \\n$ 293,787 \\n 1 %\\niPhone\\niPhone net sales were relatively flat during the third quarter and first nine months of 2024 compared to the same periods in 2023.\\nMac\\nMac net sales increased during the third quarter and first nine months of 2024 compared to the same periods in 2023 due to \\nhigher net sales of laptops.\\niPad\\niPad net sales increased during the third quarter of 2024 compared to the third quarter of 2023 due primarily to higher net sales \\nof iPad Pro and iPad Air. Year-over-year iPad net sales decreased during the first nine months of 2024 due primarily to lower net \\nsales of iPad 9th generation and iPad Pro, partially offset by higher net sales of iPad 10th generation.\\nWearables, Home and Accessories\\nWearables, Home and Accessories net sales decreased during the third quarter of 2024 compared to the third quarter of 2023 \\ndue primarily to lower net sales of Wearables. Year-over-year Wearables, Home and Accessories net sales decreased during the \\nfirst nine months of 2024 due primarily to lower net sales of Wearables and Accessories.\\nServices\\nServices net sales increased during the third quarter and first nine months of 2024 compared to the same periods in 2023 due \\nprimarily to higher net sales from advertising, the App Store® and cloud services.\\nApple Inc. | Q3 2024 Form 10-Q | 15\\n', 'Segment Operating Performance\\nThe following table shows net sales by reportable segment for the three- and nine-month periods ended June 29, 2024 and \\nJuly\\xa01, 2023 (dollars in millions):\\nThree Months Ended\\nNine Months Ended\\nJune 29,\\n2024\\nJuly 1,\\n2023\\nChange\\nJune 29,\\n2024\\nJuly 1,\\n2023\\nChange\\nNet sales by reportable segment:\\nAmericas\\n$ \\n37,678 \\n$ \\n35,383 \\n 6 % $ 125,381 \\n$ 122,445 \\n 2 %\\nEurope\\n \\n21,884 \\n \\n20,205 \\n 8 %  \\n76,404 \\n \\n71,831 \\n 6 %\\nGreater China\\n \\n14,728 \\n \\n15,758 \\n (7) %  \\n51,919 \\n \\n57,475 \\n (10) %\\nJapan\\n \\n5,097 \\n \\n4,821 \\n 6 %  \\n19,126 \\n \\n18,752 \\n 2 %\\nRest of Asia Pacific\\n \\n6,390 \\n \\n5,630 \\n 13 %  \\n23,275 \\n \\n23,284 \\n — %\\nTotal net sales\\n$ \\n85,777 \\n$ \\n81,797 \\n 5 % $ 296,105 \\n$ 293,787 \\n 1 %\\nAmericas\\nAmericas net sales increased during the third quarter of 2024 compared to the third quarter of 2023 due primarily to higher net \\nsales of Services and iPad. Year-over-year Americas net sales increased during the first nine months of 2024 due primarily to \\nhigher net sales of Services, partially offset by lower net sales of iPhone and Wearables, Home and Accessories. The strength in \\nforeign currencies relative to the U.S. dollar had a net favorable year-over-year impact on Americas net sales during the first nine \\nmonths of 2024.\\nEurope\\nEurope net sales increased during the third quarter of 2024 compared to the third quarter of 2023 due primarily to higher net \\nsales of Services and iPad. The weakness in foreign currencies relative to the U.S. dollar had a net unfavorable year-over-year \\nimpact on Europe net sales during the third quarter of 2024. Year-over-year Europe net sales increased during the first nine \\nmonths of 2024 due primarily to higher net sales of Services and iPhone, partially offset by lower net sales of Wearables, Home \\nand Accessories.\\nGreater China\\nGreater China net sales decreased during the third quarter of 2024 compared to the third quarter of 2023 due primarily to lower \\nnet sales of iPhone. Year-over-year Greater China net sales decreased during the first nine months of 2024 due primarily to \\nlower net sales of iPhone and iPad. The weakness in the renminbi relative to the U.S. dollar had an unfavorable year-over-year \\nimpact on Greater China net sales during the third quarter and first nine months of 2024.\\nJapan\\nJapan net sales increased during the third quarter of 2024 compared to the third quarter of 2023 due primarily to higher net sales \\nof iPhone and iPad. Year-over-year Japan net sales increased during the first nine months of 2024 due primarily to higher net \\nsales of iPhone, partially offset by lower net sales of Wearables, Home and Accessories. The weakness in the yen relative to the \\nU.S. dollar had an unfavorable year-over-year impact on Japan net sales during the third quarter and first nine months of 2024.\\nRest of Asia Pacific\\nRest of Asia Pacific net sales increased during the third quarter of 2024 compared to the third quarter of 2023 due primarily to \\nhigher net sales of Services, iPhone and iPad. Year-over-year Rest of Asia Pacific net sales were relatively flat during the first \\nnine months of 2024. The weakness in foreign currencies relative to the U.S. dollar had a net unfavorable year-over-year impact \\non Rest of Asia Pacific net sales during the third quarter and first nine months of 2024.\\nApple Inc. | Q3 2024 Form 10-Q | 14\\n']\n",
            "Ground Truth: iPhone net sales were relatively flat during the third quarter and first nine months of 2024 compared to the same periods in 2023. In Greater China, net sales decreased during the third quarter of 2024 compared to the third quarter of 2023 due primarily to lower net sales of iPhone. Year-over-year, Greater China net sales decreased during the first nine months of 2024 due primarily to lower net sales of iPhone and iPad. In Japan, net sales increased during the third quarter of 2024 compared to the third quarter of 2023 due primarily to higher net sales of iPhone. Year-over-year, Japan net sales increased during the first nine months of 2024 due primarily to higher net sales of iPhone, partially offset by lower net sales of Wearables, Home and Accessories.\n",
            "Evolution Type: multi_context\n",
            "Metadata: [{'source': 'https://s2.q4cdn.com/470004039/files/doc_earnings/2024/q3/filing/_10-Q-Q3-2024-As-Filed.pdf', 'file_path': 'https://s2.q4cdn.com/470004039/files/doc_earnings/2024/q3/filing/_10-Q-Q3-2024-As-Filed.pdf', 'page': 17, 'total_pages': 28, 'format': 'PDF 1.4', 'title': '10-Q Q3 2024, 06.29.2024-2024-08-01-09-24', 'author': 'anonymous', 'subject': '', 'keywords': '', 'creator': 'Workiva', 'producer': 'Wdesk Fidelity Content Translations Version 010.001.139', 'creationDate': \"D:20240801162503+00'00'\", 'modDate': \"D:20240801162503+00'00'\", 'trapped': ''}, {'source': 'https://s2.q4cdn.com/470004039/files/doc_earnings/2024/q3/filing/_10-Q-Q3-2024-As-Filed.pdf', 'file_path': 'https://s2.q4cdn.com/470004039/files/doc_earnings/2024/q3/filing/_10-Q-Q3-2024-As-Filed.pdf', 'page': 16, 'total_pages': 28, 'format': 'PDF 1.4', 'title': '10-Q Q3 2024, 06.29.2024-2024-08-01-09-24', 'author': 'anonymous', 'subject': '', 'keywords': '', 'creator': 'Workiva', 'producer': 'Wdesk Fidelity Content Translations Version 010.001.139', 'creationDate': \"D:20240801162503+00'00'\", 'modDate': \"D:20240801162503+00'00'\", 'trapped': ''}]\n",
            "\n",
            "\n",
            "Question: What was the Board's financial commitment for the buyback on May 4, 2023, and its relation to total shareholders' equity as of June 29, 2024?\n",
            "Contexts: ['Item 2. \\nUnregistered Sales of Equity Securities and Use of Proceeds\\nPurchases of Equity Securities by the Issuer and Affiliated Purchasers\\nShare repurchase activity during the three months ended June\\xa029, 2024 was as follows (in millions, except number of shares, \\nwhich are reflected in thousands, and per-share amounts):\\nPeriods\\nTotal Number\\nof Shares \\nPurchased\\nAverage \\nPrice\\nPaid Per \\nShare\\nTotal Number \\nof Shares\\nPurchased as \\nPart of Publicly\\nAnnounced \\nPlans or \\nPrograms\\nApproximate \\nDollar Value of\\nShares That May \\nYet Be Purchased\\nUnder the Plans \\nor Programs (1)\\nMarch 31, 2024 to May 4, 2024:\\nOpen market and privately negotiated purchases\\n \\n45,690 \\n$ \\n169.74 \\n \\n45,690 \\nMay 5, 2024 to June 1, 2024:\\nOpen market and privately negotiated purchases\\n \\n51,729 \\n$ \\n188.38 \\n \\n51,729 \\nJune 2, 2024 to June 29, 2024:\\nOpen market and privately negotiated purchases\\n \\n41,354 \\n$ \\n205.54 \\n \\n41,354 \\nTotal\\n \\n138,773 \\n$ \\n114,074 \\n(1)\\nOn May 4, 2023, the Board of Directors authorized the purchase of up to $90 billion of the Company’s common stock under \\na share repurchase program. As of June\\xa029, 2024, remaining availability under the May 2023 program was $4.1 billion. On \\nMay 2, 2024, the Board of Directors authorized an additional program to repurchase up to $110 billion of the Company’s \\ncommon stock. The programs do not obligate the Company to acquire a minimum amount of shares. Under the programs, \\nshares may be repurchased in privately negotiated or open market transactions, including under plans complying with Rule \\n10b5-1 under the Exchange Act.\\nItem 3. \\nDefaults Upon Senior Securities\\nNone.\\nItem 4. \\nMine Safety Disclosures\\nNot applicable.\\nItem 5. \\nOther Information\\nInsider Trading Arrangements\\nOn May 24, 2024, Tim Cook, the Company’s Chief Executive Officer, entered into a trading plan intended to satisfy the \\naffirmative defense conditions of Rule 10b5-1(c) under the Exchange Act. The plan provides for the sale, subject to certain price \\nlimits, of shares vesting during the duration of the plan pursuant to certain equity awards granted to Mr. Cook, excluding shares \\nwithheld by the Company to satisfy income tax withholding and remittance obligations. Mr. Cook’s plan will expire on May 24, \\n2026, subject to early termination in accordance with the terms of the plan.\\nApple Inc. | Q3 2024 Form 10-Q | 20\\n', 'Apple Inc.\\nCONDENSED CONSOLIDATED STATEMENTS OF SHAREHOLDERS’ EQUITY (Unaudited)\\n(In millions, except per-share amounts)\\nThree Months Ended\\nNine Months Ended\\nJune 29,\\n2024\\nJuly 1,\\n2023\\nJune 29,\\n2024\\nJuly 1,\\n2023\\nTotal shareholders’ equity, beginning balances\\n$ \\n74,194 \\n$ \\n62,158 \\n$ \\n62,146 \\n$ \\n50,672 \\nCommon stock and additional paid-in capital:\\nBeginning balances\\n \\n78,815 \\n \\n69,568 \\n \\n73,812 \\n \\n64,849 \\nCommon stock issued\\n \\n— \\n \\n— \\n \\n752 \\n \\n690 \\nCommon stock withheld related to net share settlement \\nof equity awards\\n \\n(1,920)  \\n(1,595)  \\n(3,802)  \\n(3,310) \\nShare-based compensation\\n \\n2,955 \\n \\n2,694 \\n \\n9,088 \\n \\n8,438 \\nEnding balances\\n \\n79,850 \\n \\n70,667 \\n \\n79,850 \\n \\n70,667 \\nRetained earnings/(Accumulated deficit):\\nBeginning balances\\n \\n4,339 \\n \\n4,336 \\n \\n(214)  \\n(3,068) \\nNet income\\n \\n21,448 \\n \\n19,881 \\n \\n79,000 \\n \\n74,039 \\nDividends and dividend equivalents declared\\n \\n(3,864)  \\n(3,811)  \\n(11,384)  \\n(11,207) \\nCommon stock withheld related to net share settlement \\nof equity awards\\n \\n(428)  \\n(858)  \\n(1,517)  \\n(1,988) \\nCommon stock repurchased\\n \\n(26,221)  \\n(18,140)  \\n(70,611)  \\n(56,368) \\nEnding balances\\n \\n(4,726)  \\n1,408 \\n \\n(4,726)  \\n1,408 \\nAccumulated other comprehensive income/(loss):\\nBeginning balances\\n \\n(8,960)  \\n(11,746)  \\n(11,452)  \\n(11,109) \\nOther comprehensive income/(loss)\\n \\n544 \\n \\n(55)  \\n3,036 \\n \\n(692) \\nEnding balances\\n \\n(8,416)  \\n(11,801)  \\n(8,416)  \\n(11,801) \\nTotal shareholders’ equity, ending balances\\n$ \\n66,708 \\n$ \\n60,274 \\n$ \\n66,708 \\n$ \\n60,274 \\nDividends and dividend equivalents declared per share or RSU\\n$ \\n0.25 \\n$ \\n0.24 \\n$ \\n0.73 \\n$ \\n0.70 \\nSee accompanying Notes to Condensed Consolidated Financial Statements.\\nApple Inc. | Q3 2024 Form 10-Q | 4\\n']\n",
            "Ground Truth: On May 4, 2023, the Board of Directors authorized the purchase of up to $90 billion of the Company’s common stock under a share repurchase program. As of June 29, 2024, the total shareholders’ equity was $66,708 million.\n",
            "Evolution Type: multi_context\n",
            "Metadata: [{'source': 'https://s2.q4cdn.com/470004039/files/doc_earnings/2024/q3/filing/_10-Q-Q3-2024-As-Filed.pdf', 'file_path': 'https://s2.q4cdn.com/470004039/files/doc_earnings/2024/q3/filing/_10-Q-Q3-2024-As-Filed.pdf', 'page': 22, 'total_pages': 28, 'format': 'PDF 1.4', 'title': '10-Q Q3 2024, 06.29.2024-2024-08-01-09-24', 'author': 'anonymous', 'subject': '', 'keywords': '', 'creator': 'Workiva', 'producer': 'Wdesk Fidelity Content Translations Version 010.001.139', 'creationDate': \"D:20240801162503+00'00'\", 'modDate': \"D:20240801162503+00'00'\", 'trapped': ''}, {'source': 'https://s2.q4cdn.com/470004039/files/doc_earnings/2024/q3/filing/_10-Q-Q3-2024-As-Filed.pdf', 'file_path': 'https://s2.q4cdn.com/470004039/files/doc_earnings/2024/q3/filing/_10-Q-Q3-2024-As-Filed.pdf', 'page': 6, 'total_pages': 28, 'format': 'PDF 1.4', 'title': '10-Q Q3 2024, 06.29.2024-2024-08-01-09-24', 'author': 'anonymous', 'subject': '', 'keywords': '', 'creator': 'Workiva', 'producer': 'Wdesk Fidelity Content Translations Version 010.001.139', 'creationDate': \"D:20240801162503+00'00'\", 'modDate': \"D:20240801162503+00'00'\", 'trapped': ''}]\n",
            "\n",
            "\n",
            "Question: What's Apple's net income with operating income and tax in mind?\n",
            "Contexts: ['PART I  —  FINANCIAL INFORMATION\\nItem 1. Financial Statements\\nApple Inc.\\nCONDENSED CONSOLIDATED STATEMENTS OF OPERATIONS (Unaudited)\\n(In millions, except number of shares, which are reflected in thousands, and per-share amounts)\\nThree Months Ended\\nNine Months Ended\\nJune 29,\\n2024\\nJuly 1,\\n2023\\nJune 29,\\n2024\\nJuly 1,\\n2023\\nNet sales:\\n   Products\\n$ \\n61,564 \\n$ \\n60,584 \\n$ \\n224,908 \\n$ \\n230,901 \\n   Services\\n \\n24,213 \\n \\n21,213 \\n \\n71,197 \\n \\n62,886 \\nTotal net sales\\n \\n85,777 \\n \\n81,797 \\n \\n296,105 \\n \\n293,787 \\nCost of sales:\\n   Products\\n \\n39,803 \\n \\n39,136 \\n \\n140,667 \\n \\n146,696 \\n   Services\\n \\n6,296 \\n \\n6,248 \\n \\n18,634 \\n \\n18,370 \\nTotal cost of sales\\n \\n46,099 \\n \\n45,384 \\n \\n159,301 \\n \\n165,066 \\nGross margin\\n \\n39,678 \\n \\n36,413 \\n \\n136,804 \\n \\n128,721 \\nOperating expenses:\\nResearch and development\\n \\n8,006 \\n \\n7,442 \\n \\n23,605 \\n \\n22,608 \\nSelling, general and administrative\\n \\n6,320 \\n \\n5,973 \\n \\n19,574 \\n \\n18,781 \\nTotal operating expenses\\n \\n14,326 \\n \\n13,415 \\n \\n43,179 \\n \\n41,389 \\nOperating income\\n \\n25,352 \\n \\n22,998 \\n \\n93,625 \\n \\n87,332 \\nOther income/(expense), net\\n \\n142 \\n \\n(265)  \\n250 \\n \\n(594) \\nIncome before provision for income taxes\\n \\n25,494 \\n \\n22,733 \\n \\n93,875 \\n \\n86,738 \\nProvision for income taxes\\n \\n4,046 \\n \\n2,852 \\n \\n14,875 \\n \\n12,699 \\nNet income\\n$ \\n21,448 \\n$ \\n19,881 \\n$ \\n79,000 \\n$ \\n74,039 \\nEarnings per share:\\nBasic\\n$ \\n1.40 \\n$ \\n1.27 \\n$ \\n5.13 \\n$ \\n4.69 \\nDiluted\\n$ \\n1.40 \\n$ \\n1.26 \\n$ \\n5.11 \\n$ \\n4.67 \\nShares used in computing earnings per share:\\nBasic\\n 15,287,521 \\n 15,697,614 \\n 15,401,047 \\n 15,792,497 \\nDiluted\\n 15,348,175 \\n 15,775,021 \\n 15,463,175 \\n 15,859,263 \\nSee accompanying Notes to Condensed Consolidated Financial Statements.\\nApple Inc. | Q3 2024 Form 10-Q | 1\\n']\n",
            "Ground Truth: Apple's net income, considering operating income and tax, is $21,448 million for the three months ended June 29, 2024, and $79,000 million for the nine months ended June 29, 2024.\n",
            "Evolution Type: reasoning\n",
            "Metadata: [{'source': 'https://s2.q4cdn.com/470004039/files/doc_earnings/2024/q3/filing/_10-Q-Q3-2024-As-Filed.pdf', 'file_path': 'https://s2.q4cdn.com/470004039/files/doc_earnings/2024/q3/filing/_10-Q-Q3-2024-As-Filed.pdf', 'page': 3, 'total_pages': 28, 'format': 'PDF 1.4', 'title': '10-Q Q3 2024, 06.29.2024-2024-08-01-09-24', 'author': 'anonymous', 'subject': '', 'keywords': '', 'creator': 'Workiva', 'producer': 'Wdesk Fidelity Content Translations Version 010.001.139', 'creationDate': \"D:20240801162503+00'00'\", 'modDate': \"D:20240801162503+00'00'\", 'trapped': ''}]\n",
            "\n",
            "\n",
            "Question: Which investing cash flow boosted Apple's total for June '24?\n",
            "Contexts: ['Apple Inc.\\nCONDENSED CONSOLIDATED STATEMENTS OF CASH FLOWS (Unaudited)\\n(In millions)\\nNine Months Ended\\nJune 29,\\n2024\\nJuly 1,\\n2023\\nCash, cash equivalents and restricted cash, beginning balances\\n$ \\n30,737 \\n$ \\n24,977 \\nOperating activities:\\nNet income\\n \\n79,000 \\n \\n74,039 \\nAdjustments to reconcile net income to cash generated by operating activities:\\nDepreciation and amortization\\n \\n8,534 \\n \\n8,866 \\nShare-based compensation expense\\n \\n8,830 \\n \\n8,208 \\nOther\\n \\n(1,964)  \\n(1,651) \\nChanges in operating assets and liabilities:\\nAccounts receivable, net\\n \\n6,697 \\n \\n7,609 \\nVendor non-trade receivables\\n \\n11,100 \\n \\n13,111 \\nInventories\\n \\n41 \\n \\n(2,570) \\nOther current and non-current assets\\n \\n(5,626)  \\n(4,863) \\nAccounts payable\\n \\n(15,171)  \\n(16,790) \\nOther current and non-current liabilities\\n \\n2 \\n \\n2,986 \\nCash generated by operating activities\\n \\n91,443 \\n \\n88,945 \\nInvesting activities:\\nPurchases of marketable securities\\n \\n(38,074)  \\n(20,956) \\nProceeds from maturities of marketable securities\\n \\n39,838 \\n \\n27,857 \\nProceeds from sales of marketable securities\\n \\n7,382 \\n \\n3,959 \\nPayments for acquisition of property, plant and equipment\\n \\n(6,539)  \\n(8,796) \\nOther\\n \\n(1,117)  \\n(753) \\nCash generated by investing activities\\n \\n1,490 \\n \\n1,311 \\nFinancing activities:\\nPayments for taxes related to net share settlement of equity awards\\n \\n(5,163)  \\n(5,119) \\nPayments for dividends and dividend equivalents\\n \\n(11,430)  \\n(11,267) \\nRepurchases of common stock\\n \\n(69,866)  \\n(56,547) \\nProceeds from issuance of term debt, net\\n \\n— \\n \\n5,228 \\nRepayments of term debt\\n \\n(7,400)  \\n(11,151) \\nRepayments of commercial paper, net\\n \\n(2,985)  \\n(5,971) \\nOther\\n \\n(191)  \\n(508) \\nCash used in financing activities\\n \\n(97,035)  \\n(85,335) \\nIncrease/(Decrease) in cash, cash equivalents and restricted cash\\n \\n(4,102)  \\n4,921 \\nCash, cash equivalents and restricted cash, ending balances\\n$ \\n26,635 \\n$ \\n29,898 \\nSupplemental cash flow disclosure:\\nCash paid for income taxes, net\\n$ \\n19,230 \\n$ \\n7,020 \\nSee accompanying Notes to Condensed Consolidated Financial Statements.\\nApple Inc. | Q3 2024 Form 10-Q | 5\\n']\n",
            "Ground Truth: The answer to given question is not present in context\n",
            "Evolution Type: reasoning\n",
            "Metadata: [{'source': 'https://s2.q4cdn.com/470004039/files/doc_earnings/2024/q3/filing/_10-Q-Q3-2024-As-Filed.pdf', 'file_path': 'https://s2.q4cdn.com/470004039/files/doc_earnings/2024/q3/filing/_10-Q-Q3-2024-As-Filed.pdf', 'page': 7, 'total_pages': 28, 'format': 'PDF 1.4', 'title': '10-Q Q3 2024, 06.29.2024-2024-08-01-09-24', 'author': 'anonymous', 'subject': '', 'keywords': '', 'creator': 'Workiva', 'producer': 'Wdesk Fidelity Content Translations Version 010.001.139', 'creationDate': \"D:20240801162503+00'00'\", 'modDate': \"D:20240801162503+00'00'\", 'trapped': ''}]\n",
            "\n",
            "\n"
          ]
        }
      ],
      "source": [
        "for data_row in testset.test_data:\n",
        "    question = data_row.question\n",
        "    contexts = data_row.contexts\n",
        "    ground_truth = data_row.ground_truth\n",
        "    evolution_type = data_row.evolution_type\n",
        "    metadata = data_row.metadata\n",
        "    \n",
        "    # Process each element as needed\n",
        "    print(f\"Question: {question}\")\n",
        "    print(f\"Contexts: {contexts}\")\n",
        "    print(f\"Ground Truth: {ground_truth}\")\n",
        "    print(f\"Evolution Type: {evolution_type}\")\n",
        "    print(f\"Metadata: {metadata}\")\n",
        "    print(\"\\n\")  # For better readability"
      ]
    },
    {
      "cell_type": "markdown",
      "metadata": {
        "id": "sotAk8RR5Ayi"
      },
      "source": [
        "#### 🏗️ Activity #1:\n",
        "\n",
        "Using the dubgging logs above - trace through a single example of an evolution.\n",
        "\n",
        "Mark which LLM (Generator, or Critic) was responsible for each step.\n",
        "---\n",
        "#### ANSWER ACTIVITY #1:\n",
        "Here is the debug log for one question:\n",
        "```\n",
        "[ragas.testset.evolutions.INFO] seed question generated: \"What was the increase in Selling, General and Administrative expense during the third quarter of 2024 compared to the same period in 2023?\"\n",
        "[ragas.testset.filters.DEBUG] filtered question: {'feedback': 'The question is specific and clear, asking for the increase in Selling, General and Administrative expense during the third quarter of 2024 compared to the same period in 2023. It does not rely on external references or unspecified contexts, making it understandable and answerable based on the details provided.', 'verdict': 1}\n",
        "[ragas.testset.evolutions.DEBUG] [MultiContextEvolution] simple question generated: \"What was the increase in Selling, General and Administrative expense during the third quarter of 2024 compared to the same period in 2023?\"\n",
        "[ragas.testset.evolutions.DEBUG] [MultiContextEvolution] multicontext question generated: \"What was the dollar increase in Selling, General and Administrative expenses in Q3 2024 relative to Q3 2023, and how does this change relate to the overall operating expenses as a percentage of total net sales during the same periods?\"\n",
        "[ragas.testset.filters.DEBUG] filtered question: {'feedback': 'The question asks for the dollar increase in Selling, General and Administrative (SG&A) expenses from Q3 2023 to Q3 2024 and how this change relates to the overall operating expenses as a percentage of total net sales during the same periods. It is clear in specifying the time periods (Q3 2023 and Q3 2024) and the financial metrics of interest (SG&A expenses, operating expenses, and total net sales). The intent is also clear, seeking both a numerical change and a contextual analysis. However, the question assumes access to specific financial data for Q3 2023 and Q3 2024, which may not be provided within the question itself. To improve independence, the question could include the relevant financial figures or specify where this data can be found.', 'verdict': 0}\n",
        "[ragas.testset.evolutions.INFO] rewritten question: \"What was the dollar increase in Selling, General and Administrative expenses in Q3 2024 relative to Q3 2023, and how does this change relate to the overall operating expenses as a percentage of total net sales during the same periods?\"\n",
        "[ragas.testset.filters.DEBUG] filtered question: {'feedback': 'The question asks for the dollar increase in Selling, General and Administrative expenses from Q3 2023 to Q3 2024 and how this change relates to the overall operating expenses as a percentage of total net sales during the same periods. It is clear in specifying the time periods (Q3 2023 and Q3 2024) and the financial metrics of interest (Selling, General and Administrative expenses, overall operating expenses, and total net sales). However, it assumes access to specific financial data for these periods, which is not provided within the question. To improve clarity and answerability, the question could include the relevant financial figures or be framed in a way that does not require access to external documents.', 'verdict': 0}\n",
        "[ragas.testset.evolutions.INFO] retrying evolution: 3 times\n",
        "[ragas.testset.filters.DEBUG] context scoring: {'clarity': 2, 'depth': 3, 'structure': 2, 'relevance': 3, 'score': 2.5}\n",
        "```\n",
        "\n",
        "Seed question generated by our generator LLM and then given feedback from the critic with verdict = 1, so now the seed question becomes the simple question.  This is now fed into the routine to create a multi-context question, which is done by the generator LLM.  The simple question was augmented by adding \"...and how this change relates to the overall operating expenses as a percentage of total net sales during the same periods\".  The critic points out that this new question may not be answerable with the given context, and then the generator rewrote the question but didn't fix the issue.  THe critic restated that the question could include the relevant financial information, etc. and returned a verdict of 0, and by this time the evolution had gone through 3 iterations.  It was then context scored and received a score of 2.5, and in fact this question was not used in the final set.\n",
        "\n",
        "---"
      ]
    },
    {
      "cell_type": "code",
      "execution_count": 14,
      "metadata": {
        "colab": {
          "base_uri": "https://localhost:8080/",
          "height": 926
        },
        "id": "mOUdh4bUp63p",
        "outputId": "35d04edd-631f-4ae8-fcf3-cf90e039cbc6"
      },
      "outputs": [
        {
          "data": {
            "text/html": [
              "<div>\n",
              "<style scoped>\n",
              "    .dataframe tbody tr th:only-of-type {\n",
              "        vertical-align: middle;\n",
              "    }\n",
              "\n",
              "    .dataframe tbody tr th {\n",
              "        vertical-align: top;\n",
              "    }\n",
              "\n",
              "    .dataframe thead th {\n",
              "        text-align: right;\n",
              "    }\n",
              "</style>\n",
              "<table border=\"1\" class=\"dataframe\">\n",
              "  <thead>\n",
              "    <tr style=\"text-align: right;\">\n",
              "      <th></th>\n",
              "      <th>question</th>\n",
              "      <th>contexts</th>\n",
              "      <th>ground_truth</th>\n",
              "      <th>evolution_type</th>\n",
              "      <th>metadata</th>\n",
              "      <th>episode_done</th>\n",
              "    </tr>\n",
              "  </thead>\n",
              "  <tbody>\n",
              "    <tr>\n",
              "      <th>0</th>\n",
              "      <td>What was the net income for Apple Inc. for the...</td>\n",
              "      <td>[Apple Inc.\\nCONDENSED CONSOLIDATED STATEMENTS...</td>\n",
              "      <td>$21,448 million</td>\n",
              "      <td>simple</td>\n",
              "      <td>[{'source': 'https://s2.q4cdn.com/470004039/fi...</td>\n",
              "      <td>True</td>\n",
              "    </tr>\n",
              "    <tr>\n",
              "      <th>1</th>\n",
              "      <td>What is the purpose of the commercial paper pr...</td>\n",
              "      <td>[Note 6 – Income Taxes\\nEuropean Commission St...</td>\n",
              "      <td>The purpose of the commercial paper program fo...</td>\n",
              "      <td>simple</td>\n",
              "      <td>[{'source': 'https://s2.q4cdn.com/470004039/fi...</td>\n",
              "      <td>True</td>\n",
              "    </tr>\n",
              "    <tr>\n",
              "      <th>2</th>\n",
              "      <td>What allegations are being made against the Co...</td>\n",
              "      <td>[PART II  —  OTHER INFORMATION\\nItem 1. \\nLega...</td>\n",
              "      <td>The allegations being made against the Company...</td>\n",
              "      <td>simple</td>\n",
              "      <td>[{'source': 'https://s2.q4cdn.com/470004039/fi...</td>\n",
              "      <td>True</td>\n",
              "    </tr>\n",
              "    <tr>\n",
              "      <th>3</th>\n",
              "      <td>What were the total comprehensive income figur...</td>\n",
              "      <td>[Apple Inc.\\nCONDENSED CONSOLIDATED STATEMENTS...</td>\n",
              "      <td>The total comprehensive income figures for App...</td>\n",
              "      <td>simple</td>\n",
              "      <td>[{'source': 'https://s2.q4cdn.com/470004039/fi...</td>\n",
              "      <td>True</td>\n",
              "    </tr>\n",
              "    <tr>\n",
              "      <th>4</th>\n",
              "      <td>What is Timothy D. Cook's role in the certific...</td>\n",
              "      <td>[Exhibit 31.1\\nCERTIFICATION\\nI, Timothy D. Co...</td>\n",
              "      <td>Timothy D. Cook's role in the certification of...</td>\n",
              "      <td>simple</td>\n",
              "      <td>[{'source': 'https://s2.q4cdn.com/470004039/fi...</td>\n",
              "      <td>True</td>\n",
              "    </tr>\n",
              "    <tr>\n",
              "      <th>5</th>\n",
              "      <td>What were the changes in net sales by reportab...</td>\n",
              "      <td>[Products and Services Performance\\nThe follow...</td>\n",
              "      <td>The changes in net sales by reportable segment...</td>\n",
              "      <td>simple</td>\n",
              "      <td>[{'source': 'https://s2.q4cdn.com/470004039/fi...</td>\n",
              "      <td>True</td>\n",
              "    </tr>\n",
              "    <tr>\n",
              "      <th>6</th>\n",
              "      <td>What were the total assets of Apple Inc. as of...</td>\n",
              "      <td>[Apple Inc.\\nCONDENSED CONSOLIDATED BALANCE SH...</td>\n",
              "      <td>The total assets of Apple Inc. as of June 29, ...</td>\n",
              "      <td>simple</td>\n",
              "      <td>[{'source': 'https://s2.q4cdn.com/470004039/fi...</td>\n",
              "      <td>True</td>\n",
              "    </tr>\n",
              "    <tr>\n",
              "      <th>7</th>\n",
              "      <td>What requirements of the Securities Exchange A...</td>\n",
              "      <td>[Exhibit 32.1\\nCERTIFICATIONS OF CHIEF EXECUTI...</td>\n",
              "      <td>The Quarterly Report of Apple Inc. complies wi...</td>\n",
              "      <td>simple</td>\n",
              "      <td>[{'source': 'https://s2.q4cdn.com/470004039/fi...</td>\n",
              "      <td>True</td>\n",
              "    </tr>\n",
              "    <tr>\n",
              "      <th>8</th>\n",
              "      <td>What factors can materially and adversely affe...</td>\n",
              "      <td>[ ended March 30, 2024 (the “second quarter 20...</td>\n",
              "      <td>The context mentions that the Company's busine...</td>\n",
              "      <td>simple</td>\n",
              "      <td>[{'source': 'https://s2.q4cdn.com/470004039/fi...</td>\n",
              "      <td>True</td>\n",
              "    </tr>\n",
              "    <tr>\n",
              "      <th>9</th>\n",
              "      <td>What certification is associated with the Chie...</td>\n",
              "      <td>[Item 6. \\nExhibits\\nIncorporated by Reference...</td>\n",
              "      <td>The certification associated with the Chief Fi...</td>\n",
              "      <td>simple</td>\n",
              "      <td>[{'source': 'https://s2.q4cdn.com/470004039/fi...</td>\n",
              "      <td>True</td>\n",
              "    </tr>\n",
              "    <tr>\n",
              "      <th>10</th>\n",
              "      <td>What antitrust issues does the Company face in...</td>\n",
              "      <td>[PART II  —  OTHER INFORMATION\\nItem 1. \\nLega...</td>\n",
              "      <td>The Company faces antitrust issues in the DOJ ...</td>\n",
              "      <td>multi_context</td>\n",
              "      <td>[{'source': 'https://s2.q4cdn.com/470004039/fi...</td>\n",
              "      <td>True</td>\n",
              "    </tr>\n",
              "    <tr>\n",
              "      <th>11</th>\n",
              "      <td>How many shares were repurchased by June 29, 2...</td>\n",
              "      <td>[Item 2. \\nUnregistered Sales of Equity Securi...</td>\n",
              "      <td>By June 29, 2024, a total of 138,773 shares we...</td>\n",
              "      <td>multi_context</td>\n",
              "      <td>[{'source': 'https://s2.q4cdn.com/470004039/fi...</td>\n",
              "      <td>True</td>\n",
              "    </tr>\n",
              "    <tr>\n",
              "      <th>12</th>\n",
              "      <td>What's Apple's net income for Q2 2024 vs. last...</td>\n",
              "      <td>[Apple Inc.\\nCONDENSED CONSOLIDATED STATEMENTS...</td>\n",
              "      <td>The context does not provide information about...</td>\n",
              "      <td>multi_context</td>\n",
              "      <td>[{'source': 'https://s2.q4cdn.com/470004039/fi...</td>\n",
              "      <td>True</td>\n",
              "    </tr>\n",
              "    <tr>\n",
              "      <th>13</th>\n",
              "      <td>What dual roles do Cook and Maestri play in Ap...</td>\n",
              "      <td>[Exhibit 31.1\\nCERTIFICATION\\nI, Timothy D. Co...</td>\n",
              "      <td>Timothy D. Cook and Luca Maestri play dual rol...</td>\n",
              "      <td>multi_context</td>\n",
              "      <td>[{'source': 'https://s2.q4cdn.com/470004039/fi...</td>\n",
              "      <td>True</td>\n",
              "    </tr>\n",
              "    <tr>\n",
              "      <th>14</th>\n",
              "      <td>How did Apple’s net sales vary by product and ...</td>\n",
              "      <td>[Products and Services Performance\\nThe follow...</td>\n",
              "      <td>Apple's net sales varied by product and region...</td>\n",
              "      <td>multi_context</td>\n",
              "      <td>[{'source': 'https://s2.q4cdn.com/470004039/fi...</td>\n",
              "      <td>True</td>\n",
              "    </tr>\n",
              "    <tr>\n",
              "      <th>15</th>\n",
              "      <td>What's the cash outflow from financing for App...</td>\n",
              "      <td>[Apple Inc.\\nCONDENSED CONSOLIDATED STATEMENTS...</td>\n",
              "      <td>The cash outflow from financing activities for...</td>\n",
              "      <td>multi_context</td>\n",
              "      <td>[{'source': 'https://s2.q4cdn.com/470004039/fi...</td>\n",
              "      <td>True</td>\n",
              "    </tr>\n",
              "    <tr>\n",
              "      <th>16</th>\n",
              "      <td>How did iPhone net sales change in Q3 and the ...</td>\n",
              "      <td>[Products and Services Performance\\nThe follow...</td>\n",
              "      <td>iPhone net sales were relatively flat during t...</td>\n",
              "      <td>multi_context</td>\n",
              "      <td>[{'source': 'https://s2.q4cdn.com/470004039/fi...</td>\n",
              "      <td>True</td>\n",
              "    </tr>\n",
              "    <tr>\n",
              "      <th>17</th>\n",
              "      <td>What was the Board's financial commitment for ...</td>\n",
              "      <td>[Item 2. \\nUnregistered Sales of Equity Securi...</td>\n",
              "      <td>On May 4, 2023, the Board of Directors authori...</td>\n",
              "      <td>multi_context</td>\n",
              "      <td>[{'source': 'https://s2.q4cdn.com/470004039/fi...</td>\n",
              "      <td>True</td>\n",
              "    </tr>\n",
              "    <tr>\n",
              "      <th>18</th>\n",
              "      <td>What's Apple's net income with operating incom...</td>\n",
              "      <td>[PART I  —  FINANCIAL INFORMATION\\nItem 1. Fin...</td>\n",
              "      <td>Apple's net income, considering operating inco...</td>\n",
              "      <td>reasoning</td>\n",
              "      <td>[{'source': 'https://s2.q4cdn.com/470004039/fi...</td>\n",
              "      <td>True</td>\n",
              "    </tr>\n",
              "    <tr>\n",
              "      <th>19</th>\n",
              "      <td>Which investing cash flow boosted Apple's tota...</td>\n",
              "      <td>[Apple Inc.\\nCONDENSED CONSOLIDATED STATEMENTS...</td>\n",
              "      <td>The answer to given question is not present in...</td>\n",
              "      <td>reasoning</td>\n",
              "      <td>[{'source': 'https://s2.q4cdn.com/470004039/fi...</td>\n",
              "      <td>True</td>\n",
              "    </tr>\n",
              "  </tbody>\n",
              "</table>\n",
              "</div>"
            ],
            "text/plain": [
              "                                             question  \\\n",
              "0   What was the net income for Apple Inc. for the...   \n",
              "1   What is the purpose of the commercial paper pr...   \n",
              "2   What allegations are being made against the Co...   \n",
              "3   What were the total comprehensive income figur...   \n",
              "4   What is Timothy D. Cook's role in the certific...   \n",
              "5   What were the changes in net sales by reportab...   \n",
              "6   What were the total assets of Apple Inc. as of...   \n",
              "7   What requirements of the Securities Exchange A...   \n",
              "8   What factors can materially and adversely affe...   \n",
              "9   What certification is associated with the Chie...   \n",
              "10  What antitrust issues does the Company face in...   \n",
              "11  How many shares were repurchased by June 29, 2...   \n",
              "12  What's Apple's net income for Q2 2024 vs. last...   \n",
              "13  What dual roles do Cook and Maestri play in Ap...   \n",
              "14  How did Apple’s net sales vary by product and ...   \n",
              "15  What's the cash outflow from financing for App...   \n",
              "16  How did iPhone net sales change in Q3 and the ...   \n",
              "17  What was the Board's financial commitment for ...   \n",
              "18  What's Apple's net income with operating incom...   \n",
              "19  Which investing cash flow boosted Apple's tota...   \n",
              "\n",
              "                                             contexts  \\\n",
              "0   [Apple Inc.\\nCONDENSED CONSOLIDATED STATEMENTS...   \n",
              "1   [Note 6 – Income Taxes\\nEuropean Commission St...   \n",
              "2   [PART II  —  OTHER INFORMATION\\nItem 1. \\nLega...   \n",
              "3   [Apple Inc.\\nCONDENSED CONSOLIDATED STATEMENTS...   \n",
              "4   [Exhibit 31.1\\nCERTIFICATION\\nI, Timothy D. Co...   \n",
              "5   [Products and Services Performance\\nThe follow...   \n",
              "6   [Apple Inc.\\nCONDENSED CONSOLIDATED BALANCE SH...   \n",
              "7   [Exhibit 32.1\\nCERTIFICATIONS OF CHIEF EXECUTI...   \n",
              "8   [ ended March 30, 2024 (the “second quarter 20...   \n",
              "9   [Item 6. \\nExhibits\\nIncorporated by Reference...   \n",
              "10  [PART II  —  OTHER INFORMATION\\nItem 1. \\nLega...   \n",
              "11  [Item 2. \\nUnregistered Sales of Equity Securi...   \n",
              "12  [Apple Inc.\\nCONDENSED CONSOLIDATED STATEMENTS...   \n",
              "13  [Exhibit 31.1\\nCERTIFICATION\\nI, Timothy D. Co...   \n",
              "14  [Products and Services Performance\\nThe follow...   \n",
              "15  [Apple Inc.\\nCONDENSED CONSOLIDATED STATEMENTS...   \n",
              "16  [Products and Services Performance\\nThe follow...   \n",
              "17  [Item 2. \\nUnregistered Sales of Equity Securi...   \n",
              "18  [PART I  —  FINANCIAL INFORMATION\\nItem 1. Fin...   \n",
              "19  [Apple Inc.\\nCONDENSED CONSOLIDATED STATEMENTS...   \n",
              "\n",
              "                                         ground_truth evolution_type  \\\n",
              "0                                     $21,448 million         simple   \n",
              "1   The purpose of the commercial paper program fo...         simple   \n",
              "2   The allegations being made against the Company...         simple   \n",
              "3   The total comprehensive income figures for App...         simple   \n",
              "4   Timothy D. Cook's role in the certification of...         simple   \n",
              "5   The changes in net sales by reportable segment...         simple   \n",
              "6   The total assets of Apple Inc. as of June 29, ...         simple   \n",
              "7   The Quarterly Report of Apple Inc. complies wi...         simple   \n",
              "8   The context mentions that the Company's busine...         simple   \n",
              "9   The certification associated with the Chief Fi...         simple   \n",
              "10  The Company faces antitrust issues in the DOJ ...  multi_context   \n",
              "11  By June 29, 2024, a total of 138,773 shares we...  multi_context   \n",
              "12  The context does not provide information about...  multi_context   \n",
              "13  Timothy D. Cook and Luca Maestri play dual rol...  multi_context   \n",
              "14  Apple's net sales varied by product and region...  multi_context   \n",
              "15  The cash outflow from financing activities for...  multi_context   \n",
              "16  iPhone net sales were relatively flat during t...  multi_context   \n",
              "17  On May 4, 2023, the Board of Directors authori...  multi_context   \n",
              "18  Apple's net income, considering operating inco...      reasoning   \n",
              "19  The answer to given question is not present in...      reasoning   \n",
              "\n",
              "                                             metadata  episode_done  \n",
              "0   [{'source': 'https://s2.q4cdn.com/470004039/fi...          True  \n",
              "1   [{'source': 'https://s2.q4cdn.com/470004039/fi...          True  \n",
              "2   [{'source': 'https://s2.q4cdn.com/470004039/fi...          True  \n",
              "3   [{'source': 'https://s2.q4cdn.com/470004039/fi...          True  \n",
              "4   [{'source': 'https://s2.q4cdn.com/470004039/fi...          True  \n",
              "5   [{'source': 'https://s2.q4cdn.com/470004039/fi...          True  \n",
              "6   [{'source': 'https://s2.q4cdn.com/470004039/fi...          True  \n",
              "7   [{'source': 'https://s2.q4cdn.com/470004039/fi...          True  \n",
              "8   [{'source': 'https://s2.q4cdn.com/470004039/fi...          True  \n",
              "9   [{'source': 'https://s2.q4cdn.com/470004039/fi...          True  \n",
              "10  [{'source': 'https://s2.q4cdn.com/470004039/fi...          True  \n",
              "11  [{'source': 'https://s2.q4cdn.com/470004039/fi...          True  \n",
              "12  [{'source': 'https://s2.q4cdn.com/470004039/fi...          True  \n",
              "13  [{'source': 'https://s2.q4cdn.com/470004039/fi...          True  \n",
              "14  [{'source': 'https://s2.q4cdn.com/470004039/fi...          True  \n",
              "15  [{'source': 'https://s2.q4cdn.com/470004039/fi...          True  \n",
              "16  [{'source': 'https://s2.q4cdn.com/470004039/fi...          True  \n",
              "17  [{'source': 'https://s2.q4cdn.com/470004039/fi...          True  \n",
              "18  [{'source': 'https://s2.q4cdn.com/470004039/fi...          True  \n",
              "19  [{'source': 'https://s2.q4cdn.com/470004039/fi...          True  "
            ]
          },
          "execution_count": 14,
          "metadata": {},
          "output_type": "execute_result"
        }
      ],
      "source": [
        "testset.to_pandas()"
      ]
    },
    {
      "cell_type": "markdown",
      "metadata": {
        "id": "vLDUsLJg43k7"
      },
      "source": [
        "# 🤝 BREAKOUT ROOM #2"
      ]
    },
    {
      "cell_type": "markdown",
      "metadata": {
        "id": "8SLtk1GtnyoY"
      },
      "source": [
        "## Task 4: LangSmith Dataset\n",
        "\n",
        "Now we can move on to creating a dataset for LangSmith!\n",
        "\n",
        "First, we'll need to create a dataset on LangSmith using the `Client`!\n",
        "\n",
        "We'll name our Dataset to make it easy to work with later."
      ]
    },
    {
      "cell_type": "code",
      "execution_count": 16,
      "metadata": {
        "id": "TLgm6OjvYSsm"
      },
      "outputs": [],
      "source": [
        "from langsmith import Client\n",
        "\n",
        "client = Client()\n",
        "\n",
        "dataset_name = \"Apple 10-Q Filing Questions - v4\"\n",
        "\n",
        "dataset = client.create_dataset(\n",
        "    dataset_name=dataset_name,\n",
        "    description=\"Questions about Apple's 10-Q Filing\"\n",
        ")"
      ]
    },
    {
      "cell_type": "markdown",
      "metadata": {
        "id": "64SmXMBnzXWm"
      },
      "source": [
        "We'll iterate through the RAGAS created dataframe - and add each example to our created dataset!\n",
        "\n",
        "> NOTE: We need to conform the outputs to the expected format - which in this case is: `question` and `answer`."
      ]
    },
    {
      "cell_type": "code",
      "execution_count": 17,
      "metadata": {
        "id": "8nFQ6di_XnY7"
      },
      "outputs": [],
      "source": [
        "for test in testset.to_pandas().iterrows():\n",
        "  client.create_example(\n",
        "      inputs={\n",
        "          \"question\": test[1][\"question\"]\n",
        "      },\n",
        "      outputs={\n",
        "          \"answer\": test[1][\"ground_truth\"]\n",
        "      },\n",
        "      metadata={\n",
        "          \"context\": test[0]\n",
        "      },\n",
        "      dataset_id=dataset.id\n",
        "  )"
      ]
    },
    {
      "cell_type": "markdown",
      "metadata": {
        "id": "o6EbQVyZq-2j"
      },
      "source": [
        "## Basic RAG Chain\n",
        "\n",
        "Time for some RAG!\n",
        "\n",
        "We'll use the Apple 10-Q filing as our data source today!\n"
      ]
    },
    {
      "cell_type": "code",
      "execution_count": 18,
      "metadata": {
        "id": "4njbUAIsaYjB"
      },
      "outputs": [],
      "source": [
        "rag_documents = PyMuPDFLoader(file_path=\"https://s2.q4cdn.com/470004039/files/doc_earnings/2024/q3/filing/_10-Q-Q3-2024-As-Filed.pdf\").load()"
      ]
    },
    {
      "cell_type": "markdown",
      "metadata": {
        "id": "bQorBy8H1AZR"
      },
      "source": [
        "To keep things simple, we'll just use LangChain's recursive character text splitter!\n"
      ]
    },
    {
      "cell_type": "code",
      "execution_count": 19,
      "metadata": {
        "id": "qWo3Ajaragv1"
      },
      "outputs": [],
      "source": [
        "from langchain.text_splitter import RecursiveCharacterTextSplitter\n",
        "\n",
        "text_splitter = RecursiveCharacterTextSplitter(\n",
        "    chunk_size = 500,\n",
        "    chunk_overlap = 50\n",
        ")\n",
        "\n",
        "rag_documents = text_splitter.split_documents(rag_documents)"
      ]
    },
    {
      "cell_type": "markdown",
      "metadata": {
        "id": "kghuTb9R01oO"
      },
      "source": [
        "We'll create our vectorstore using OpenAI's [`text-embedding-3-small`](https://platform.openai.com/docs/guides/embeddings/embedding-models) embedding model."
      ]
    },
    {
      "cell_type": "code",
      "execution_count": 20,
      "metadata": {
        "id": "UwfJCzP3aqKI"
      },
      "outputs": [],
      "source": [
        "from langchain_openai import OpenAIEmbeddings\n",
        "\n",
        "embeddings = OpenAIEmbeddings(model=\"text-embedding-3-small\")"
      ]
    },
    {
      "cell_type": "markdown",
      "metadata": {
        "id": "QpCLS-a01Ft2"
      },
      "source": [
        "As usual, we will power our RAG application with Qdrant!"
      ]
    },
    {
      "cell_type": "code",
      "execution_count": 21,
      "metadata": {
        "id": "58Ypj_NgbEsi"
      },
      "outputs": [],
      "source": [
        "from langchain_community.vectorstores import Qdrant\n",
        "\n",
        "vectorstore = Qdrant.from_documents(\n",
        "    documents=rag_documents,\n",
        "    embedding=embeddings,\n",
        "    location=\":memory:\",\n",
        "    collection_name=\"Apple 10-Q\"\n",
        ")"
      ]
    },
    {
      "cell_type": "code",
      "execution_count": 22,
      "metadata": {
        "id": "SbKSjfSkbTYo"
      },
      "outputs": [],
      "source": [
        "retriever = vectorstore.as_retriever()"
      ]
    },
    {
      "cell_type": "markdown",
      "metadata": {
        "id": "WxUOMaQX1K2N"
      },
      "source": [
        "To get the \"A\" in RAG, we'll provide a prompt."
      ]
    },
    {
      "cell_type": "code",
      "execution_count": 23,
      "metadata": {
        "id": "1sLeY1oWbVqO"
      },
      "outputs": [],
      "source": [
        "from langchain.prompts import ChatPromptTemplate\n",
        "\n",
        "RAG_PROMPT = \"\"\"\\\n",
        "Given a provided context and question, you must answer the question based only on context.\n",
        "\n",
        "If you cannot answer the question based on the context - you must say \"I don't know\".\n",
        "\n",
        "Context: {context}\n",
        "Question: {question}\n",
        "\"\"\"\n",
        "\n",
        "rag_prompt = ChatPromptTemplate.from_template(RAG_PROMPT)"
      ]
    },
    {
      "cell_type": "markdown",
      "metadata": {
        "id": "PZnHDh4e1Ou5"
      },
      "source": [
        "For our LLM, we will be using TogetherAI's endpoints as well!\n",
        "\n",
        "We're going to be using Meta Llama 3.1 70B Instruct Turbo - a powerful model which should get us powerful results!"
      ]
    },
    {
      "cell_type": "code",
      "execution_count": 24,
      "metadata": {
        "id": "6nx-ue1XbciV"
      },
      "outputs": [],
      "source": [
        "from langchain_openai import ChatOpenAI\n",
        "\n",
        "llm = ChatOpenAI(model=\"gpt-4o-mini\")"
      ]
    },
    {
      "cell_type": "markdown",
      "metadata": {
        "id": "jmTL6-pc1ZGz"
      },
      "source": [
        "Finally, we can set-up our RAG LCEL chain!"
      ]
    },
    {
      "cell_type": "code",
      "execution_count": 25,
      "metadata": {
        "id": "TjWj0OLIbbFc"
      },
      "outputs": [],
      "source": [
        "from operator import itemgetter\n",
        "from langchain_core.runnables import RunnablePassthrough, RunnableParallel\n",
        "from langchain.schema import StrOutputParser\n",
        "\n",
        "rag_chain = (\n",
        "    {\"context\": itemgetter(\"question\") | retriever, \"question\": itemgetter(\"question\")}\n",
        "    | rag_prompt | llm | StrOutputParser()\n",
        ")"
      ]
    },
    {
      "cell_type": "code",
      "execution_count": 26,
      "metadata": {
        "colab": {
          "base_uri": "https://localhost:8080/",
          "height": 35
        },
        "id": "WQ7bEweo4IIb",
        "outputId": "d161b269-f799-4920-d6ce-c202f6e783aa"
      },
      "outputs": [
        {
          "data": {
            "text/plain": [
              "\"I don't know.\""
            ]
          },
          "execution_count": 26,
          "metadata": {},
          "output_type": "execute_result"
        }
      ],
      "source": [
        "rag_chain.invoke({\"question\" : \"Does Apple seem to be in good financial health?\"})"
      ]
    },
    {
      "cell_type": "code",
      "execution_count": null,
      "metadata": {},
      "outputs": [],
      "source": []
    },
    {
      "cell_type": "markdown",
      "metadata": {
        "id": "D9hBh5YPrdGJ"
      },
      "source": [
        "## LangSmith Evaluation Set-up\n",
        "\n",
        "We'll use OpenAI's GPT-4o as our evaluation LLM for our base Evaluators."
      ]
    },
    {
      "cell_type": "code",
      "execution_count": 27,
      "metadata": {
        "id": "gfwPYdIkcvpF"
      },
      "outputs": [],
      "source": [
        "eval_llm = ChatOpenAI(model=\"gpt-4o\")"
      ]
    },
    {
      "cell_type": "markdown",
      "metadata": {
        "id": "6b8pToKH2K28"
      },
      "source": [
        "We'll be using a number of evaluators - from LangSmith provided evaluators, to a few custom evaluators!"
      ]
    },
    {
      "cell_type": "code",
      "execution_count": 28,
      "metadata": {
        "id": "PXSG-_ajckp6"
      },
      "outputs": [],
      "source": [
        "from langsmith.evaluation import LangChainStringEvaluator, evaluate\n",
        "\n",
        "qa_evaluator = LangChainStringEvaluator(\"qa\", config={\"llm\" : eval_llm})\n",
        "\n",
        "labeled_helpfulness_evaluator = LangChainStringEvaluator(\n",
        "    \"labeled_criteria\",\n",
        "    config={\n",
        "        \"llm\": eval_llm,\n",
        "        \"criteria\": {\n",
        "            \"helpfulness\": (\n",
        "                \"Is this submission helpful to the user,\"\n",
        "                \" taking into account the correct reference answer?\"\n",
        "            )\n",
        "        }\n",
        "    },\n",
        "    prepare_data=lambda run, example: {\n",
        "        \"prediction\": run.outputs[\"output\"],\n",
        "        \"reference\": example.outputs[\"answer\"],\n",
        "        \"input\": example.inputs[\"question\"],\n",
        "    }\n",
        ")\n",
        "\n",
        "dope_or_nope_evaluator = LangChainStringEvaluator(\n",
        "    \"criteria\",\n",
        "    config={\n",
        "        \"llm\": eval_llm,\n",
        "        \"criteria\": {\n",
        "            \"dopeness\": \"Is this submission dope, lit, or cool?\",\n",
        "        }\n",
        "    }\n",
        ")"
      ]
    },
    {
      "cell_type": "markdown",
      "metadata": {
        "id": "z0SQP_FoCetP"
      },
      "source": [
        "#### 🏗️ Activity #2:\n",
        "\n",
        "Highlight what each evaluator is evaluating.\n",
        "---\n",
        "#### SHOWN BELOW\n",
        "\n",
        "- `qa_evaluator`: Measuring whether the answer to the question is correct.  Correctness in the LangSmith environment.\n",
        "- `labeled_helpfulness_evaluator`: Assessment of whether the answer is helpful to the user given the correct reference answer.\n",
        "- `dope_or_nope_evaluator`: Is the response dope?\n",
        "\n",
        "---"
      ]
    },
    {
      "cell_type": "markdown",
      "metadata": {
        "id": "R35sQMHVrnpl"
      },
      "source": [
        "## LangSmith Evaluation"
      ]
    },
    {
      "cell_type": "code",
      "execution_count": 29,
      "metadata": {
        "colab": {
          "base_uri": "https://localhost:8080/",
          "height": 136,
          "referenced_widgets": [
            "122b1bd1f0e9417a8dcb57d4eebe4d2e",
            "e0c233ad01604540a6c873f4a731982d",
            "e9a01115c75b499884f7e0ef32e9e599",
            "5faba4ad609448b2b49024add4ad3b8e",
            "ef25efa751304e4699910f1fbc14345f",
            "0b44cb0f8e34446c8dde668a75d3d8ad",
            "edaac6587b2d4bd5be52b89bb097f99f",
            "7cb241365f604419af454c1c28de197a",
            "9cf586576ff44dba86ba2eb389593c61",
            "849b5c95008541d49f1ceedf0a59ac60",
            "f3665a86662746c4ac7cb0796604781d"
          ]
        },
        "id": "t7t_Uz0tdumL",
        "outputId": "d684e218-294e-4dc3-c8de-a01d397f021c"
      },
      "outputs": [
        {
          "name": "stdout",
          "output_type": "stream",
          "text": [
            "View the evaluation results for experiment: 'memorable-push-54' at:\n",
            "https://smith.langchain.com/o/b47f3abe-d937-5f35-8caa-ad9d628ed67f/datasets/37f74f54-b12a-4f20-9020-75c834880a36/compare?selectedSessions=2a9b9eea-3e57-4471-b028-cd8f25b6fbf8\n",
            "\n",
            "\n"
          ]
        },
        {
          "data": {
            "application/vnd.jupyter.widget-view+json": {
              "model_id": "3d060dc4a70e492189acc9e0bf4ec09a",
              "version_major": 2,
              "version_minor": 0
            },
            "text/plain": [
              "0it [00:00, ?it/s]"
            ]
          },
          "metadata": {},
          "output_type": "display_data"
        },
        {
          "data": {
            "text/plain": [
              "<ExperimentResults memorable-push-54>"
            ]
          },
          "execution_count": 29,
          "metadata": {},
          "output_type": "execute_result"
        }
      ],
      "source": [
        "evaluate(\n",
        "    rag_chain.invoke,\n",
        "    data=dataset_name,\n",
        "    evaluators=[\n",
        "        qa_evaluator,\n",
        "        labeled_helpfulness_evaluator,\n",
        "        dope_or_nope_evaluator\n",
        "    ],\n",
        "    metadata={\"revision_id\": \"default_chain\"},\n",
        ")"
      ]
    },
    {
      "cell_type": "markdown",
      "metadata": {
        "id": "Nq7fCVinrpI4"
      },
      "source": [
        "## Dope-ifying Our Application\n",
        "\n",
        "We'll be making a few changes to our RAG chain to increase its performance on our SDG evaluation test dataset!\n",
        "\n",
        "- Include a \"dope\" prompt augmentation\n",
        "- Use larger chunks\n",
        "- Improve the retriever model to: `text-embedding-3-large`\n",
        "\n",
        "Let's see how this changes our evaluation!"
      ]
    },
    {
      "cell_type": "code",
      "execution_count": 30,
      "metadata": {
        "id": "z56pXwyUgFUt"
      },
      "outputs": [],
      "source": [
        "DOPE_RAG_PROMPT = \"\"\"\\\n",
        "Given a provided context and question, you must answer the question based only on context.\n",
        "\n",
        "If you cannot answer the question based on the context - you must say \"I don't know\".\n",
        "\n",
        "You must answer the questions in a dope way, be cool!\n",
        "\n",
        "Context: {context}\n",
        "Question: {question}\n",
        "\"\"\"\n",
        "\n",
        "dope_rag_prompt = ChatPromptTemplate.from_template(DOPE_RAG_PROMPT)"
      ]
    },
    {
      "cell_type": "code",
      "execution_count": 31,
      "metadata": {
        "id": "rZLcTstJgfv5"
      },
      "outputs": [],
      "source": [
        "rag_documents = PyMuPDFLoader(file_path=\"https://s2.q4cdn.com/470004039/files/doc_earnings/2024/q3/filing/_10-Q-Q3-2024-As-Filed.pdf\").load()"
      ]
    },
    {
      "cell_type": "code",
      "execution_count": 32,
      "metadata": {
        "id": "-LYsyirngj6n"
      },
      "outputs": [],
      "source": [
        "from langchain.text_splitter import RecursiveCharacterTextSplitter\n",
        "\n",
        "text_splitter = RecursiveCharacterTextSplitter(\n",
        "    chunk_size = 1000,\n",
        "    chunk_overlap = 50\n",
        ")\n",
        "\n",
        "rag_documents = text_splitter.split_documents(rag_documents)"
      ]
    },
    {
      "cell_type": "markdown",
      "metadata": {
        "id": "spldiPuTCzDO"
      },
      "source": [
        "#### ❓Question #2:\n",
        "\n",
        "Why would modifying our chunk size modify the performance of our application?\n",
        "\n",
        "---\n",
        "\n",
        "#### ANSWER #2:\n",
        "In this situation we doubled the chunk size from 500 to 1000, leaving overlap unchanged.  This **might** improve the overall content of retrieved chunks by increasing the semantic content.  Interestingly, we don't actually know what number of chunks are returned by the default retriever, but if the number of chunks is small, then each chunk needs to be large enough to contain sufficient information to form an adequate context.  \n",
        "\n",
        "---"
      ]
    },
    {
      "cell_type": "code",
      "execution_count": 33,
      "metadata": {
        "id": "b9MI2Bm2go1r"
      },
      "outputs": [],
      "source": [
        "from langchain_openai import OpenAIEmbeddings\n",
        "\n",
        "embeddings = OpenAIEmbeddings(model=\"text-embedding-3-large\")"
      ]
    },
    {
      "cell_type": "markdown",
      "metadata": {
        "id": "UBbjG6cKC8BQ"
      },
      "source": [
        "#### ❓Question #3:\n",
        "\n",
        "Why would modifying our embedding model modify the performance of our application?\n",
        "\n",
        "---\n",
        "\n",
        "#### ANSWER #3:\n",
        "The larger embedding model has more dimensions (3072) compared with the small model (1536) and this **might** improve the \"semantic focus\" on chunks, improving the retrieval for the specific question.  For English retrieval, which is our situation, the difference between the two models on the MTEB metric is negligible.  So I do not expect an effect when we redo the evaluation.\n",
        "\n",
        "---"
      ]
    },
    {
      "cell_type": "code",
      "execution_count": 34,
      "metadata": {
        "id": "hVUY25FKgxXx"
      },
      "outputs": [],
      "source": [
        "vectorstore = Qdrant.from_documents(\n",
        "    documents=rag_documents,\n",
        "    embedding=embeddings,\n",
        "    location=\":memory:\",\n",
        "    collection_name=\"Apple 10-Q (Augmented)\"\n",
        ")"
      ]
    },
    {
      "cell_type": "code",
      "execution_count": 64,
      "metadata": {
        "id": "Q4TOZNYIg2v1"
      },
      "outputs": [],
      "source": [
        "retriever = vectorstore.as_retriever()"
      ]
    },
    {
      "cell_type": "markdown",
      "metadata": {
        "id": "SqYGFrnKDB91"
      },
      "source": [
        "Setting up our new and improved DOPE RAG CHAIN."
      ]
    },
    {
      "cell_type": "code",
      "execution_count": 65,
      "metadata": {
        "id": "HqnTqeXMhAdx"
      },
      "outputs": [],
      "source": [
        "dope_rag_chain = (\n",
        "    {\"context\": itemgetter(\"question\") | retriever, \"question\": itemgetter(\"question\")}\n",
        "    | dope_rag_prompt | llm | StrOutputParser()\n",
        ")"
      ]
    },
    {
      "cell_type": "markdown",
      "metadata": {
        "id": "21pTxoqJDI1Y"
      },
      "source": [
        "Let's test it on the same output that we saw before."
      ]
    },
    {
      "cell_type": "code",
      "execution_count": 66,
      "metadata": {
        "colab": {
          "base_uri": "https://localhost:8080/",
          "height": 70
        },
        "id": "OfZZ3MoN3fKv",
        "outputId": "d65722dd-92c2-4e4e-9cca-c42ee6f3f208"
      },
      "outputs": [
        {
          "data": {
            "text/plain": [
              "\"Yo, based on the context, Apple is looking pretty solid! They've got a total of $331.6 billion in assets, and their net income for the nine months ended June 29, 2024, was $79 billion. Plus, their total net sales are up, with a gross margin of $136.8 billion. All signs point to a healthy financial vibe! 💰📈\""
            ]
          },
          "execution_count": 66,
          "metadata": {},
          "output_type": "execute_result"
        }
      ],
      "source": [
        "dope_rag_chain.invoke({\"question\" : \"Does Apple seem to be in good financial health?\"})"
      ]
    },
    {
      "cell_type": "markdown",
      "metadata": {
        "id": "lpj7v1inDLnQ"
      },
      "source": [
        "Finally, we can evaluate the new chain on the same test set!"
      ]
    },
    {
      "cell_type": "code",
      "execution_count": 67,
      "metadata": {
        "colab": {
          "base_uri": "https://localhost:8080/",
          "height": 136,
          "referenced_widgets": [
            "bf8dcc0895054529af356da401c513f6",
            "7dce19ac55264f2b88a0e4730e55867b",
            "2a0755d4476543feb4a64538e3e37213",
            "158212a630f04cbd884c937f2f60f5c8",
            "11c7f66acc1d45be9517d0addf49331e",
            "ddffd834e09940a4bd3874c3f39b4e21",
            "ef63c3b2d51e452da03cdae5d9b034be",
            "c20b539cd70b4ba99601ad1d69fd9cec",
            "a6d681eeafa44d18b933a4c5dec88382",
            "d1d54ccd56494c4d831f71b416a1f880",
            "530f696feefe499da08c6312047379b2"
          ]
        },
        "id": "Dx11S2b-hIM8",
        "outputId": "d3a3ea78-aa32-4bd2-8c2a-d0d0303695c1"
      },
      "outputs": [
        {
          "name": "stdout",
          "output_type": "stream",
          "text": [
            "View the evaluation results for experiment: 'brief-plot-77' at:\n",
            "https://smith.langchain.com/o/b47f3abe-d937-5f35-8caa-ad9d628ed67f/datasets/37f74f54-b12a-4f20-9020-75c834880a36/compare?selectedSessions=28097d35-2595-4f1f-be73-0f5e2b4eef20\n",
            "\n",
            "\n"
          ]
        },
        {
          "data": {
            "application/vnd.jupyter.widget-view+json": {
              "model_id": "7f2bceb1c9d1452882718e2af9207094",
              "version_major": 2,
              "version_minor": 0
            },
            "text/plain": [
              "0it [00:00, ?it/s]"
            ]
          },
          "metadata": {},
          "output_type": "display_data"
        },
        {
          "data": {
            "text/plain": [
              "<ExperimentResults brief-plot-77>"
            ]
          },
          "execution_count": 67,
          "metadata": {},
          "output_type": "execute_result"
        }
      ],
      "source": [
        "evaluate(\n",
        "    dope_rag_chain.invoke,\n",
        "    data=dataset_name,\n",
        "    evaluators=[\n",
        "        qa_evaluator,\n",
        "        labeled_helpfulness_evaluator,\n",
        "        dope_or_nope_evaluator\n",
        "    ],\n",
        "    metadata={\"revision_id\": \"dope_chain\"},\n",
        ")"
      ]
    },
    {
      "cell_type": "markdown",
      "metadata": {
        "id": "3C7migvlDPZT"
      },
      "source": [
        "#### 🏗️ Activity #3:\n",
        "\n",
        "Provide a screenshot of the difference between the two chains, and explain why you believe certain metrics changed in certain ways.\n",
        "\n",
        "![Comparison of experiments](ImprovedRAGExperiment.png)\n",
        "\n",
        "Correctness increased and this is most likely because the chunk size was increased, which would provide more context for answering questions.  However, whether this is a significant increase (from 11/20 to 13/20 correct) is not clear, and probably the experiment should have repetitions to look at variability. Changing the embedding model MIGHT have impacted this metric.  THe Dopeness clearly exploded from only 1/20 initially to 18/20, due to the specific prompt change.  Helpfulness did not change, and given that the correctness only changed slightly, this is probably expected.  Also it is not clear how adding dopeness might affect the helpfulness metric.\n",
        "\n",
        "One important point, I think, is that we should really only change one parameter at a time because it is impossible to sort out specific actions when three different things are changed at once.\n",
        "\n",
        "Finally, we can provide an argument to the retriever \n",
        "```\n",
        "retriever = vectorstore.as_retriever(kwargs={\"k\":10})\n",
        "```\n",
        "and this is important because it determines how many chunks are retrieved.  The following shows some runs where I varied this;  in run 7 is set K to 10;  run 8 shows if I don't set it explicitly, and I think it is defaulting to 5.  Just another example of how many knobs there are on the RAG machine.\n",
        "\n",
        "![More experiments](moreExperiments.png)\n",
        "---"
      ]
    },
    {
      "cell_type": "markdown",
      "metadata": {},
      "source": []
    }
  ],
  "metadata": {
    "colab": {
      "provenance": [],
      "toc_visible": true
    },
    "kernelspec": {
      "display_name": "Python 3",
      "name": "python3"
    },
    "language_info": {
      "codemirror_mode": {
        "name": "ipython",
        "version": 3
      },
      "file_extension": ".py",
      "mimetype": "text/x-python",
      "name": "python",
      "nbconvert_exporter": "python",
      "pygments_lexer": "ipython3",
      "version": "3.11.9"
    },
    "widgets": {
      "application/vnd.jupyter.widget-state+json": {
        "07ab3dc0790241bbb85a7f488a42ef8c": {
          "model_module": "@jupyter-widgets/controls",
          "model_module_version": "1.5.0",
          "model_name": "HBoxModel",
          "state": {
            "_dom_classes": [],
            "_model_module": "@jupyter-widgets/controls",
            "_model_module_version": "1.5.0",
            "_model_name": "HBoxModel",
            "_view_count": null,
            "_view_module": "@jupyter-widgets/controls",
            "_view_module_version": "1.5.0",
            "_view_name": "HBoxView",
            "box_style": "",
            "children": [
              "IPY_MODEL_7710c7377cbc4c30b55b28b4bc99e88f",
              "IPY_MODEL_41bdd49fab5f4826959d0d50663ff539",
              "IPY_MODEL_60168d85131d4afc99d55d61ab954ee6"
            ],
            "layout": "IPY_MODEL_9edf898aeeab40dda9b9475395776521"
          }
        },
        "095f680d37a3430fb82d223615662db5": {
          "model_module": "@jupyter-widgets/controls",
          "model_module_version": "1.5.0",
          "model_name": "ProgressStyleModel",
          "state": {
            "_model_module": "@jupyter-widgets/controls",
            "_model_module_version": "1.5.0",
            "_model_name": "ProgressStyleModel",
            "_view_count": null,
            "_view_module": "@jupyter-widgets/base",
            "_view_module_version": "1.2.0",
            "_view_name": "StyleView",
            "bar_color": null,
            "description_width": ""
          }
        },
        "0b44cb0f8e34446c8dde668a75d3d8ad": {
          "model_module": "@jupyter-widgets/base",
          "model_module_version": "1.2.0",
          "model_name": "LayoutModel",
          "state": {
            "_model_module": "@jupyter-widgets/base",
            "_model_module_version": "1.2.0",
            "_model_name": "LayoutModel",
            "_view_count": null,
            "_view_module": "@jupyter-widgets/base",
            "_view_module_version": "1.2.0",
            "_view_name": "LayoutView",
            "align_content": null,
            "align_items": null,
            "align_self": null,
            "border": null,
            "bottom": null,
            "display": null,
            "flex": null,
            "flex_flow": null,
            "grid_area": null,
            "grid_auto_columns": null,
            "grid_auto_flow": null,
            "grid_auto_rows": null,
            "grid_column": null,
            "grid_gap": null,
            "grid_row": null,
            "grid_template_areas": null,
            "grid_template_columns": null,
            "grid_template_rows": null,
            "height": null,
            "justify_content": null,
            "justify_items": null,
            "left": null,
            "margin": null,
            "max_height": null,
            "max_width": null,
            "min_height": null,
            "min_width": null,
            "object_fit": null,
            "object_position": null,
            "order": null,
            "overflow": null,
            "overflow_x": null,
            "overflow_y": null,
            "padding": null,
            "right": null,
            "top": null,
            "visibility": null,
            "width": null
          }
        },
        "10df31709059484c99f102453d780473": {
          "model_module": "@jupyter-widgets/base",
          "model_module_version": "1.2.0",
          "model_name": "LayoutModel",
          "state": {
            "_model_module": "@jupyter-widgets/base",
            "_model_module_version": "1.2.0",
            "_model_name": "LayoutModel",
            "_view_count": null,
            "_view_module": "@jupyter-widgets/base",
            "_view_module_version": "1.2.0",
            "_view_name": "LayoutView",
            "align_content": null,
            "align_items": null,
            "align_self": null,
            "border": null,
            "bottom": null,
            "display": null,
            "flex": null,
            "flex_flow": null,
            "grid_area": null,
            "grid_auto_columns": null,
            "grid_auto_flow": null,
            "grid_auto_rows": null,
            "grid_column": null,
            "grid_gap": null,
            "grid_row": null,
            "grid_template_areas": null,
            "grid_template_columns": null,
            "grid_template_rows": null,
            "height": null,
            "justify_content": null,
            "justify_items": null,
            "left": null,
            "margin": null,
            "max_height": null,
            "max_width": null,
            "min_height": null,
            "min_width": null,
            "object_fit": null,
            "object_position": null,
            "order": null,
            "overflow": null,
            "overflow_x": null,
            "overflow_y": null,
            "padding": null,
            "right": null,
            "top": null,
            "visibility": null,
            "width": null
          }
        },
        "1160a44dc18e47b0890f70c40eaa7eb0": {
          "model_module": "@jupyter-widgets/controls",
          "model_module_version": "1.5.0",
          "model_name": "DescriptionStyleModel",
          "state": {
            "_model_module": "@jupyter-widgets/controls",
            "_model_module_version": "1.5.0",
            "_model_name": "DescriptionStyleModel",
            "_view_count": null,
            "_view_module": "@jupyter-widgets/base",
            "_view_module_version": "1.2.0",
            "_view_name": "StyleView",
            "description_width": ""
          }
        },
        "11c7f66acc1d45be9517d0addf49331e": {
          "model_module": "@jupyter-widgets/base",
          "model_module_version": "1.2.0",
          "model_name": "LayoutModel",
          "state": {
            "_model_module": "@jupyter-widgets/base",
            "_model_module_version": "1.2.0",
            "_model_name": "LayoutModel",
            "_view_count": null,
            "_view_module": "@jupyter-widgets/base",
            "_view_module_version": "1.2.0",
            "_view_name": "LayoutView",
            "align_content": null,
            "align_items": null,
            "align_self": null,
            "border": null,
            "bottom": null,
            "display": null,
            "flex": null,
            "flex_flow": null,
            "grid_area": null,
            "grid_auto_columns": null,
            "grid_auto_flow": null,
            "grid_auto_rows": null,
            "grid_column": null,
            "grid_gap": null,
            "grid_row": null,
            "grid_template_areas": null,
            "grid_template_columns": null,
            "grid_template_rows": null,
            "height": null,
            "justify_content": null,
            "justify_items": null,
            "left": null,
            "margin": null,
            "max_height": null,
            "max_width": null,
            "min_height": null,
            "min_width": null,
            "object_fit": null,
            "object_position": null,
            "order": null,
            "overflow": null,
            "overflow_x": null,
            "overflow_y": null,
            "padding": null,
            "right": null,
            "top": null,
            "visibility": null,
            "width": null
          }
        },
        "122b1bd1f0e9417a8dcb57d4eebe4d2e": {
          "model_module": "@jupyter-widgets/controls",
          "model_module_version": "1.5.0",
          "model_name": "HBoxModel",
          "state": {
            "_dom_classes": [],
            "_model_module": "@jupyter-widgets/controls",
            "_model_module_version": "1.5.0",
            "_model_name": "HBoxModel",
            "_view_count": null,
            "_view_module": "@jupyter-widgets/controls",
            "_view_module_version": "1.5.0",
            "_view_name": "HBoxView",
            "box_style": "",
            "children": [
              "IPY_MODEL_e0c233ad01604540a6c873f4a731982d",
              "IPY_MODEL_e9a01115c75b499884f7e0ef32e9e599",
              "IPY_MODEL_5faba4ad609448b2b49024add4ad3b8e"
            ],
            "layout": "IPY_MODEL_ef25efa751304e4699910f1fbc14345f"
          }
        },
        "158212a630f04cbd884c937f2f60f5c8": {
          "model_module": "@jupyter-widgets/controls",
          "model_module_version": "1.5.0",
          "model_name": "HTMLModel",
          "state": {
            "_dom_classes": [],
            "_model_module": "@jupyter-widgets/controls",
            "_model_module_version": "1.5.0",
            "_model_name": "HTMLModel",
            "_view_count": null,
            "_view_module": "@jupyter-widgets/controls",
            "_view_module_version": "1.5.0",
            "_view_name": "HTMLView",
            "description": "",
            "description_tooltip": null,
            "layout": "IPY_MODEL_d1d54ccd56494c4d831f71b416a1f880",
            "placeholder": "​",
            "style": "IPY_MODEL_530f696feefe499da08c6312047379b2",
            "value": " 20/? [01:43&lt;00:00,  5.25s/it]"
          }
        },
        "23863bc37a8645029934b8c106622c51": {
          "model_module": "@jupyter-widgets/base",
          "model_module_version": "1.2.0",
          "model_name": "LayoutModel",
          "state": {
            "_model_module": "@jupyter-widgets/base",
            "_model_module_version": "1.2.0",
            "_model_name": "LayoutModel",
            "_view_count": null,
            "_view_module": "@jupyter-widgets/base",
            "_view_module_version": "1.2.0",
            "_view_name": "LayoutView",
            "align_content": null,
            "align_items": null,
            "align_self": null,
            "border": null,
            "bottom": null,
            "display": null,
            "flex": null,
            "flex_flow": null,
            "grid_area": null,
            "grid_auto_columns": null,
            "grid_auto_flow": null,
            "grid_auto_rows": null,
            "grid_column": null,
            "grid_gap": null,
            "grid_row": null,
            "grid_template_areas": null,
            "grid_template_columns": null,
            "grid_template_rows": null,
            "height": null,
            "justify_content": null,
            "justify_items": null,
            "left": null,
            "margin": null,
            "max_height": null,
            "max_width": null,
            "min_height": null,
            "min_width": null,
            "object_fit": null,
            "object_position": null,
            "order": null,
            "overflow": null,
            "overflow_x": null,
            "overflow_y": null,
            "padding": null,
            "right": null,
            "top": null,
            "visibility": null,
            "width": null
          }
        },
        "2508d229935744cbb5fc340222e2d660": {
          "model_module": "@jupyter-widgets/controls",
          "model_module_version": "1.5.0",
          "model_name": "DescriptionStyleModel",
          "state": {
            "_model_module": "@jupyter-widgets/controls",
            "_model_module_version": "1.5.0",
            "_model_name": "DescriptionStyleModel",
            "_view_count": null,
            "_view_module": "@jupyter-widgets/base",
            "_view_module_version": "1.2.0",
            "_view_name": "StyleView",
            "description_width": ""
          }
        },
        "2a0755d4476543feb4a64538e3e37213": {
          "model_module": "@jupyter-widgets/controls",
          "model_module_version": "1.5.0",
          "model_name": "FloatProgressModel",
          "state": {
            "_dom_classes": [],
            "_model_module": "@jupyter-widgets/controls",
            "_model_module_version": "1.5.0",
            "_model_name": "FloatProgressModel",
            "_view_count": null,
            "_view_module": "@jupyter-widgets/controls",
            "_view_module_version": "1.5.0",
            "_view_name": "ProgressView",
            "bar_style": "success",
            "description": "",
            "description_tooltip": null,
            "layout": "IPY_MODEL_c20b539cd70b4ba99601ad1d69fd9cec",
            "max": 1,
            "min": 0,
            "orientation": "horizontal",
            "style": "IPY_MODEL_a6d681eeafa44d18b933a4c5dec88382",
            "value": 1
          }
        },
        "33f063017b7c4c7fa8cbafc89674350b": {
          "model_module": "@jupyter-widgets/controls",
          "model_module_version": "1.5.0",
          "model_name": "HBoxModel",
          "state": {
            "_dom_classes": [],
            "_model_module": "@jupyter-widgets/controls",
            "_model_module_version": "1.5.0",
            "_model_name": "HBoxModel",
            "_view_count": null,
            "_view_module": "@jupyter-widgets/controls",
            "_view_module_version": "1.5.0",
            "_view_name": "HBoxView",
            "box_style": "",
            "children": [
              "IPY_MODEL_6864c81e2bcf459bbaf5acbb36bdfcbe",
              "IPY_MODEL_59d6e269eadf429a924f6f79bc8ba4ba",
              "IPY_MODEL_ca791fc471e34b9da2f9070fc1053c0f"
            ],
            "layout": "IPY_MODEL_8baf0ed3d0f743f294e07f2b5407e820"
          }
        },
        "3a8537e37fc14fd9b16ca0ceee4fede6": {
          "model_module": "@jupyter-widgets/base",
          "model_module_version": "1.2.0",
          "model_name": "LayoutModel",
          "state": {
            "_model_module": "@jupyter-widgets/base",
            "_model_module_version": "1.2.0",
            "_model_name": "LayoutModel",
            "_view_count": null,
            "_view_module": "@jupyter-widgets/base",
            "_view_module_version": "1.2.0",
            "_view_name": "LayoutView",
            "align_content": null,
            "align_items": null,
            "align_self": null,
            "border": null,
            "bottom": null,
            "display": null,
            "flex": null,
            "flex_flow": null,
            "grid_area": null,
            "grid_auto_columns": null,
            "grid_auto_flow": null,
            "grid_auto_rows": null,
            "grid_column": null,
            "grid_gap": null,
            "grid_row": null,
            "grid_template_areas": null,
            "grid_template_columns": null,
            "grid_template_rows": null,
            "height": null,
            "justify_content": null,
            "justify_items": null,
            "left": null,
            "margin": null,
            "max_height": null,
            "max_width": null,
            "min_height": null,
            "min_width": null,
            "object_fit": null,
            "object_position": null,
            "order": null,
            "overflow": null,
            "overflow_x": null,
            "overflow_y": null,
            "padding": null,
            "right": null,
            "top": null,
            "visibility": null,
            "width": null
          }
        },
        "41bdd49fab5f4826959d0d50663ff539": {
          "model_module": "@jupyter-widgets/controls",
          "model_module_version": "1.5.0",
          "model_name": "FloatProgressModel",
          "state": {
            "_dom_classes": [],
            "_model_module": "@jupyter-widgets/controls",
            "_model_module_version": "1.5.0",
            "_model_name": "FloatProgressModel",
            "_view_count": null,
            "_view_module": "@jupyter-widgets/controls",
            "_view_module_version": "1.5.0",
            "_view_name": "ProgressView",
            "bar_style": "",
            "description": "",
            "description_tooltip": null,
            "layout": "IPY_MODEL_6eb8b2e3262c45248708a2082c366f0a",
            "max": 64,
            "min": 0,
            "orientation": "horizontal",
            "style": "IPY_MODEL_095f680d37a3430fb82d223615662db5",
            "value": 64
          }
        },
        "530f696feefe499da08c6312047379b2": {
          "model_module": "@jupyter-widgets/controls",
          "model_module_version": "1.5.0",
          "model_name": "DescriptionStyleModel",
          "state": {
            "_model_module": "@jupyter-widgets/controls",
            "_model_module_version": "1.5.0",
            "_model_name": "DescriptionStyleModel",
            "_view_count": null,
            "_view_module": "@jupyter-widgets/base",
            "_view_module_version": "1.2.0",
            "_view_name": "StyleView",
            "description_width": ""
          }
        },
        "59d6e269eadf429a924f6f79bc8ba4ba": {
          "model_module": "@jupyter-widgets/controls",
          "model_module_version": "1.5.0",
          "model_name": "FloatProgressModel",
          "state": {
            "_dom_classes": [],
            "_model_module": "@jupyter-widgets/controls",
            "_model_module_version": "1.5.0",
            "_model_name": "FloatProgressModel",
            "_view_count": null,
            "_view_module": "@jupyter-widgets/controls",
            "_view_module_version": "1.5.0",
            "_view_name": "ProgressView",
            "bar_style": "success",
            "description": "",
            "description_tooltip": null,
            "layout": "IPY_MODEL_890e0dd7fa524ceca1e805cb6253ee71",
            "max": 20,
            "min": 0,
            "orientation": "horizontal",
            "style": "IPY_MODEL_61b52ff459214129b8f7e6d67b192b78",
            "value": 20
          }
        },
        "5ab5f08afa5841709aedb2f78a52a11c": {
          "model_module": "@jupyter-widgets/controls",
          "model_module_version": "1.5.0",
          "model_name": "DescriptionStyleModel",
          "state": {
            "_model_module": "@jupyter-widgets/controls",
            "_model_module_version": "1.5.0",
            "_model_name": "DescriptionStyleModel",
            "_view_count": null,
            "_view_module": "@jupyter-widgets/base",
            "_view_module_version": "1.2.0",
            "_view_name": "StyleView",
            "description_width": ""
          }
        },
        "5c2fda99d4204d85b1bf7ad354fd58d4": {
          "model_module": "@jupyter-widgets/base",
          "model_module_version": "1.2.0",
          "model_name": "LayoutModel",
          "state": {
            "_model_module": "@jupyter-widgets/base",
            "_model_module_version": "1.2.0",
            "_model_name": "LayoutModel",
            "_view_count": null,
            "_view_module": "@jupyter-widgets/base",
            "_view_module_version": "1.2.0",
            "_view_name": "LayoutView",
            "align_content": null,
            "align_items": null,
            "align_self": null,
            "border": null,
            "bottom": null,
            "display": null,
            "flex": null,
            "flex_flow": null,
            "grid_area": null,
            "grid_auto_columns": null,
            "grid_auto_flow": null,
            "grid_auto_rows": null,
            "grid_column": null,
            "grid_gap": null,
            "grid_row": null,
            "grid_template_areas": null,
            "grid_template_columns": null,
            "grid_template_rows": null,
            "height": null,
            "justify_content": null,
            "justify_items": null,
            "left": null,
            "margin": null,
            "max_height": null,
            "max_width": null,
            "min_height": null,
            "min_width": null,
            "object_fit": null,
            "object_position": null,
            "order": null,
            "overflow": null,
            "overflow_x": null,
            "overflow_y": null,
            "padding": null,
            "right": null,
            "top": null,
            "visibility": null,
            "width": null
          }
        },
        "5faba4ad609448b2b49024add4ad3b8e": {
          "model_module": "@jupyter-widgets/controls",
          "model_module_version": "1.5.0",
          "model_name": "HTMLModel",
          "state": {
            "_dom_classes": [],
            "_model_module": "@jupyter-widgets/controls",
            "_model_module_version": "1.5.0",
            "_model_name": "HTMLModel",
            "_view_count": null,
            "_view_module": "@jupyter-widgets/controls",
            "_view_module_version": "1.5.0",
            "_view_name": "HTMLView",
            "description": "",
            "description_tooltip": null,
            "layout": "IPY_MODEL_849b5c95008541d49f1ceedf0a59ac60",
            "placeholder": "​",
            "style": "IPY_MODEL_f3665a86662746c4ac7cb0796604781d",
            "value": " 20/? [01:27&lt;00:00,  6.45s/it]"
          }
        },
        "60168d85131d4afc99d55d61ab954ee6": {
          "model_module": "@jupyter-widgets/controls",
          "model_module_version": "1.5.0",
          "model_name": "HTMLModel",
          "state": {
            "_dom_classes": [],
            "_model_module": "@jupyter-widgets/controls",
            "_model_module_version": "1.5.0",
            "_model_name": "HTMLModel",
            "_view_count": null,
            "_view_module": "@jupyter-widgets/controls",
            "_view_module_version": "1.5.0",
            "_view_name": "HTMLView",
            "description": "",
            "description_tooltip": null,
            "layout": "IPY_MODEL_3a8537e37fc14fd9b16ca0ceee4fede6",
            "placeholder": "​",
            "style": "IPY_MODEL_1160a44dc18e47b0890f70c40eaa7eb0",
            "value": " 61/64 [00:02&lt;00:00, 23.36it/s]"
          }
        },
        "61b52ff459214129b8f7e6d67b192b78": {
          "model_module": "@jupyter-widgets/controls",
          "model_module_version": "1.5.0",
          "model_name": "ProgressStyleModel",
          "state": {
            "_model_module": "@jupyter-widgets/controls",
            "_model_module_version": "1.5.0",
            "_model_name": "ProgressStyleModel",
            "_view_count": null,
            "_view_module": "@jupyter-widgets/base",
            "_view_module_version": "1.2.0",
            "_view_name": "StyleView",
            "bar_color": null,
            "description_width": ""
          }
        },
        "6864c81e2bcf459bbaf5acbb36bdfcbe": {
          "model_module": "@jupyter-widgets/controls",
          "model_module_version": "1.5.0",
          "model_name": "HTMLModel",
          "state": {
            "_dom_classes": [],
            "_model_module": "@jupyter-widgets/controls",
            "_model_module_version": "1.5.0",
            "_model_name": "HTMLModel",
            "_view_count": null,
            "_view_module": "@jupyter-widgets/controls",
            "_view_module_version": "1.5.0",
            "_view_name": "HTMLView",
            "description": "",
            "description_tooltip": null,
            "layout": "IPY_MODEL_10df31709059484c99f102453d780473",
            "placeholder": "​",
            "style": "IPY_MODEL_2508d229935744cbb5fc340222e2d660",
            "value": "Generating: 100%"
          }
        },
        "6eb8b2e3262c45248708a2082c366f0a": {
          "model_module": "@jupyter-widgets/base",
          "model_module_version": "1.2.0",
          "model_name": "LayoutModel",
          "state": {
            "_model_module": "@jupyter-widgets/base",
            "_model_module_version": "1.2.0",
            "_model_name": "LayoutModel",
            "_view_count": null,
            "_view_module": "@jupyter-widgets/base",
            "_view_module_version": "1.2.0",
            "_view_name": "LayoutView",
            "align_content": null,
            "align_items": null,
            "align_self": null,
            "border": null,
            "bottom": null,
            "display": null,
            "flex": null,
            "flex_flow": null,
            "grid_area": null,
            "grid_auto_columns": null,
            "grid_auto_flow": null,
            "grid_auto_rows": null,
            "grid_column": null,
            "grid_gap": null,
            "grid_row": null,
            "grid_template_areas": null,
            "grid_template_columns": null,
            "grid_template_rows": null,
            "height": null,
            "justify_content": null,
            "justify_items": null,
            "left": null,
            "margin": null,
            "max_height": null,
            "max_width": null,
            "min_height": null,
            "min_width": null,
            "object_fit": null,
            "object_position": null,
            "order": null,
            "overflow": null,
            "overflow_x": null,
            "overflow_y": null,
            "padding": null,
            "right": null,
            "top": null,
            "visibility": null,
            "width": null
          }
        },
        "7710c7377cbc4c30b55b28b4bc99e88f": {
          "model_module": "@jupyter-widgets/controls",
          "model_module_version": "1.5.0",
          "model_name": "HTMLModel",
          "state": {
            "_dom_classes": [],
            "_model_module": "@jupyter-widgets/controls",
            "_model_module_version": "1.5.0",
            "_model_name": "HTMLModel",
            "_view_count": null,
            "_view_module": "@jupyter-widgets/controls",
            "_view_module_version": "1.5.0",
            "_view_name": "HTMLView",
            "description": "",
            "description_tooltip": null,
            "layout": "IPY_MODEL_5c2fda99d4204d85b1bf7ad354fd58d4",
            "placeholder": "​",
            "style": "IPY_MODEL_93cd4d35c5fd41f5904ca1d52d1f52a8",
            "value": "embedding nodes:  95%"
          }
        },
        "7cb241365f604419af454c1c28de197a": {
          "model_module": "@jupyter-widgets/base",
          "model_module_version": "1.2.0",
          "model_name": "LayoutModel",
          "state": {
            "_model_module": "@jupyter-widgets/base",
            "_model_module_version": "1.2.0",
            "_model_name": "LayoutModel",
            "_view_count": null,
            "_view_module": "@jupyter-widgets/base",
            "_view_module_version": "1.2.0",
            "_view_name": "LayoutView",
            "align_content": null,
            "align_items": null,
            "align_self": null,
            "border": null,
            "bottom": null,
            "display": null,
            "flex": null,
            "flex_flow": null,
            "grid_area": null,
            "grid_auto_columns": null,
            "grid_auto_flow": null,
            "grid_auto_rows": null,
            "grid_column": null,
            "grid_gap": null,
            "grid_row": null,
            "grid_template_areas": null,
            "grid_template_columns": null,
            "grid_template_rows": null,
            "height": null,
            "justify_content": null,
            "justify_items": null,
            "left": null,
            "margin": null,
            "max_height": null,
            "max_width": null,
            "min_height": null,
            "min_width": null,
            "object_fit": null,
            "object_position": null,
            "order": null,
            "overflow": null,
            "overflow_x": null,
            "overflow_y": null,
            "padding": null,
            "right": null,
            "top": null,
            "visibility": null,
            "width": "20px"
          }
        },
        "7dce19ac55264f2b88a0e4730e55867b": {
          "model_module": "@jupyter-widgets/controls",
          "model_module_version": "1.5.0",
          "model_name": "HTMLModel",
          "state": {
            "_dom_classes": [],
            "_model_module": "@jupyter-widgets/controls",
            "_model_module_version": "1.5.0",
            "_model_name": "HTMLModel",
            "_view_count": null,
            "_view_module": "@jupyter-widgets/controls",
            "_view_module_version": "1.5.0",
            "_view_name": "HTMLView",
            "description": "",
            "description_tooltip": null,
            "layout": "IPY_MODEL_ddffd834e09940a4bd3874c3f39b4e21",
            "placeholder": "​",
            "style": "IPY_MODEL_ef63c3b2d51e452da03cdae5d9b034be",
            "value": ""
          }
        },
        "849b5c95008541d49f1ceedf0a59ac60": {
          "model_module": "@jupyter-widgets/base",
          "model_module_version": "1.2.0",
          "model_name": "LayoutModel",
          "state": {
            "_model_module": "@jupyter-widgets/base",
            "_model_module_version": "1.2.0",
            "_model_name": "LayoutModel",
            "_view_count": null,
            "_view_module": "@jupyter-widgets/base",
            "_view_module_version": "1.2.0",
            "_view_name": "LayoutView",
            "align_content": null,
            "align_items": null,
            "align_self": null,
            "border": null,
            "bottom": null,
            "display": null,
            "flex": null,
            "flex_flow": null,
            "grid_area": null,
            "grid_auto_columns": null,
            "grid_auto_flow": null,
            "grid_auto_rows": null,
            "grid_column": null,
            "grid_gap": null,
            "grid_row": null,
            "grid_template_areas": null,
            "grid_template_columns": null,
            "grid_template_rows": null,
            "height": null,
            "justify_content": null,
            "justify_items": null,
            "left": null,
            "margin": null,
            "max_height": null,
            "max_width": null,
            "min_height": null,
            "min_width": null,
            "object_fit": null,
            "object_position": null,
            "order": null,
            "overflow": null,
            "overflow_x": null,
            "overflow_y": null,
            "padding": null,
            "right": null,
            "top": null,
            "visibility": null,
            "width": null
          }
        },
        "890e0dd7fa524ceca1e805cb6253ee71": {
          "model_module": "@jupyter-widgets/base",
          "model_module_version": "1.2.0",
          "model_name": "LayoutModel",
          "state": {
            "_model_module": "@jupyter-widgets/base",
            "_model_module_version": "1.2.0",
            "_model_name": "LayoutModel",
            "_view_count": null,
            "_view_module": "@jupyter-widgets/base",
            "_view_module_version": "1.2.0",
            "_view_name": "LayoutView",
            "align_content": null,
            "align_items": null,
            "align_self": null,
            "border": null,
            "bottom": null,
            "display": null,
            "flex": null,
            "flex_flow": null,
            "grid_area": null,
            "grid_auto_columns": null,
            "grid_auto_flow": null,
            "grid_auto_rows": null,
            "grid_column": null,
            "grid_gap": null,
            "grid_row": null,
            "grid_template_areas": null,
            "grid_template_columns": null,
            "grid_template_rows": null,
            "height": null,
            "justify_content": null,
            "justify_items": null,
            "left": null,
            "margin": null,
            "max_height": null,
            "max_width": null,
            "min_height": null,
            "min_width": null,
            "object_fit": null,
            "object_position": null,
            "order": null,
            "overflow": null,
            "overflow_x": null,
            "overflow_y": null,
            "padding": null,
            "right": null,
            "top": null,
            "visibility": null,
            "width": null
          }
        },
        "8baf0ed3d0f743f294e07f2b5407e820": {
          "model_module": "@jupyter-widgets/base",
          "model_module_version": "1.2.0",
          "model_name": "LayoutModel",
          "state": {
            "_model_module": "@jupyter-widgets/base",
            "_model_module_version": "1.2.0",
            "_model_name": "LayoutModel",
            "_view_count": null,
            "_view_module": "@jupyter-widgets/base",
            "_view_module_version": "1.2.0",
            "_view_name": "LayoutView",
            "align_content": null,
            "align_items": null,
            "align_self": null,
            "border": null,
            "bottom": null,
            "display": null,
            "flex": null,
            "flex_flow": null,
            "grid_area": null,
            "grid_auto_columns": null,
            "grid_auto_flow": null,
            "grid_auto_rows": null,
            "grid_column": null,
            "grid_gap": null,
            "grid_row": null,
            "grid_template_areas": null,
            "grid_template_columns": null,
            "grid_template_rows": null,
            "height": null,
            "justify_content": null,
            "justify_items": null,
            "left": null,
            "margin": null,
            "max_height": null,
            "max_width": null,
            "min_height": null,
            "min_width": null,
            "object_fit": null,
            "object_position": null,
            "order": null,
            "overflow": null,
            "overflow_x": null,
            "overflow_y": null,
            "padding": null,
            "right": null,
            "top": null,
            "visibility": null,
            "width": null
          }
        },
        "93cd4d35c5fd41f5904ca1d52d1f52a8": {
          "model_module": "@jupyter-widgets/controls",
          "model_module_version": "1.5.0",
          "model_name": "DescriptionStyleModel",
          "state": {
            "_model_module": "@jupyter-widgets/controls",
            "_model_module_version": "1.5.0",
            "_model_name": "DescriptionStyleModel",
            "_view_count": null,
            "_view_module": "@jupyter-widgets/base",
            "_view_module_version": "1.2.0",
            "_view_name": "StyleView",
            "description_width": ""
          }
        },
        "9cf586576ff44dba86ba2eb389593c61": {
          "model_module": "@jupyter-widgets/controls",
          "model_module_version": "1.5.0",
          "model_name": "ProgressStyleModel",
          "state": {
            "_model_module": "@jupyter-widgets/controls",
            "_model_module_version": "1.5.0",
            "_model_name": "ProgressStyleModel",
            "_view_count": null,
            "_view_module": "@jupyter-widgets/base",
            "_view_module_version": "1.2.0",
            "_view_name": "StyleView",
            "bar_color": null,
            "description_width": ""
          }
        },
        "9edf898aeeab40dda9b9475395776521": {
          "model_module": "@jupyter-widgets/base",
          "model_module_version": "1.2.0",
          "model_name": "LayoutModel",
          "state": {
            "_model_module": "@jupyter-widgets/base",
            "_model_module_version": "1.2.0",
            "_model_name": "LayoutModel",
            "_view_count": null,
            "_view_module": "@jupyter-widgets/base",
            "_view_module_version": "1.2.0",
            "_view_name": "LayoutView",
            "align_content": null,
            "align_items": null,
            "align_self": null,
            "border": null,
            "bottom": null,
            "display": null,
            "flex": null,
            "flex_flow": null,
            "grid_area": null,
            "grid_auto_columns": null,
            "grid_auto_flow": null,
            "grid_auto_rows": null,
            "grid_column": null,
            "grid_gap": null,
            "grid_row": null,
            "grid_template_areas": null,
            "grid_template_columns": null,
            "grid_template_rows": null,
            "height": null,
            "justify_content": null,
            "justify_items": null,
            "left": null,
            "margin": null,
            "max_height": null,
            "max_width": null,
            "min_height": null,
            "min_width": null,
            "object_fit": null,
            "object_position": null,
            "order": null,
            "overflow": null,
            "overflow_x": null,
            "overflow_y": null,
            "padding": null,
            "right": null,
            "top": null,
            "visibility": "hidden",
            "width": null
          }
        },
        "a6d681eeafa44d18b933a4c5dec88382": {
          "model_module": "@jupyter-widgets/controls",
          "model_module_version": "1.5.0",
          "model_name": "ProgressStyleModel",
          "state": {
            "_model_module": "@jupyter-widgets/controls",
            "_model_module_version": "1.5.0",
            "_model_name": "ProgressStyleModel",
            "_view_count": null,
            "_view_module": "@jupyter-widgets/base",
            "_view_module_version": "1.2.0",
            "_view_name": "StyleView",
            "bar_color": null,
            "description_width": ""
          }
        },
        "bf8dcc0895054529af356da401c513f6": {
          "model_module": "@jupyter-widgets/controls",
          "model_module_version": "1.5.0",
          "model_name": "HBoxModel",
          "state": {
            "_dom_classes": [],
            "_model_module": "@jupyter-widgets/controls",
            "_model_module_version": "1.5.0",
            "_model_name": "HBoxModel",
            "_view_count": null,
            "_view_module": "@jupyter-widgets/controls",
            "_view_module_version": "1.5.0",
            "_view_name": "HBoxView",
            "box_style": "",
            "children": [
              "IPY_MODEL_7dce19ac55264f2b88a0e4730e55867b",
              "IPY_MODEL_2a0755d4476543feb4a64538e3e37213",
              "IPY_MODEL_158212a630f04cbd884c937f2f60f5c8"
            ],
            "layout": "IPY_MODEL_11c7f66acc1d45be9517d0addf49331e"
          }
        },
        "c20b539cd70b4ba99601ad1d69fd9cec": {
          "model_module": "@jupyter-widgets/base",
          "model_module_version": "1.2.0",
          "model_name": "LayoutModel",
          "state": {
            "_model_module": "@jupyter-widgets/base",
            "_model_module_version": "1.2.0",
            "_model_name": "LayoutModel",
            "_view_count": null,
            "_view_module": "@jupyter-widgets/base",
            "_view_module_version": "1.2.0",
            "_view_name": "LayoutView",
            "align_content": null,
            "align_items": null,
            "align_self": null,
            "border": null,
            "bottom": null,
            "display": null,
            "flex": null,
            "flex_flow": null,
            "grid_area": null,
            "grid_auto_columns": null,
            "grid_auto_flow": null,
            "grid_auto_rows": null,
            "grid_column": null,
            "grid_gap": null,
            "grid_row": null,
            "grid_template_areas": null,
            "grid_template_columns": null,
            "grid_template_rows": null,
            "height": null,
            "justify_content": null,
            "justify_items": null,
            "left": null,
            "margin": null,
            "max_height": null,
            "max_width": null,
            "min_height": null,
            "min_width": null,
            "object_fit": null,
            "object_position": null,
            "order": null,
            "overflow": null,
            "overflow_x": null,
            "overflow_y": null,
            "padding": null,
            "right": null,
            "top": null,
            "visibility": null,
            "width": "20px"
          }
        },
        "ca791fc471e34b9da2f9070fc1053c0f": {
          "model_module": "@jupyter-widgets/controls",
          "model_module_version": "1.5.0",
          "model_name": "HTMLModel",
          "state": {
            "_dom_classes": [],
            "_model_module": "@jupyter-widgets/controls",
            "_model_module_version": "1.5.0",
            "_model_name": "HTMLModel",
            "_view_count": null,
            "_view_module": "@jupyter-widgets/controls",
            "_view_module_version": "1.5.0",
            "_view_name": "HTMLView",
            "description": "",
            "description_tooltip": null,
            "layout": "IPY_MODEL_23863bc37a8645029934b8c106622c51",
            "placeholder": "​",
            "style": "IPY_MODEL_5ab5f08afa5841709aedb2f78a52a11c",
            "value": " 20/20 [00:52&lt;00:00,  4.50s/it]"
          }
        },
        "d1d54ccd56494c4d831f71b416a1f880": {
          "model_module": "@jupyter-widgets/base",
          "model_module_version": "1.2.0",
          "model_name": "LayoutModel",
          "state": {
            "_model_module": "@jupyter-widgets/base",
            "_model_module_version": "1.2.0",
            "_model_name": "LayoutModel",
            "_view_count": null,
            "_view_module": "@jupyter-widgets/base",
            "_view_module_version": "1.2.0",
            "_view_name": "LayoutView",
            "align_content": null,
            "align_items": null,
            "align_self": null,
            "border": null,
            "bottom": null,
            "display": null,
            "flex": null,
            "flex_flow": null,
            "grid_area": null,
            "grid_auto_columns": null,
            "grid_auto_flow": null,
            "grid_auto_rows": null,
            "grid_column": null,
            "grid_gap": null,
            "grid_row": null,
            "grid_template_areas": null,
            "grid_template_columns": null,
            "grid_template_rows": null,
            "height": null,
            "justify_content": null,
            "justify_items": null,
            "left": null,
            "margin": null,
            "max_height": null,
            "max_width": null,
            "min_height": null,
            "min_width": null,
            "object_fit": null,
            "object_position": null,
            "order": null,
            "overflow": null,
            "overflow_x": null,
            "overflow_y": null,
            "padding": null,
            "right": null,
            "top": null,
            "visibility": null,
            "width": null
          }
        },
        "ddffd834e09940a4bd3874c3f39b4e21": {
          "model_module": "@jupyter-widgets/base",
          "model_module_version": "1.2.0",
          "model_name": "LayoutModel",
          "state": {
            "_model_module": "@jupyter-widgets/base",
            "_model_module_version": "1.2.0",
            "_model_name": "LayoutModel",
            "_view_count": null,
            "_view_module": "@jupyter-widgets/base",
            "_view_module_version": "1.2.0",
            "_view_name": "LayoutView",
            "align_content": null,
            "align_items": null,
            "align_self": null,
            "border": null,
            "bottom": null,
            "display": null,
            "flex": null,
            "flex_flow": null,
            "grid_area": null,
            "grid_auto_columns": null,
            "grid_auto_flow": null,
            "grid_auto_rows": null,
            "grid_column": null,
            "grid_gap": null,
            "grid_row": null,
            "grid_template_areas": null,
            "grid_template_columns": null,
            "grid_template_rows": null,
            "height": null,
            "justify_content": null,
            "justify_items": null,
            "left": null,
            "margin": null,
            "max_height": null,
            "max_width": null,
            "min_height": null,
            "min_width": null,
            "object_fit": null,
            "object_position": null,
            "order": null,
            "overflow": null,
            "overflow_x": null,
            "overflow_y": null,
            "padding": null,
            "right": null,
            "top": null,
            "visibility": null,
            "width": null
          }
        },
        "e0c233ad01604540a6c873f4a731982d": {
          "model_module": "@jupyter-widgets/controls",
          "model_module_version": "1.5.0",
          "model_name": "HTMLModel",
          "state": {
            "_dom_classes": [],
            "_model_module": "@jupyter-widgets/controls",
            "_model_module_version": "1.5.0",
            "_model_name": "HTMLModel",
            "_view_count": null,
            "_view_module": "@jupyter-widgets/controls",
            "_view_module_version": "1.5.0",
            "_view_name": "HTMLView",
            "description": "",
            "description_tooltip": null,
            "layout": "IPY_MODEL_0b44cb0f8e34446c8dde668a75d3d8ad",
            "placeholder": "​",
            "style": "IPY_MODEL_edaac6587b2d4bd5be52b89bb097f99f",
            "value": ""
          }
        },
        "e9a01115c75b499884f7e0ef32e9e599": {
          "model_module": "@jupyter-widgets/controls",
          "model_module_version": "1.5.0",
          "model_name": "FloatProgressModel",
          "state": {
            "_dom_classes": [],
            "_model_module": "@jupyter-widgets/controls",
            "_model_module_version": "1.5.0",
            "_model_name": "FloatProgressModel",
            "_view_count": null,
            "_view_module": "@jupyter-widgets/controls",
            "_view_module_version": "1.5.0",
            "_view_name": "ProgressView",
            "bar_style": "success",
            "description": "",
            "description_tooltip": null,
            "layout": "IPY_MODEL_7cb241365f604419af454c1c28de197a",
            "max": 1,
            "min": 0,
            "orientation": "horizontal",
            "style": "IPY_MODEL_9cf586576ff44dba86ba2eb389593c61",
            "value": 1
          }
        },
        "edaac6587b2d4bd5be52b89bb097f99f": {
          "model_module": "@jupyter-widgets/controls",
          "model_module_version": "1.5.0",
          "model_name": "DescriptionStyleModel",
          "state": {
            "_model_module": "@jupyter-widgets/controls",
            "_model_module_version": "1.5.0",
            "_model_name": "DescriptionStyleModel",
            "_view_count": null,
            "_view_module": "@jupyter-widgets/base",
            "_view_module_version": "1.2.0",
            "_view_name": "StyleView",
            "description_width": ""
          }
        },
        "ef25efa751304e4699910f1fbc14345f": {
          "model_module": "@jupyter-widgets/base",
          "model_module_version": "1.2.0",
          "model_name": "LayoutModel",
          "state": {
            "_model_module": "@jupyter-widgets/base",
            "_model_module_version": "1.2.0",
            "_model_name": "LayoutModel",
            "_view_count": null,
            "_view_module": "@jupyter-widgets/base",
            "_view_module_version": "1.2.0",
            "_view_name": "LayoutView",
            "align_content": null,
            "align_items": null,
            "align_self": null,
            "border": null,
            "bottom": null,
            "display": null,
            "flex": null,
            "flex_flow": null,
            "grid_area": null,
            "grid_auto_columns": null,
            "grid_auto_flow": null,
            "grid_auto_rows": null,
            "grid_column": null,
            "grid_gap": null,
            "grid_row": null,
            "grid_template_areas": null,
            "grid_template_columns": null,
            "grid_template_rows": null,
            "height": null,
            "justify_content": null,
            "justify_items": null,
            "left": null,
            "margin": null,
            "max_height": null,
            "max_width": null,
            "min_height": null,
            "min_width": null,
            "object_fit": null,
            "object_position": null,
            "order": null,
            "overflow": null,
            "overflow_x": null,
            "overflow_y": null,
            "padding": null,
            "right": null,
            "top": null,
            "visibility": null,
            "width": null
          }
        },
        "ef63c3b2d51e452da03cdae5d9b034be": {
          "model_module": "@jupyter-widgets/controls",
          "model_module_version": "1.5.0",
          "model_name": "DescriptionStyleModel",
          "state": {
            "_model_module": "@jupyter-widgets/controls",
            "_model_module_version": "1.5.0",
            "_model_name": "DescriptionStyleModel",
            "_view_count": null,
            "_view_module": "@jupyter-widgets/base",
            "_view_module_version": "1.2.0",
            "_view_name": "StyleView",
            "description_width": ""
          }
        },
        "f3665a86662746c4ac7cb0796604781d": {
          "model_module": "@jupyter-widgets/controls",
          "model_module_version": "1.5.0",
          "model_name": "DescriptionStyleModel",
          "state": {
            "_model_module": "@jupyter-widgets/controls",
            "_model_module_version": "1.5.0",
            "_model_name": "DescriptionStyleModel",
            "_view_count": null,
            "_view_module": "@jupyter-widgets/base",
            "_view_module_version": "1.2.0",
            "_view_name": "StyleView",
            "description_width": ""
          }
        }
      }
    }
  },
  "nbformat": 4,
  "nbformat_minor": 0
}

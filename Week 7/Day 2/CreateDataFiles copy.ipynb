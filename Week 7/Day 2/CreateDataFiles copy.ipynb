{
 "cells": [
  {
   "cell_type": "markdown",
   "metadata": {},
   "source": [
    "#### This notebook creates the data files for the assignment\n",
    "#### I have found no way to make the original notebook generate the data files after running the first breakout section."
   ]
  },
  {
   "cell_type": "markdown",
   "metadata": {},
   "source": []
  },
  {
   "cell_type": "code",
   "execution_count": 1,
   "metadata": {},
   "outputs": [],
   "source": [
    "# ! pip install langchain==0.2.16\n",
    "# ! pip install langchain-cohere==0.3.0\n",
    "# ! pip install langchain-community==0.2.17\n",
    "# ! pip install langchain-core==0.2.41\n",
    "# ! pip install langchain-experimental==0.3.2\n",
    "# ! pip install langchain-huggingface==0.1.0\n",
    "# ! pip install langchain-openai==0.1.25\n",
    "# ! pip install langchain-qdrant==0.1.3\n",
    "# ! pip install langchain-text-splitters==0.2.4\n",
    "# ! pip install langgraph==0.2.16\n",
    "# ! pip install langgraph-checkpoint==1.0.6\n",
    "# ! pip install langsmith==0.1.129\n",
    "# ! pip install ragas==0.1.20"
   ]
  },
  {
   "cell_type": "code",
   "execution_count": 2,
   "metadata": {},
   "outputs": [],
   "source": [
    "from langchain_community.document_loaders.csv_loader import CSVLoader\n",
    "from datetime import datetime, timedelta\n",
    "\n",
    "documents = []\n",
    "\n",
    "for i in range(1, 5):\n",
    "  loader = CSVLoader(\n",
    "      file_path=f\"john_wick_{i}.csv\",\n",
    "      metadata_columns=[\"Review_Date\", \"Review_Title\", \"Review_Url\", \"Author\", \"Rating\"]\n",
    "  )\n",
    "\n",
    "  movie_docs = loader.load()\n",
    "  for doc in movie_docs:\n",
    "\n",
    "    # Add the \"Movie Title\" (John Wick 1, 2, ...)\n",
    "    doc.metadata[\"Movie_Title\"] = f\"John Wick {i}\"\n",
    "\n",
    "    # convert \"Rating\" to an `int`, if no rating is provided - assume 0 rating\n",
    "    doc.metadata[\"Rating\"] = int(doc.metadata[\"Rating\"]) if doc.metadata[\"Rating\"] else 0\n",
    "\n",
    "    # newer movies have a more recent \"last_accessed_at\"\n",
    "    doc.metadata[\"last_accessed_at\"] = datetime.now() - timedelta(days=4-i)\n",
    "\n",
    "  documents.extend(movie_docs)"
   ]
  },
  {
   "cell_type": "code",
   "execution_count": 3,
   "metadata": {},
   "outputs": [
    {
     "data": {
      "text/plain": [
       "Document(metadata={'source': 'john_wick_1.csv', 'row': 0, 'Review_Date': '6 May 2015', 'Review_Title': ' Kinetic, concise, and stylish; John Wick kicks ass.\\n', 'Review_Url': '/review/rw3233896/?ref_=tt_urv', 'Author': 'lnvicta', 'Rating': 8, 'Movie_Title': 'John Wick 1', 'last_accessed_at': datetime.datetime(2024, 9, 26, 13, 29, 40, 363941)}, page_content=\": 0\\nReview: The best way I can describe John Wick is to picture Taken but instead of Liam Neeson it's Keanu Reeves and instead of his daughter it's his dog. That's essentially the plot of the movie. John Wick (Reeves) is out to seek revenge on the people who took something he loved from him. It's a beautifully simple premise for an action movie - when action movies get convoluted, they get bad i.e. A Good Day to Die Hard. John Wick gives the viewers what they want: Awesome action, stylish stunts, kinetic chaos, and a relatable hero to tie it all together. John Wick succeeds in its simplicity.\")"
      ]
     },
     "execution_count": 3,
     "metadata": {},
     "output_type": "execute_result"
    }
   ],
   "source": [
    "documents[0]"
   ]
  },
  {
   "cell_type": "code",
   "execution_count": 17,
   "metadata": {},
   "outputs": [],
   "source": [
    "from langchain_community.vectorstores  import Qdrant\n",
    "from langchain_openai import OpenAIEmbeddings\n",
    "\n",
    "\n",
    "\n",
    "embeddings = OpenAIEmbeddings(model=\"text-embedding-3-small\")\n",
    "\n",
    "\n",
    "vectorstore = Qdrant.from_documents(\n",
    "    documents,\n",
    "    embeddings,\n",
    "    location=\":memory:\",\n",
    "    collection_name=\"JohnWick\"\n",
    ")"
   ]
  },
  {
   "cell_type": "code",
   "execution_count": 18,
   "metadata": {},
   "outputs": [],
   "source": [
    "naive_retriever = vectorstore.as_retriever(search_kwargs={\"k\" : 10})"
   ]
  },
  {
   "cell_type": "code",
   "execution_count": 19,
   "metadata": {},
   "outputs": [],
   "source": [
    "from langchain_core.prompts import ChatPromptTemplate\n",
    "\n",
    "RAG_TEMPLATE = \"\"\"\\\n",
    "You are a helpful and kind assistant. Use the context provided below to answer the question.\n",
    "\n",
    "If you do not know the answer, or are unsure, say you don't know.\n",
    "\n",
    "Query:\n",
    "{question}\n",
    "\n",
    "Context:\n",
    "{context}\n",
    "\"\"\"\n",
    "\n",
    "rag_prompt = ChatPromptTemplate.from_template(RAG_TEMPLATE)"
   ]
  },
  {
   "cell_type": "code",
   "execution_count": 20,
   "metadata": {},
   "outputs": [],
   "source": [
    "from langchain_openai import ChatOpenAI\n",
    "\n",
    "chat_model = ChatOpenAI()"
   ]
  },
  {
   "cell_type": "code",
   "execution_count": 21,
   "metadata": {},
   "outputs": [],
   "source": [
    "from langchain_core.runnables import RunnablePassthrough\n",
    "from operator import itemgetter\n",
    "from langchain_core.output_parsers import StrOutputParser\n",
    "\n",
    "naive_retrieval_chain = (\n",
    "    {\"context\": itemgetter(\"question\") | naive_retriever, \"question\": itemgetter(\"question\")}\n",
    "    | RunnablePassthrough.assign(context=itemgetter(\"context\"))\n",
    "    | {\"response\": rag_prompt | chat_model, \"context\": itemgetter(\"context\")}\n",
    ")"
   ]
  },
  {
   "cell_type": "code",
   "execution_count": 4,
   "metadata": {},
   "outputs": [],
   "source": [
    "# from ragas.testset.generator import TestsetGenerator\n",
    "# from ragas.testset.evolutions import simple, reasoning, multi_context\n",
    "# from langchain_openai import ChatOpenAI, OpenAIEmbeddings\n",
    "\n",
    "# generator_llm = ChatOpenAI(model=\"gpt-4o-mini\")\n",
    "# critic_llm = ChatOpenAI(model=\"gpt-4o\")\n",
    "# embeddings = OpenAIEmbeddings()\n",
    "\n",
    "# generator = TestsetGenerator.from_langchain(\n",
    "#     generator_llm,\n",
    "#     critic_llm,\n",
    "#     embeddings\n",
    "# )\n",
    "\n",
    "# distributions = {\n",
    "#     simple: 0.5,\n",
    "#     multi_context: 0.4,\n",
    "#     reasoning: 0.1\n",
    "# }"
   ]
  },
  {
   "cell_type": "code",
   "execution_count": 5,
   "metadata": {},
   "outputs": [
    {
     "data": {
      "application/vnd.jupyter.widget-view+json": {
       "model_id": "457391e09e0a4dccbd67e863861265d1",
       "version_major": 2,
       "version_minor": 0
      },
      "text/plain": [
       "embedding nodes:   0%|          | 0/200 [00:00<?, ?it/s]"
      ]
     },
     "metadata": {},
     "output_type": "display_data"
    },
    {
     "name": "stderr",
     "output_type": "stream",
     "text": [
      "Filename and doc_id are the same for all nodes.\n"
     ]
    },
    {
     "data": {
      "application/vnd.jupyter.widget-view+json": {
       "model_id": "521a7afc4a88489f9a8e80b0a7801605",
       "version_major": 2,
       "version_minor": 0
      },
      "text/plain": [
       "Generating:   0%|          | 0/20 [00:00<?, ?it/s]"
      ]
     },
     "metadata": {},
     "output_type": "display_data"
    },
    {
     "name": "stderr",
     "output_type": "stream",
     "text": [
      "[ragas.testset.filters.DEBUG] context scoring: {'clarity': 2, 'depth': 1, 'structure': 2, 'relevance': 2, 'score': 1.75}\n",
      "[ragas.testset.evolutions.DEBUG] keyphrases in merged node: ['Exhilarating', 'Amazing action film', 'Fun factor', 'Highest of any movie this year']\n",
      "[ragas.testset.filters.DEBUG] context scoring: {'clarity': 2, 'depth': 3, 'structure': 2, 'relevance': 3, 'score': 2.5}\n",
      "[ragas.testset.evolutions.DEBUG] keyphrases in merged node: ['Non-creative copying of past movies', 'Stereotypic bad guys', 'Master killer with hidden arsenal', 'Reeves character and tattoos', 'Record number of kills in a movie']\n",
      "[ragas.testset.filters.DEBUG] context scoring: {'clarity': 2, 'depth': 1, 'structure': 2, 'relevance': 2, 'score': 1.75}\n",
      "[ragas.testset.evolutions.DEBUG] keyphrases in merged node: ['Worst movie of the franchise', 'Over the top', 'Magical jackets', 'Stop the bullets']\n",
      "[ragas.testset.filters.DEBUG] context scoring: {'clarity': 2, 'depth': 2, 'structure': 2, 'relevance': 3, 'score': 2.25}\n",
      "[ragas.testset.evolutions.DEBUG] keyphrases in merged node: ['John Wick', 'Russian mafia', \"Santino D'Antonio\", 'Continental hotel', 'High Table']\n",
      "[ragas.testset.filters.DEBUG] context scoring: {'clarity': 2, 'depth': 2, 'structure': 2, 'relevance': 3, 'score': 2.25}\n",
      "[ragas.testset.evolutions.DEBUG] keyphrases in merged node: ['John Wick', 'Incredible movie', 'Fun films', 'Action films', 'Strengths of the film']\n",
      "[ragas.testset.filters.DEBUG] context scoring: {'clarity': 2, 'depth': 2, 'structure': 2, 'relevance': 3, 'score': 2.25}\n",
      "[ragas.testset.evolutions.DEBUG] keyphrases in merged node: ['Chad Stahelski', 'John Wick', 'Keanu Reeves', 'Action genre', 'Action juggernaut franchise']\n",
      "[ragas.testset.filters.DEBUG] context scoring: {'clarity': 2, 'depth': 1, 'structure': 2, 'relevance': 2, 'score': 1.75}\n",
      "[ragas.testset.evolutions.DEBUG] keyphrases in merged node: ['Worst movie of the franchise', 'Over the top', 'Magical jackets', 'Stop the bullets']\n",
      "[ragas.testset.filters.DEBUG] context scoring: {'clarity': 2, 'depth': 2, 'structure': 2, 'relevance': 2, 'score': 2.0}\n",
      "[ragas.testset.evolutions.DEBUG] keyphrases in merged node: ['American action flicks', 'John Wick franchise', 'Mission Impossible', 'Computer-generated imagery', 'Hollywood action masterpieces']\n",
      "[ragas.testset.filters.DEBUG] context scoring: {'clarity': 2, 'depth': 1, 'structure': 2, 'relevance': 2, 'score': 1.75}\n",
      "[ragas.testset.evolutions.DEBUG] keyphrases in merged node: ['Exhilarating', 'Amazing action film', 'Fun factor', 'Highest of any movie this year']\n",
      "[ragas.testset.filters.DEBUG] context scoring: {'clarity': 2, 'depth': 2, 'structure': 2, 'relevance': 2, 'score': 2.0}\n",
      "[ragas.testset.evolutions.DEBUG] keyphrases in merged node: ['American action flicks', 'John Wick franchise', 'Mission Impossible', 'Computer-generated imagery', 'Hollywood action masterpieces']\n",
      "[ragas.testset.filters.DEBUG] context scoring: {'clarity': 2, 'depth': 2, 'structure': 2, 'relevance': 3, 'score': 2.25}\n",
      "[ragas.testset.evolutions.DEBUG] keyphrases in merged node: ['The Table', 'International criminal brotherhood', 'John Wick', 'The Marquis', 'New York Continentale Hotel']\n",
      "[ragas.testset.filters.DEBUG] context scoring: {'clarity': 2, 'depth': 2, 'structure': 2, 'relevance': 2, 'score': 2.0}\n",
      "[ragas.testset.evolutions.DEBUG] keyphrases in merged node: ['American action flicks', 'John Wick franchise', 'Mission Impossible', 'Computer-generated imagery', 'Hollywood action masterpieces']\n",
      "[ragas.testset.filters.DEBUG] context scoring: {'clarity': 2, 'depth': 2, 'structure': 2, 'relevance': 3, 'score': 2.25}\n",
      "[ragas.testset.evolutions.DEBUG] keyphrases in merged node: ['Chad Stahelski', 'John Wick', 'Keanu Reeves', 'Action genre', 'Action juggernaut franchise']\n",
      "[ragas.testset.filters.DEBUG] context scoring: {'clarity': 3, 'depth': 3, 'structure': 3, 'relevance': 3, 'score': 3.0}\n",
      "[ragas.testset.evolutions.DEBUG] keyphrases in merged node: ['John Wick', 'Keanu Reeves', 'Action sequences', 'Brutal home invasion', 'Supporting cast']\n",
      "[ragas.testset.filters.DEBUG] context scoring: {'clarity': 2, 'depth': 3, 'structure': 2, 'relevance': 3, 'score': 2.5}\n",
      "[ragas.testset.evolutions.DEBUG] keyphrases in merged node: ['Non-creative copying of past movies', 'Stereotypic bad guys', 'Master killer with hidden arsenal', 'Reeves character and tattoos', 'Record number of kills in a movie']\n",
      "[ragas.testset.evolutions.INFO] seed question generated: \"What word best describes the fun factor of the action film reviewed?\"\n",
      "[ragas.testset.filters.DEBUG] context scoring: {'clarity': 2, 'depth': 2, 'structure': 2, 'relevance': 2, 'score': 2.0}\n",
      "[ragas.testset.evolutions.DEBUG] keyphrases in merged node: ['Horrible movie', 'John Wick series', 'Fake high scores', 'Boring fight scenes', 'Nonsense plot']\n",
      "[ragas.testset.evolutions.INFO] seed question generated: \"What do the tattoos on Reeves' character signify in the context of the film?\"\n",
      "[ragas.testset.evolutions.INFO] seed question generated: \"What role does the Russian mafia play in John Wick's story?\"\n",
      "[ragas.testset.evolutions.INFO] seed question generated: \"What makes John Wick stand out from other action films released in the same year?\"\n",
      "[ragas.testset.evolutions.INFO] seed question generated: \"What has contributed to the success of the action juggernaut franchise mentioned in the review?\"\n",
      "[ragas.testset.evolutions.INFO] seed question generated: \"What is the reviewer's opinion about the movie's portrayal of being over the top?\"\n",
      "[ragas.testset.evolutions.INFO] seed question generated: \"What distinguishes Hollywood action masterpieces from other American action films?\"\n",
      "[ragas.testset.evolutions.INFO] seed question generated: \"What is the role of The Marquis in the conflict involving John Wick?\"\n",
      "[ragas.testset.evolutions.INFO] seed question generated: \"What are the common criticisms of American action flicks released these days?\"\n",
      "[ragas.testset.evolutions.INFO] seed question generated: \"What is the significance of the fun factor in this action film?\"\n",
      "[ragas.testset.evolutions.INFO] seed question generated: \"What impact did the John Wick franchise have on the action genre since its inception?\"\n",
      "[ragas.testset.evolutions.INFO] seed question generated: \"What role do the action sequences play in making John Wick a remarkable film?\"\n",
      "[ragas.testset.evolutions.INFO] seed question generated: \"What are the main criticisms mentioned in the review of the horrible movie?\"\n",
      "[ragas.testset.evolutions.INFO] seed question generated: \"What is the significance of the master killer having a hidden arsenal in the context of the movie?\"\n",
      "[ragas.testset.evolutions.INFO] seed question generated: \"What is the criticism of computer-generated imagery in most American action films?\"\n",
      "[ragas.testset.filters.DEBUG] filtered question: {'feedback': 'The question asks about the role of the Russian mafia in the story of John Wick. It is specific, independent, and has a clear intent, making it understandable and answerable based on the details provided. The question does not rely on external references or additional context, and it clearly seeks information about the narrative role of the Russian mafia within the John Wick storyline.', 'verdict': 1}\n",
      "[ragas.testset.filters.DEBUG] filtered question: {'feedback': \"The question asks about the significance of the tattoos on Reeves' character within the context of a specific film. It is clear in its intent, seeking an explanation of the symbolic or narrative meaning of the tattoos. However, it does not specify which film is being referred to, which could lead to ambiguity if the actor has multiple roles with tattoos. To improve clarity and answerability, the question should specify the film in question.\", 'verdict': 0}\n",
      "[ragas.testset.evolutions.INFO] rewritten question: \"What do the tattoos on Reeves' character signify in the context of the film?\"\n",
      "[ragas.testset.filters.DEBUG] filtered question: {'feedback': \"The question asks what makes 'John Wick' stand out from other action films released in the same year. It is clear in its intent, seeking specific distinguishing features of 'John Wick' compared to its contemporaries. The question is independent and does not rely on external references or prior knowledge beyond a general understanding of action films released in the same year. Therefore, it is understandable and answerable based on the details provided.\", 'verdict': 1}\n",
      "[ragas.testset.evolutions.DEBUG] [MultiContextEvolution] simple question generated: \"What makes John Wick stand out from other action films released in the same year?\"\n",
      "[ragas.testset.filters.DEBUG] filtered question: {'feedback': \"The question asks for common criticisms of American action flicks released 'these days'. It is clear in its intent, seeking specific information about criticisms, and does not rely on external references or context. However, the phrase 'these days' is somewhat vague and could be interpreted differently by different people. To improve clarity, the question could specify a more precise time frame (e.g., 'in the past five years').\", 'verdict': 1}\n",
      "[ragas.testset.evolutions.DEBUG] [ReasoningEvolution] simple question generated: \"What are the common criticisms of American action flicks released these days?\"\n",
      "[ragas.testset.filters.DEBUG] filtered question: {'feedback': \"The question asks about the factors contributing to the success of an 'action juggernaut franchise' mentioned in a specific review. However, it relies on the reader's access to and understanding of the unspecified review, making it unclear and dependent on external context. To improve clarity and answerability, the question should specify the franchise and provide relevant details from the review or frame the question in a way that does not require access to the review.\", 'verdict': 0}\n",
      "[ragas.testset.evolutions.INFO] rewritten question: \"What has contributed to the success of the action juggernaut franchise mentioned in the review?\"\n",
      "[ragas.testset.filters.DEBUG] filtered question: {'feedback': 'The question asks for distinguishing features of Hollywood action masterpieces compared to other American action films. It is clear in its intent, specifying the type of films to be compared (Hollywood action masterpieces vs. other American action films) and the nature of the comparison (distinguishing features). The question is self-contained and does not rely on external references or prior knowledge beyond a general understanding of film genres.', 'verdict': 1}\n",
      "[ragas.testset.evolutions.DEBUG] [MultiContextEvolution] simple question generated: \"What distinguishes Hollywood action masterpieces from other American action films?\"\n",
      "[ragas.testset.filters.DEBUG] filtered question: {'feedback': \"The question asks for a single word that best describes the 'fun factor' of an action film that was reviewed. While the intent is clear in seeking a descriptive term for the fun aspect of the film, the question relies on the existence of a specific review that is not provided within the question itself. This makes it dependent on external context. To improve clarity and answerability, the question could include a brief summary or key points from the review, or be rephrased to ask for a general opinion on the fun factor of action films without relying on a specific review.\", 'verdict': 0}\n",
      "[ragas.testset.evolutions.INFO] rewritten question: \"What word best describes the fun factor of the action film reviewed?\"\n",
      "[ragas.testset.filters.DEBUG] filtered question: {'feedback': \"The question asks for the role of 'The Marquis' in the conflict involving 'John Wick'. It is clear in specifying the characters of interest (The Marquis and John Wick) and seeks information about the role of The Marquis in a specific context (the conflict). The question is self-contained and does not rely on external references or prior knowledge beyond a basic understanding of the John Wick narrative. Therefore, it meets the criteria for clarity and answerability.\", 'verdict': 1}\n",
      "[ragas.testset.filters.DEBUG] filtered question: {'feedback': \"The question asks about the significance of the 'fun factor' in an unspecified action film. While it is clear that the question seeks to understand the importance of the 'fun factor', it lacks specificity regarding which action film is being referred to. This makes the question dependent on external context that is not provided within the question itself. To improve clarity and answerability, the question should specify the particular action film in question.\", 'verdict': 0}\n",
      "[ragas.testset.evolutions.INFO] rewritten question: \"What is the significance of the fun factor in this action film?\"\n",
      "[ragas.testset.filters.DEBUG] filtered question: {'feedback': 'The question asks about the impact of the John Wick franchise on the action genre since its inception. It is clear in specifying the subject (John Wick franchise) and the context (impact on the action genre), making the intent straightforward. The question is self-contained and does not rely on external references or prior knowledge beyond general awareness of the John Wick franchise and the action genre. Therefore, it meets the criteria for clarity and answerability.', 'verdict': 1}\n",
      "[ragas.testset.evolutions.DEBUG] [MultiContextEvolution] simple question generated: \"What impact did the John Wick franchise have on the action genre since its inception?\"\n",
      "[ragas.testset.filters.DEBUG] filtered question: {'feedback': \"The question asks for the reviewer's opinion about the movie's portrayal of being 'over the top'. While it is clear in seeking the reviewer's perspective on a specific aspect of the movie, it lacks independence as it assumes the existence of a specific review and does not provide any context about the movie or the review itself. To improve clarity and answerability, the question could specify the movie in question and provide a brief context or excerpt from the review that discusses the 'over the top' portrayal.\", 'verdict': 0}\n",
      "[ragas.testset.evolutions.INFO] rewritten question: \"What is the reviewer's opinion about the movie's portrayal of being over the top?\"\n",
      "[ragas.testset.filters.DEBUG] filtered question: {'feedback': \"The question asks about the role of action sequences in making 'John Wick' a remarkable film. It is specific in its focus on 'John Wick' and the aspect of 'action sequences,' and it clearly seeks an explanation of their contribution to the film's success or distinctiveness. The question is self-contained and does not rely on external references or prior knowledge beyond a basic understanding of the film. Therefore, it meets the criteria of independence and clear intent.\", 'verdict': 1}\n",
      "[ragas.testset.filters.DEBUG] filtered question: {'feedback': \"The question asks about the significance of a 'master killer having a hidden arsenal' within the context of a movie. It is clear in specifying the subject (master killer, hidden arsenal) and the context (the movie), making the intent understandable. However, it assumes familiarity with the specific movie without providing its title or any additional context. To improve clarity and answerability, the question could specify the movie's title or provide a brief description of the relevant scenes or plot points involving the hidden arsenal.\", 'verdict': 0}\n",
      "[ragas.testset.evolutions.INFO] rewritten question: \"What is the significance of the master killer having a hidden arsenal in the context of the movie?\"\n",
      "[ragas.testset.filters.DEBUG] filtered question: {'feedback': 'The question asks for the criticism of computer-generated imagery (CGI) in most American action films. It is clear in specifying the subject (CGI) and the context (American action films), and it seeks specific information (criticism). The question is self-contained and does not rely on external references or prior knowledge beyond a general understanding of CGI and action films. Therefore, it meets the criteria for independence and clear intent.', 'verdict': 1}\n",
      "[ragas.testset.filters.DEBUG] filtered question: {'feedback': \"The question asks for the main criticisms mentioned in a review of a 'horrible movie'. While it is clear in seeking specific information (criticisms) from a particular source (a review), it lacks independence as it does not specify which review or provide any context about the movie or the review itself. This makes it difficult to answer without additional context or access to the specific review being referenced. To improve clarity and answerability, the question could specify the review or provide more context about the movie and the review in question.\", 'verdict': 0}\n",
      "[ragas.testset.evolutions.INFO] rewritten question: \"What are the main criticisms mentioned in the review of the horrible movie?\"\n",
      "[ragas.testset.evolutions.INFO] seed question generated: \"What role do magical jackets play in the movie?\"\n",
      "[ragas.testset.evolutions.DEBUG] [MultiContextEvolution] multicontext question generated: \"What elements elevate Hollywood's action juggernauts, like John Wick, above the typical American action films often criticized for weak scripts and excessive CGI?\"\n",
      "[ragas.testset.evolutions.DEBUG] [MultiContextEvolution] multicontext question generated: \"What benchmarks in action filmmaking were established by the John Wick series, particularly in terms of choreography and innovation, since its debut?\"\n",
      "[ragas.testset.filters.DEBUG] filtered question: {'feedback': \"The question asks about the significance of the tattoos on Reeves' character within the context of a specific film. It is clear in its intent, seeking an explanation of the symbolic or narrative meaning of the tattoos. However, it does not specify which film is being referred to, which could lead to ambiguity if the actor has multiple roles with tattoos. To improve clarity and answerability, the question should specify the film in question.\", 'verdict': 0}\n",
      "[ragas.testset.evolutions.INFO] retrying evolution: 1 times\n",
      "[ragas.testset.evolutions.DEBUG] [MultiContextEvolution] multicontext question generated: \"What elements contribute to John Wick's distinction as a top-tier action film compared to others released in the same year, particularly in terms of its narrative approach and character dynamics?\"\n",
      "[ragas.testset.filters.DEBUG] filtered question: {'feedback': \"The question asks about the factors contributing to the success of an 'action juggernaut franchise' mentioned in a specific review. However, it relies on the reader's access to and understanding of the unspecified review, making it unclear and dependent on external context. To improve clarity and answerability, the question should specify the franchise and provide relevant details from the review or frame the question in a way that does not require access to the review.\", 'verdict': 0}\n",
      "[ragas.testset.evolutions.INFO] retrying evolution: 1 times\n",
      "[ragas.testset.filters.DEBUG] filtered question: {'feedback': \"The question asks about the significance of the 'fun factor' in an unspecified action film. While it is clear that the question seeks to understand the importance of the 'fun factor', it lacks specificity regarding which action film is being referred to. This makes the question dependent on additional context that is not provided. To improve clarity and answerability, the question should specify the particular action film in question.\", 'verdict': 0}\n",
      "[ragas.testset.evolutions.INFO] retrying evolution: 1 times\n",
      "[ragas.testset.filters.DEBUG] filtered question: {'feedback': \"The question asks for a single word that best describes the 'fun factor' of an action film that has been reviewed. While the intent is clear in seeking a descriptive term, the question relies on the existence of a specific review that is not provided within the question itself. This makes it dependent on external context, which is not included. To improve clarity and answerability, the question could be reframed to either include a brief summary of the review or be more general, such as 'What word best describes the fun factor of a typical action film?'\", 'verdict': 0}\n",
      "[ragas.testset.evolutions.INFO] retrying evolution: 1 times\n",
      "[ragas.testset.filters.DEBUG] filtered question: {'feedback': 'The question asks about common flaws in recent American action films, despite some franchise successes. It is clear in its intent, seeking an analysis of recurring issues in this genre. The question is independent and does not rely on external references or specific prior knowledge, making it understandable and answerable based on general knowledge of film criticism and trends in American action films.', 'verdict': 1}\n",
      "[ragas.testset.evolutions.DEBUG] answer generated: {'answer': 'The Marquis is empowered by The Table to deal with John Wick and the Manager of the New York Continentale Hotel.', 'verdict': 1}\n",
      "[ragas.testset.filters.DEBUG] context scoring: {'clarity': 1, 'depth': 1, 'structure': 1, 'relevance': 2, 'score': 1.25}\n",
      "[ragas.testset.evolutions.INFO] retrying evolution: 1 times\n",
      "[ragas.testset.filters.DEBUG] filtered question: {'feedback': \"The question asks for the reviewer's opinion about the movie's portrayal of being 'over the top'. While it is clear in seeking the reviewer's perspective on a specific aspect of the movie, it assumes the existence of a particular review and does not provide any context about the movie or the review in question. This makes it dependent on external references and unclear for those who do not have access to the specific review. To improve clarity and answerability, the question could specify the movie and provide a brief summary or context of the review being referred to.\", 'verdict': 0}\n",
      "[ragas.testset.evolutions.INFO] retrying evolution: 1 times\n",
      "[ragas.testset.evolutions.DEBUG] answer generated: {'answer': \"The Russian mafia plays a significant role in John Wick's story as they are the reason for his return to violence after retirement. After resolving issues with them, John Wick is confronted by Santino D'Antonio, who uses a marker to compel Wick to assist him, leading to further conflict and ultimately a contract being placed on Wick's life.\", 'verdict': 1}\n",
      "[ragas.testset.filters.DEBUG] filtered question: {'feedback': \"The question asks about the role of 'magical jackets' in a movie. It is clear in specifying the subject of interest (magical jackets) and the context (a movie), making the intent straightforward. However, it does not specify which movie is being referred to, which could lead to ambiguity if there are multiple movies featuring magical jackets. To improve clarity and answerability, the question could specify the title of the movie.\", 'verdict': 0}\n",
      "[ragas.testset.evolutions.INFO] rewritten question: \"What role do magical jackets play in the movie?\"\n",
      "[ragas.testset.filters.DEBUG] filtered question: {'feedback': \"The question asks about the significance of a 'master killer having a hidden arsenal' within the context of a movie. It is clear in specifying the subject (master killer, hidden arsenal) and the context (the movie). However, it assumes familiarity with the specific movie without providing its title or any additional context. To improve clarity and answerability, the question could specify the movie's title or provide a brief description of the relevant scenes or plot points involving the hidden arsenal.\", 'verdict': 0}\n",
      "[ragas.testset.evolutions.INFO] retrying evolution: 1 times\n",
      "[ragas.testset.evolutions.DEBUG] answer generated: {'answer': 'The criticism of computer-generated imagery in most American action films is that it is overused and contributes to poor screenplays.', 'verdict': 1}\n",
      "[ragas.testset.filters.DEBUG] filtered question: {'feedback': 'The question is clear and specific, asking about the benchmarks in action filmmaking established by the John Wick series, with a particular focus on choreography and innovation since its debut. It does not rely on external references or unspecified contexts, making it understandable and answerable based on the details provided.', 'verdict': 1}\n",
      "[ragas.testset.evolutions.DEBUG] answer generated: {'answer': \"The action sequences in John Wick are pivotal in making the film remarkable as they are brilliantly shot, meticulously choreographed, and keep the audience wanting more. They contribute to the film's brisk pacing and provide intense moments, such as the showdown in a nightclub, which is described as the best action sequence in the film and creates a gripping experience for viewers.\", 'verdict': 1}\n",
      "[ragas.testset.filters.DEBUG] filtered question: {'feedback': \"The question asks for the main criticisms mentioned in a review of a 'horrible movie'. While it is clear in seeking specific information (criticisms) from a particular source (a review), it lacks independence as it does not specify which review or provide any context about the review being referred to. This makes it difficult to answer without additional context or access to the specific review. To improve clarity and answerability, the question could specify the review in question or provide more context about the review (e.g., the author, publication, or date).\", 'verdict': 0}\n",
      "[ragas.testset.evolutions.INFO] retrying evolution: 1 times\n",
      "[ragas.testset.evolutions.DEBUG] [ReasoningEvolution] question compressed: \"What flaws are often noted in recent American action films, despite some franchise successes?\"\n",
      "[ragas.testset.filters.DEBUG] context scoring: {'clarity': 2, 'depth': 1, 'structure': 2, 'relevance': 3, 'score': 2.0}\n",
      "[ragas.testset.evolutions.DEBUG] keyphrases in merged node: ['John Wick: Chapter 2', 'Generic movie', 'Dumb story line', 'Repetitive action']\n",
      "[ragas.testset.filters.DEBUG] filtered question: {'feedback': \"The question asks for elements that elevate Hollywood's action juggernauts, such as 'John Wick,' above typical American action films, which are often criticized for weak scripts and excessive CGI. The intent is clear, seeking specific factors that contribute to the perceived superiority of certain action films. The question is self-contained and does not rely on external references or prior knowledge beyond a general understanding of action films. It is specific and understandable, making it answerable based on the details provided.\", 'verdict': 1}\n",
      "[ragas.testset.filters.DEBUG] context scoring: {'clarity': 3, 'depth': 2, 'structure': 3, 'relevance': 3, 'score': 2.75}\n",
      "[ragas.testset.evolutions.DEBUG] keyphrases in merged node: ['John Wick movie', 'No plot or character development', 'Over the top action', 'Boring fight sequence', 'End of JW franchise']\n",
      "[ragas.testset.filters.DEBUG] context scoring: {'clarity': 3, 'depth': 2, 'structure': 3, 'relevance': 3, 'score': 2.75}\n",
      "[ragas.testset.evolutions.DEBUG] keyphrases in merged node: ['John Wick: Chapter 3 - Parabellum', 'Electrifying action', 'Beautiful cinematography', 'Pulsating score', 'Joyful entertainment']\n",
      "[ragas.testset.filters.DEBUG] filtered question: {'feedback': \"The question asks for elements that contribute to John Wick's distinction as a top-tier action film compared to others released in the same year, with a focus on its narrative approach and character dynamics. It is specific in its intent, clearly identifying the film (John Wick) and the aspects of interest (narrative approach and character dynamics). The question is self-contained and does not rely on external references or unspecified contexts, making it understandable and answerable based on the details provided.\", 'verdict': 1}\n",
      "[ragas.testset.filters.DEBUG] context scoring: {'clarity': 2, 'depth': 1, 'structure': 2, 'relevance': 2, 'score': 1.75}\n",
      "[ragas.testset.evolutions.DEBUG] keyphrases in merged node: ['John Wick', 'Action movie franchise', 'Fighting and biting', 'Silliest franchise', '2h49m runtime']\n",
      "[ragas.testset.filters.DEBUG] context scoring: {'clarity': 2, 'depth': 2, 'structure': 2, 'relevance': 3, 'score': 2.25}\n",
      "[ragas.testset.evolutions.DEBUG] keyphrases in merged node: ['John Wick: Chapter 3 - Parabellum', 'Consequences', 'Odyssey of violence', 'World of assassination', 'Clean action sequences']\n",
      "[ragas.testset.filters.DEBUG] context scoring: {'clarity': 2, 'depth': 2, 'structure': 2, 'relevance': 3, 'score': 2.25}\n",
      "[ragas.testset.evolutions.DEBUG] keyphrases in merged node: ['The Table', 'International criminal brotherhood', 'John Wick', 'The Marquis', 'New York Continentale Hotel']\n",
      "[ragas.testset.filters.DEBUG] context scoring: {'clarity': 2, 'depth': 1, 'structure': 2, 'relevance': 2, 'score': 1.75}\n",
      "[ragas.testset.evolutions.DEBUG] keyphrases in merged node: ['John Wick: Chapter 2', 'Review', 'Spoiler free']\n",
      "[ragas.testset.evolutions.DEBUG] [MultiContextEvolution] multicontext question compressed: \"What benchmarks in action filmmaking did John Wick set for choreography and innovation?\"\n",
      "[ragas.testset.filters.DEBUG] context scoring: {'clarity': 3, 'depth': 2, 'structure': 3, 'relevance': 3, 'score': 2.75}\n",
      "[ragas.testset.evolutions.DEBUG] keyphrases in merged node: ['John Wick', 'Super-assassin', 'Russian mobster', 'Classic car', 'Dog killing']\n",
      "[ragas.testset.evolutions.INFO] seed question generated: \"What are the criticisms mentioned about John Wick: Chapter 2 being a generic movie?\"\n",
      "[ragas.testset.evolutions.DEBUG] [MultiContextEvolution] multicontext question compressed: \"What sets John Wick apart as a top action film this year, especially in narrative and character?\"\n",
      "[ragas.testset.filters.DEBUG] context scoring: {'clarity': 2, 'depth': 1, 'structure': 2, 'relevance': 2, 'score': 1.75}\n",
      "[ragas.testset.evolutions.DEBUG] keyphrases in merged node: ['John Wick movies', 'Unintelligent violent nonsense', 'Entertaining dumb nonsense', 'Franchise', 'Decently okay']\n",
      "[ragas.testset.filters.DEBUG] context scoring: {'clarity': 2, 'depth': 2, 'structure': 2, 'relevance': 3, 'score': 2.25}\n",
      "[ragas.testset.evolutions.DEBUG] keyphrases in merged node: ['John Wick film', 'Action film conventions', 'Fast paced action', 'Unique elements', 'Stylish film']\n",
      "[ragas.testset.filters.DEBUG] context scoring: {'clarity': 3, 'depth': 2, 'structure': 2, 'relevance': 3, 'score': 2.5}\n",
      "[ragas.testset.evolutions.DEBUG] keyphrases in merged node: ['Best action movies', 'Hand to hand combat', 'Brutal killings', 'One man army movies', 'John Wick sequel']\n",
      "[ragas.testset.filters.DEBUG] filtered question: {'feedback': \"The question asks about the role of 'magical jackets' in a movie. It is clear in its intent, seeking information about the significance or function of these jackets within the context of the movie. The question is independent and does not rely on external references or prior knowledge beyond the basic understanding that it pertains to a movie. Therefore, it is specific, independent, and has a clear intent.\", 'verdict': 1}\n",
      "[ragas.testset.evolutions.DEBUG] [MultiContextEvolution] multicontext question compressed: \"What sets films like John Wick apart from typical American action movies?\"\n",
      "[ragas.testset.evolutions.INFO] seed question generated: \"What themes related to consequences are explored in John Wick: Chapter 3 - Parabellum?\"\n",
      "[ragas.testset.filters.DEBUG] evolution filter: {'reason': 'Both questions seek to identify the negative aspects of contemporary American action films, requiring a similar level of detail and analysis.', 'verdict': 1}\n",
      "[ragas.testset.evolutions.DEBUG] evolution_filter failed, retrying with 1\n",
      "[ragas.testset.evolutions.INFO] retrying evolution: 1 times\n",
      "[ragas.testset.evolutions.INFO] seed question generated: \"What role does the pulsating score play in enhancing the entertainment value of John Wick: Chapter 3 - Parabellum?\"\n",
      "[ragas.testset.evolutions.INFO] seed question generated: \"What is the nature of the review for John Wick: Chapter 2?\"\n",
      "[ragas.testset.evolutions.INFO] seed question generated: \"What role does the classic car play in the conflict that John Wick faces?\"\n",
      "[ragas.testset.evolutions.INFO] seed question generated: \"What distinguishes the fast paced action in the first John Wick film from traditional action films?\"\n",
      "[ragas.testset.evolutions.INFO] seed question generated: \"What is the reviewer's opinion on the first two John Wick movies?\"\n",
      "[ragas.testset.evolutions.INFO] seed question generated: \"What makes this movie one of the best action movies according to the review?\"\n",
      "[ragas.testset.filters.DEBUG] evolution filter: {'reason': \"Both questions seek to understand what distinguishes 'John Wick' from other action films released in the same year, with a focus on narrative and character. They share the same constraints, requirements, and depth of inquiry.\", 'verdict': 1}\n",
      "[ragas.testset.evolutions.INFO] retrying evolution: 1 times\n",
      "[ragas.testset.evolutions.INFO] seed question generated: \"What role does the international criminal brotherhood play in the story involving John Wick?\"\n",
      "[ragas.testset.filters.DEBUG] evolution filter: {'reason': 'The first question asks about the overall impact of the John Wick franchise on the action genre, which is broader. The second question focuses specifically on benchmarks in choreography and innovation, which is narrower in scope.', 'verdict': 0}\n",
      "[ragas.testset.filters.DEBUG] evolution filter: {'reason': 'Both questions aim to identify unique characteristics of a subset of American action films compared to the broader category. They share the same constraints and depth of inquiry.', 'verdict': 1}\n",
      "[ragas.testset.evolutions.INFO] retrying evolution: 1 times\n",
      "[ragas.testset.filters.DEBUG] context scoring: {'clarity': 3, 'depth': 3, 'structure': 3, 'relevance': 3, 'score': 3.0}\n",
      "[ragas.testset.evolutions.DEBUG] keyphrases in merged node: ['JOHN WICK franchise', 'High-quality action sequences', 'Inventiveness of action', 'Hand-to-hand combat', 'Top-notch choreography']\n",
      "[ragas.testset.evolutions.DEBUG] answer generated: {'answer': 'The answer to given question is not present in context', 'verdict': -1}\n",
      "[ragas.testset.filters.DEBUG] filtered question: {'feedback': \"The question asks for specific criticisms about 'John Wick: Chapter 2' being considered a generic movie. It is clear in its intent, specifying the movie and the nature of the criticisms it seeks. The question is self-contained and does not rely on external references or prior knowledge beyond a basic understanding of the movie. Therefore, it meets the criteria for clarity and answerability.\", 'verdict': 1}\n",
      "[ragas.testset.evolutions.DEBUG] [MultiContextEvolution] simple question generated: \"What are the criticisms mentioned about John Wick: Chapter 2 being a generic movie?\"\n",
      "[ragas.testset.filters.DEBUG] filtered question: {'feedback': \"The question asks about the themes related to consequences explored in the movie 'John Wick: Chapter 3 - Parabellum'. It is specific in its focus on themes and the particular movie, making the intent clear. The question is self-contained and does not rely on external references or prior knowledge beyond a basic understanding of the movie's content. Therefore, it meets the criteria for clarity and answerability.\", 'verdict': 1}\n",
      "[ragas.testset.evolutions.INFO] seed question generated: \"What is highlighted about the choreography in the JOHN WICK franchise?\"\n",
      "[ragas.testset.filters.DEBUG] filtered question: {'feedback': \"The question asks about the role of the pulsating score in enhancing the entertainment value of 'John Wick: Chapter 3 - Parabellum'. It is specific, independent, and has a clear intent. The question does not rely on external references or prior knowledge beyond a basic understanding of the film and its score, making it understandable and answerable based on the details provided.\", 'verdict': 1}\n",
      "[ragas.testset.filters.DEBUG] context scoring: {'clarity': 2, 'depth': 2, 'structure': 2, 'relevance': 3, 'score': 2.25}\n",
      "[ragas.testset.evolutions.DEBUG] keyphrases in merged node: [\"John Wick's car\", \"Iosef's uncle\", \"Santino D'Antonio\", 'Marker', 'Deadly assassins']\n",
      "[ragas.testset.filters.DEBUG] filtered question: {'feedback': \"The question asks for the reviewer's opinion on the first two John Wick movies. It is clear in specifying the subject of interest (the first two John Wick movies) and the type of information sought (the reviewer's opinion). The question is independent and does not rely on external references or additional context. Therefore, it meets the criteria for clarity and answerability.\", 'verdict': 1}\n",
      "[ragas.testset.evolutions.DEBUG] [MultiContextEvolution] simple question generated: \"What is the reviewer's opinion on the first two John Wick movies?\"\n",
      "[ragas.testset.filters.DEBUG] filtered question: {'feedback': 'The question asks about the role of the classic car in the conflict faced by John Wick. It is specific, independent, and has a clear intent, making it understandable and answerable based on the details provided. The question does not rely on external references or prior knowledge beyond a basic understanding of the John Wick narrative, which is reasonable to assume for the context of the question.', 'verdict': 1}\n",
      "[ragas.testset.evolutions.DEBUG] [MultiContextEvolution] simple question generated: \"What role does the classic car play in the conflict that John Wick faces?\"\n",
      "[ragas.testset.filters.DEBUG] filtered question: {'feedback': 'The question asks for a distinction between the fast-paced action in the first John Wick film and traditional action films. It is clear in specifying the film of interest (the first John Wick film) and the aspect to be compared (fast-paced action). The intent is to understand the unique characteristics of the action sequences in John Wick compared to traditional action films. The question is self-contained and does not rely on external references or prior knowledge beyond a general understanding of action films, making it understandable and answerable.', 'verdict': 1}\n",
      "[ragas.testset.filters.DEBUG] context scoring: {'clarity': 3, 'depth': 2, 'structure': 2, 'relevance': 3, 'score': 2.5}\n",
      "[ragas.testset.evolutions.DEBUG] keyphrases in merged node: ['Overrated film', 'Repetitive fight choreography', 'Generic script', 'Bland action', 'Fake blood effects']\n",
      "[ragas.testset.filters.DEBUG] filtered question: {'feedback': \"The question asks for reasons why a particular movie is considered one of the best action movies according to a review. While it is clear in its intent to understand the factors contributing to the movie's high rating, it lacks independence as it refers to 'the review' without providing any details or context about the review itself. To improve clarity and answerability, the question could specify which review it is referring to or include key points from the review that highlight why the movie is highly rated.\", 'verdict': 0}\n",
      "[ragas.testset.evolutions.INFO] rewritten question: \"What makes this movie one of the best action movies according to the review?\"\n",
      "[ragas.testset.evolutions.INFO] seed question generated: \"What role does Santino D'Antonio play in John Wick's challenges?\"\n",
      "[ragas.testset.evolutions.DEBUG] [MultiContextEvolution] multicontext question generated: \"What aspects contribute to the perception of John Wick: Chapter 2 as a formulaic film despite its praised action and production values?\"\n",
      "[ragas.testset.filters.DEBUG] filtered question: {'feedback': \"The question asks for the nature of the review for 'John Wick: Chapter 2'. It is clear in specifying the subject of interest (the review of 'John Wick: Chapter 2') and seeks information about the nature of the review. However, the term 'nature of the review' is somewhat vague and could be interpreted in various ways (e.g., overall sentiment, specific aspects of the film reviewed, critical reception). To improve clarity and answerability, the question could specify whether it is asking for the general sentiment (positive, negative, mixed), specific elements of the review (e.g., acting, direction, action sequences), or a summary of critical reception.\", 'verdict': 0}\n",
      "[ragas.testset.evolutions.INFO] rewritten question: \"What is the nature of the review for John Wick: Chapter 2?\"\n",
      "[ragas.testset.filters.DEBUG] filtered question: {'feedback': 'The question asks about the role of the international criminal brotherhood in the story involving John Wick. It is clear in specifying the topic of interest (the international criminal brotherhood) and the context (the story involving John Wick). The intent is to understand the significance or function of this group within the narrative. The question is self-contained and does not rely on external references or prior knowledge beyond a basic understanding of the John Wick storyline, which is reasonable to assume given the context. Therefore, it meets the criteria for clarity and answerability.', 'verdict': 1}\n",
      "[ragas.testset.evolutions.DEBUG] [MultiContextEvolution] simple question generated: \"What role does the international criminal brotherhood play in the story involving John Wick?\"\n",
      "[ragas.testset.evolutions.DEBUG] [MultiContextEvolution] multicontext question generated: \"What is the reviewer's assessment of the entertainment value and thematic depth of the initial two installments of the John Wick series compared to the subsequent films?\"\n",
      "[ragas.testset.evolutions.INFO] seed question generated: \"What is the criticism regarding the fake blood effects in the review?\"\n",
      "[ragas.testset.evolutions.DEBUG] [MultiContextEvolution] multicontext question generated: \"What significance does John Wick's cherished vehicle hold in the escalation of his vengeance against the Russian mobster's son?\"\n",
      "[ragas.testset.evolutions.DEBUG] answer generated: {'answer': 'The answer to given question is not present in context', 'verdict': -1}\n",
      "[ragas.testset.evolutions.DEBUG] answer generated: {'answer': 'The John Wick franchise has set a standard for action in Hollywood through expertly choreographed, shot, and edited action films, showcasing a high level of technical knowledge in shooting action. The fourth film continues this trend with an infusion of creativity not seen before in the franchise.', 'verdict': 1}\n",
      "[ragas.testset.evolutions.INFO] seed question generated: \"What role do fighting and biting play in the John Wick movie franchise?\"\n",
      "[ragas.testset.evolutions.INFO] seed question generated: \"What are the main criticisms of the John Wick movie mentioned in the review?\"\n",
      "[ragas.testset.evolutions.DEBUG] [MultiContextEvolution] multicontext question generated: \"What influence does the Table exert on John Wick's conflicts with Santino D'Antonio and the broader criminal underworld?\"\n",
      "[ragas.testset.filters.DEBUG] filtered question: {'feedback': 'The question asks for information about what is highlighted regarding the choreography in the JOHN WICK franchise. It is clear in specifying the topic of interest (choreography) and the context (JOHN WICK franchise). The intent is straightforward, seeking details about the choreography in the film series. The question is self-contained and does not rely on external references or unspecified contexts, making it understandable and answerable based on the details provided.', 'verdict': 1}\n",
      "[ragas.testset.evolutions.DEBUG] [ReasoningEvolution] simple question generated: \"What is highlighted about the choreography in the JOHN WICK franchise?\"\n",
      "[ragas.testset.evolutions.DEBUG] answer generated: {'answer': \"The themes related to consequences explored in John Wick: Chapter 3 - Parabellum include the fallout of John's actions from the previous film, which sends him on a larger odyssey of violence, highlighting the repercussions of his choices in the world of assassination.\", 'verdict': 1}\n",
      "[ragas.testset.evolutions.DEBUG] answer generated: {'answer': 'The fast paced action in the first John Wick film distinguishes itself from traditional action films by breaking certain conventions, featuring a hero who is not a typical muscle-bound character, and introducing unique and stylish elements, despite having a basic and straightforward plot.', 'verdict': 1}\n",
      "[ragas.testset.filters.DEBUG] filtered question: {'feedback': \"The question asks about the role of Santino D'Antonio in John Wick's challenges. It is specific and clear in its intent, seeking information about a particular character's role within the context of the John Wick series. The question is self-contained and does not rely on external references or additional context to be understood and answered. Therefore, it meets the criteria for clarity and answerability.\", 'verdict': 1}\n",
      "[ragas.testset.evolutions.DEBUG] [MultiContextEvolution] simple question generated: \"What role does Santino D'Antonio play in John Wick's challenges?\"\n",
      "[ragas.testset.filters.DEBUG] filtered question: {'feedback': \"The question asks for reasons why a particular movie is considered one of the best action movies according to a review. While it is clear in its intent to understand the factors contributing to the movie's high rating, it lacks independence as it refers to 'the review' without providing any details or context about the review itself. To improve clarity and answerability, the question could specify which review it is referring to or include key points from the review that highlight why the movie is highly rated.\", 'verdict': 0}\n",
      "[ragas.testset.evolutions.INFO] retrying evolution: 2 times\n",
      "[ragas.testset.filters.DEBUG] filtered question: {'feedback': \"The question asks for the nature of the review for 'John Wick: Chapter 2'. It is clear in specifying the subject of interest (the review of the movie 'John Wick: Chapter 2') and seeks information about the nature of the review. The intent is clear, and the question is independent as it does not rely on external references or additional context. Therefore, it meets the criteria for clarity and answerability.\", 'verdict': 1}\n",
      "[ragas.testset.filters.DEBUG] filtered question: {'feedback': \"The question asks for aspects that contribute to the perception of 'John Wick: Chapter 2' as a formulaic film, despite its praised action and production values. It is clear in specifying the film in question and the contrasting elements of perception (formulaic nature vs. praised action and production values). The intent is clear, seeking an analysis of specific aspects that lead to this perception. The question is self-contained and does not rely on external references or prior knowledge beyond general familiarity with the film.\", 'verdict': 1}\n",
      "[ragas.testset.filters.DEBUG] filtered question: {'feedback': \"The question asks for a reviewer's assessment of the entertainment value and thematic depth of the first two John Wick films compared to the subsequent films in the series. It is clear in specifying the films of interest (initial two installments vs. subsequent films) and the aspects to be compared (entertainment value and thematic depth). The intent is clear, and the question is self-contained, not relying on external references or unspecified contexts. Therefore, it meets the criteria for clarity and answerability.\", 'verdict': 1}\n",
      "[ragas.testset.filters.DEBUG] filtered question: {'feedback': 'The question asks for the criticism regarding the fake blood effects in a review. It is clear in its intent, seeking specific information about the criticism mentioned in a particular review. However, it assumes the existence of a specific review without providing any context or details about it. To improve clarity and answerability, the question could specify which review it refers to or provide some context about the review (e.g., the title of the work being reviewed, the author of the review, or where the review was published).', 'verdict': 0}\n",
      "[ragas.testset.evolutions.INFO] rewritten question: \"What is the criticism regarding the fake blood effects in the review?\"\n",
      "[ragas.testset.evolutions.DEBUG] [MultiContextEvolution] multicontext question compressed: \"What makes John Wick: Chapter 2 seem formulaic despite its praised action?\"\n",
      "[ragas.testset.filters.DEBUG] filtered question: {'feedback': \"The question asks about the significance of John Wick's cherished vehicle in the escalation of his vengeance against the Russian mobster's son. It is clear in specifying the character (John Wick), the object of interest (his cherished vehicle), and the context (escalation of vengeance against the Russian mobster's son). The intent is clear, and the question is self-contained, not relying on external references or prior knowledge beyond a basic understanding of the John Wick storyline.\", 'verdict': 1}\n",
      "[ragas.testset.evolutions.DEBUG] [MultiContextEvolution] multicontext question generated: \"What influence does Santino D'Antonio exert over John Wick's return to the underworld and the subsequent bounty placed on him?\"\n",
      "[ragas.testset.filters.DEBUG] filtered question: {'feedback': 'The question asks for the main criticisms of the John Wick movie as mentioned in a specific review. It is clear in its intent, seeking specific information about criticisms from a review. However, it assumes access to a particular review without providing it, making it dependent on external context. To improve clarity and answerability, the question could specify the review or include key points from it, or alternatively, ask about common criticisms of the John Wick movie in general.', 'verdict': 0}\n",
      "[ragas.testset.evolutions.INFO] rewritten question: \"What are the main criticisms of the John Wick movie mentioned in the review?\"\n",
      "[ragas.testset.filters.DEBUG] filtered question: {'feedback': 'The question asks about the role of fighting and biting in the John Wick movie franchise. It is specific and clear in its intent, seeking information on the significance or impact of these elements within the context of the movie series. The question is self-contained and does not rely on external references or prior knowledge beyond a basic understanding of the John Wick franchise. Therefore, it meets the criteria for clarity and answerability.', 'verdict': 1}\n",
      "[ragas.testset.evolutions.DEBUG] [MultiContextEvolution] simple question generated: \"What role do fighting and biting play in the John Wick movie franchise?\"\n",
      "[ragas.testset.filters.DEBUG] context scoring: {'clarity': 2, 'depth': 1, 'structure': 2, 'relevance': 2, 'score': 1.75}\n",
      "[ragas.testset.evolutions.DEBUG] keyphrases in merged node: ['Keanu Reeves', 'Matrix master', 'Laurence Fishburne', 'Sequel', 'Allies']\n",
      "[ragas.testset.evolutions.DEBUG] [MultiContextEvolution] multicontext question compressed: \"What role does Wick's car play in his revenge on the mobster's son?\"\n",
      "[ragas.testset.filters.DEBUG] filtered question: {'feedback': \"The question asks about the influence of 'the Table' on John Wick's conflicts with Santino D'Antonio and the broader criminal underworld. It is clear in specifying the characters involved (John Wick and Santino D'Antonio) and the broader context (criminal underworld). The term 'the Table' is likely referring to a specific entity within the John Wick universe, which may be understood by those familiar with the series. However, for those not familiar with the John Wick series, the term 'the Table' might be ambiguous. To improve clarity, the question could briefly explain what 'the Table' refers to within the context of the John Wick universe.\", 'verdict': 1}\n",
      "[ragas.testset.evolutions.DEBUG] answer generated: {'answer': 'The review of John Wick: Chapter 2 is spoiler free.', 'verdict': 1}\n",
      "[ragas.testset.filters.DEBUG] filtered question: {'feedback': \"The question asks about the elements of action and choreography that elevate the appeal of the JOHN WICK franchise. It is specific in its focus on action and choreography and clearly seeks an analysis of these aspects in relation to the franchise's appeal. The question is self-contained and does not rely on external references or prior knowledge beyond a general understanding of the JOHN WICK franchise. Therefore, it meets the criteria for clarity and answerability.\", 'verdict': 1}\n",
      "[ragas.testset.evolutions.DEBUG] [MultiContextEvolution] multicontext question generated: \"What significance do the recurring themes of combat and aggression hold in the portrayal of John Wick as an iconic hitman across the franchise's extensive runtime?\"\n",
      "[ragas.testset.filters.DEBUG] evolution filter: {'reason': \"Both questions seek to understand the criticisms of 'John Wick: Chapter 2' being perceived as generic or formulaic, despite its praised action sequences. They share the same constraints, requirements, and depth of inquiry.\", 'verdict': 1}\n",
      "[ragas.testset.evolutions.INFO] retrying evolution: 1 times\n",
      "[ragas.testset.evolutions.DEBUG] [MultiContextEvolution] multicontext question compressed: \"How does the Table affect Wick's conflicts with Santino and the criminal world?\"\n",
      "[ragas.testset.evolutions.INFO] seed question generated: \"What is the significance of Keanu Reeves and Laurence Fishburne being allies in the sequel?\"\n",
      "[ragas.testset.evolutions.DEBUG] [ReasoningEvolution] question compressed: \"What elements of action and choreography elevate the JOHN WICK franchise's appeal?\"\n",
      "[ragas.testset.filters.DEBUG] filtered question: {'feedback': 'The question asks for the criticism regarding the fake blood effects in a review. It is clear in its intent, seeking specific information about the criticism of fake blood effects. However, it assumes the existence of a specific review without providing any context or details about it. To improve clarity and answerability, the question could specify which review it is referring to or provide some context about the review.', 'verdict': 0}\n",
      "[ragas.testset.evolutions.INFO] retrying evolution: 2 times\n",
      "[ragas.testset.filters.DEBUG] filtered question: {'feedback': 'The question asks for the main criticisms of the John Wick movie as mentioned in a specific review. It is clear in its intent, seeking specific information about criticisms from a review. However, it assumes access to a particular review without providing it or specifying which review is being referred to. To improve clarity and answerability, the question could specify the source of the review or include the relevant criticisms directly within the question.', 'verdict': 0}\n",
      "[ragas.testset.evolutions.INFO] retrying evolution: 2 times\n",
      "[ragas.testset.filters.DEBUG] evolution filter: {'reason': \"While both questions involve the role of a car in John Wick's story, the first question focuses on the car's role in the conflict John Wick faces, which is broader. The second question specifically addresses the car's role in his revenge on the mobster's son, which is more narrow.\", 'verdict': 0}\n",
      "[ragas.testset.filters.DEBUG] filtered question: {'feedback': \"The question asks about the influence Santino D'Antonio has over John Wick's return to the underworld and the subsequent bounty placed on him. It is clear in specifying the characters (Santino D'Antonio and John Wick) and the events of interest (John Wick's return to the underworld and the bounty). The intent is clear, seeking an explanation of Santino's role and impact on these events. The question is self-contained and does not rely on external references or prior knowledge beyond a basic understanding of the John Wick storyline.\", 'verdict': 1}\n",
      "[ragas.testset.filters.DEBUG] context scoring: {'clarity': 2, 'depth': 2, 'structure': 2, 'relevance': 3, 'score': 2.25}\n",
      "[ragas.testset.evolutions.DEBUG] keyphrases in merged node: ['John Wick', 'Generic action thriller', 'Cinematography', 'Fight choreography', 'Martial arts films influence']\n",
      "[ragas.testset.filters.DEBUG] evolution filter: {'reason': 'Both questions focus on the choreography in the JOHN WICK franchise, but the second question also includes the appeal of the action, adding a broader scope to the inquiry.', 'verdict': 0}\n",
      "[ragas.testset.filters.DEBUG] context scoring: {'clarity': 2, 'depth': 2, 'structure': 2, 'relevance': 3, 'score': 2.25}\n",
      "[ragas.testset.evolutions.DEBUG] keyphrases in merged node: ['Keanu Reeves', 'Cliched action', 'Retired hit-man', 'Russian mobsters', 'Original ideas']\n",
      "[ragas.testset.filters.DEBUG] evolution filter: {'reason': \"The first question focuses on the role of the international criminal brotherhood in the story of John Wick, while the second question specifically asks about the Table's influence on Wick's conflicts with Santino and the criminal world. These questions have different constraints and requirements, as well as different depths and breadths of inquiry.\", 'verdict': 0}\n",
      "[ragas.testset.filters.DEBUG] context scoring: {'clarity': 2, 'depth': 2, 'structure': 2, 'relevance': 3, 'score': 2.25}\n",
      "[ragas.testset.evolutions.DEBUG] keyphrases in merged node: ['Weak plot', 'Long fight scenes', 'Keanu Reeves', 'Boogeyman character', 'Halle Berry']\n",
      "[ragas.testset.evolutions.INFO] seed question generated: \"What are the characteristics that make 'John Wick' feel like a generic action thriller?\"\n",
      "[ragas.testset.evolutions.DEBUG] [MultiContextEvolution] multicontext question compressed: \"How does the reviewer rate the entertainment and themes of the first two John Wick films vs. the later ones?\"\n",
      "[ragas.testset.filters.DEBUG] filtered question: {'feedback': \"The question asks about the significance of Keanu Reeves and Laurence Fishburne being allies in a sequel. While it is clear in specifying the actors and their alliance, it lacks context about which sequel or movie series it refers to. This makes it difficult to provide a specific and relevant answer without additional information. To improve clarity and answerability, the question should specify the movie or series in question (e.g., 'What is the significance of Keanu Reeves and Laurence Fishburne being allies in the sequel to The Matrix?').\", 'verdict': 0}\n",
      "[ragas.testset.evolutions.INFO] rewritten question: \"What is the significance of Keanu Reeves and Laurence Fishburne being allies in the sequel?\"\n",
      "[ragas.testset.evolutions.INFO] seed question generated: \"What is the criticism regarding Hollywood's approach to original ideas in film?\"\n",
      "[ragas.testset.evolutions.INFO] seed question generated: \"What are the criticisms related to the plot in the review of the movie?\"\n",
      "[ragas.testset.evolutions.DEBUG] [MultiContextEvolution] multicontext question compressed: \"What role does Santino D'Antonio play in John Wick's return and the bounty on him?\"\n",
      "[ragas.testset.filters.DEBUG] evolution filter: {'reason': \"The first question asks for the reviewer's opinion on the first two John Wick movies, while the second question asks for a comparative rating of the entertainment and themes of the first two John Wick films versus the later ones. The second question has a broader scope and different requirements.\", 'verdict': 0}\n",
      "[ragas.testset.evolutions.DEBUG] answer generated: {'answer': \"Wick's car is significant in his revenge on the mobster's son because it is stolen by the thugs who break into his house, which triggers Wick's quest for vengeance. The thugs, led by the son of a Russian gangster, do not realize who Wick is when they attack him and take his car, which ultimately leads to Wick seeking revenge against them.\", 'verdict': 1}\n",
      "[ragas.testset.filters.DEBUG] filtered question: {'feedback': \"The question asks for criticism regarding Hollywood's approach to original ideas in film. It is clear in its intent, seeking specific information about the criticisms of Hollywood's practices related to original ideas. The question is independent and does not rely on external references or prior knowledge, making it understandable and answerable based on the details provided.\", 'verdict': 1}\n",
      "[ragas.testset.evolutions.DEBUG] [MultiContextEvolution] simple question generated: \"What is the criticism regarding Hollywood's approach to original ideas in film?\"\n",
      "[ragas.testset.filters.DEBUG] filtered question: {'feedback': \"The question asks for the characteristics that make 'John Wick' feel like a generic action thriller. It is clear in specifying the movie of interest ('John Wick') and the type of information sought (characteristics that contribute to a generic action thriller feel). The question is self-contained and does not rely on external references or prior knowledge beyond a general understanding of the movie and the action thriller genre. Therefore, it meets the criteria for independence and clear intent.\", 'verdict': 1}\n",
      "[ragas.testset.evolutions.DEBUG] answer generated: {'answer': 'The action and choreography in JOHN WICK are appealing due to the sheer inventiveness of the non-repetitive action sequences, which include horse and motorbike chases, a Moroccan brawl with fighting dogs, and a greater emphasis on hand-to-hand combat. The choreography is described as top-notch, featuring skilled actors and a high level of energy and skill in the action scenes.', 'verdict': 1}\n",
      "[ragas.testset.evolutions.DEBUG] answer generated: {'answer': \"The Table empowers The Marquis to deal with John Wick, which indicates that they have a significant influence over Wick's conflicts with Santino and the broader criminal world. Additionally, the Table's rules compel Wick to honor the marker given to Santino, further complicating his situation.\", 'verdict': 1}\n",
      "[ragas.testset.filters.DEBUG] filtered question: {'feedback': 'The question asks for criticisms related to the plot in the review of a movie, but it does not specify which movie or which review it is referring to. This lack of specificity makes the question unclear and dependent on external context that is not provided. To improve clarity and answerability, the question should specify the movie and the particular review being referenced.', 'verdict': 0}\n",
      "[ragas.testset.evolutions.INFO] rewritten question: \"What are the criticisms related to the plot in the review of the movie?\"\n",
      "[ragas.testset.filters.DEBUG] filtered question: {'feedback': 'The question is clear in its intent, asking about the significance of recurring themes of combat and aggression in the portrayal of John Wick as an iconic hitman throughout the franchise. It is specific and does not rely on external references or prior knowledge beyond a general understanding of the John Wick franchise. The question is self-contained and understandable, making it answerable based on the details provided.', 'verdict': 1}\n",
      "[ragas.testset.filters.DEBUG] filtered question: {'feedback': \"The question asks about the significance of Keanu Reeves and Laurence Fishburne being allies in a sequel. While it is clear in specifying the actors and their relationship (allies), it lacks context about which sequel or film series it refers to. This makes it difficult to provide a specific and relevant answer without additional information. To improve clarity and answerability, the question should specify the film or series in question (e.g., 'What is the significance of Keanu Reeves and Laurence Fishburne being allies in the sequel to The Matrix?').\", 'verdict': 0}\n",
      "[ragas.testset.evolutions.INFO] retrying evolution: 3 times\n",
      "[ragas.testset.filters.DEBUG] evolution filter: {'reason': \"The first question focuses on Santino D'Antonio's role in John Wick's challenges, while the second question specifically addresses his role in John Wick's return and the bounty on him. The second question has a narrower focus, leading to different depths of inquiry.\", 'verdict': 0}\n",
      "[ragas.testset.evolutions.DEBUG] [MultiContextEvolution] multicontext question generated: \"What are the implications of Hollywood's reliance on clichés in original films, as illustrated by the narrative of a retired hit-man seeking vengeance after personal loss?\"\n",
      "[ragas.testset.evolutions.DEBUG] [MultiContextEvolution] multicontext question compressed: \"What do combat and aggression signify for John Wick as an iconic hitman?\"\n",
      "[ragas.testset.filters.DEBUG] context scoring: {'clarity': 2, 'depth': 1, 'structure': 2, 'relevance': 3, 'score': 2.0}\n",
      "[ragas.testset.evolutions.DEBUG] keyphrases in merged node: ['John Wick movies', 'Unintelligent violent nonsense', 'Entertaining dumb nonsense', 'Franchise', 'Decently okay']\n",
      "[ragas.testset.evolutions.DEBUG] answer generated: {'answer': 'The reviewer finds the first two John Wick films to be decently okay and somewhat entertaining as unintelligent violent nonsense, while they rate the last two films as not so much fun and only dumb.', 'verdict': 1}\n",
      "[ragas.testset.filters.DEBUG] filtered question: {'feedback': 'The question asks for criticisms related to the plot in the review of a movie, but it does not specify which movie or which review it is referring to. This lack of specificity makes the question unclear and dependent on external context that is not provided. To improve clarity and answerability, the question should specify the movie and the particular review being referenced.', 'verdict': 0}\n",
      "[ragas.testset.evolutions.INFO] retrying evolution: 2 times\n",
      "[ragas.testset.filters.DEBUG] evolution filter: {'reason': \"Both questions explore the significance of violent actions in the John Wick movie franchise, focusing on the character's role and the thematic elements of combat and aggression. They share the same depth and breadth of inquiry.\", 'verdict': 1}\n",
      "[ragas.testset.evolutions.INFO] retrying evolution: 1 times\n",
      "[ragas.testset.evolutions.INFO] seed question generated: \"What is the overall quality of the John Wick franchise according to the review?\"\n",
      "[ragas.testset.evolutions.DEBUG] answer generated: {'answer': \"The characteristics that make 'John Wick' feel like a generic action thriller include its similarity to other films in the genre, such as 'Bourne' or 'Taken', which suggests a lack of originality. The review describes it as just kind of a generic action thriller, indicating that it does not stand out significantly from other films of the same type.\", 'verdict': 1}\n",
      "[ragas.testset.filters.DEBUG] filtered question: {'feedback': \"The question asks about the implications of Hollywood's reliance on clichés in original films, using the specific example of a retired hit-man seeking vengeance after personal loss. It is clear in its intent to explore the broader implications of this narrative trope and does not rely on external references or unspecified contexts. The question is specific, independent, and has a clear intent, making it understandable and answerable based on the details provided.\", 'verdict': 1}\n",
      "[ragas.testset.filters.DEBUG] context scoring: {'clarity': 2, 'depth': 2, 'structure': 2, 'relevance': 3, 'score': 2.25}\n",
      "[ragas.testset.evolutions.DEBUG] keyphrases in merged node: ['John Wick film', 'Mindless action', 'Zero plot', 'Anti-male female characters', 'Ridiculous levels of gore']\n",
      "[ragas.testset.filters.DEBUG] context scoring: {'clarity': 2, 'depth': 1, 'structure': 2, 'relevance': 3, 'score': 2.0}\n",
      "[ragas.testset.evolutions.DEBUG] keyphrases in merged node: ['John Wick movies', 'Unintelligent violent nonsense', 'Entertaining dumb nonsense', 'Franchise', 'Decently okay']\n",
      "[ragas.testset.evolutions.DEBUG] [MultiContextEvolution] multicontext question compressed: \"What does Hollywood's use of clichés in original films say, like in a retired hit-man's revenge story?\"\n",
      "[ragas.testset.evolutions.INFO] seed question generated: \"What makes entertaining dumb nonsense appealing in movies like the John Wick franchise?\"\n",
      "[ragas.testset.filters.DEBUG] filtered question: {'feedback': \"The question asks about the overall quality of the John Wick franchise according to 'the review', but it does not specify which review it is referring to. This makes the question dependent on an external reference that is not provided within the question itself. To improve clarity and answerability, the question should either specify the review in question or be reframed to ask about the general critical reception of the John Wick franchise based on multiple reviews or a specific source.\", 'verdict': 0}\n",
      "[ragas.testset.evolutions.INFO] rewritten question: \"What is the overall quality of the John Wick franchise according to the review?\"\n",
      "[ragas.testset.evolutions.INFO] seed question generated: \"What criticism is made regarding the portrayal of female characters in the third John Wick film?\"\n",
      "[ragas.testset.evolutions.DEBUG] answer generated: {'answer': \"Santino D'Antonio plays the role of a crime lord who calls in John Wick's Marker, forcing Wick to help him despite his retirement. After Wick refuses to assist him, Santino retaliates by blowing up Wick's house. He then asks Wick to kill his sister, Gianna D'Antonio, to gain power within the criminal organizations. Once Wick completes this assignment, Santino places a seven-million dollar contract on Wick, attracting numerous professional killers.\", 'verdict': 1}\n",
      "[ragas.testset.filters.DEBUG] evolution filter: {'reason': \"The first question broadly addresses criticism of Hollywood's approach to original ideas, while the second question focuses specifically on the use of clichés in original films, particularly in a specific genre. This difference in focus leads to different depths and breadths of inquiry.\", 'verdict': 0}\n",
      "[ragas.testset.filters.DEBUG] filtered question: {'feedback': \"The question asks about the appeal of 'entertaining dumb nonsense' in movies like the John Wick franchise. It is clear in its intent, seeking to understand why such elements are appealing to audiences. The question is self-contained and does not rely on external references or prior knowledge beyond a general understanding of the John Wick franchise. However, the phrase 'entertaining dumb nonsense' could be seen as subjective and potentially pejorative. To improve clarity and neutrality, the question could be rephrased to ask about specific elements of the John Wick franchise that contribute to its entertainment value, such as action sequences, stylistic choices, or narrative simplicity.\", 'verdict': 1}\n",
      "[ragas.testset.evolutions.DEBUG] [MultiContextEvolution] simple question generated: \"What makes entertaining dumb nonsense appealing in movies like the John Wick franchise?\"\n",
      "[ragas.testset.filters.DEBUG] filtered question: {'feedback': \"The question asks about the overall quality of the John Wick franchise according to 'the review'. While it specifies the subject (John Wick franchise) and the type of information sought (overall quality), it relies on an unspecified review, making it unclear and dependent on external context. To improve clarity and answerability, the question should either include the specific review or reframe to ask about general critical reception or specific aspects of the franchise's quality.\", 'verdict': 0}\n",
      "[ragas.testset.evolutions.INFO] retrying evolution: 4 times\n",
      "[ragas.testset.filters.DEBUG] filtered question: {'feedback': 'The question asks for specific criticism regarding the portrayal of female characters in the third John Wick film. It is clear in its intent, specifying the subject (female characters) and the context (the third John Wick film). The question is independent and does not rely on external references or prior knowledge beyond a basic understanding of the film. Therefore, it is understandable and answerable based on the details provided.', 'verdict': 1}\n",
      "[ragas.testset.evolutions.DEBUG] [MultiContextEvolution] simple question generated: \"What criticism is made regarding the portrayal of female characters in the third John Wick film?\"\n",
      "[ragas.testset.evolutions.DEBUG] answer generated: {'answer': 'The answer to given question is not present in context', 'verdict': -1}\n",
      "[ragas.testset.evolutions.DEBUG] [MultiContextEvolution] multicontext question generated: \"What elements contribute to the allure of mindless violence in the John Wick series, despite its perceived monotony?\"\n",
      "[ragas.testset.evolutions.DEBUG] [MultiContextEvolution] multicontext question generated: \"What are the critiques regarding the depiction of female roles and overall character development in the third John Wick film, particularly in relation to its excessive violence and lack of plot?\"\n",
      "[ragas.testset.filters.DEBUG] context scoring: {'clarity': 2, 'depth': 2, 'structure': 2, 'relevance': 3, 'score': 2.25}\n",
      "[ragas.testset.evolutions.DEBUG] keyphrases in merged node: ['Assassin John Wick', 'Baba Yaga', 'Supernatural being', 'Lightning fast reflexes', 'Action scenes in Parabellum']\n",
      "[ragas.testset.evolutions.INFO] seed question generated: \"What evidence suggests that John Wick is portrayed as a supernatural being in the third chapter of the series?\"\n",
      "[ragas.testset.filters.DEBUG] filtered question: {'feedback': 'The question asks about the elements that contribute to the allure of mindless violence in the John Wick series, despite its perceived monotony. It is clear in specifying the topic of interest (John Wick series) and seeks detailed information on the elements that make the violence appealing. The intent is clear, and the question is self-contained, not relying on external references or prior knowledge beyond a general understanding of the John Wick series. Therefore, it meets the criteria for clarity and answerability.', 'verdict': 1}\n",
      "[ragas.testset.filters.DEBUG] filtered question: {'feedback': \"The question is specific and clear in its intent, asking for critiques related to the depiction of female roles and overall character development in the third John Wick film, with a particular focus on its excessive violence and lack of plot. It does not rely on external references or prior knowledge beyond a general understanding of the film, making it independent and self-contained. The question is well-structured and directs the respondent to address specific aspects of the film's critique.\", 'verdict': 1}\n",
      "[ragas.testset.evolutions.DEBUG] [MultiContextEvolution] multicontext question compressed: \"What makes mindless violence appealing in John Wick, despite its monotony?\"\n",
      "[ragas.testset.filters.DEBUG] filtered question: {'feedback': 'The question asks for evidence suggesting that John Wick is portrayed as a supernatural being in the third chapter of the series. It is specific, independent, and has a clear intent, making it understandable and answerable based on the details provided. The question does not rely on external references or prior knowledge not shared within the question itself.', 'verdict': 1}\n",
      "[ragas.testset.evolutions.DEBUG] [ReasoningEvolution] simple question generated: \"What evidence suggests that John Wick is portrayed as a supernatural being in the third chapter of the series?\"\n",
      "[ragas.testset.evolutions.DEBUG] [MultiContextEvolution] multicontext question compressed: \"What are the critiques on female roles and character development in John Wick 3, especially regarding violence and plot?\"\n",
      "[ragas.testset.filters.DEBUG] evolution filter: {'reason': 'Both questions inquire about the appeal of certain elements in the John Wick franchise, specifically focusing on entertaining dumb nonsense and mindless violence. They share the same constraints and requirements, as well as a similar depth and breadth of inquiry.', 'verdict': 1}\n",
      "[ragas.testset.evolutions.INFO] retrying evolution: 2 times\n",
      "[ragas.testset.filters.DEBUG] evolution filter: {'reason': 'Both questions focus on the criticism of female characters in the third John Wick film, including aspects of their roles, character development, and portrayal in terms of violence and plot. They share the same constraints and depth of inquiry.', 'verdict': 1}\n",
      "[ragas.testset.evolutions.INFO] retrying evolution: 2 times\n",
      "[ragas.testset.filters.DEBUG] context scoring: {'clarity': 2, 'depth': 2, 'structure': 2, 'relevance': 3, 'score': 2.25}\n",
      "[ragas.testset.evolutions.DEBUG] keyphrases in merged node: ['Keanu Reeves', 'Cliched action', 'Retired hit-man', 'Russian mobsters', 'Original ideas']\n",
      "[ragas.testset.filters.DEBUG] context scoring: {'clarity': 3, 'depth': 2, 'structure': 3, 'relevance': 3, 'score': 2.75}\n",
      "[ragas.testset.evolutions.DEBUG] keyphrases in merged node: ['JOHN WICK', 'Action film', 'Pulse-pounding thriller', 'Emotionally intense plot', 'Classic international fare']\n",
      "[ragas.testset.filters.DEBUG] filtered question: {'feedback': \"The question asks for traits in John Wick's actions that imply his supernatural status in Chapter 3. It is specific in focusing on John Wick, his actions, and the particular chapter of interest. The intent is clear as it seeks to identify and explain traits that suggest a supernatural status. The question is self-contained and does not rely on external references or prior knowledge beyond a basic understanding of the John Wick series.\", 'verdict': 1}\n",
      "[ragas.testset.evolutions.INFO] seed question generated: \"What are the common tropes associated with a retired hit-man in Hollywood films?\"\n",
      "[ragas.testset.evolutions.INFO] seed question generated: \"What distinguishes the emotionally intense plot of JOHN WICK from other action films?\"\n",
      "[ragas.testset.evolutions.DEBUG] [ReasoningEvolution] question compressed: \"What traits in John Wick's actions imply his supernatural status in Chapter 3?\"\n",
      "[ragas.testset.filters.DEBUG] filtered question: {'feedback': 'The question asks for common tropes associated with a retired hit-man in Hollywood films. It is specific, independent, and has a clear intent, making it understandable and answerable based on the details provided. The question does not rely on external references or prior knowledge not shared within the question itself.', 'verdict': 1}\n",
      "[ragas.testset.evolutions.DEBUG] [MultiContextEvolution] simple question generated: \"What are the common tropes associated with a retired hit-man in Hollywood films?\"\n",
      "[ragas.testset.filters.DEBUG] evolution filter: {'reason': \"Both questions inquire about evidence or traits that suggest John Wick's supernatural status in the third chapter of the series, requiring similar depth and breadth of analysis.\", 'verdict': 1}\n",
      "[ragas.testset.evolutions.DEBUG] evolution_filter failed, retrying with 1\n",
      "[ragas.testset.evolutions.INFO] retrying evolution: 1 times\n",
      "[ragas.testset.filters.DEBUG] filtered question: {'feedback': \"The question asks for distinguishing features of the emotionally intense plot of 'JOHN WICK' compared to other action films. It is clear in specifying the film of interest (JOHN WICK) and the aspect to be compared (emotionally intense plot). The intent is clear, and the question is independent, not relying on external references or unspecified contexts. Therefore, it is understandable and answerable based on the details provided.\", 'verdict': 1}\n",
      "[ragas.testset.evolutions.DEBUG] [MultiContextEvolution] simple question generated: \"What distinguishes the emotionally intense plot of JOHN WICK from other action films?\"\n",
      "[ragas.testset.evolutions.DEBUG] [MultiContextEvolution] multicontext question generated: \"What narrative elements typically characterize a retired assassin's journey in Hollywood, particularly in relation to personal loss and revenge?\"\n",
      "[ragas.testset.filters.DEBUG] context scoring: {'clarity': 2, 'depth': 2, 'structure': 2, 'relevance': 3, 'score': 2.25}\n",
      "[ragas.testset.evolutions.DEBUG] keyphrases in merged node: ['John Wick', 'Action movie', 'Sharp action', 'Practical stunt work', 'Well filmed']\n",
      "[ragas.testset.evolutions.DEBUG] [MultiContextEvolution] multicontext question generated: \"What elements contribute to the emotional depth of JOHN WICK's straightforward revenge narrative compared to other action films?\"\n",
      "[ragas.testset.evolutions.INFO] seed question generated: \"What makes the action in John Wick stand out as well filmed?\"\n",
      "[ragas.testset.filters.DEBUG] filtered question: {'feedback': \"The question is clear and specific, asking about the narrative elements that characterize a retired assassin's journey in Hollywood, with a particular focus on themes of personal loss and revenge. It does not rely on external references or unspecified contexts, making it self-contained and understandable. The intent is clear, seeking an analysis of common narrative tropes in a specific genre and context.\", 'verdict': 1}\n",
      "[ragas.testset.evolutions.DEBUG] [MultiContextEvolution] multicontext question compressed: \"What are common themes in a retired assassin's Hollywood journey, especially regarding loss and revenge?\"\n",
      "[ragas.testset.filters.DEBUG] filtered question: {'feedback': \"The question asks for the specific elements that make the action scenes in 'John Wick' stand out as well filmed. It is clear in its intent, seeking an analysis of the film's action sequences. The question is independent and does not rely on external references or prior knowledge beyond a general understanding of the film. Therefore, it meets the criteria for clarity and answerability.\", 'verdict': 1}\n",
      "[ragas.testset.evolutions.DEBUG] [ReasoningEvolution] simple question generated: \"What makes the action in John Wick stand out as well filmed?\"\n",
      "[ragas.testset.filters.DEBUG] filtered question: {'feedback': \"The question asks about the elements that contribute to the emotional depth of the 'John Wick' film's revenge narrative compared to other action films. It is clear in specifying the film of interest (John Wick) and the aspect to be analyzed (emotional depth in the context of a revenge narrative). The intent is clear, and the question is self-contained, not relying on external references or unspecified contexts. This makes it understandable and answerable based on the details provided.\", 'verdict': 1}\n",
      "[ragas.testset.evolutions.DEBUG] [MultiContextEvolution] multicontext question compressed: \"What adds emotional depth to JOHN WICK's revenge story vs. other action films?\"\n",
      "[ragas.testset.filters.DEBUG] evolution filter: {'reason': 'While both questions deal with retired assassins in Hollywood films, the first question focuses on general tropes, whereas the second question specifically emphasizes themes of loss and revenge, leading to different depths of inquiry.', 'verdict': 0}\n",
      "[ragas.testset.filters.DEBUG] evolution filter: {'reason': 'Both questions focus on the emotional aspects of the plot in JOHN WICK compared to other action films, requiring similar depth and breadth of analysis.', 'verdict': 1}\n",
      "[ragas.testset.evolutions.INFO] retrying evolution: 3 times\n",
      "[ragas.testset.filters.DEBUG] filtered question: {'feedback': \"The question asks about the elements that contribute to the sharpness and clarity of action scenes in the movie 'John Wick'. It is specific, independent, and has a clear intent, making it understandable and answerable based on the details provided. The question does not rely on external references or prior knowledge beyond a general understanding of the movie, and it clearly seeks information about the filmmaking techniques or elements that enhance the action scenes.\", 'verdict': 1}\n",
      "[ragas.testset.filters.DEBUG] context scoring: {'clarity': 2, 'depth': 2, 'structure': 2, 'relevance': 3, 'score': 2.25}\n",
      "[ragas.testset.evolutions.DEBUG] keyphrases in merged node: ['The Table', 'International criminal brotherhood', 'John Wick', 'The Marquis', 'New York Continentale Hotel']\n",
      "[ragas.testset.evolutions.DEBUG] [ReasoningEvolution] question compressed: \"What elements contribute to the sharpness and clarity of John Wick's action scenes?\"\n",
      "[ragas.testset.evolutions.DEBUG] answer generated: {'answer': \"Common themes in a retired assassin's Hollywood journey, especially regarding loss and revenge, include the death of a loved one, as seen with John Wick losing his wife to cancer, and the subsequent quest for vengeance against those who wronged him, which is a central plot point in the narrative.\", 'verdict': 1}\n",
      "[ragas.testset.evolutions.INFO] seed question generated: \"What role does John Wick play in the conflict with The Table and The Marquis?\"\n",
      "[ragas.testset.filters.DEBUG] evolution filter: {'reason': 'Both questions inquire about the distinctive qualities of the action scenes in John Wick, focusing on their clarity and filming quality. They share the same constraints and depth of inquiry.', 'verdict': 1}\n",
      "[ragas.testset.evolutions.DEBUG] evolution_filter failed, retrying with 1\n",
      "[ragas.testset.evolutions.INFO] retrying evolution: 2 times\n",
      "[ragas.testset.filters.DEBUG] context scoring: {'clarity': 2, 'depth': 2, 'structure': 2, 'relevance': 3, 'score': 2.25}\n",
      "[ragas.testset.evolutions.DEBUG] keyphrases in merged node: ['Dull and repetitive', 'Immortality cheat', 'Lacking in humanity']\n",
      "[ragas.testset.evolutions.INFO] seed question generated: \"What effect does the immortality cheat have on the experience of watching the film?\"\n",
      "[ragas.testset.filters.DEBUG] filtered question: {'feedback': \"The question asks about the role of John Wick in the conflict with The Table and The Marquis. It is specific and clear in its intent, seeking information about John Wick's involvement in a particular conflict. The question is self-contained and does not rely on external references or prior knowledge beyond a basic understanding of the characters mentioned. Therefore, it meets the criteria for clarity and answerability.\", 'verdict': 1}\n",
      "[ragas.testset.evolutions.DEBUG] [MultiContextEvolution] simple question generated: \"What role does John Wick play in the conflict with The Table and The Marquis?\"\n",
      "[ragas.testset.filters.DEBUG] filtered question: {'feedback': \"The question asks about the effect of an 'immortality cheat' on the experience of watching a film. While it is clear in its intent to understand the impact of this cheat on the viewing experience, it is vague in terms of what 'immortality cheat' refers to. It is not clear whether this is a metaphorical concept, a specific feature in a film, or something else. To improve clarity and answerability, the question could specify what is meant by 'immortality cheat' and provide more context about the film in question.\", 'verdict': 0}\n",
      "[ragas.testset.evolutions.INFO] rewritten question: \"What effect does the immortality cheat have on the experience of watching the film?\"\n",
      "[ragas.testset.evolutions.DEBUG] [MultiContextEvolution] multicontext question generated: \"What is John Wick's involvement in the power struggle against The Table and The Marquis following his conflict with Santino D'Antonio?\"\n",
      "[ragas.testset.filters.DEBUG] filtered question: {'feedback': \"The question asks about the effect of an 'immortality cheat' on the experience of watching a film. While it is clear in its intent to understand the impact of this cheat on the viewing experience, it is vague in terms of what 'immortality cheat' refers to. It is not clear whether this is a metaphorical concept, a specific feature in a film, or something else. To improve clarity and answerability, the question could specify what is meant by 'immortality cheat' and provide context on how it is applied within the film.\", 'verdict': 0}\n",
      "[ragas.testset.evolutions.INFO] retrying evolution: 3 times\n",
      "[ragas.testset.filters.DEBUG] filtered question: {'feedback': \"The question asks about John Wick's involvement in the power struggle against The Table and The Marquis following his conflict with Santino D'Antonio. It is clear in specifying the characters (John Wick, The Table, The Marquis, Santino D'Antonio) and the context (power struggle, conflict with Santino D'Antonio). The intent is to understand John Wick's role in the subsequent events, making it specific and independent. No additional context or external references are needed to understand and answer the question.\", 'verdict': 1}\n",
      "[ragas.testset.evolutions.DEBUG] [MultiContextEvolution] multicontext question compressed: \"What's John Wick's role in the power struggle with The Table and The Marquis after Santino?\"\n",
      "[ragas.testset.filters.DEBUG] context scoring: {'clarity': 2, 'depth': 2, 'structure': 2, 'relevance': 3, 'score': 2.25}\n",
      "[ragas.testset.evolutions.DEBUG] keyphrases in merged node: ['John Wick film', 'Action film conventions', 'Fast paced action', 'Unique elements', 'Stylish film']\n",
      "[ragas.testset.filters.DEBUG] evolution filter: {'reason': \"Both questions inquire about John Wick's role in the conflict with The Table and The Marquis, requiring similar depth and breadth of explanation.\", 'verdict': 1}\n",
      "[ragas.testset.evolutions.INFO] retrying evolution: 4 times\n",
      "[ragas.testset.evolutions.INFO] seed question generated: \"What distinguishes the fast paced action in the first John Wick film from traditional action films?\"\n",
      "[ragas.testset.filters.DEBUG] context scoring: {'clarity': 2, 'depth': 2, 'structure': 2, 'relevance': 3, 'score': 2.25}\n",
      "[ragas.testset.evolutions.DEBUG] keyphrases in merged node: [\"John Wick's car\", \"Iosef's uncle\", \"Santino D'Antonio\", 'Marker', 'Deadly assassins']\n",
      "[ragas.testset.filters.DEBUG] filtered question: {'feedback': 'The question asks for distinguishing features of the fast-paced action in the first John Wick film compared to traditional action films. It is specific in its focus on the first John Wick film and the aspect of fast-paced action, and it clearly seeks a comparison with traditional action films. The intent is clear, and the question is self-contained, not relying on external references or prior knowledge beyond a general understanding of action films. Therefore, it meets the criteria for clarity and answerability.', 'verdict': 1}\n",
      "[ragas.testset.evolutions.DEBUG] [ReasoningEvolution] simple question generated: \"What distinguishes the fast paced action in the first John Wick film from traditional action films?\"\n",
      "[ragas.testset.evolutions.INFO] seed question generated: \"What role does the Marker play in John Wick's conflict with Santino D'Antonio?\"\n",
      "[ragas.testset.filters.DEBUG] filtered question: {'feedback': \"The question asks about the role of the Marker in the conflict between John Wick and Santino D'Antonio. It is specific, independent, and has a clear intent, making it understandable and answerable based on the details provided. The question does not rely on external references or prior knowledge not shared within the question itself, and it clearly seeks information about the significance of the Marker in the context of the conflict between the two characters.\", 'verdict': 1}\n",
      "[ragas.testset.evolutions.DEBUG] [MultiContextEvolution] simple question generated: \"What role does the Marker play in John Wick's conflict with Santino D'Antonio?\"\n",
      "[ragas.testset.filters.DEBUG] filtered question: {'feedback': 'The question asks about the unique elements and style that distinguish John Wick from typical action heroes. It is clear in its intent, seeking specific characteristics and stylistic features that make John Wick stand out. The question is self-contained and does not rely on external references or prior knowledge beyond a general understanding of action heroes and the John Wick character. Therefore, it meets the criteria for clarity and answerability.', 'verdict': 1}\n",
      "[ragas.testset.evolutions.DEBUG] [MultiContextEvolution] multicontext question generated: \"What significance does the Marker hold in John Wick's obligation to assist Santino D'Antonio, especially in light of the consequences that follow his refusal?\"\n",
      "[ragas.testset.evolutions.DEBUG] [ReasoningEvolution] question compressed: \"What unique elements and style set John Wick apart from typical action heroes?\"\n",
      "[ragas.testset.filters.DEBUG] evolution filter: {'reason': 'The first question focuses on the specific aspect of fast-paced action in the first John Wick film compared to traditional action films, while the second question is broader, asking about the overall differences of John Wick as a character from usual action heroes. They do not share the same depth and breadth of inquiry.', 'verdict': 0}\n",
      "[ragas.testset.filters.DEBUG] filtered question: {'feedback': \"The question is clear and specific, asking about the significance of the Marker in John Wick's obligation to assist Santino D'Antonio, particularly considering the consequences of his refusal. It does not rely on external references or unspecified contexts, making it understandable and answerable based on the details provided. The intent is clear, seeking an explanation of the Marker’s role and the implications of John Wick's actions.\", 'verdict': 1}\n",
      "[ragas.testset.evolutions.DEBUG] [MultiContextEvolution] multicontext question compressed: \"What’s the Marker’s role in Wick’s duty to Santino and the fallout of refusal?\"\n",
      "[ragas.testset.evolutions.DEBUG] answer generated: {'answer': 'John Wick is different from usual action heroes because he is not a muscle-bound hulk like Schwarzenegger or Stallone. The film also features super fast-paced action, a basic and straightforward plot, and introduces unique elements, making it stylish and cool.', 'verdict': 1}\n",
      "[ragas.testset.filters.DEBUG] evolution filter: {'reason': \"Both questions inquire about the role of the Marker in John Wick's relationship with Santino D'Antonio, including the consequences of refusal. They share the same constraints, requirements, and depth of inquiry.\", 'verdict': 1}\n",
      "[ragas.testset.evolutions.INFO] retrying evolution: 5 times\n",
      "[ragas.testset.filters.DEBUG] context scoring: {'clarity': 3, 'depth': 2, 'structure': 3, 'relevance': 3, 'score': 2.75}\n",
      "[ragas.testset.evolutions.DEBUG] keyphrases in merged node: ['Boredom', 'Mindless action', 'Repetitive fights', 'Zero plot', 'Young teen audience']\n",
      "[ragas.testset.evolutions.INFO] seed question generated: \"What aspects of the movie contributed to the reviewer's feelings of boredom?\"\n",
      "[ragas.testset.filters.DEBUG] filtered question: {'feedback': \"The question asks for specific aspects of a movie that contributed to a reviewer's feelings of boredom. It is clear in its intent, seeking to identify particular elements of the movie that led to this reaction. The question is independent and does not rely on external references or prior knowledge, making it understandable and answerable based on the details provided. However, it could be improved by specifying which movie or review is being referred to, if applicable, to provide more context for a precise answer.\", 'verdict': 1}\n",
      "[ragas.testset.evolutions.DEBUG] [MultiContextEvolution] simple question generated: \"What aspects of the movie contributed to the reviewer's feelings of boredom?\"\n",
      "[ragas.testset.evolutions.DEBUG] [MultiContextEvolution] multicontext question generated: \"What elements in the latest John Wick film led to the reviewer's perception of it as excessively tedious compared to the first installment?\"\n",
      "[ragas.testset.filters.DEBUG] filtered question: {'feedback': \"The question asks for specific elements in the latest John Wick film that led to a reviewer's perception of it as excessively tedious compared to the first installment. It is clear in its intent, specifying the film series (John Wick), the particular installment (latest), and the nature of the reviewer's perception (excessively tedious). The question is self-contained and does not rely on external references or prior knowledge beyond a general understanding of the John Wick film series. Therefore, it meets the criteria for clarity and answerability.\", 'verdict': 1}\n",
      "[ragas.testset.evolutions.DEBUG] [MultiContextEvolution] multicontext question compressed: \"What made the latest John Wick feel more tedious than the first?\"\n",
      "[ragas.testset.filters.DEBUG] evolution filter: {'reason': 'The first question asks about aspects of a movie that contributed to boredom in general, while the second question specifically compares the latest John Wick movie to the first, focusing on what made it feel more tedious. The second question has a narrower scope and a comparative element, leading to different depths of inquiry.', 'verdict': 0}\n",
      "[ragas.testset.evolutions.DEBUG] answer generated: {'answer': 'The latest John Wick felt more tedious than the first because it lacked a story, plot, and character development, which were present in the first movie. The repetitive action sequences, mindless violence, and over-the-top scenarios contributed to the feeling of tedium.', 'verdict': 1}\n"
     ]
    }
   ],
   "source": [
    "# testset = generator.generate_with_langchain_docs(documents, 20, distributions, with_debugging_logs=False)"
   ]
  },
  {
   "cell_type": "code",
   "execution_count": 22,
   "metadata": {},
   "outputs": [
    {
     "name": "stdout",
     "output_type": "stream",
     "text": [
      "Question: What role does the Russian mafia play in John Wick's story?\n",
      "Contexts: [\": 20\\nReview: After resolving his issues with the Russian mafia, John Wick (Keanu Reeves) returns home. But soon the mobster Santino D'Antonio (Riccardo Scamarcio) visits him to show Wick's marker and tells that he needs to help. John Wicks refuses since he is retired and Santino blows-up his house. John Wick meets the owner of the Continental hotel in New York City, Winston (Ian McShane), and he tells that Wick cannot violate the Mafia rules and shall honor the marker. Santino asks John Wick to kill his sister Gianna D'Antonio (Claudia Gerini) in Rome so that he can sit on the High Table of the criminal organizations. When John Wicks accomplishes his assignment, Santino puts a seven-million dollar contract on him attracting professional killers from everywhere. But Wick promises to kill Santino that is not protected by his marker anymore.\"]\n",
      "Ground Truth: The Russian mafia plays a significant role in John Wick's story as they are the reason for his return to violence after retirement. After resolving issues with them, John Wick is confronted by Santino D'Antonio, who uses a marker to compel Wick to assist him, leading to further conflict and ultimately a contract being placed on Wick's life.\n",
      "Evolution Type: simple\n",
      "Metadata: [{'source': 'john_wick_2.csv', 'row': 20, 'Review_Date': '28 May 2017', 'Review_Title': ' A New Franchise is Born\\n', 'Review_Url': '/review/rw3718180/?ref_=tt_urv', 'Author': 'claudio_carvalho', 'Rating': 8, 'Movie_Title': 'John Wick 2', 'last_accessed_at': datetime.datetime(2024, 9, 27, 13, 29, 40, 364491)}]\n",
      "\n",
      "\n",
      "Question: What is the nature of the review for John Wick: Chapter 2?\n",
      "Contexts: [': 7\\nReview: This review of John Wick: Chapter 2 is spoiler free']\n",
      "Ground Truth: The review of John Wick: Chapter 2 is spoiler free.\n",
      "Evolution Type: simple\n",
      "Metadata: [{'source': 'john_wick_2.csv', 'row': 7, 'Review_Date': '17 February 2017', 'Review_Title': \" He's Bloody Back\\n\", 'Review_Url': '/review/rw3641212/?ref_=tt_urv', 'Author': 'coreyjdenford', 'Rating': 8, 'Movie_Title': 'John Wick 2', 'last_accessed_at': datetime.datetime(2024, 9, 27, 13, 29, 40, 364479)}]\n",
      "\n",
      "\n",
      "Question: What is the role of The Marquis in the conflict involving John Wick?\n",
      "Contexts: [': 1\\nReview: The Table, the international crminal brotherhood which has condemned John Wick empowers The Marquis to deal with him (and the Manager of the New York Continentale Hotel). But maybe, just maybe, there is a way out.']\n",
      "Ground Truth: The Marquis is empowered by The Table to deal with John Wick and the Manager of the New York Continentale Hotel.\n",
      "Evolution Type: simple\n",
      "Metadata: [{'source': 'john_wick_4.csv', 'row': 1, 'Review_Date': '30 March 2023', 'Review_Title': ' There is such a thing as too much\\n', 'Review_Url': '/review/rw8960544/?ref_=tt_urv', 'Author': 'neil-476', 'Rating': 5, 'Movie_Title': 'John Wick 4', 'last_accessed_at': datetime.datetime(2024, 9, 29, 13, 29, 40, 365467)}]\n",
      "\n",
      "\n",
      "Question: What role does the pulsating score play in enhancing the entertainment value of John Wick: Chapter 3 - Parabellum?\n",
      "Contexts: [\": 13\\nReview: Following on from two deliriously entertaining, visually gorgeous and blissfully simplistic thrillers, John Wick: Chapter 3 - Parabellum keeps up the franchise's unique appeal in stunning fashion. Complete with electrifying action, beautiful cinematography, a pulsating score and a great sense of humour, the film is pretty much as purely joyful as action thrillers get, and proves two hours of brilliant entertainment.\"]\n",
      "Ground Truth: The answer to given question is not present in context\n",
      "Evolution Type: simple\n",
      "Metadata: [{'source': 'john_wick_3.csv', 'row': 13, 'Review_Date': '15 May 2019', 'Review_Title': ' Pure, delirious joy in the form of yet another exhilarating thriller\\n', 'Review_Url': '/review/rw4855261/?ref_=tt_urv', 'Author': 'themadmovieman', 'Rating': 8, 'Movie_Title': 'John Wick 3', 'last_accessed_at': datetime.datetime(2024, 9, 28, 13, 29, 40, 364916)}]\n",
      "\n",
      "\n",
      "Question: What distinguishes the fast paced action in the first John Wick film from traditional action films?\n",
      "Contexts: [': 5\\nReview: The first John Wick film was special because it broke a mold of sorts. It went against certain action film conventions - the hero was not a muscle bound hulk like a Schwarzenegger or Stallone, the action was super fast paced, the plot was basic and straighforward, but introduced some unique elements, and there was something a bit unique and stylish about the film. John Wick was cool.']\n",
      "Ground Truth: The fast paced action in the first John Wick film distinguishes itself from traditional action films by breaking certain conventions, featuring a hero who is not a typical muscle-bound character, and introducing unique and stylish elements, despite having a basic and straightforward plot.\n",
      "Evolution Type: simple\n",
      "Metadata: [{'source': 'john_wick_3.csv', 'row': 5, 'Review_Date': '17 July 2019', 'Review_Title': ' The magic is gone\\n', 'Review_Url': '/review/rw4999970/?ref_=tt_urv', 'Author': 'soundoflight', 'Rating': 5, 'Movie_Title': 'John Wick 3', 'last_accessed_at': datetime.datetime(2024, 9, 28, 13, 29, 40, 364909)}]\n",
      "\n",
      "\n",
      "Question: What are the characteristics that make 'John Wick' feel like a generic action thriller?\n",
      "Contexts: [': 19\\nReview: I really don\\'t understand the love that \"John Wick\" receives. It\\'s just kind of a generic action thriller to me. No different than a \"Bourne\" or \"Taken\" movie. It gets a slight bump for me in a rating of 6 instead of 5 because I did think that the cinematography was really good and also the fight choreography was top notch. I can definitely see the influence of martial arts films on this.']\n",
      "Ground Truth: The characteristics that make 'John Wick' feel like a generic action thriller include its similarity to other films in the genre, such as 'Bourne' or 'Taken', which suggests a lack of originality. The review describes it as just kind of a generic action thriller, indicating that it does not stand out significantly from other films of the same type.\n",
      "Evolution Type: simple\n",
      "Metadata: [{'source': 'john_wick_1.csv', 'row': 19, 'Review_Date': '14 April 2023', 'Review_Title': \" I Don't Get It\\n\", 'Review_Url': '/review/rw8991670/?ref_=tt_urv', 'Author': 'xiaoli7377', 'Rating': 6, 'Movie_Title': 'John Wick 1', 'last_accessed_at': datetime.datetime(2024, 9, 26, 13, 29, 40, 363969)}]\n",
      "\n",
      "\n",
      "Question: What is the criticism of computer-generated imagery in most American action films?\n",
      "Contexts: [\": 10\\nReview: Most American action flicks released these days have poor screenplays and overuse computer-generated imagery. The John Wick franchise is one of the few exceptions, along with Mission Impossible. These franchises keep getting better with every entry. Hollywood can make action masterpieces, but Marvel has greater demand, so that's what we get most of. It's a shame.\"]\n",
      "Ground Truth: The criticism of computer-generated imagery in most American action films is that it is overused and contributes to poor screenplays.\n",
      "Evolution Type: simple\n",
      "Metadata: [{'source': 'john_wick_4.csv', 'row': 10, 'Review_Date': '22 March 2023', 'Review_Title': ' How Can Anyone Choose to Watch Marvel Over This?\\n', 'Review_Url': '/review/rw8944843/?ref_=tt_urv', 'Author': 'lovemichaeljordan', 'Rating': 8, 'Movie_Title': 'John Wick 4', 'last_accessed_at': datetime.datetime(2024, 9, 29, 13, 29, 40, 365475)}]\n",
      "\n",
      "\n",
      "Question: What themes related to consequences are explored in John Wick: Chapter 3 - Parabellum?\n",
      "Contexts: [\": 24\\nReview: John Wick: Chapter 3 - Parabellum is quite literally about consequences, dealing with the fallout of John's actions at the end of the previous film and sending him on an even bigger odyssey of violence that continues to explore this world of assassination and deliver beautifully clean action sequences.\"]\n",
      "Ground Truth: The themes related to consequences explored in John Wick: Chapter 3 - Parabellum include the fallout of John's actions from the previous film, which sends him on a larger odyssey of violence, highlighting the repercussions of his choices in the world of assassination.\n",
      "Evolution Type: simple\n",
      "Metadata: [{'source': 'john_wick_3.csv', 'row': 24, 'Review_Date': '17 May 2019', 'Review_Title': ' Makes John Wick a superb trilogy\\n', 'Review_Url': '/review/rw4860603/?ref_=tt_urv', 'Author': 'masonsaul', 'Rating': 10, 'Movie_Title': 'John Wick 3', 'last_accessed_at': datetime.datetime(2024, 9, 28, 13, 29, 40, 364929)}]\n",
      "\n",
      "\n",
      "Question: What role do magical jackets play in the movie?\n",
      "Contexts: [\": 7\\nReview: In my opinion this is by far the worst movie of the franchise. It's just way too over the top. Everybody seems to have magical jackets now to stop the bullets.\"]\n",
      "Ground Truth: The answer to given question is not present in context\n",
      "Evolution Type: simple\n",
      "Metadata: [{'source': 'john_wick_4.csv', 'row': 7, 'Review_Date': '23 April 2023', 'Review_Title': \" I don't understand the great scores of this movie\\n\", 'Review_Url': '/review/rw9011753/?ref_=tt_urv', 'Author': 'antti-eskelinen-329-929792', 'Rating': 4, 'Movie_Title': 'John Wick 4', 'last_accessed_at': datetime.datetime(2024, 9, 29, 13, 29, 40, 365472)}]\n",
      "\n",
      "\n",
      "Question: What role do the action sequences play in making John Wick a remarkable film?\n",
      "Contexts: [\": 9\\nReview: At first glance, John Wick sounds like a terrible film on paper but with the slickness of Keanu Reeves' performance as the titular character and the sheer brilliance in its action sequences, this marks the best action film of the year and one of the absolute best in the past decade. Following a brutal home invasion that leaves his beloved dog murdered by thugs from his past, John Wick vows revenge on the ones who have taken what he loves most. Like I said, on paper, this seems like a direct-to-DVD slopfest starring John Cena but as a film with Keanu Reeves as the lead, it marks the very welcomed return for Reeves to the genre. John Wick is insanely fun, violently brutal and an overall romp especially for those disappointed by The Expendables 3. John Wick is propelled by Tarantino-esque dialog mixed with the swagger of action stars from the 70s. Reeves literally emulates cool in this film and does it with such confidence, that we don't even doubt the character...even when he kills countless bad guys with extreme force in some utterly ridiculous and implausible situations. We don't doubt it for a minute. This is EXACTLY what you want out of an action film. It is briskly paced, brilliantly shot and meticulously choreographed and keeps you wanting more and more. The supporting cast filled with the likes of John Legiuzamo, Ian McShane, and Willen Dafoe also keeps this film very interesting. These guys don't play good guys, hell, John Wick by traditional standards would be a bad guy in any other film. Every character is more ruthless than the next and pushes John Wick to be more ruthless than they are, creating a very cool dynamic between the character and the plot regarding the idea of how far is too far? However, don't expect some revelation from John Wick regarding the morality of bad and evil. This film wants you entertained and does so with brute force, it never lets up, not even for a second. One scene in particular that will have your blood pumping is a showdown between thugs and Wick in a nightclub. This action sequence remains the best in the film and will have you grasping your theater seat because of the sheer intensity of it. Overall, John Wick is slick, violent fun that turns into a remarkable, surprising film that will catch you off guard. It is THAT good. I highly recommend this film to action buffs especially but I'm sure those who just like a good movie will love it as well.\"]\n",
      "Ground Truth: The action sequences in John Wick are pivotal in making the film remarkable as they are brilliantly shot, meticulously choreographed, and keep the audience wanting more. They contribute to the film's brisk pacing and provide intense moments, such as the showdown in a nightclub, which is described as the best action sequence in the film and creates a gripping experience for viewers.\n",
      "Evolution Type: simple\n",
      "Metadata: [{'source': 'john_wick_1.csv', 'row': 9, 'Review_Date': '20 October 2014', 'Review_Title': \" The coolest action film you'll see all year\\n\", 'Review_Url': '/review/rw3107759/?ref_=tt_urv', 'Author': 'trublu215', 'Rating': 9, 'Movie_Title': 'John Wick 1', 'last_accessed_at': datetime.datetime(2024, 9, 26, 13, 29, 40, 363960)}]\n",
      "\n",
      "\n",
      "Question: What does Hollywood's use of clichés in original films say, like in a retired hit-man's revenge story?\n",
      "Contexts: [': 13\\nReview: ... slaughtering a line from the superior \"Princess Bride\". It\\'s a shame that Keanu Reeves is supposed to be one of the nicest guys to work\\nwith in Hollywood, because this film is a mess. We should stop asking Hollywood to come up with original ideas, because when they do, this is the result. 101 minutes of cliched action that checks all of the boxes - retired hit-man coming out of retirement, a boy and his dog, the perfect wife who is conveniently dead, stolen cars, Russian mobsters, a spoiled son who doesn\\'t have half the restraint and judgment of dad precisely because dad spoiled him, and lots of blood.', \": 10\\nReview: Wow what a great surprise this was. I was told by a friend this was good but it's been awhile since I liked a Keanu movie so I was hesitant to try it. Retired hit-man John Wick (Keanu Reeves) loses his wife to cancer. After her funeral he receives a puppy she left him. A few days later some thugs, led by the son of a Russian gangster John used to work for, break into John's house. They beat him up, take the keys to his beloved car, and kill the puppy. They did this not knowing who he was; they just wanted the car. Now John Wick is out for revenge and the Russian gangster is trying to save his son's life by sending killers after John.\"]\n",
      "Ground Truth: The answer to given question is not present in context\n",
      "Evolution Type: multi_context\n",
      "Metadata: [{'source': 'john_wick_1.csv', 'row': 13, 'Review_Date': '26 March 2023', 'Review_Title': ' Hello, my name is Inigo Montoya, you killed my dog, prepare to die...\\n', 'Review_Url': '/review/rw8951947/?ref_=tt_urv', 'Author': 'AlsExGal', 'Rating': 4, 'Movie_Title': 'John Wick 1', 'last_accessed_at': datetime.datetime(2024, 9, 26, 13, 29, 40, 363963)}, {'source': 'john_wick_1.csv', 'row': 10, 'Review_Date': '22 November 2014', 'Review_Title': ' Most Excellent\\n', 'Review_Url': '/review/rw3128980/?ref_=tt_urv', 'Author': 'utgard14', 'Rating': 7, 'Movie_Title': 'John Wick 1', 'last_accessed_at': datetime.datetime(2024, 9, 26, 13, 29, 40, 363961)}]\n",
      "\n",
      "\n",
      "Question: How does the reviewer rate the entertainment and themes of the first two John Wick films vs. the later ones?\n",
      "Contexts: [': 3\\nReview: These John Wick movies can be sort of fun in the sense that they are unintelligent violent nonsense pretending to be movies. There is something entertaining about dumb nonsense sometimes, and the first two of this franchise was decently okay in this regard. The last one and this one however not so much, only dumb.', ': 3\\nReview: Well, I committed to watching the first three \"John Wick\" movies consecutively, and in case I totally worship them - like apparently the rest of the world does - I would hurry myself to the theater and watch the fourth installment on the big screen. After the first one already, I knew this wasn\\'t going to be my thing. Not that \"John Wick\" is a bad film, it\\'s just a very monotonous \\'shoot-em-all-up\\' actioner that rapidly makes you go like \"yeah, whatever\".']\n",
      "Ground Truth: The reviewer finds the first two John Wick films to be decently okay and somewhat entertaining as unintelligent violent nonsense, while they rate the last two films as not so much fun and only dumb.\n",
      "Evolution Type: multi_context\n",
      "Metadata: [{'source': 'john_wick_4.csv', 'row': 3, 'Review_Date': '23 May 2023', 'Review_Title': ' I was rolling my eyes the whole time... all 3 hours...\\n', 'Review_Url': '/review/rw9072963/?ref_=tt_urv', 'Author': 'namob-43673', 'Rating': 3, 'Movie_Title': 'John Wick 4', 'last_accessed_at': datetime.datetime(2024, 9, 29, 13, 29, 40, 365469)}, {'source': 'john_wick_2.csv', 'row': 3, 'Review_Date': '5 May 2023', 'Review_Title': ' Stab, kick, shoot, repeat. Stab, kick, shoot, repeat. Stab, kick shoot, repeat.\\n', 'Review_Url': '/review/rw9034779/?ref_=tt_urv', 'Author': 'Coventry', 'Rating': 5, 'Movie_Title': 'John Wick 2', 'last_accessed_at': datetime.datetime(2024, 9, 27, 13, 29, 40, 364476)}]\n",
      "\n",
      "\n",
      "Question: How does the Table affect Wick's conflicts with Santino and the criminal world?\n",
      "Contexts: [': 1\\nReview: The Table, the international crminal brotherhood which has condemned John Wick empowers The Marquis to deal with him (and the Manager of the New York Continentale Hotel). But maybe, just maybe, there is a way out.', \": 20\\nReview: After resolving his issues with the Russian mafia, John Wick (Keanu Reeves) returns home. But soon the mobster Santino D'Antonio (Riccardo Scamarcio) visits him to show Wick's marker and tells that he needs to help. John Wicks refuses since he is retired and Santino blows-up his house. John Wick meets the owner of the Continental hotel in New York City, Winston (Ian McShane), and he tells that Wick cannot violate the Mafia rules and shall honor the marker. Santino asks John Wick to kill his sister Gianna D'Antonio (Claudia Gerini) in Rome so that he can sit on the High Table of the criminal organizations. When John Wicks accomplishes his assignment, Santino puts a seven-million dollar contract on him attracting professional killers from everywhere. But Wick promises to kill Santino that is not protected by his marker anymore.\"]\n",
      "Ground Truth: The Table empowers The Marquis to deal with John Wick, which indicates that they have a significant influence over Wick's conflicts with Santino and the broader criminal world. Additionally, the Table's rules compel Wick to honor the marker given to Santino, further complicating his situation.\n",
      "Evolution Type: multi_context\n",
      "Metadata: [{'source': 'john_wick_4.csv', 'row': 1, 'Review_Date': '30 March 2023', 'Review_Title': ' There is such a thing as too much\\n', 'Review_Url': '/review/rw8960544/?ref_=tt_urv', 'Author': 'neil-476', 'Rating': 5, 'Movie_Title': 'John Wick 4', 'last_accessed_at': datetime.datetime(2024, 9, 29, 13, 29, 40, 365467)}, {'source': 'john_wick_2.csv', 'row': 20, 'Review_Date': '28 May 2017', 'Review_Title': ' A New Franchise is Born\\n', 'Review_Url': '/review/rw3718180/?ref_=tt_urv', 'Author': 'claudio_carvalho', 'Rating': 8, 'Movie_Title': 'John Wick 2', 'last_accessed_at': datetime.datetime(2024, 9, 27, 13, 29, 40, 364491)}]\n",
      "\n",
      "\n",
      "Question: What are common themes in a retired assassin's Hollywood journey, especially regarding loss and revenge?\n",
      "Contexts: [': 13\\nReview: ... slaughtering a line from the superior \"Princess Bride\". It\\'s a shame that Keanu Reeves is supposed to be one of the nicest guys to work\\nwith in Hollywood, because this film is a mess. We should stop asking Hollywood to come up with original ideas, because when they do, this is the result. 101 minutes of cliched action that checks all of the boxes - retired hit-man coming out of retirement, a boy and his dog, the perfect wife who is conveniently dead, stolen cars, Russian mobsters, a spoiled son who doesn\\'t have half the restraint and judgment of dad precisely because dad spoiled him, and lots of blood.', \": 10\\nReview: Wow what a great surprise this was. I was told by a friend this was good but it's been awhile since I liked a Keanu movie so I was hesitant to try it. Retired hit-man John Wick (Keanu Reeves) loses his wife to cancer. After her funeral he receives a puppy she left him. A few days later some thugs, led by the son of a Russian gangster John used to work for, break into John's house. They beat him up, take the keys to his beloved car, and kill the puppy. They did this not knowing who he was; they just wanted the car. Now John Wick is out for revenge and the Russian gangster is trying to save his son's life by sending killers after John.\"]\n",
      "Ground Truth: Common themes in a retired assassin's Hollywood journey, especially regarding loss and revenge, include the death of a loved one, as seen with John Wick losing his wife to cancer, and the subsequent quest for vengeance against those who wronged him, which is a central plot point in the narrative.\n",
      "Evolution Type: multi_context\n",
      "Metadata: [{'source': 'john_wick_1.csv', 'row': 13, 'Review_Date': '26 March 2023', 'Review_Title': ' Hello, my name is Inigo Montoya, you killed my dog, prepare to die...\\n', 'Review_Url': '/review/rw8951947/?ref_=tt_urv', 'Author': 'AlsExGal', 'Rating': 4, 'Movie_Title': 'John Wick 1', 'last_accessed_at': datetime.datetime(2024, 9, 26, 13, 29, 40, 363963)}, {'source': 'john_wick_1.csv', 'row': 10, 'Review_Date': '22 November 2014', 'Review_Title': ' Most Excellent\\n', 'Review_Url': '/review/rw3128980/?ref_=tt_urv', 'Author': 'utgard14', 'Rating': 7, 'Movie_Title': 'John Wick 1', 'last_accessed_at': datetime.datetime(2024, 9, 26, 13, 29, 40, 363961)}]\n",
      "\n",
      "\n",
      "Question: What benchmarks in action filmmaking did John Wick set for choreography and innovation?\n",
      "Contexts: [\": 17\\nReview: Stuntman turned writer/director Chad Stahelski struck gold with his 2014 surprise hit John Wick. It was somewhat of a comeback for the legendary Keanu Reeves and reinvigorated the action genre. Since then it's become THE action juggernaut franchise. Now we are on number 4 and while usually things get redone with that amount of sequels, this film innovates and thrills to new heights in an absolute epic.\", \": 18\\nReview: Ever since the original John Wick, the franchise has set a standard of what action in Hollywood should be. Thanks to Chad Stahelski and Keanu Reeve's knowledge of the technical aspects of shooting action, they've been able to deliver expertly choreographed, shot, and edited action films that are now the go to as examples of great action filmmaking. And so, the expectations for the fourth film were fairly high, especially as it became more apparent this was not only the culmination of everything before it, but a whopping 169 minutes long. Rest assured, however, that it delivers in spades. Everything we have come to know and love is here, but with an infusion of creativity like we haven't seen from the franchise yet.\"]\n",
      "Ground Truth: The John Wick franchise has set a standard for action in Hollywood through expertly choreographed, shot, and edited action films, showcasing a high level of technical knowledge in shooting action. The fourth film continues this trend with an infusion of creativity not seen before in the franchise.\n",
      "Evolution Type: multi_context\n",
      "Metadata: [{'source': 'john_wick_4.csv', 'row': 17, 'Review_Date': '16 March 2023', 'Review_Title': ' While the Wick franchise has already solidified itself one of the best in the action genre, this massive film is the most spectacular entry of the genre in 30 years.\\n', 'Review_Url': '/review/rw8932278/?ref_=tt_urv', 'Author': 'tresm87', 'Rating': 9, 'Movie_Title': 'John Wick 4', 'last_accessed_at': datetime.datetime(2024, 9, 29, 13, 29, 40, 365481)}, {'source': 'john_wick_4.csv', 'row': 18, 'Review_Date': '17 March 2023', 'Review_Title': ' Not Just The Best John Wick, But Possibly One Of The Best Action Movies Ever\\n', 'Review_Url': '/review/rw8935367/?ref_=tt_urv', 'Author': 'cadillac20', 'Rating': 10, 'Movie_Title': 'John Wick 4', 'last_accessed_at': datetime.datetime(2024, 9, 29, 13, 29, 40, 365482)}]\n",
      "\n",
      "\n",
      "Question: What made the latest John Wick feel more tedious than the first?\n",
      "Contexts: [\": 18\\nReview: And all of this equals boredom. 2 hours of the same thing over and over. A movie for young teens who judge movies as they do video games; the more kills, the better. After the 30th guy got his head blown off, it became totally boring to me. John Wick gets hit by a car 6 times, gets thrown down a flight of stairs 10 times, gets punched and kicked 500 times...and yet he keeps fighting. He fights 30 guys at the same time, with a gun or without, and he always wins. There is zero plot, zero character development, zero drama...it's all mindless action. And repetitive. Fistfights, guns, and cars. Nothing else. Nothing creative. Well they tried to be creative a couple times...like wasting 15 minutes with a woman doing an elaborate yet gross suicide...and for no reason other than to slap something 'original' up on the screen. It was completely pointless. How this movie is rated highly is beyond me. Like I say, it must be young teens who judge movies on number of kills. PS - I'm not exaggerating. The main bad guy simply puts a message into his phone, and within 3 minutes, literally the entire city is out to kill John Wick. So he has to fight 30 guys at a time, killing 500 guys within 20 minutes or so. Mind-numbingly stupid and boring.\", \": 18\\nReview: The first John Wick movie had a story. It had a plot and some character development. This movie has no such thing.\\nI like an action movie as much as the next guy, but this was way over the top. If you like gun play, endless, goofy, martial arts crap, and broken glass, this movie is for you!\\nThe last fight sequence was downright boring. I found myself wishing that the movie would just end; I didn't care who killed who. In fact, I was kind of hoping it would be Wick so that the movie would end and I could go home. The movie is about 30 minutes too long.\\nHere's hoping that this is the end of the JW franchise, but I'm sure it won't be. I can guarantee i will not be fooled into purchasing a ticket to JW 4!\"]\n",
      "Ground Truth: The latest John Wick felt more tedious than the first because it lacked a story, plot, and character development, which were present in the first movie. The repetitive action sequences, mindless violence, and over-the-top scenarios contributed to the feeling of tedium.\n",
      "Evolution Type: multi_context\n",
      "Metadata: [{'source': 'john_wick_2.csv', 'row': 18, 'Review_Date': '28 February 2017', 'Review_Title': ' Mindless repetitive action...no story, no drama, he can kill 100 guys at the same time...\\n', 'Review_Url': '/review/rw3650338/?ref_=tt_urv', 'Author': 'jmichael3387', 'Rating': 2, 'Movie_Title': 'John Wick 2', 'last_accessed_at': datetime.datetime(2024, 9, 27, 13, 29, 40, 364490)}, {'source': 'john_wick_3.csv', 'row': 18, 'Review_Date': '19 May 2019', 'Review_Title': ' Silly\\n', 'Review_Url': '/review/rw4863706/?ref_=tt_urv', 'Author': 'jhr2012', 'Rating': 1, 'Movie_Title': 'John Wick 3', 'last_accessed_at': datetime.datetime(2024, 9, 28, 13, 29, 40, 364921)}]\n",
      "\n",
      "\n",
      "Question: What role does Wick's car play in his revenge on the mobster's son?\n",
      "Contexts: [\": 18\\nReview: When the story begins, John (Keanu Reeves) has just lost his wife. After her death, he's a bit lost but tries to rebuild his life. One day, he's getting gas and a young Russian-American punk notices Wick's classic car...and tries to buy it off him. But Wick isn't interested and declines. Soon, the punk arrives at Wick's home with some goons where they surprise him--beating him senseless, destroying his stuff, killing his dog and stealing his car! This is when you then learn that Wick is a super-assassin....and the punk chose the wrong guy to attack. The jerk's father is a big-time Russian mobster....and it's a contest to see who will win...the mobster and his gang or Wick on his own. Considering there are (so far) two MORE John Wick films, it pretty much seems certain who will win this battle.\", \": 10\\nReview: Wow what a great surprise this was. I was told by a friend this was good but it's been awhile since I liked a Keanu movie so I was hesitant to try it. Retired hit-man John Wick (Keanu Reeves) loses his wife to cancer. After her funeral he receives a puppy she left him. A few days later some thugs, led by the son of a Russian gangster John used to work for, break into John's house. They beat him up, take the keys to his beloved car, and kill the puppy. They did this not knowing who he was; they just wanted the car. Now John Wick is out for revenge and the Russian gangster is trying to save his son's life by sending killers after John.\"]\n",
      "Ground Truth: Wick's car is significant in his revenge on the mobster's son because it is stolen by the thugs who break into his house, which triggers Wick's quest for vengeance. The thugs, led by the son of a Russian gangster, do not realize who Wick is when they attack him and take his car, which ultimately leads to Wick seeking revenge against them.\n",
      "Evolution Type: multi_context\n",
      "Metadata: [{'source': 'john_wick_1.csv', 'row': 18, 'Review_Date': '10 September 2019', 'Review_Title': ' Probably NOT a film to watch with your kids or mother.\\n', 'Review_Url': '/review/rw5112990/?ref_=tt_urv', 'Author': 'planktonrules', 'Rating': 7, 'Movie_Title': 'John Wick 1', 'last_accessed_at': datetime.datetime(2024, 9, 26, 13, 29, 40, 363968)}, {'source': 'john_wick_1.csv', 'row': 10, 'Review_Date': '22 November 2014', 'Review_Title': ' Most Excellent\\n', 'Review_Url': '/review/rw3128980/?ref_=tt_urv', 'Author': 'utgard14', 'Rating': 7, 'Movie_Title': 'John Wick 1', 'last_accessed_at': datetime.datetime(2024, 9, 26, 13, 29, 40, 363961)}]\n",
      "\n",
      "\n",
      "Question: What role does Santino D'Antonio play in John Wick's return and the bounty on him?\n",
      "Contexts: [\": 5\\nReview: Iosef's uncle still has John Wick's car. Wick comes after it and the uncle accepts his offer of peace. He hopes to return to his peaceful retirement but crime lord Santino D'Antonio calls in his Marker. He faces deadly assassins, numerous killers, and countless thugs as Santino uses him to gain power even offering a $7 million contract.\", \": 20\\nReview: After resolving his issues with the Russian mafia, John Wick (Keanu Reeves) returns home. But soon the mobster Santino D'Antonio (Riccardo Scamarcio) visits him to show Wick's marker and tells that he needs to help. John Wicks refuses since he is retired and Santino blows-up his house. John Wick meets the owner of the Continental hotel in New York City, Winston (Ian McShane), and he tells that Wick cannot violate the Mafia rules and shall honor the marker. Santino asks John Wick to kill his sister Gianna D'Antonio (Claudia Gerini) in Rome so that he can sit on the High Table of the criminal organizations. When John Wicks accomplishes his assignment, Santino puts a seven-million dollar contract on him attracting professional killers from everywhere. But Wick promises to kill Santino that is not protected by his marker anymore.\"]\n",
      "Ground Truth: Santino D'Antonio plays the role of a crime lord who calls in John Wick's Marker, forcing Wick to help him despite his retirement. After Wick refuses to assist him, Santino retaliates by blowing up Wick's house. He then asks Wick to kill his sister, Gianna D'Antonio, to gain power within the criminal organizations. Once Wick completes this assignment, Santino places a seven-million dollar contract on Wick, attracting numerous professional killers.\n",
      "Evolution Type: multi_context\n",
      "Metadata: [{'source': 'john_wick_2.csv', 'row': 5, 'Review_Date': '7 October 2017', 'Review_Title': ' more Gun Fu\\n', 'Review_Url': '/review/rw3825224/?ref_=tt_urv', 'Author': 'SnoopyStyle', 'Rating': 6, 'Movie_Title': 'John Wick 2', 'last_accessed_at': datetime.datetime(2024, 9, 27, 13, 29, 40, 364478)}, {'source': 'john_wick_2.csv', 'row': 20, 'Review_Date': '28 May 2017', 'Review_Title': ' A New Franchise is Born\\n', 'Review_Url': '/review/rw3718180/?ref_=tt_urv', 'Author': 'claudio_carvalho', 'Rating': 8, 'Movie_Title': 'John Wick 2', 'last_accessed_at': datetime.datetime(2024, 9, 27, 13, 29, 40, 364491)}]\n",
      "\n",
      "\n",
      "Question: What makes the action and choreography in JOHN WICK appealing?\n",
      "Contexts: [': 19\\nReview: The inevitable third chapter of the JOHN WICK franchise continues on a high with the same quality as the last. In fact, this may just pip that one to the post to be the best JOHN WICK yet. The pacing is spot on and the plotting is measured by a huge amount of action sequences, all of which fizz and crackle with skill and energy. The movie hits the ground running as Keanu faces off with a hulking character in a library and then Triads in a weapon shop, but what really amazes here is the sheer inventiveness of the non-repetitive action. There are horse and motorbike chases, a Moroccan brawl with fighting dogs, alongside the massive action of the climax. There also seems to be a greater emphasis on hand-to-hand combat, featuring the likes of RAID actors and old-timer Mark Dacascos, which is a real pleasure as the choreography is top-notch. In terms of sheer enjoyment, this is a film hard to beat, and to criticise it at all is unnecessary. Bring on the fourth!']\n",
      "Ground Truth: The action and choreography in JOHN WICK are appealing due to the sheer inventiveness of the non-repetitive action sequences, which include horse and motorbike chases, a Moroccan brawl with fighting dogs, and a greater emphasis on hand-to-hand combat. The choreography is described as top-notch, featuring skilled actors and a high level of energy and skill in the action scenes.\n",
      "Evolution Type: reasoning\n",
      "Metadata: [{'source': 'john_wick_3.csv', 'row': 19, 'Review_Date': '22 September 2019', 'Review_Title': ' Sheer enjoyment\\n', 'Review_Url': '/review/rw5135863/?ref_=tt_urv', 'Author': 'Leofwine_draca', 'Rating': 9, 'Movie_Title': 'John Wick 3', 'last_accessed_at': datetime.datetime(2024, 9, 28, 13, 29, 40, 364925)}]\n",
      "\n",
      "\n",
      "Question: What makes John Wick different from usual action heroes?\n",
      "Contexts: [': 5\\nReview: The first John Wick film was special because it broke a mold of sorts. It went against certain action film conventions - the hero was not a muscle bound hulk like a Schwarzenegger or Stallone, the action was super fast paced, the plot was basic and straighforward, but introduced some unique elements, and there was something a bit unique and stylish about the film. John Wick was cool.']\n",
      "Ground Truth: John Wick is different from usual action heroes because he is not a muscle-bound hulk like Schwarzenegger or Stallone. The film also features super fast-paced action, a basic and straightforward plot, and introduces unique elements, making it stylish and cool.\n",
      "Evolution Type: reasoning\n",
      "Metadata: [{'source': 'john_wick_3.csv', 'row': 5, 'Review_Date': '17 July 2019', 'Review_Title': ' The magic is gone\\n', 'Review_Url': '/review/rw4999970/?ref_=tt_urv', 'Author': 'soundoflight', 'Rating': 5, 'Movie_Title': 'John Wick 3', 'last_accessed_at': datetime.datetime(2024, 9, 28, 13, 29, 40, 364909)}]\n",
      "\n",
      "\n"
     ]
    }
   ],
   "source": [
    "for data_row in testset.test_data:\n",
    "    question = data_row.question\n",
    "    contexts = data_row.contexts\n",
    "    ground_truth = data_row.ground_truth\n",
    "    evolution_type = data_row.evolution_type\n",
    "    metadata = data_row.metadata\n",
    "    \n",
    "    # Process each element as needed\n",
    "    print(f\"Question: {question}\")\n",
    "    print(f\"Contexts: {contexts}\")\n",
    "    print(f\"Ground Truth: {ground_truth}\")\n",
    "    print(f\"Evolution Type: {evolution_type}\")\n",
    "    print(f\"Metadata: {metadata}\")\n",
    "    print(\"\\n\")  # For better readability"
   ]
  },
  {
   "cell_type": "code",
   "execution_count": 23,
   "metadata": {},
   "outputs": [
    {
     "data": {
      "text/html": [
       "<div>\n",
       "<style scoped>\n",
       "    .dataframe tbody tr th:only-of-type {\n",
       "        vertical-align: middle;\n",
       "    }\n",
       "\n",
       "    .dataframe tbody tr th {\n",
       "        vertical-align: top;\n",
       "    }\n",
       "\n",
       "    .dataframe thead th {\n",
       "        text-align: right;\n",
       "    }\n",
       "</style>\n",
       "<table border=\"1\" class=\"dataframe\">\n",
       "  <thead>\n",
       "    <tr style=\"text-align: right;\">\n",
       "      <th></th>\n",
       "      <th>question</th>\n",
       "      <th>contexts</th>\n",
       "      <th>ground_truth</th>\n",
       "      <th>evolution_type</th>\n",
       "      <th>metadata</th>\n",
       "      <th>episode_done</th>\n",
       "    </tr>\n",
       "  </thead>\n",
       "  <tbody>\n",
       "    <tr>\n",
       "      <th>0</th>\n",
       "      <td>What role does the Russian mafia play in John ...</td>\n",
       "      <td>[: 20\\nReview: After resolving his issues with...</td>\n",
       "      <td>The Russian mafia plays a significant role in ...</td>\n",
       "      <td>simple</td>\n",
       "      <td>[{'source': 'john_wick_2.csv', 'row': 20, 'Rev...</td>\n",
       "      <td>True</td>\n",
       "    </tr>\n",
       "    <tr>\n",
       "      <th>1</th>\n",
       "      <td>What is the nature of the review for John Wick...</td>\n",
       "      <td>[: 7\\nReview: This review of John Wick: Chapte...</td>\n",
       "      <td>The review of John Wick: Chapter 2 is spoiler ...</td>\n",
       "      <td>simple</td>\n",
       "      <td>[{'source': 'john_wick_2.csv', 'row': 7, 'Revi...</td>\n",
       "      <td>True</td>\n",
       "    </tr>\n",
       "    <tr>\n",
       "      <th>2</th>\n",
       "      <td>What is the role of The Marquis in the conflic...</td>\n",
       "      <td>[: 1\\nReview: The Table, the international crm...</td>\n",
       "      <td>The Marquis is empowered by The Table to deal ...</td>\n",
       "      <td>simple</td>\n",
       "      <td>[{'source': 'john_wick_4.csv', 'row': 1, 'Revi...</td>\n",
       "      <td>True</td>\n",
       "    </tr>\n",
       "    <tr>\n",
       "      <th>3</th>\n",
       "      <td>What role does the pulsating score play in enh...</td>\n",
       "      <td>[: 13\\nReview: Following on from two delirious...</td>\n",
       "      <td>The answer to given question is not present in...</td>\n",
       "      <td>simple</td>\n",
       "      <td>[{'source': 'john_wick_3.csv', 'row': 13, 'Rev...</td>\n",
       "      <td>True</td>\n",
       "    </tr>\n",
       "    <tr>\n",
       "      <th>4</th>\n",
       "      <td>What distinguishes the fast paced action in th...</td>\n",
       "      <td>[: 5\\nReview: The first John Wick film was spe...</td>\n",
       "      <td>The fast paced action in the first John Wick f...</td>\n",
       "      <td>simple</td>\n",
       "      <td>[{'source': 'john_wick_3.csv', 'row': 5, 'Revi...</td>\n",
       "      <td>True</td>\n",
       "    </tr>\n",
       "    <tr>\n",
       "      <th>5</th>\n",
       "      <td>What are the characteristics that make 'John W...</td>\n",
       "      <td>[: 19\\nReview: I really don't understand the l...</td>\n",
       "      <td>The characteristics that make 'John Wick' feel...</td>\n",
       "      <td>simple</td>\n",
       "      <td>[{'source': 'john_wick_1.csv', 'row': 19, 'Rev...</td>\n",
       "      <td>True</td>\n",
       "    </tr>\n",
       "    <tr>\n",
       "      <th>6</th>\n",
       "      <td>What is the criticism of computer-generated im...</td>\n",
       "      <td>[: 10\\nReview: Most American action flicks rel...</td>\n",
       "      <td>The criticism of computer-generated imagery in...</td>\n",
       "      <td>simple</td>\n",
       "      <td>[{'source': 'john_wick_4.csv', 'row': 10, 'Rev...</td>\n",
       "      <td>True</td>\n",
       "    </tr>\n",
       "    <tr>\n",
       "      <th>7</th>\n",
       "      <td>What themes related to consequences are explor...</td>\n",
       "      <td>[: 24\\nReview: John Wick: Chapter 3 - Parabell...</td>\n",
       "      <td>The themes related to consequences explored in...</td>\n",
       "      <td>simple</td>\n",
       "      <td>[{'source': 'john_wick_3.csv', 'row': 24, 'Rev...</td>\n",
       "      <td>True</td>\n",
       "    </tr>\n",
       "    <tr>\n",
       "      <th>8</th>\n",
       "      <td>What role do magical jackets play in the movie?</td>\n",
       "      <td>[: 7\\nReview: In my opinion this is by far the...</td>\n",
       "      <td>The answer to given question is not present in...</td>\n",
       "      <td>simple</td>\n",
       "      <td>[{'source': 'john_wick_4.csv', 'row': 7, 'Revi...</td>\n",
       "      <td>True</td>\n",
       "    </tr>\n",
       "    <tr>\n",
       "      <th>9</th>\n",
       "      <td>What role do the action sequences play in maki...</td>\n",
       "      <td>[: 9\\nReview: At first glance, John Wick sound...</td>\n",
       "      <td>The action sequences in John Wick are pivotal ...</td>\n",
       "      <td>simple</td>\n",
       "      <td>[{'source': 'john_wick_1.csv', 'row': 9, 'Revi...</td>\n",
       "      <td>True</td>\n",
       "    </tr>\n",
       "    <tr>\n",
       "      <th>10</th>\n",
       "      <td>What does Hollywood's use of clichés in origin...</td>\n",
       "      <td>[: 13\\nReview: ... slaughtering a line from th...</td>\n",
       "      <td>The answer to given question is not present in...</td>\n",
       "      <td>multi_context</td>\n",
       "      <td>[{'source': 'john_wick_1.csv', 'row': 13, 'Rev...</td>\n",
       "      <td>True</td>\n",
       "    </tr>\n",
       "    <tr>\n",
       "      <th>11</th>\n",
       "      <td>How does the reviewer rate the entertainment a...</td>\n",
       "      <td>[: 3\\nReview: These John Wick movies can be so...</td>\n",
       "      <td>The reviewer finds the first two John Wick fil...</td>\n",
       "      <td>multi_context</td>\n",
       "      <td>[{'source': 'john_wick_4.csv', 'row': 3, 'Revi...</td>\n",
       "      <td>True</td>\n",
       "    </tr>\n",
       "    <tr>\n",
       "      <th>12</th>\n",
       "      <td>How does the Table affect Wick's conflicts wit...</td>\n",
       "      <td>[: 1\\nReview: The Table, the international crm...</td>\n",
       "      <td>The Table empowers The Marquis to deal with Jo...</td>\n",
       "      <td>multi_context</td>\n",
       "      <td>[{'source': 'john_wick_4.csv', 'row': 1, 'Revi...</td>\n",
       "      <td>True</td>\n",
       "    </tr>\n",
       "    <tr>\n",
       "      <th>13</th>\n",
       "      <td>What are common themes in a retired assassin's...</td>\n",
       "      <td>[: 13\\nReview: ... slaughtering a line from th...</td>\n",
       "      <td>Common themes in a retired assassin's Hollywoo...</td>\n",
       "      <td>multi_context</td>\n",
       "      <td>[{'source': 'john_wick_1.csv', 'row': 13, 'Rev...</td>\n",
       "      <td>True</td>\n",
       "    </tr>\n",
       "    <tr>\n",
       "      <th>14</th>\n",
       "      <td>What benchmarks in action filmmaking did John ...</td>\n",
       "      <td>[: 17\\nReview: Stuntman turned writer/director...</td>\n",
       "      <td>The John Wick franchise has set a standard for...</td>\n",
       "      <td>multi_context</td>\n",
       "      <td>[{'source': 'john_wick_4.csv', 'row': 17, 'Rev...</td>\n",
       "      <td>True</td>\n",
       "    </tr>\n",
       "    <tr>\n",
       "      <th>15</th>\n",
       "      <td>What made the latest John Wick feel more tedio...</td>\n",
       "      <td>[: 18\\nReview: And all of this equals boredom....</td>\n",
       "      <td>The latest John Wick felt more tedious than th...</td>\n",
       "      <td>multi_context</td>\n",
       "      <td>[{'source': 'john_wick_2.csv', 'row': 18, 'Rev...</td>\n",
       "      <td>True</td>\n",
       "    </tr>\n",
       "    <tr>\n",
       "      <th>16</th>\n",
       "      <td>What role does Wick's car play in his revenge ...</td>\n",
       "      <td>[: 18\\nReview: When the story begins, John (Ke...</td>\n",
       "      <td>Wick's car is significant in his revenge on th...</td>\n",
       "      <td>multi_context</td>\n",
       "      <td>[{'source': 'john_wick_1.csv', 'row': 18, 'Rev...</td>\n",
       "      <td>True</td>\n",
       "    </tr>\n",
       "    <tr>\n",
       "      <th>17</th>\n",
       "      <td>What role does Santino D'Antonio play in John ...</td>\n",
       "      <td>[: 5\\nReview: Iosef's uncle still has John Wic...</td>\n",
       "      <td>Santino D'Antonio plays the role of a crime lo...</td>\n",
       "      <td>multi_context</td>\n",
       "      <td>[{'source': 'john_wick_2.csv', 'row': 5, 'Revi...</td>\n",
       "      <td>True</td>\n",
       "    </tr>\n",
       "    <tr>\n",
       "      <th>18</th>\n",
       "      <td>What makes the action and choreography in JOHN...</td>\n",
       "      <td>[: 19\\nReview: The inevitable third chapter of...</td>\n",
       "      <td>The action and choreography in JOHN WICK are a...</td>\n",
       "      <td>reasoning</td>\n",
       "      <td>[{'source': 'john_wick_3.csv', 'row': 19, 'Rev...</td>\n",
       "      <td>True</td>\n",
       "    </tr>\n",
       "    <tr>\n",
       "      <th>19</th>\n",
       "      <td>What makes John Wick different from usual acti...</td>\n",
       "      <td>[: 5\\nReview: The first John Wick film was spe...</td>\n",
       "      <td>John Wick is different from usual action heroe...</td>\n",
       "      <td>reasoning</td>\n",
       "      <td>[{'source': 'john_wick_3.csv', 'row': 5, 'Revi...</td>\n",
       "      <td>True</td>\n",
       "    </tr>\n",
       "  </tbody>\n",
       "</table>\n",
       "</div>"
      ],
      "text/plain": [
       "                                             question  \\\n",
       "0   What role does the Russian mafia play in John ...   \n",
       "1   What is the nature of the review for John Wick...   \n",
       "2   What is the role of The Marquis in the conflic...   \n",
       "3   What role does the pulsating score play in enh...   \n",
       "4   What distinguishes the fast paced action in th...   \n",
       "5   What are the characteristics that make 'John W...   \n",
       "6   What is the criticism of computer-generated im...   \n",
       "7   What themes related to consequences are explor...   \n",
       "8     What role do magical jackets play in the movie?   \n",
       "9   What role do the action sequences play in maki...   \n",
       "10  What does Hollywood's use of clichés in origin...   \n",
       "11  How does the reviewer rate the entertainment a...   \n",
       "12  How does the Table affect Wick's conflicts wit...   \n",
       "13  What are common themes in a retired assassin's...   \n",
       "14  What benchmarks in action filmmaking did John ...   \n",
       "15  What made the latest John Wick feel more tedio...   \n",
       "16  What role does Wick's car play in his revenge ...   \n",
       "17  What role does Santino D'Antonio play in John ...   \n",
       "18  What makes the action and choreography in JOHN...   \n",
       "19  What makes John Wick different from usual acti...   \n",
       "\n",
       "                                             contexts  \\\n",
       "0   [: 20\\nReview: After resolving his issues with...   \n",
       "1   [: 7\\nReview: This review of John Wick: Chapte...   \n",
       "2   [: 1\\nReview: The Table, the international crm...   \n",
       "3   [: 13\\nReview: Following on from two delirious...   \n",
       "4   [: 5\\nReview: The first John Wick film was spe...   \n",
       "5   [: 19\\nReview: I really don't understand the l...   \n",
       "6   [: 10\\nReview: Most American action flicks rel...   \n",
       "7   [: 24\\nReview: John Wick: Chapter 3 - Parabell...   \n",
       "8   [: 7\\nReview: In my opinion this is by far the...   \n",
       "9   [: 9\\nReview: At first glance, John Wick sound...   \n",
       "10  [: 13\\nReview: ... slaughtering a line from th...   \n",
       "11  [: 3\\nReview: These John Wick movies can be so...   \n",
       "12  [: 1\\nReview: The Table, the international crm...   \n",
       "13  [: 13\\nReview: ... slaughtering a line from th...   \n",
       "14  [: 17\\nReview: Stuntman turned writer/director...   \n",
       "15  [: 18\\nReview: And all of this equals boredom....   \n",
       "16  [: 18\\nReview: When the story begins, John (Ke...   \n",
       "17  [: 5\\nReview: Iosef's uncle still has John Wic...   \n",
       "18  [: 19\\nReview: The inevitable third chapter of...   \n",
       "19  [: 5\\nReview: The first John Wick film was spe...   \n",
       "\n",
       "                                         ground_truth evolution_type  \\\n",
       "0   The Russian mafia plays a significant role in ...         simple   \n",
       "1   The review of John Wick: Chapter 2 is spoiler ...         simple   \n",
       "2   The Marquis is empowered by The Table to deal ...         simple   \n",
       "3   The answer to given question is not present in...         simple   \n",
       "4   The fast paced action in the first John Wick f...         simple   \n",
       "5   The characteristics that make 'John Wick' feel...         simple   \n",
       "6   The criticism of computer-generated imagery in...         simple   \n",
       "7   The themes related to consequences explored in...         simple   \n",
       "8   The answer to given question is not present in...         simple   \n",
       "9   The action sequences in John Wick are pivotal ...         simple   \n",
       "10  The answer to given question is not present in...  multi_context   \n",
       "11  The reviewer finds the first two John Wick fil...  multi_context   \n",
       "12  The Table empowers The Marquis to deal with Jo...  multi_context   \n",
       "13  Common themes in a retired assassin's Hollywoo...  multi_context   \n",
       "14  The John Wick franchise has set a standard for...  multi_context   \n",
       "15  The latest John Wick felt more tedious than th...  multi_context   \n",
       "16  Wick's car is significant in his revenge on th...  multi_context   \n",
       "17  Santino D'Antonio plays the role of a crime lo...  multi_context   \n",
       "18  The action and choreography in JOHN WICK are a...      reasoning   \n",
       "19  John Wick is different from usual action heroe...      reasoning   \n",
       "\n",
       "                                             metadata  episode_done  \n",
       "0   [{'source': 'john_wick_2.csv', 'row': 20, 'Rev...          True  \n",
       "1   [{'source': 'john_wick_2.csv', 'row': 7, 'Revi...          True  \n",
       "2   [{'source': 'john_wick_4.csv', 'row': 1, 'Revi...          True  \n",
       "3   [{'source': 'john_wick_3.csv', 'row': 13, 'Rev...          True  \n",
       "4   [{'source': 'john_wick_3.csv', 'row': 5, 'Revi...          True  \n",
       "5   [{'source': 'john_wick_1.csv', 'row': 19, 'Rev...          True  \n",
       "6   [{'source': 'john_wick_4.csv', 'row': 10, 'Rev...          True  \n",
       "7   [{'source': 'john_wick_3.csv', 'row': 24, 'Rev...          True  \n",
       "8   [{'source': 'john_wick_4.csv', 'row': 7, 'Revi...          True  \n",
       "9   [{'source': 'john_wick_1.csv', 'row': 9, 'Revi...          True  \n",
       "10  [{'source': 'john_wick_1.csv', 'row': 13, 'Rev...          True  \n",
       "11  [{'source': 'john_wick_4.csv', 'row': 3, 'Revi...          True  \n",
       "12  [{'source': 'john_wick_4.csv', 'row': 1, 'Revi...          True  \n",
       "13  [{'source': 'john_wick_1.csv', 'row': 13, 'Rev...          True  \n",
       "14  [{'source': 'john_wick_4.csv', 'row': 17, 'Rev...          True  \n",
       "15  [{'source': 'john_wick_2.csv', 'row': 18, 'Rev...          True  \n",
       "16  [{'source': 'john_wick_1.csv', 'row': 18, 'Rev...          True  \n",
       "17  [{'source': 'john_wick_2.csv', 'row': 5, 'Revi...          True  \n",
       "18  [{'source': 'john_wick_3.csv', 'row': 19, 'Rev...          True  \n",
       "19  [{'source': 'john_wick_3.csv', 'row': 5, 'Revi...          True  "
      ]
     },
     "execution_count": 23,
     "metadata": {},
     "output_type": "execute_result"
    }
   ],
   "source": [
    "testset.to_pandas()"
   ]
  },
  {
   "cell_type": "code",
   "execution_count": 24,
   "metadata": {},
   "outputs": [],
   "source": [
    "from langsmith import Client\n",
    "\n",
    "client = Client()\n",
    "\n",
    "## commented the following code because has already run once and will mess up Langsmith\n",
    "\n",
    "# dataset_name = \"John Wicks Dataset\"\n",
    "\n",
    "# dataset = client.create_dataset(\n",
    "#     dataset_name=dataset_name,\n",
    "#     description=\"Questions about John Wicks movie reviews\"\n",
    "# )"
   ]
  },
  {
   "cell_type": "code",
   "execution_count": 25,
   "metadata": {},
   "outputs": [],
   "source": [
    "for test in testset.to_pandas().iterrows():\n",
    "  client.create_example(\n",
    "      inputs={\n",
    "          \"question\": test[1][\"question\"]\n",
    "      },\n",
    "      outputs={\n",
    "          \"answer\": test[1][\"ground_truth\"]\n",
    "      },\n",
    "      metadata={\n",
    "          \"context\": test[0]\n",
    "      },\n",
    "      dataset_id=dataset.id\n",
    "  )"
   ]
  },
  {
   "cell_type": "code",
   "execution_count": 26,
   "metadata": {},
   "outputs": [
    {
     "data": {
      "text/plain": [
       "DataRow(question=\"What role does the Russian mafia play in John Wick's story?\", contexts=[\": 20\\nReview: After resolving his issues with the Russian mafia, John Wick (Keanu Reeves) returns home. But soon the mobster Santino D'Antonio (Riccardo Scamarcio) visits him to show Wick's marker and tells that he needs to help. John Wicks refuses since he is retired and Santino blows-up his house. John Wick meets the owner of the Continental hotel in New York City, Winston (Ian McShane), and he tells that Wick cannot violate the Mafia rules and shall honor the marker. Santino asks John Wick to kill his sister Gianna D'Antonio (Claudia Gerini) in Rome so that he can sit on the High Table of the criminal organizations. When John Wicks accomplishes his assignment, Santino puts a seven-million dollar contract on him attracting professional killers from everywhere. But Wick promises to kill Santino that is not protected by his marker anymore.\"], ground_truth=\"The Russian mafia plays a significant role in John Wick's story as they are the reason for his return to violence after retirement. After resolving issues with them, John Wick is confronted by Santino D'Antonio, who uses a marker to compel Wick to assist him, leading to further conflict and ultimately a contract being placed on Wick's life.\", evolution_type='simple', metadata=[{'source': 'john_wick_2.csv', 'row': 20, 'Review_Date': '28 May 2017', 'Review_Title': ' A New Franchise is Born\\n', 'Review_Url': '/review/rw3718180/?ref_=tt_urv', 'Author': 'claudio_carvalho', 'Rating': 8, 'Movie_Title': 'John Wick 2', 'last_accessed_at': datetime.datetime(2024, 9, 27, 13, 29, 40, 364491)}])"
      ]
     },
     "execution_count": 26,
     "metadata": {},
     "output_type": "execute_result"
    }
   ],
   "source": [
    "testset.test_data[0]"
   ]
  },
  {
   "cell_type": "code",
   "execution_count": 27,
   "metadata": {},
   "outputs": [],
   "source": [
    "testset_df = testset.to_pandas()\n",
    "testset_df.to_csv(\"testset.csv\")"
   ]
  },
  {
   "cell_type": "code",
   "execution_count": 28,
   "metadata": {},
   "outputs": [],
   "source": [
    "import pandas as pd\n",
    "\n",
    "test_df = pd.read_csv(\"testset.csv\")"
   ]
  },
  {
   "cell_type": "code",
   "execution_count": 29,
   "metadata": {},
   "outputs": [],
   "source": [
    "test_questions = test_df[\"question\"].values.tolist()\n",
    "test_groundtruths = test_df[\"ground_truth\"].values.tolist()"
   ]
  },
  {
   "cell_type": "code",
   "execution_count": 30,
   "metadata": {},
   "outputs": [],
   "source": [
    "answers = []\n",
    "contexts = []\n",
    "\n",
    "for question in test_questions:\n",
    "  response = naive_retrieval_chain.invoke({\"question\" : question})\n",
    "  answers.append(response[\"response\"].content)\n",
    "  contexts.append([context.page_content for context in response[\"context\"]])"
   ]
  },
  {
   "cell_type": "code",
   "execution_count": 31,
   "metadata": {},
   "outputs": [],
   "source": [
    "from datasets import Dataset\n",
    "\n",
    "response_dataset = Dataset.from_dict({\n",
    "    \"question\" : test_questions,\n",
    "    \"answer\" : answers,\n",
    "    \"contexts\" : contexts,\n",
    "    \"ground_truth\" : test_groundtruths\n",
    "})"
   ]
  },
  {
   "cell_type": "code",
   "execution_count": 32,
   "metadata": {},
   "outputs": [
    {
     "data": {
      "text/plain": [
       "{'question': \"What role does the Russian mafia play in John Wick's story?\",\n",
       " 'answer': \"The Russian mafia plays a significant role in John Wick's story, particularly in the first movie where the main conflict is driven by a young Russian-American punk who belongs to a mobster family. The mobster's actions lead to a series of events that set John Wick on a path of revenge and conflict with the Russian mafia.\",\n",
       " 'contexts': [\": 20\\nReview: After resolving his issues with the Russian mafia, John Wick (Keanu Reeves) returns home. But soon the mobster Santino D'Antonio (Riccardo Scamarcio) visits him to show Wick's marker and tells that he needs to help. John Wicks refuses since he is retired and Santino blows-up his house. John Wick meets the owner of the Continental hotel in New York City, Winston (Ian McShane), and he tells that Wick cannot violate the Mafia rules and shall honor the marker. Santino asks John Wick to kill his sister Gianna D'Antonio (Claudia Gerini) in Rome so that he can sit on the High Table of the criminal organizations. When John Wicks accomplishes his assignment, Santino puts a seven-million dollar contract on him attracting professional killers from everywhere. But Wick promises to kill Santino that is not protected by his marker anymore.\",\n",
       "  \": 18\\nReview: When the story begins, John (Keanu Reeves) has just lost his wife. After her death, he's a bit lost but tries to rebuild his life. One day, he's getting gas and a young Russian-American punk notices Wick's classic car...and tries to buy it off him. But Wick isn't interested and declines. Soon, the punk arrives at Wick's home with some goons where they surprise him--beating him senseless, destroying his stuff, killing his dog and stealing his car! This is when you then learn that Wick is a super-assassin....and the punk chose the wrong guy to attack. The jerk's father is a big-time Russian mobster....and it's a contest to see who will win...the mobster and his gang or Wick on his own. Considering there are (so far) two MORE John Wick films, it pretty much seems certain who will win this battle.\",\n",
       "  \": 19\\nReview: If you've seen the first John Wick movie, you know that Keanu Reeves is John Wick, a retired assassin who comes out of retirement when someone kills his dog. In this one, which begins a week later, matters are still reverberating, and some one has stolen his car, which calls for a lot of carnage. That settled, John is called on to pay off an old debt by helping Ian McShane take over the Assassin's Guild by flying around to Italy, Canada and Manhattan and killing what seems like hundreds of assassins.\",\n",
       "  \": 5\\nReview: Iosef's uncle still has John Wick's car. Wick comes after it and the uncle accepts his offer of peace. He hopes to return to his peaceful retirement but crime lord Santino D'Antonio calls in his Marker. He faces deadly assassins, numerous killers, and countless thugs as Santino uses him to gain power even offering a $7 million contract.\",\n",
       "  \": 5\\nReview: Ultra-violent first entry with lots of killings, thrills , noisy action , suspense , and crossfire . In this original John Wick (2014) , an ex-hit-man comes out of retirement to track down the gangsters that killed his dog and took everything from him . With the untimely death of his beloved wife still bitter in his mouth he seeks for vengeance . But when an arrogant Russian mob prince and hoodlums steal his car and kill his dog , they are fully aware of his lethal capacity. The Bogeyman will find himself dragged into an impossible task as every killer in the business dreams of cornering the legendary Wick who now has an enormous price on his head . In this first installment John Wick , blind with revenge, and for his salvation John will immediately unleash a carefully orchestrated maelstrom of destruction against those attempt to chase him and with a price tag on his head, as he is the target of hit men : an army of bounty-hunting killers on his trail and a murderer woman everywhere . The legendary hitman will be forced to unearth his meticulously concealed identity and to carry out a relentless vendetta . Now, only blood can quench the boogeyman's thirst for retribution . Don't Set Him Off! . John Wick isn't the Boogeyman... He's the guy you send to kill the doomed Boogeyman. Revenge is all he has left. You want peace, prepare for war . Don't Hunt What You Can't Kill. Tick Tock, Mr. Wick. Everyone Is Waiting. For John Wick . Every Action Has Consequences. This Friday, Wick is Back . Its the World Vs. Wick. Every Action Has Consequences.\",\n",
       "  \": 6\\nReview: Assassin John Wick is referred to as Baba Yaga in this third chapter, suggesting that he is, in fact, a supernatural being; his ability to evade death, appear and disappear like a ninja from a Godfrey Ho film, and move with lightning fast reflexes despite being in his mid-fifties confirms this fact, in my opinion. Unfortunately, Wick's invincibility means that the many action scenes in Parabellum are largely devoid of excitement, the only outcome being that Wick is still alive and all of his enemies are dead.\",\n",
       "  ': 4\\nReview: \"John Wick: Chapter 2\" (2017 release; 122 min.) continues the \\'adventures\\' of former (?) hit man John Wick. As the movie opens, we are immediately thrown in the middle of a car vs. bike chase, and next thing we know, we find our man retrieving his beloved Mustang from a chop shop in NYC, but not without cars flying about, and dozens of dead or wounded bodies. And that\\'s all in the pre-opening credits! As the story unfolds, Wick, who wants \"out, is nevertheless forced back \"in\" when an Italian baddie calls in a favor and Wick has no choice but to accept. To tell you more of the plot would spoil your viewing experience, you\\'ll just have to see for yourself how it all plays out.',\n",
       "  ': 1\\nReview: The Table, the international crminal brotherhood which has condemned John Wick empowers The Marquis to deal with him (and the Manager of the New York Continentale Hotel). But maybe, just maybe, there is a way out.',\n",
       "  \": 20\\nReview: John Wick is something special. It takes as much time setting up elaborate action sequences as it does the world with which it all takes place in. And what a world it is. It reminds me of Millers Crossing and it is cooler than any other recent attempt at noir. We are shown a criminal underworld where, if you are connected, many powerful people know who you are and show you respect. John Wick was connected but he got out. He is the rare killer who has found peace, and he is grateful for that peace. Some young kids steal that from him and he does what he does best, he wages a one man war against the Russian Mafia. It might sound like the film takes quite a leap but it all makes sense. The motives of John and the people who get in the way of his bullets are all very clear, even if it does come across as rather simple. That's the plot at it's most basic. Then there's the action. The film is directed by Reeve's stuntman from The Matrix, so this guy knows action. There are sequences that flow so smoothly it puts other action films and their quick cuts to shame. Keaunu moves so fluidly throughout the film and comes across as such a natural that the only disappointment is that we have not seen him like this before. Along the way are plenty of character actors, fans of The Matrix and The Wire will recognize a few people then there are more obvious ones like Ian McShane and Willem Dafoe. Everyone seems to be having a good time. That is another plus for this movie. It get's dark at times but overall it is quite fun, not very chipper, but fun. I cannot recommend this movie enough. I believe it is a must see for action fans and for anyone looking for something a bit different from the usual fare.\",\n",
       "  ': 17\\nReview: Picking up where the first movie left off, John Wick still wants his car back. Also, he now discovers that there is a bounty on his head. Rejoining his former profession, he heads to Rome to complete an assassination assignment.'],\n",
       " 'ground_truth': \"The Russian mafia plays a significant role in John Wick's story as they are the reason for his return to violence after retirement. After resolving issues with them, John Wick is confronted by Santino D'Antonio, who uses a marker to compel Wick to assist him, leading to further conflict and ultimately a contract being placed on Wick's life.\"}"
      ]
     },
     "execution_count": 32,
     "metadata": {},
     "output_type": "execute_result"
    }
   ],
   "source": [
    "response_dataset[0]"
   ]
  },
  {
   "cell_type": "code",
   "execution_count": 33,
   "metadata": {},
   "outputs": [],
   "source": [
    "from ragas import evaluate\n",
    "from ragas.metrics import (\n",
    "    faithfulness,\n",
    "    answer_relevancy,\n",
    "    answer_correctness,\n",
    "    context_recall,\n",
    "    context_precision,\n",
    ")\n",
    "\n",
    "metrics = [\n",
    "    faithfulness,\n",
    "    answer_relevancy,\n",
    "    context_recall,\n",
    "    context_precision,\n",
    "    answer_correctness,\n",
    "]"
   ]
  },
  {
   "cell_type": "code",
   "execution_count": null,
   "metadata": {},
   "outputs": [],
   "source": [
    "def run_evaluation(retrieval_chain):\n",
    "    answers = []\n",
    "    contexts = []\n",
    "\n",
    "    for question in test_questions:\n",
    "        response = retrieval_chain.invoke({\"question\" : question})\n",
    "        answers.append(response[\"response\"].content)\n",
    "        contexts.append([context.page_content for context in response[\"context\"]])\n",
    "    response_dataset = Dataset.from_dict({\n",
    "        \"question\" : test_questions,\n",
    "        \"answer\" : answers,\n",
    "        \"contexts\" : contexts,\n",
    "        \"ground_truth\" : test_groundtruths\n",
    "    })\n",
    "    return evaluate(response_dataset, metrics)"
   ]
  },
  {
   "cell_type": "code",
   "execution_count": 50,
   "metadata": {},
   "outputs": [
    {
     "data": {
      "application/vnd.jupyter.widget-view+json": {
       "model_id": "406b2748992744c3a4f669fce197ab88",
       "version_major": 2,
       "version_minor": 0
      },
      "text/plain": [
       "Evaluating:   0%|          | 0/100 [00:00<?, ?it/s]"
      ]
     },
     "metadata": {},
     "output_type": "display_data"
    }
   ],
   "source": [
    "naive_results = run_evaluation(naive_retrieval_chain)"
   ]
  },
  {
   "cell_type": "code",
   "execution_count": 37,
   "metadata": {},
   "outputs": [],
   "source": [
    "import os\n",
    "os.environ[\"LANGCHAIN_TRACING_V2\"] = \"true\""
   ]
  },
  {
   "cell_type": "code",
   "execution_count": 38,
   "metadata": {},
   "outputs": [],
   "source": [
    "from uuid import uuid4\n",
    "\n",
    "os.environ[\"LANGCHAIN_PROJECT\"] = f\"Advanced Rag - {uuid4().hex[0:8]}\""
   ]
  },
  {
   "cell_type": "code",
   "execution_count": null,
   "metadata": {},
   "outputs": [],
   "source": [
    "# !pip install rank_bm25"
   ]
  },
  {
   "cell_type": "code",
   "execution_count": 43,
   "metadata": {},
   "outputs": [],
   "source": [
    "from langchain_community.retrievers import BM25Retriever\n",
    "\n",
    "bm25_retriever = BM25Retriever.from_documents(documents)"
   ]
  },
  {
   "cell_type": "code",
   "execution_count": 44,
   "metadata": {},
   "outputs": [],
   "source": [
    "bm25_retrieval_chain = (\n",
    "    {\"context\": itemgetter(\"question\") | bm25_retriever, \"question\": itemgetter(\"question\")}\n",
    "    | RunnablePassthrough.assign(context=itemgetter(\"context\"))\n",
    "    | {\"response\": rag_prompt | chat_model, \"context\": itemgetter(\"context\")}\n",
    ")"
   ]
  },
  {
   "cell_type": "code",
   "execution_count": 45,
   "metadata": {},
   "outputs": [
    {
     "data": {
      "text/plain": [
       "\"Based on the reviews provided, opinions on John Wick seem to vary. Some people really enjoyed the movie, while others found it lacking. So, it's safe to say that not everyone generally liked John Wick.\""
      ]
     },
     "execution_count": 45,
     "metadata": {},
     "output_type": "execute_result"
    }
   ],
   "source": [
    "bm25_retrieval_chain.invoke({\"question\" : \"Did people generally like John Wick?\"})[\"response\"].content"
   ]
  },
  {
   "cell_type": "code",
   "execution_count": 48,
   "metadata": {},
   "outputs": [
    {
     "data": {
      "application/vnd.jupyter.widget-view+json": {
       "model_id": "cdda3e360f7d497b8a2a0f5efc53ca22",
       "version_major": 2,
       "version_minor": 0
      },
      "text/plain": [
       "Evaluating:   0%|          | 0/100 [00:00<?, ?it/s]"
      ]
     },
     "metadata": {},
     "output_type": "display_data"
    }
   ],
   "source": [
    "bm25_results = run_evaluation(bm25_retrieval_chain)"
   ]
  },
  {
   "cell_type": "code",
   "execution_count": 49,
   "metadata": {},
   "outputs": [
    {
     "data": {
      "text/plain": [
       "{'faithfulness': 0.7566, 'answer_relevancy': 0.8711, 'context_recall': 0.7833, 'context_precision': 0.7472, 'answer_correctness': 0.6322}"
      ]
     },
     "execution_count": 49,
     "metadata": {},
     "output_type": "execute_result"
    }
   ],
   "source": [
    "bm25_results"
   ]
  },
  {
   "cell_type": "markdown",
   "metadata": {},
   "source": [
    "### Contextual Compression Retrieval\n",
    "This would NOT run in this notebook even after setting API key.\n",
    "This runs in the original notebook "
   ]
  },
  {
   "cell_type": "code",
   "execution_count": 53,
   "metadata": {},
   "outputs": [],
   "source": [
    "import getpass\n",
    "os.environ[\"COHERE_API_KEY\"] = getpass.getpass(\"Cohere API Key:\")"
   ]
  },
  {
   "cell_type": "code",
   "execution_count": 55,
   "metadata": {},
   "outputs": [],
   "source": [
    "# from langchain.retrievers.contextual_compression import ContextualCompressionRetriever\n",
    "# from langchain_cohere import CohereRerank\n",
    "\n",
    "# compressor = CohereRerank(model=\"rerank-english-v3.0\")\n",
    "# compression_retriever = ContextualCompressionRetriever(\n",
    "#     base_compressor=compressor, base_retriever=naive_retriever\n",
    "# )\n",
    "\n",
    "# contextual_compression_retrieval_chain = (\n",
    "#     {\"context\": itemgetter(\"question\") | compression_retriever, \"question\": itemgetter(\"question\")}\n",
    "#     | RunnablePassthrough.assign(context=itemgetter(\"context\"))\n",
    "#     | {\"response\": rag_prompt | chat_model, \"context\": itemgetter(\"context\")}\n",
    "# )"
   ]
  },
  {
   "cell_type": "code",
   "execution_count": 56,
   "metadata": {},
   "outputs": [],
   "source": [
    "from langchain.retrievers.multi_query import MultiQueryRetriever\n",
    "\n",
    "multi_query_retriever = MultiQueryRetriever.from_llm(\n",
    "    retriever=naive_retriever, llm=chat_model\n",
    ")"
   ]
  },
  {
   "cell_type": "code",
   "execution_count": 57,
   "metadata": {},
   "outputs": [],
   "source": [
    "multi_query_retrieval_chain = (\n",
    "    {\"context\": itemgetter(\"question\") | multi_query_retriever, \"question\": itemgetter(\"question\")}\n",
    "    | RunnablePassthrough.assign(context=itemgetter(\"context\"))\n",
    "    | {\"response\": rag_prompt | chat_model, \"context\": itemgetter(\"context\")}\n",
    ")"
   ]
  },
  {
   "cell_type": "code",
   "execution_count": 58,
   "metadata": {},
   "outputs": [
    {
     "data": {
      "application/vnd.jupyter.widget-view+json": {
       "model_id": "49fa84fdf1974c858cd811c2ec552818",
       "version_major": 2,
       "version_minor": 0
      },
      "text/plain": [
       "Evaluating:   0%|          | 0/100 [00:00<?, ?it/s]"
      ]
     },
     "metadata": {},
     "output_type": "display_data"
    }
   ],
   "source": [
    "multi_query_results = run_evaluation(multi_query_retrieval_chain)"
   ]
  },
  {
   "cell_type": "code",
   "execution_count": 59,
   "metadata": {},
   "outputs": [],
   "source": [
    "from langchain.retrievers import ParentDocumentRetriever\n",
    "from langchain.storage import InMemoryStore\n",
    "from langchain_text_splitters import RecursiveCharacterTextSplitter\n",
    "from qdrant_client import QdrantClient, models\n",
    "\n",
    "parent_docs = documents\n",
    "child_splitter = RecursiveCharacterTextSplitter(chunk_size=200)"
   ]
  },
  {
   "cell_type": "code",
   "execution_count": 60,
   "metadata": {},
   "outputs": [
    {
     "name": "stderr",
     "output_type": "stream",
     "text": [
      "/var/folders/zx/1kbq8dj123q1cq4b0tqqc64r0000gn/T/ipykernel_13639/1683252106.py:8: LangChainDeprecationWarning: The class `Qdrant` was deprecated in LangChain 0.0.37 and will be removed in 1.0. An updated version of the class exists in the langchain-qdrant package and should be used instead. To use it run `pip install -U langchain-qdrant` and import as `from langchain_qdrant import Qdrant`.\n",
      "  parent_document_vectorstore = Qdrant(\n"
     ]
    }
   ],
   "source": [
    "client = QdrantClient(location=\":memory:\")\n",
    "\n",
    "client.create_collection(\n",
    "    collection_name=\"full_documents\",\n",
    "    vectors_config=models.VectorParams(size=1536, distance=models.Distance.COSINE)\n",
    ")\n",
    "\n",
    "parent_document_vectorstore = Qdrant(\n",
    "    collection_name=\"full_documents\", \n",
    "    embeddings=OpenAIEmbeddings(model=\"text-embedding-3-small\"), \n",
    "    client=client\n",
    ")"
   ]
  },
  {
   "cell_type": "code",
   "execution_count": 61,
   "metadata": {},
   "outputs": [],
   "source": [
    "store = InMemoryStore()\n",
    "\n",
    "parent_document_retriever = ParentDocumentRetriever(\n",
    "    vectorstore = parent_document_vectorstore,\n",
    "    docstore=store,\n",
    "    child_splitter=child_splitter,\n",
    ")"
   ]
  },
  {
   "cell_type": "code",
   "execution_count": 62,
   "metadata": {},
   "outputs": [],
   "source": [
    "parent_document_retriever.add_documents(parent_docs, ids=None)"
   ]
  },
  {
   "cell_type": "code",
   "execution_count": 63,
   "metadata": {},
   "outputs": [],
   "source": [
    "parent_document_retrieval_chain = (\n",
    "    {\"context\": itemgetter(\"question\") | parent_document_retriever, \"question\": itemgetter(\"question\")}\n",
    "    | RunnablePassthrough.assign(context=itemgetter(\"context\"))\n",
    "    | {\"response\": rag_prompt | chat_model, \"context\": itemgetter(\"context\")}\n",
    ")"
   ]
  },
  {
   "cell_type": "code",
   "execution_count": 64,
   "metadata": {},
   "outputs": [
    {
     "data": {
      "application/vnd.jupyter.widget-view+json": {
       "model_id": "2597320fa02941d491c187aeed7765a2",
       "version_major": 2,
       "version_minor": 0
      },
      "text/plain": [
       "Evaluating:   0%|          | 0/100 [00:00<?, ?it/s]"
      ]
     },
     "metadata": {},
     "output_type": "display_data"
    }
   ],
   "source": [
    "parent_results = run_evaluation(parent_document_retrieval_chain)"
   ]
  },
  {
   "cell_type": "code",
   "execution_count": 66,
   "metadata": {},
   "outputs": [],
   "source": [
    "from langchain.retrievers import EnsembleRetriever\n",
    "\n",
    "retriever_list = [bm25_retriever, naive_retriever, parent_document_retriever, multi_query_retriever]\n",
    "equal_weighting = [1/len(retriever_list)] * len(retriever_list)\n",
    "\n",
    "ensemble_retriever = EnsembleRetriever(\n",
    "    retrievers=retriever_list, weights=equal_weighting\n",
    ")"
   ]
  },
  {
   "cell_type": "code",
   "execution_count": 67,
   "metadata": {},
   "outputs": [],
   "source": [
    "ensemble_retrieval_chain = (\n",
    "    {\"context\": itemgetter(\"question\") | ensemble_retriever, \"question\": itemgetter(\"question\")}\n",
    "    | RunnablePassthrough.assign(context=itemgetter(\"context\"))\n",
    "    | {\"response\": rag_prompt | chat_model, \"context\": itemgetter(\"context\")}\n",
    ")"
   ]
  },
  {
   "cell_type": "code",
   "execution_count": 68,
   "metadata": {},
   "outputs": [
    {
     "data": {
      "application/vnd.jupyter.widget-view+json": {
       "model_id": "bb7cfd1319654f84a40597f7669368a7",
       "version_major": 2,
       "version_minor": 0
      },
      "text/plain": [
       "Evaluating:   0%|          | 0/100 [00:00<?, ?it/s]"
      ]
     },
     "metadata": {},
     "output_type": "display_data"
    }
   ],
   "source": [
    "ensemble_results = run_evaluation(ensemble_retrieval_chain)"
   ]
  },
  {
   "cell_type": "code",
   "execution_count": 69,
   "metadata": {},
   "outputs": [],
   "source": [
    "from langchain_experimental.text_splitter import SemanticChunker\n",
    "\n",
    "semantic_chunker = SemanticChunker(\n",
    "    embeddings,\n",
    "    breakpoint_threshold_type=\"percentile\"\n",
    ")"
   ]
  },
  {
   "cell_type": "code",
   "execution_count": 70,
   "metadata": {},
   "outputs": [],
   "source": [
    "semantic_documents = semantic_chunker.split_documents(documents)"
   ]
  },
  {
   "cell_type": "code",
   "execution_count": 71,
   "metadata": {},
   "outputs": [],
   "source": [
    "semantic_vectorstore = Qdrant.from_documents(\n",
    "    semantic_documents,\n",
    "    embeddings,\n",
    "    location=\":memory:\",\n",
    "    collection_name=\"JohnWickSemantic\"\n",
    ")"
   ]
  },
  {
   "cell_type": "code",
   "execution_count": 72,
   "metadata": {},
   "outputs": [],
   "source": [
    "semantic_retriever = semantic_vectorstore.as_retriever(search_kwargs={\"k\" : 10})"
   ]
  },
  {
   "cell_type": "code",
   "execution_count": 73,
   "metadata": {},
   "outputs": [],
   "source": [
    "semantic_retrieval_chain = (\n",
    "    {\"context\": itemgetter(\"question\") | semantic_retriever, \"question\": itemgetter(\"question\")}\n",
    "    | RunnablePassthrough.assign(context=itemgetter(\"context\"))\n",
    "    | {\"response\": rag_prompt | chat_model, \"context\": itemgetter(\"context\")}\n",
    ")"
   ]
  },
  {
   "cell_type": "code",
   "execution_count": 74,
   "metadata": {},
   "outputs": [
    {
     "data": {
      "application/vnd.jupyter.widget-view+json": {
       "model_id": "421240f4fa9643adb9bae28ec3ae55ce",
       "version_major": 2,
       "version_minor": 0
      },
      "text/plain": [
       "Evaluating:   0%|          | 0/100 [00:00<?, ?it/s]"
      ]
     },
     "metadata": {},
     "output_type": "display_data"
    }
   ],
   "source": [
    "semantic_results = run_evaluation(semantic_retrieval_chain)"
   ]
  },
  {
   "cell_type": "code",
   "execution_count": 75,
   "metadata": {},
   "outputs": [
    {
     "name": "stdout",
     "output_type": "stream",
     "text": [
      "{'faithfulness': 0.8351, 'answer_relevancy': 0.8763, 'context_recall': 0.9750, 'context_precision': 0.7180, 'answer_correctness': 0.6586}\n",
      "{'faithfulness': 0.7566, 'answer_relevancy': 0.8711, 'context_recall': 0.7833, 'context_precision': 0.7472, 'answer_correctness': 0.6322}\n",
      "Contextual Compression Results Not Available\n",
      "{'faithfulness': 0.8052, 'answer_relevancy': 0.7770, 'context_recall': 0.9750, 'context_precision': 0.6986, 'answer_correctness': 0.6413}\n",
      "{'faithfulness': 0.8115, 'answer_relevancy': 0.9062, 'context_recall': 0.8500, 'context_precision': 0.7875, 'answer_correctness': 0.6902}\n",
      "{'faithfulness': 0.8350, 'answer_relevancy': 0.8707, 'context_recall': 0.9750, 'context_precision': 0.7538, 'answer_correctness': 0.6526}\n",
      "{'faithfulness': 0.8983, 'answer_relevancy': 0.8848, 'context_recall': 0.8750, 'context_precision': 0.7269, 'answer_correctness': 0.6125}\n"
     ]
    }
   ],
   "source": [
    "print(naive_results)\n",
    "print(bm25_results)\n",
    "print(\"Contextual Compression Results Not Available\")\n",
    "print(multi_query_results)\n",
    "print(parent_results)\n",
    "print(ensemble_results)\n",
    "print(semantic_results)"
   ]
  },
  {
   "cell_type": "code",
   "execution_count": 78,
   "metadata": {},
   "outputs": [
    {
     "data": {
      "text/html": [
       "<div>\n",
       "<style scoped>\n",
       "    .dataframe tbody tr th:only-of-type {\n",
       "        vertical-align: middle;\n",
       "    }\n",
       "\n",
       "    .dataframe tbody tr th {\n",
       "        vertical-align: top;\n",
       "    }\n",
       "\n",
       "    .dataframe thead th {\n",
       "        text-align: right;\n",
       "    }\n",
       "</style>\n",
       "<table border=\"1\" class=\"dataframe\">\n",
       "  <thead>\n",
       "    <tr style=\"text-align: right;\">\n",
       "      <th></th>\n",
       "      <th>Metric</th>\n",
       "      <th>Naive</th>\n",
       "      <th>BM25</th>\n",
       "      <th>MultiQ</th>\n",
       "      <th>Parent</th>\n",
       "      <th>Ensemble</th>\n",
       "      <th>Semantic</th>\n",
       "    </tr>\n",
       "  </thead>\n",
       "  <tbody>\n",
       "    <tr>\n",
       "      <th>0</th>\n",
       "      <td>faithfulness</td>\n",
       "      <td>0.835119</td>\n",
       "      <td>0.756566</td>\n",
       "      <td>0.805218</td>\n",
       "      <td>0.811548</td>\n",
       "      <td>0.835000</td>\n",
       "      <td>0.898333</td>\n",
       "    </tr>\n",
       "    <tr>\n",
       "      <th>1</th>\n",
       "      <td>answer_relevancy</td>\n",
       "      <td>0.876268</td>\n",
       "      <td>0.871070</td>\n",
       "      <td>0.777026</td>\n",
       "      <td>0.906232</td>\n",
       "      <td>0.870695</td>\n",
       "      <td>0.884772</td>\n",
       "    </tr>\n",
       "    <tr>\n",
       "      <th>2</th>\n",
       "      <td>context_recall</td>\n",
       "      <td>0.975000</td>\n",
       "      <td>0.783333</td>\n",
       "      <td>0.975000</td>\n",
       "      <td>0.850000</td>\n",
       "      <td>0.975000</td>\n",
       "      <td>0.875000</td>\n",
       "    </tr>\n",
       "    <tr>\n",
       "      <th>3</th>\n",
       "      <td>context_precision</td>\n",
       "      <td>0.717995</td>\n",
       "      <td>0.747222</td>\n",
       "      <td>0.698561</td>\n",
       "      <td>0.787500</td>\n",
       "      <td>0.753800</td>\n",
       "      <td>0.726944</td>\n",
       "    </tr>\n",
       "    <tr>\n",
       "      <th>4</th>\n",
       "      <td>answer_correctness</td>\n",
       "      <td>0.658612</td>\n",
       "      <td>0.632169</td>\n",
       "      <td>0.641251</td>\n",
       "      <td>0.690186</td>\n",
       "      <td>0.652633</td>\n",
       "      <td>0.612460</td>\n",
       "    </tr>\n",
       "  </tbody>\n",
       "</table>\n",
       "</div>"
      ],
      "text/plain": [
       "               Metric     Naive      BM25    MultiQ    Parent  Ensemble  \\\n",
       "0        faithfulness  0.835119  0.756566  0.805218  0.811548  0.835000   \n",
       "1    answer_relevancy  0.876268  0.871070  0.777026  0.906232  0.870695   \n",
       "2      context_recall  0.975000  0.783333  0.975000  0.850000  0.975000   \n",
       "3   context_precision  0.717995  0.747222  0.698561  0.787500  0.753800   \n",
       "4  answer_correctness  0.658612  0.632169  0.641251  0.690186  0.652633   \n",
       "\n",
       "   Semantic  \n",
       "0  0.898333  \n",
       "1  0.884772  \n",
       "2  0.875000  \n",
       "3  0.726944  \n",
       "4  0.612460  "
      ]
     },
     "execution_count": 78,
     "metadata": {},
     "output_type": "execute_result"
    }
   ],
   "source": [
    "import pandas as pd\n",
    "df_naive = pd.DataFrame(list(naive_results.items()), columns=['Metric', 'Naive'])\n",
    "df_bm25 = pd.DataFrame(list(bm25_results.items()), columns=['Metric', 'BM25'])\n",
    "df_multiQ = pd.DataFrame(list(multi_query_results.items()), columns=['Metric', 'MultiQ'])\n",
    "df_parent = pd.DataFrame(list(parent_results.items()), columns=['Metric', 'Parent'])\n",
    "df_ensemble = pd.DataFrame(list(ensemble_results.items()), columns=['Metric', 'Ensemble'])\n",
    "df_semantic = pd.DataFrame(list(semantic_results.items()), columns=['Metric', 'Semantic'])\n",
    "df_merged = df_naive.merge(df_bm25, on='Metric').merge(df_multiQ, on='Metric').merge(df_parent, on='Metric')\n",
    "df_merged = df_merged.merge(df_ensemble, on='Metric').merge(df_semantic, on='Metric')\n",
    "df_merged"
   ]
  },
  {
   "cell_type": "code",
   "execution_count": null,
   "metadata": {},
   "outputs": [],
   "source": []
  }
 ],
 "metadata": {
  "kernelspec": {
   "display_name": "clean",
   "language": "python",
   "name": "python3"
  },
  "language_info": {
   "codemirror_mode": {
    "name": "ipython",
    "version": 3
   },
   "file_extension": ".py",
   "mimetype": "text/x-python",
   "name": "python",
   "nbconvert_exporter": "python",
   "pygments_lexer": "ipython3",
   "version": "3.12.5"
  }
 },
 "nbformat": 4,
 "nbformat_minor": 2
}
